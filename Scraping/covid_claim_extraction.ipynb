{
 "cells": [
  {
   "cell_type": "code",
   "execution_count": 16,
   "id": "initial_id",
   "metadata": {
    "collapsed": true,
    "ExecuteTime": {
     "end_time": "2024-04-12T13:58:18.583574Z",
     "start_time": "2024-04-12T13:58:18.370619Z"
    }
   },
   "outputs": [
    {
     "name": "stdout",
     "output_type": "stream",
     "text": [
      "The autoreload extension is already loaded. To reload it, use:\n",
      "  %reload_ext autoreload\n"
     ]
    }
   ],
   "source": [
    "%load_ext autoreload\n",
    "%autoreload 2"
   ]
  },
  {
   "cell_type": "code",
   "execution_count": 17,
   "outputs": [
    {
     "name": "stdout",
     "output_type": "stream",
     "text": [
      "4304\n",
      "4304\n"
     ]
    },
    {
     "name": "stderr",
     "output_type": "stream",
     "text": [
      "4304it [20:54,  3.43it/s]\n"
     ]
    },
    {
     "name": "stdout",
     "output_type": "stream",
     "text": [
      "4876\n"
     ]
    }
   ],
   "source": [
    "import pandas as pd\n",
    "# Poynter\n",
    "\n",
    "poynter_data = pd.read_csv('/Users/vinayakkannan/Desktop/Projects/FactChecker/FactChecker/Clustering/Raw Data/COVID/Poynter - Covid - English.xlsx - Sheet1.csv')\n",
    "# Drop duplicates in the 'Text' column\n",
    "poynter_data = poynter_data.drop_duplicates(subset='Text')\n",
    "poynter_data = poynter_data.dropna(subset=['Text'])\n",
    "poynter_data = poynter_data.reset_index(drop=True)\n",
    "poynter_data = poynter_data.rename(columns={'Text': 'text'})\n",
    "print(len(poynter_data))\n",
    "from Scraping.Helpers.RedditScraper import RedditScraper\n",
    "\n",
    "scraper = RedditScraper(limit=10000, claim_limit=10000)\n",
    "output = scraper.get_claims(poynter_data, 'text')\n",
    "print(len(output))\n",
    "poynter_data['score'] = None\n",
    "# Loop through output. If the 'text' column contiains two periods at the end remove one\n",
    "for i in range(len(output)):\n",
    "    poynter_data.loc[i, 'score'] = output['score'][i]\n",
    "# Join output with poynter_data on the 'text' column\n",
    "# poynter_data = poynter_data.join(output.set_index('text'), on='text')"
   ],
   "metadata": {
    "collapsed": false,
    "ExecuteTime": {
     "end_time": "2024-04-12T14:19:14.990023Z",
     "start_time": "2024-04-12T13:58:19.828434Z"
    }
   },
   "id": "5b7d43f450bc3c9f"
  },
  {
   "cell_type": "code",
   "execution_count": 18,
   "outputs": [
    {
     "data": {
      "text/plain": "                                                   text     score  index\n0     Government agencies have found a link between ...  0.655508      0\n1     There has been a surge in sudden death or card...  0.721765      0\n2     Buffalo Bills player Damar Hamlin suffered car...  0.516631      0\n3     FDA admits Pfizer’s COVID-19 vaccine causes bl...  0.629234      0\n4     Sportswriter Grant Wahl died from a COVID-19 v...  0.573340      0\n...                                                 ...       ...    ...\n4871  Video of Dr. Peter McCullough is shared along ...  0.491544      0\n4872  An article citing a report from Cayman Chemica...  0.806276      0\n4873   Smashed shallots can prevent and cure COVID-19..  0.369283      0\n4874  Video of Indian villagers rejecting vaccines a...  0.584992      0\n4875      cure for coronavirus can never be found: WHO.  0.416799      0\n\n[4876 rows x 3 columns]",
      "text/html": "<div>\n<style scoped>\n    .dataframe tbody tr th:only-of-type {\n        vertical-align: middle;\n    }\n\n    .dataframe tbody tr th {\n        vertical-align: top;\n    }\n\n    .dataframe thead th {\n        text-align: right;\n    }\n</style>\n<table border=\"1\" class=\"dataframe\">\n  <thead>\n    <tr style=\"text-align: right;\">\n      <th></th>\n      <th>text</th>\n      <th>score</th>\n      <th>index</th>\n    </tr>\n  </thead>\n  <tbody>\n    <tr>\n      <th>0</th>\n      <td>Government agencies have found a link between ...</td>\n      <td>0.655508</td>\n      <td>0</td>\n    </tr>\n    <tr>\n      <th>1</th>\n      <td>There has been a surge in sudden death or card...</td>\n      <td>0.721765</td>\n      <td>0</td>\n    </tr>\n    <tr>\n      <th>2</th>\n      <td>Buffalo Bills player Damar Hamlin suffered car...</td>\n      <td>0.516631</td>\n      <td>0</td>\n    </tr>\n    <tr>\n      <th>3</th>\n      <td>FDA admits Pfizer’s COVID-19 vaccine causes bl...</td>\n      <td>0.629234</td>\n      <td>0</td>\n    </tr>\n    <tr>\n      <th>4</th>\n      <td>Sportswriter Grant Wahl died from a COVID-19 v...</td>\n      <td>0.573340</td>\n      <td>0</td>\n    </tr>\n    <tr>\n      <th>...</th>\n      <td>...</td>\n      <td>...</td>\n      <td>...</td>\n    </tr>\n    <tr>\n      <th>4871</th>\n      <td>Video of Dr. Peter McCullough is shared along ...</td>\n      <td>0.491544</td>\n      <td>0</td>\n    </tr>\n    <tr>\n      <th>4872</th>\n      <td>An article citing a report from Cayman Chemica...</td>\n      <td>0.806276</td>\n      <td>0</td>\n    </tr>\n    <tr>\n      <th>4873</th>\n      <td>Smashed shallots can prevent and cure COVID-19..</td>\n      <td>0.369283</td>\n      <td>0</td>\n    </tr>\n    <tr>\n      <th>4874</th>\n      <td>Video of Indian villagers rejecting vaccines a...</td>\n      <td>0.584992</td>\n      <td>0</td>\n    </tr>\n    <tr>\n      <th>4875</th>\n      <td>cure for coronavirus can never be found: WHO.</td>\n      <td>0.416799</td>\n      <td>0</td>\n    </tr>\n  </tbody>\n</table>\n<p>4876 rows × 3 columns</p>\n</div>"
     },
     "execution_count": 18,
     "metadata": {},
     "output_type": "execute_result"
    }
   ],
   "source": [
    "output"
   ],
   "metadata": {
    "collapsed": false,
    "ExecuteTime": {
     "end_time": "2024-04-12T14:37:16.790374Z",
     "start_time": "2024-04-12T14:37:16.671623Z"
    }
   },
   "id": "86fcd4207d42779b"
  },
  {
   "cell_type": "code",
   "execution_count": 3,
   "outputs": [
    {
     "name": "stdout",
     "output_type": "stream",
     "text": [
      "3717\n"
     ]
    }
   ],
   "source": [
    "# Print number of nulls in the 'score' column\n",
    "print(poynter_data['score'].isnull().sum())\n",
    "poynter_data.to_csv('/Users/vinayakkannan/Desktop/Projects/FactChecker/FactChecker/Scraping/Transformed Data COVID/Poynter Data.csv', index=False)"
   ],
   "metadata": {
    "collapsed": false,
    "ExecuteTime": {
     "end_time": "2024-04-12T13:15:06.051619Z",
     "start_time": "2024-04-12T13:15:05.984025Z"
    }
   },
   "id": "9922a14d5f050623"
  },
  {
   "cell_type": "code",
   "execution_count": 14,
   "outputs": [
    {
     "name": "stdout",
     "output_type": "stream",
     "text": [
      "7118\n",
      "7118\n",
      "7118\n"
     ]
    },
    {
     "name": "stderr",
     "output_type": "stream",
     "text": [
      "0it [00:00, ?it/s]"
     ]
    },
    {
     "name": "stdout",
     "output_type": "stream",
     "text": [
      "0\n"
     ]
    },
    {
     "name": "stderr",
     "output_type": "stream",
     "text": [
      "1it [00:00,  3.84it/s]"
     ]
    },
    {
     "name": "stdout",
     "output_type": "stream",
     "text": [
      "                                                text     score  index\n",
      "0  Coronavirus was created in a government lab as...  0.810451      0\n",
      "5000\n"
     ]
    },
    {
     "name": "stderr",
     "output_type": "stream",
     "text": [
      "5001it [00:19, 262.89it/s]"
     ]
    },
    {
     "name": "stdout",
     "output_type": "stream",
     "text": [
      "                                                   text     score  index\n",
      "0     The lie that coronavirus came from a bat or a ...  0.852562      0\n",
      "1     And he said: \"The situation is now nothing sho...  0.447689      1\n",
      "2                         No other words come to mind.\"  0.141049      2\n",
      "3     Chinese doctors confirmed African people are g...  0.830115      3\n",
      "4     The World Health Organization has advised peop...  0.648550      4\n",
      "...                                                 ...       ...    ...\n",
      "1773  A Chinese man is preparing a dead baby for con...  0.827582   1773\n",
      "1774  Drinking hot water can help prevent it If you ...  0.702500   1774\n",
      "1775  Chinese Prime Minister Li Keqiang visited a mo...  0.634957   1775\n",
      "1776                                                 2.  0.404242   1776\n",
      "1777  Chinese president Xi Jinping visited a mosque ...  0.714334   1777\n",
      "\n",
      "[1778 rows x 3 columns]\n",
      "7117\n"
     ]
    },
    {
     "name": "stderr",
     "output_type": "stream",
     "text": [
      "7117it [00:29, 242.27it/s]"
     ]
    },
    {
     "name": "stdout",
     "output_type": "stream",
     "text": [
      "                                                   text     score  index\n",
      "0     mostly Coronavirus killed 1,12,000 people and ...  0.835692      0\n",
      "1     More than 2700 have been sickened, and 81 have...  0.738510      1\n",
      "2     Nothing happens without Allah’s permission and...  0.722879      2\n",
      "3     This, in turn, is based on Bill and Melinda Ga...  0.809639      3\n",
      "4     Fennel tea has the same component as Tamiflu m...  0.837479      4\n",
      "...                                                 ...       ...    ...\n",
      "1113  These reports are untrue and should be treated...  0.594877   1113\n",
      "1114  Steve Sisolak's activation of the Guard this w...  0.679660   1114\n",
      "1115  My brother is also working to dispel dangerous...  0.529310   1115\n",
      "1116               No call for military or marshal law.  0.460129   1116\n",
      "1117                      I want to dispel those rumors  0.151182   1117\n",
      "\n",
      "[1118 rows x 3 columns]\n",
      "2897\n"
     ]
    },
    {
     "name": "stderr",
     "output_type": "stream",
     "text": [
      "\n"
     ]
    }
   ],
   "source": [
    "import pandas as pd\n",
    "# Poynter\n",
    "\n",
    "en_dup = pd.read_csv('/Users/vinayakkannan/Desktop/Projects/FactChecker/FactChecker/Clustering/Raw Data/COVID/en_dup.csv')\n",
    "# Drop duplicates in the 'Text' column\n",
    "en_dup = en_dup.drop_duplicates(subset='content')\n",
    "en_dup = en_dup.dropna(subset=['content'])\n",
    "en_dup = en_dup.reset_index(drop=True)\n",
    "en_dup = en_dup.rename(columns={'content': 'text'})\n",
    "print(len(en_dup))\n",
    "from Scraping.Helpers.RedditScraper import RedditScraper\n",
    "\n",
    "scraper = RedditScraper(limit=10000, claim_limit=10000)\n",
    "output = scraper.get_claims(en_dup, 'text')\n",
    "en_dup['score'] = None\n",
    "print(len(output))\n",
    "for i in range(len(output)):\n",
    "    en_dup.loc[i, 'score'] = output['score'][i]"
   ],
   "metadata": {
    "collapsed": false,
    "ExecuteTime": {
     "end_time": "2024-04-12T13:11:48.460332Z",
     "start_time": "2024-04-12T13:11:18.901318Z"
    }
   },
   "id": "7ffeafebd7037ed"
  },
  {
   "cell_type": "code",
   "execution_count": 16,
   "outputs": [
    {
     "data": {
      "text/plain": "     label                                               text  \\\n0        F  Coronavirus was created in a government lab as...   \n1        F  The lie that coronavirus came from a bat or a ...   \n2        F  The health experts had predicted the virus cou...   \n3        F  A video clip supposedly showed that the expone...   \n4        T  Almost 200 people in Italy died from the coron...   \n...    ...                                                ...   \n7113     T  We wish to dispel rumors circulating in chat g...   \n7114     T  Gen. Mike Hanifan took to social media to disp...   \n7115     T  Gloucester Township police dispel rumor that a...   \n7116     T  Thank you for your leadership Mayor Lucas! My ...   \n7117     T  RICKETTS: NE National Guard is being used to a...   \n\n                                                 source author      time  \\\n0                                                   NaN    NaN       NaN   \n1                                                   NaN    NaN       NaN   \n2                                                   NaN    NaN       NaN   \n3                                                   NaN    NaN       NaN   \n4                                                   NaN    NaN       NaN   \n...                                                 ...    ...       ...   \n7113  https://twitter.com/globeicon/status/124779249...    NaN  2020/4/8   \n7114  https://twitter.com/starsandstripes/status/124...    NaN  2020/4/4   \n7115  https://twitter.com/News12NJ/status/1247322787...    NaN  2020/4/7   \n7116  https://twitter.com/pnokonta/status/1247306920...    NaN  2020/4/7   \n7117  https://twitter.com/BillSchammert/status/12472...    NaN  2020/4/7   \n\n         score  \n0     0.810451  \n1     0.852562  \n2     0.447689  \n3     0.141049  \n4     0.830115  \n...        ...  \n7113      None  \n7114      None  \n7115      None  \n7116      None  \n7117      None  \n\n[7118 rows x 6 columns]",
      "text/html": "<div>\n<style scoped>\n    .dataframe tbody tr th:only-of-type {\n        vertical-align: middle;\n    }\n\n    .dataframe tbody tr th {\n        vertical-align: top;\n    }\n\n    .dataframe thead th {\n        text-align: right;\n    }\n</style>\n<table border=\"1\" class=\"dataframe\">\n  <thead>\n    <tr style=\"text-align: right;\">\n      <th></th>\n      <th>label</th>\n      <th>text</th>\n      <th>source</th>\n      <th>author</th>\n      <th>time</th>\n      <th>score</th>\n    </tr>\n  </thead>\n  <tbody>\n    <tr>\n      <th>0</th>\n      <td>F</td>\n      <td>Coronavirus was created in a government lab as...</td>\n      <td>NaN</td>\n      <td>NaN</td>\n      <td>NaN</td>\n      <td>0.810451</td>\n    </tr>\n    <tr>\n      <th>1</th>\n      <td>F</td>\n      <td>The lie that coronavirus came from a bat or a ...</td>\n      <td>NaN</td>\n      <td>NaN</td>\n      <td>NaN</td>\n      <td>0.852562</td>\n    </tr>\n    <tr>\n      <th>2</th>\n      <td>F</td>\n      <td>The health experts had predicted the virus cou...</td>\n      <td>NaN</td>\n      <td>NaN</td>\n      <td>NaN</td>\n      <td>0.447689</td>\n    </tr>\n    <tr>\n      <th>3</th>\n      <td>F</td>\n      <td>A video clip supposedly showed that the expone...</td>\n      <td>NaN</td>\n      <td>NaN</td>\n      <td>NaN</td>\n      <td>0.141049</td>\n    </tr>\n    <tr>\n      <th>4</th>\n      <td>T</td>\n      <td>Almost 200 people in Italy died from the coron...</td>\n      <td>NaN</td>\n      <td>NaN</td>\n      <td>NaN</td>\n      <td>0.830115</td>\n    </tr>\n    <tr>\n      <th>...</th>\n      <td>...</td>\n      <td>...</td>\n      <td>...</td>\n      <td>...</td>\n      <td>...</td>\n      <td>...</td>\n    </tr>\n    <tr>\n      <th>7113</th>\n      <td>T</td>\n      <td>We wish to dispel rumors circulating in chat g...</td>\n      <td>https://twitter.com/globeicon/status/124779249...</td>\n      <td>NaN</td>\n      <td>2020/4/8</td>\n      <td>None</td>\n    </tr>\n    <tr>\n      <th>7114</th>\n      <td>T</td>\n      <td>Gen. Mike Hanifan took to social media to disp...</td>\n      <td>https://twitter.com/starsandstripes/status/124...</td>\n      <td>NaN</td>\n      <td>2020/4/4</td>\n      <td>None</td>\n    </tr>\n    <tr>\n      <th>7115</th>\n      <td>T</td>\n      <td>Gloucester Township police dispel rumor that a...</td>\n      <td>https://twitter.com/News12NJ/status/1247322787...</td>\n      <td>NaN</td>\n      <td>2020/4/7</td>\n      <td>None</td>\n    </tr>\n    <tr>\n      <th>7116</th>\n      <td>T</td>\n      <td>Thank you for your leadership Mayor Lucas! My ...</td>\n      <td>https://twitter.com/pnokonta/status/1247306920...</td>\n      <td>NaN</td>\n      <td>2020/4/7</td>\n      <td>None</td>\n    </tr>\n    <tr>\n      <th>7117</th>\n      <td>T</td>\n      <td>RICKETTS: NE National Guard is being used to a...</td>\n      <td>https://twitter.com/BillSchammert/status/12472...</td>\n      <td>NaN</td>\n      <td>2020/4/7</td>\n      <td>None</td>\n    </tr>\n  </tbody>\n</table>\n<p>7118 rows × 6 columns</p>\n</div>"
     },
     "execution_count": 16,
     "metadata": {},
     "output_type": "execute_result"
    }
   ],
   "source": [
    "en_dup"
   ],
   "metadata": {
    "collapsed": false,
    "ExecuteTime": {
     "end_time": "2024-04-12T13:12:01.227307Z",
     "start_time": "2024-04-12T13:12:01.173326Z"
    }
   },
   "id": "5de590713907037f"
  },
  {
   "cell_type": "code",
   "execution_count": 15,
   "outputs": [],
   "source": [
    "en_dup.to_csv('/Users/vinayakkannan/Desktop/Projects/FactChecker/FactChecker/Scraping/Transformed Data COVID/en_dup Data.csv', index=False)"
   ],
   "metadata": {
    "collapsed": false,
    "ExecuteTime": {
     "end_time": "2024-04-12T13:11:48.493424Z",
     "start_time": "2024-04-12T13:11:48.459500Z"
    }
   },
   "id": "cd1ac7ce6b313ca9"
  },
  {
   "cell_type": "code",
   "execution_count": null,
   "outputs": [],
   "source": [
    "import pandas as pd\n",
    "# Poynter\n",
    "\n",
    "cdc_data = pd.read_csv('/Users/vinayakkannan/Desktop/Projects/FactChecker/FactChecker/Clustering/Raw Data/COVID/Covid - Truth - CDC_WHO.xlsx - Sheet1.csv')\n",
    "# Drop duplicates in the 'Text' column\n",
    "cdc_data = cdc_data.drop_duplicates(subset='Text')\n",
    "cdc_data = cdc_data.dropna(subset=['Text'])\n",
    "cdc_data = cdc_data.reset_index(drop=True)\n",
    "cdc_data = cdc_data.rename(columns={'Text': 'text'})\n",
    "print(len(cdc_data))\n",
    "from Scraping.Helpers.RedditScraper import RedditScraper\n",
    "\n",
    "scraper = RedditScraper(limit=10000, claim_limit=10000)\n",
    "output = scraper.get_claims(cdc_data, 'text')\n",
    "cdc_data['score'] = None\n",
    "print(len(output))\n",
    "for i in range(len(output)):\n",
    "    cdc_data.loc[i, 'score'] = output['score'][i]"
   ],
   "metadata": {
    "collapsed": false
   },
   "id": "93bd58cdbbfbeeeb"
  },
  {
   "cell_type": "code",
   "execution_count": 9,
   "outputs": [
    {
     "name": "stderr",
     "output_type": "stream",
     "text": [
      "[nltk_data] Downloading package punkt to\n",
      "[nltk_data]     /Users/vinayakkannan/nltk_data...\n",
      "[nltk_data]   Package punkt is already up-to-date!\n"
     ]
    }
   ],
   "source": [
    "from Scraping.Helpers.RedditScraper import RedditScraper\n",
    "import pandas as pd\n",
    "import nltk\n",
    "from nltk.tokenize import sent_tokenize\n",
    "\n",
    "nltk.download('punkt')\n",
    "\n",
    "with open('/Users/vinayakkannan/Desktop/Projects/FactChecker/FactChecker/Scraping/Raw Data/climate_data.txt', 'r', encoding='utf-8') as file:\n",
    "    text = file.read()\n",
    "# Tokenize the text into sentences\n",
    "sentences = nltk.sent_tokenize(text)\n",
    "# Create a pandas DataFrame from the list of sentences\n",
    "df = pd.DataFrame({'text': sentences})"
   ],
   "metadata": {
    "collapsed": false,
    "ExecuteTime": {
     "end_time": "2024-05-17T03:37:59.033581Z",
     "start_time": "2024-05-17T03:37:58.967907Z"
    }
   },
   "id": "91764338940dbe49"
  },
  {
   "cell_type": "code",
   "execution_count": 10,
   "outputs": [
    {
     "name": "stdout",
     "output_type": "stream",
     "text": [
      "2532\n"
     ]
    },
    {
     "name": "stderr",
     "output_type": "stream",
     "text": [
      "2532it [13:25,  3.14it/s]\n"
     ]
    }
   ],
   "source": [
    "scraper = RedditScraper(limit=10000, claim_limit=10000)\n",
    "output = scraper.get_claims(df, 'text')"
   ],
   "metadata": {
    "collapsed": false,
    "ExecuteTime": {
     "end_time": "2024-05-17T03:51:25.104921Z",
     "start_time": "2024-05-17T03:37:59.595909Z"
    }
   },
   "id": "180870b98a7e87c2"
  },
  {
   "cell_type": "code",
   "execution_count": 14,
   "outputs": [
    {
     "data": {
      "text/plain": "                                                   Text  Numerical Rating\n7     1 (Washington), Utah Clean Energy (Utah), Xcel...                 3\n8     An EPA study last fall estimated that these sa...                 3\n13    Since 1992, ENERGY STAR and its partners helpe...                 3\n14    Nearly 2.5 million energy-efficient new homes ...                 3\n15    Today, May 6, the US Environmental Protection ...                 3\n...                                                 ...               ...\n2500  EPA’s $5 billion Clean School Bus Program, cre...                 3\n2512  About the Clean School Bus Program, , EPA’s Cl...                 3\n2530  Radon remains a prominent health hazard in the...                 3\n2531  As the leading cause of lung cancer among non-...                 3\n2534  Tens of millions of homes have already been te...                 3\n\n[344 rows x 2 columns]",
      "text/html": "<div>\n<style scoped>\n    .dataframe tbody tr th:only-of-type {\n        vertical-align: middle;\n    }\n\n    .dataframe tbody tr th {\n        vertical-align: top;\n    }\n\n    .dataframe thead th {\n        text-align: right;\n    }\n</style>\n<table border=\"1\" class=\"dataframe\">\n  <thead>\n    <tr style=\"text-align: right;\">\n      <th></th>\n      <th>Text</th>\n      <th>Numerical Rating</th>\n    </tr>\n  </thead>\n  <tbody>\n    <tr>\n      <th>7</th>\n      <td>1 (Washington), Utah Clean Energy (Utah), Xcel...</td>\n      <td>3</td>\n    </tr>\n    <tr>\n      <th>8</th>\n      <td>An EPA study last fall estimated that these sa...</td>\n      <td>3</td>\n    </tr>\n    <tr>\n      <th>13</th>\n      <td>Since 1992, ENERGY STAR and its partners helpe...</td>\n      <td>3</td>\n    </tr>\n    <tr>\n      <th>14</th>\n      <td>Nearly 2.5 million energy-efficient new homes ...</td>\n      <td>3</td>\n    </tr>\n    <tr>\n      <th>15</th>\n      <td>Today, May 6, the US Environmental Protection ...</td>\n      <td>3</td>\n    </tr>\n    <tr>\n      <th>...</th>\n      <td>...</td>\n      <td>...</td>\n    </tr>\n    <tr>\n      <th>2500</th>\n      <td>EPA’s $5 billion Clean School Bus Program, cre...</td>\n      <td>3</td>\n    </tr>\n    <tr>\n      <th>2512</th>\n      <td>About the Clean School Bus Program, , EPA’s Cl...</td>\n      <td>3</td>\n    </tr>\n    <tr>\n      <th>2530</th>\n      <td>Radon remains a prominent health hazard in the...</td>\n      <td>3</td>\n    </tr>\n    <tr>\n      <th>2531</th>\n      <td>As the leading cause of lung cancer among non-...</td>\n      <td>3</td>\n    </tr>\n    <tr>\n      <th>2534</th>\n      <td>Tens of millions of homes have already been te...</td>\n      <td>3</td>\n    </tr>\n  </tbody>\n</table>\n<p>344 rows × 2 columns</p>\n</div>"
     },
     "execution_count": 14,
     "metadata": {},
     "output_type": "execute_result"
    }
   ],
   "source": [
    "output"
   ],
   "metadata": {
    "collapsed": false,
    "ExecuteTime": {
     "end_time": "2024-05-17T03:55:10.523102Z",
     "start_time": "2024-05-17T03:55:10.518570Z"
    }
   },
   "id": "122be5b600903976"
  },
  {
   "cell_type": "code",
   "execution_count": 15,
   "outputs": [],
   "source": [
    "# Filter output where score is greater than 0.8\n",
    "# output = output[output['score'] >= 0.8]\n",
    "# # Drop duplicates in the text column\n",
    "# output = output.drop_duplicates(subset='text')\n",
    "# # Rename 'text' column to 'Text'\n",
    "# output = output.rename(columns={'text': 'Text'})\n",
    "# # Drop score and index columns\n",
    "# output = output.drop(columns=['score', 'index'])\n",
    "# # Create 'Numerical Rating' column and fill with 3\n",
    "output['Numerical Rating'] = 3\n",
    "# Load df\n",
    "df = pd.read_csv('/Users/vinayakkannan/Desktop/Projects/FactChecker/FactChecker/Clustering/Raw Data/Climate/climate_change_epa_who.csv')\n",
    "# Append output to df using concat\n",
    "df = pd.concat([df, output], ignore_index=True)\n",
    "# Drop duplicates in the 'Text' column\n",
    "df = df.drop_duplicates(subset='Text')\n",
    "# Write df to csv\n",
    "df.to_csv('/Users/vinayakkannan/Desktop/Projects/FactChecker/FactChecker/Clustering/Raw Data/Climate/climate_change_epa_who.csv', index=False)"
   ],
   "metadata": {
    "collapsed": false,
    "ExecuteTime": {
     "end_time": "2024-05-17T03:55:18.285421Z",
     "start_time": "2024-05-17T03:55:18.262377Z"
    }
   },
   "id": "a199bcb58993ec53"
  },
  {
   "cell_type": "code",
   "execution_count": null,
   "outputs": [],
   "source": [],
   "metadata": {
    "collapsed": false
   },
   "id": "f6001e4855c9646a"
  }
 ],
 "metadata": {
  "kernelspec": {
   "display_name": "Python 3",
   "language": "python",
   "name": "python3"
  },
  "language_info": {
   "codemirror_mode": {
    "name": "ipython",
    "version": 2
   },
   "file_extension": ".py",
   "mimetype": "text/x-python",
   "name": "python",
   "nbconvert_exporter": "python",
   "pygments_lexer": "ipython2",
   "version": "2.7.6"
  }
 },
 "nbformat": 4,
 "nbformat_minor": 5
}
