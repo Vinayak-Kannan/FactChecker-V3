{
 "cells": [
  {
   "cell_type": "code",
   "execution_count": 1,
   "id": "initial_id",
   "metadata": {
    "collapsed": true,
    "ExecuteTime": {
     "end_time": "2024-02-08T16:56:57.787427Z",
     "start_time": "2024-02-08T16:56:57.031728Z"
    }
   },
   "outputs": [],
   "source": [
    "import pandas as pd\n",
    "import matplotlib.pyplot as plt\n",
    "import numpy as np"
   ]
  },
  {
   "cell_type": "code",
   "execution_count": 2,
   "outputs": [
    {
     "data": {
      "text/plain": "Text(0, 0.5, 'Frequency')"
     },
     "execution_count": 2,
     "metadata": {},
     "output_type": "execute_result"
    },
    {
     "data": {
      "text/plain": "<Figure size 640x480 with 1 Axes>",
      "image/png": "[encoded data removed]"
     },
     "metadata": {},
     "output_type": "display_data"
    }
   ],
   "source": [
    "scored_claims = pd.read_csv('../Clustering/Transformed Data/scored_reddit_posts.csv')\n",
    "# Plot histogram of scored claims by score\n",
    "plt.hist(scored_claims['score'], bins=100)\n",
    "plt.title('Histogram of scored claims by score')\n",
    "plt.xlabel('Score')\n",
    "plt.ylabel('Frequency')"
   ],
   "metadata": {
    "collapsed": false,
    "ExecuteTime": {
     "end_time": "2024-02-08T16:56:57.958789Z",
     "start_time": "2024-02-08T16:56:57.787200Z"
    }
   },
   "id": "ab6d85b75b8380d"
  },
  {
   "cell_type": "code",
   "execution_count": 3,
   "outputs": [
    {
     "name": "stdout",
     "output_type": "stream",
     "text": [
      "Claim example: If we look at theories as creatures in a world of the natural selection of ideas, the ones that survive the most devastating, brutal, and vicious of criticisms are the ones we want to hold on to., Score: 0.0911341192\n",
      "Claim example: My idea certainly isn’t new and is probably naive but I think we need to create irrefutable evidence packaged into bite size chunks presented in an amazingly creative way that instantly hits home to people and gets them thinking., Score: 0.1264621446\n",
      "Claim example: **The best guess is about 3 degree C**, but there is still a range of possible answers.\"., Score: 0.2133428852\n",
      "Claim example: They've been tuned through  parameterization to fit the data., Score: 0.3121185973\n",
      "Claim example: Here are some general thoughts on that... Models are useful tools., Score: 0.4302067474\n",
      "Claim example: That any of the climate change predictions made in the past 50 years come true., Score: 0.5031783724\n",
      "Claim example: Other miscellaneous gasses such as CFCs and methane contribute marginally and their sources shouldn't be expected to significantly grow or contribute to radical increase in anthropogenic greenhouse sources., Score: 0.6758995326\n",
      "Claim example: Minimum of **317 kg CO2 per barrel** of crude oil, consumed as the products (by volume, 159 liters per barrel): 44.1% gasoline, 20.8% distillate fuel oil, 9.3% kerosene-type jet fuel, 5.2% residual fuel oil., Score: 0.7331151872\n",
      "Claim example: Six of the 10 largest European carbon emitters are German power stations., Score: 0.8283875515\n",
      "Claim example: Yet the government spends billions of dollars on “alternative  energy” such as wind and solar, which provides less than 3% of our energy needs., Score: 0.9004942874\n"
     ]
    },
    {
     "name": "stderr",
     "output_type": "stream",
     "text": [
      "/var/folders/r9/bzw4rbwd5nb52ddsnf14xsqm0000gn/T/ipykernel_5398/1119741914.py:17: FutureWarning: The behavior of DataFrame concatenation with empty or all-NA entries is deprecated. In a future version, this will no longer exclude empty or all-NA columns when determining the result dtypes. To retain the old behavior, exclude the relevant entries before the concat operation.\n",
      "  examples = pd.concat([examples, sampling], ignore_index=True)\n"
     ]
    }
   ],
   "source": [
    "np.random.seed(23)\n",
    "examples = pd.DataFrame(columns=['text', 'score'])\n",
    "\n",
    "# Loop through score in increments of 0.1\n",
    "ranges = np.linspace(0,1,11)\n",
    "for index, score in enumerate(ranges):\n",
    "    if index == 0:\n",
    "        continue\n",
    "    # Get claims with score between score and score - 0.1\n",
    "    claims = scored_claims[(scored_claims['score'] <= score) & (scored_claims['score'] > ranges[index-1])]\n",
    "    # Pick a random claim from the claims and print the 'Text' column and the 'score'\n",
    "    sampling = claims.sample(1)\n",
    "    sampling_text = sampling['text'].values[0]\n",
    "    sampling_score = sampling['score'].values[0]\n",
    "    print(f\"Claim example: {sampling_text}, Score: {sampling_score}\")\n",
    "    # Add to examples dataframe using concat\n",
    "    examples = pd.concat([examples, sampling], ignore_index=True)\n",
    "    \n",
    "# Write examples to csv\n",
    "examples.to_csv('../Clustering/Transformed Data/examples_of_reddit_posts_and_score.csv', index=False)"
   ],
   "metadata": {
    "collapsed": false,
    "ExecuteTime": {
     "end_time": "2024-02-08T16:57:02.676275Z",
     "start_time": "2024-02-08T16:57:02.634294Z"
    }
   },
   "id": "1d1c3faaad1f7ae4"
  },
  {
   "cell_type": "code",
   "execution_count": null,
   "outputs": [],
   "source": [],
   "metadata": {
    "collapsed": false
   },
   "id": "643d890f77ca34c5"
  }
 ],
 "metadata": {
  "kernelspec": {
   "display_name": "Python 3",
   "language": "python",
   "name": "python3"
  },
  "language_info": {
   "codemirror_mode": {
    "name": "ipython",
    "version": 2
   },
   "file_extension": ".py",
   "mimetype": "text/x-python",
   "name": "python",
   "nbconvert_exporter": "python",
   "pygments_lexer": "ipython2",
   "version": "2.7.6"
  }
 },
 "nbformat": 4,
 "nbformat_minor": 5
}
