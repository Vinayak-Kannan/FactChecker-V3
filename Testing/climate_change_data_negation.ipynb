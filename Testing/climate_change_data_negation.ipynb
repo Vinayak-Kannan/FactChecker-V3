{
 "cells": [
  {
   "cell_type": "code",
   "execution_count": 1,
   "id": "initial_id",
   "metadata": {
    "collapsed": true,
    "ExecuteTime": {
     "end_time": "2024-04-12T21:50:01.991242Z",
     "start_time": "2024-04-12T21:50:01.982477Z"
    }
   },
   "outputs": [],
   "source": [
    "%load_ext autoreload\n",
    "%autoreload 2"
   ]
  },
  {
   "cell_type": "code",
   "execution_count": 2,
   "outputs": [],
   "source": [
    "import pandas as pd\n",
    "from Testing.DataNegator import DataNegator\n",
    "# \n",
    "# ground_truth = pd.read_csv(\n",
    "#             \"/Users/vinayakkannan/Desktop/Projects/FactChecker/FactChecker/Clustering/Raw Data/Climate/VK's Copy of Cleaned - Google Fact Check Explorer - Climate.xlsx - Corrected.csv\")\n"
   ],
   "metadata": {
    "collapsed": false,
    "ExecuteTime": {
     "end_time": "2024-04-12T21:50:03.059659Z",
     "start_time": "2024-04-12T21:50:01.998286Z"
    }
   },
   "id": "7328920edfa2e455"
  },
  {
   "cell_type": "code",
   "execution_count": 5,
   "outputs": [
    {
     "name": "stderr",
     "output_type": "stream",
     "text": [
      "100%|██████████| 220/220 [03:03<00:00,  1.20it/s]"
     ]
    },
    {
     "name": "stdout",
     "output_type": "stream",
     "text": [
      "220\n",
      "220\n"
     ]
    },
    {
     "name": "stderr",
     "output_type": "stream",
     "text": [
      "\n"
     ]
    }
   ],
   "source": [
    "# EPA\n",
    "epa_who_data = pd.read_csv(\"/Users/vinayakkannan/Desktop/Projects/FactChecker/FactChecker/Clustering/Raw Data/Climate/climate_change_epa_who.csv\")\n",
    "data_negator = DataNegator(claims=epa_who_data['Text'])\n",
    "output_claims = data_negator.negate()\n",
    "print(len(output_claims))\n",
    "print(len(epa_who_data))\n",
    "# Create a new dataframe with output_claims in the 'text' column and the value 3 in the 'score' column\n",
    "new_df = pd.DataFrame({'text': output_claims, 'Numerical Rating': [1] * len(output_claims)})\n",
    "new_df.to_csv('/Users/vinayakkannan/Desktop/Projects/FactChecker/FactChecker/Clustering/Raw Data/Climate/Negated Claims/negated_epa_data.csv')"
   ],
   "metadata": {
    "collapsed": false,
    "ExecuteTime": {
     "end_time": "2024-04-12T21:56:04.712080Z",
     "start_time": "2024-04-12T21:53:01.188513Z"
    }
   },
   "id": "c23c7b8e8995dd1d"
  },
  {
   "cell_type": "code",
   "execution_count": 6,
   "outputs": [
    {
     "data": {
      "text/plain": "                                                  text  Numerical Rating\n0    In vulnerable regions, the death rate from ext...                 1\n1    For instance, as of 2018, more than half of co...                 1\n2    The marine economy did not generate over $665 ...                 1\n3    In 2020, wildfires did not burn over 10 millio...                 1\n4    There are not over two million farms in the Un...                 1\n..                                                 ...               ...\n215  Increases in average and extreme temperatures ...                 1\n216  About 80% of the ground in Alaska does not hav...                 1\n217  When a tree came in contact with electrical di...                 1\n218  They do not breathe at a faster rate, decreasi...                 1\n219  They do not recover in a few days to a week. T...                 1\n\n[220 rows x 2 columns]",
      "text/html": "<div>\n<style scoped>\n    .dataframe tbody tr th:only-of-type {\n        vertical-align: middle;\n    }\n\n    .dataframe tbody tr th {\n        vertical-align: top;\n    }\n\n    .dataframe thead th {\n        text-align: right;\n    }\n</style>\n<table border=\"1\" class=\"dataframe\">\n  <thead>\n    <tr style=\"text-align: right;\">\n      <th></th>\n      <th>text</th>\n      <th>Numerical Rating</th>\n    </tr>\n  </thead>\n  <tbody>\n    <tr>\n      <th>0</th>\n      <td>In vulnerable regions, the death rate from ext...</td>\n      <td>1</td>\n    </tr>\n    <tr>\n      <th>1</th>\n      <td>For instance, as of 2018, more than half of co...</td>\n      <td>1</td>\n    </tr>\n    <tr>\n      <th>2</th>\n      <td>The marine economy did not generate over $665 ...</td>\n      <td>1</td>\n    </tr>\n    <tr>\n      <th>3</th>\n      <td>In 2020, wildfires did not burn over 10 millio...</td>\n      <td>1</td>\n    </tr>\n    <tr>\n      <th>4</th>\n      <td>There are not over two million farms in the Un...</td>\n      <td>1</td>\n    </tr>\n    <tr>\n      <th>...</th>\n      <td>...</td>\n      <td>...</td>\n    </tr>\n    <tr>\n      <th>215</th>\n      <td>Increases in average and extreme temperatures ...</td>\n      <td>1</td>\n    </tr>\n    <tr>\n      <th>216</th>\n      <td>About 80% of the ground in Alaska does not hav...</td>\n      <td>1</td>\n    </tr>\n    <tr>\n      <th>217</th>\n      <td>When a tree came in contact with electrical di...</td>\n      <td>1</td>\n    </tr>\n    <tr>\n      <th>218</th>\n      <td>They do not breathe at a faster rate, decreasi...</td>\n      <td>1</td>\n    </tr>\n    <tr>\n      <th>219</th>\n      <td>They do not recover in a few days to a week. T...</td>\n      <td>1</td>\n    </tr>\n  </tbody>\n</table>\n<p>220 rows × 2 columns</p>\n</div>"
     },
     "execution_count": 6,
     "metadata": {},
     "output_type": "execute_result"
    }
   ],
   "source": [
    "new_df"
   ],
   "metadata": {
    "collapsed": false,
    "ExecuteTime": {
     "end_time": "2024-04-12T21:56:04.821629Z",
     "start_time": "2024-04-12T21:56:04.750424Z"
    }
   },
   "id": "cf0188975d39aaba"
  },
  {
   "cell_type": "code",
   "execution_count": 22,
   "outputs": [
    {
     "name": "stdout",
     "output_type": "stream",
     "text": [
      "2222\n"
     ]
    }
   ],
   "source": [
    "current_df = pd.read_csv('/Users/vinayakkannan/Desktop/Projects/FactChecker/FactChecker/Clustering/Raw Data/Climate/Negated Claims/negated_card_data_score_over_0.7.csv')\n",
    "# Remove duplicates from current df\n",
    "current_df = current_df.drop_duplicates(subset=['text'])\n",
    "print(len(current_df))"
   ],
   "metadata": {
    "collapsed": false,
    "ExecuteTime": {
     "end_time": "2024-04-13T00:56:52.402675Z",
     "start_time": "2024-04-13T00:56:52.328104Z"
    }
   },
   "id": "e6e907b57336adc6"
  },
  {
   "cell_type": "code",
   "execution_count": 25,
   "outputs": [
    {
     "name": "stdout",
     "output_type": "stream",
     "text": [
      "2502\n"
     ]
    },
    {
     "name": "stderr",
     "output_type": "stream",
     "text": [
      "2736it [04:06,  1.08s/it]  "
     ]
    },
    {
     "name": "stdout",
     "output_type": "stream",
     "text": [
      "Error negating claim: Also, 92. percent of the warming in the record occurred before 1950.. Another apostle of the renewable energy, anti-hydrocarbon movement is Senator Harry Reid.. Result: Original Claim: Also, 92. percent of the warming in the record occurred before 1950.. Another apostle of the renewable energy, anti-hydrocarbon movement is Senator Harry Reid.\n",
      "Negated Claim: Also, 92. percent of the warming in the record occurred after 1950. Another apostle of the renewable energy, anti-hydrocarbon movement is not Senator Harry Reid.\n"
     ]
    },
    {
     "name": "stderr",
     "output_type": "stream",
     "text": [
      "2978it [07:33,  1.15s/it]"
     ]
    },
    {
     "name": "stdout",
     "output_type": "stream",
     "text": [
      "Error negating claim: (I think a diesel generator may be a better option).. A new poll among 3,146 earth scientists found that 90 percent believe global warming is real, while 82 percent agree that human activity been a significant factor in changing mean global temperatures.. Tuesday the U.S. Government's Global Change Research Program released its latest \"National Assessment\" report on climate change impacts in the United States.. \"A second person denied transplant coverage by Arizona under a state budget cut has died, with this death \"most likely\" resulting from the coverage reduction, a hospital spokeswoman said Wednesday.\"Economics:.. Result: (I think a diesel generator may be a better option).. A new poll among 3,146 earth scientists found that 90 percent believe global warming is real, while 82 percent agree that human activity been a significant factor in changing mean global temperatures.. Tuesday the U.S. Government's Global Change Research Program released its latest \"National Assessment\" report on climate change impacts in the United States.. \"A second person denied transplant coverage by Arizona under a state budget cut has died, with this death \"most likely\" resulting from the coverage reduction, a hospital spokeswoman said Wednesday.\"Economics:.\n",
      "                        \n",
      "Negated Claim: A new poll among 3,146 earth scientists found that 90 percent do not believe global warming is real, while 82 percent do not agree that human activity has been a significant factor in changing mean global temperatures.\n"
     ]
    },
    {
     "name": "stderr",
     "output_type": "stream",
     "text": [
      "3772it [19:14,  1.49it/s]"
     ]
    },
    {
     "name": "stdout",
     "output_type": "stream",
     "text": [
      "Error negating claim: ?E), as the five Australian researchers describe it, \"there has been a statistically significant increase (at the 99% confidence level) of 1.. Result: Negated Claim: ?E), as the five Australian researchers describe it, \"there has not been a statistically significant increase (at the 99% confidence level) of 1.\n"
     ]
    },
    {
     "name": "stderr",
     "output_type": "stream",
     "text": [
      "4078it [23:44,  1.15s/it]"
     ]
    },
    {
     "name": "stdout",
     "output_type": "stream",
     "text": [
      "Error negating claim: Comment: This response does not address the criticism that even if one sentence of the guidance documentanticipates that permitting agencies may ultimately exercise the discretion to require fuel switching in individual cases, the EPA gave no hint that next year it wouldrequire all new fossil fuel power plants to be either NGCC or non-economical coal with CCS.. Result: Original Claim: Comment: This response does not address the criticism that even if one sentence of the guidance document anticipates that permitting agencies may ultimately exercise the discretion to require fuel switching in individual cases, the EPA gave no hint that next year it would require all new fossil fuel power plants to be either NGCC or non-economical coal with CCS.\n",
      "Negated Claim: This response does address the criticism that one sentence of the guidance document anticipates that permitting agencies may ultimately exercise the discretion to require fuel switching in individual cases, and the EPA did hint that next year it would require all new fossil fuel power plants to be either NGCC or non-economical coal with CCS.\n"
     ]
    },
    {
     "name": "stderr",
     "output_type": "stream",
     "text": [
      "4500it [30:06,  1.53s/it]"
     ]
    },
    {
     "name": "stdout",
     "output_type": "stream",
     "text": [
      "Error negating claim: and therefore want him to be the one to face President Obama in November 2012.. All of which proves we're far from down and out in the space race, and that even old technologies work when we're committed to their success.. fired on 5-of-6 humor elements, which is virtually unheard of.. Obamacare beneficiaries have also funded Obama's inaugural committee.. A more complex matter is whether mature technologies should be subsidized.. Result: Original Claim: and therefore want him to be the one to face President Obama in November 2012.. All of which proves we're far from down and out in the space race, and that even old technologies work when we're committed to their success.. fired on 5-of-6 humor elements, which is virtually unheard of.. Obamacare beneficiaries have also funded Obama's inaugural committee.. A more complex matter is whether mature technologies should be subsidized.\n",
      "Negated Claim: and do not want him to be the one to face President Obama in November 2012.. None of which proves we're far from down and out in the space race, and that even old technologies work when we're committed to their success.. failed on 5-of-6 humor elements, which is virtually unheard of.. Obamacare beneficiaries have not funded Obama's inaugural committee.. A less complex matter is whether mature technologies should be subsidized.\n"
     ]
    },
    {
     "name": "stderr",
     "output_type": "stream",
     "text": [
      "5592it [46:21,  1.21it/s]"
     ]
    },
    {
     "name": "stdout",
     "output_type": "stream",
     "text": [
      "Error negating claim: billion, an expected $1 billion from the conversion of nonprofit insurer Empire BlueCross BlueShield into a for-profit company, and a cigarette-tax hike.. Result: Original Claim: billion, an expected $1 billion from the conversion of nonprofit insurer Empire BlueCross BlueShield into a for-profit company, and a cigarette-tax hike.\n",
      "Negated Claim: not billion, not an expected $1 billion from the conversion of nonprofit insurer Empire BlueCross BlueShield into a for-profit company, and not a cigarette-tax hike.\n"
     ]
    },
    {
     "name": "stderr",
     "output_type": "stream",
     "text": [
      "5883it [50:56,  1.03s/it]"
     ]
    },
    {
     "name": "stdout",
     "output_type": "stream",
     "text": [
      "Error negating claim: Called \"The Polar Vortex Explained in 2 Minutes,\" it featured the director of the White House Office of Science & Technology Policy (OSTP), John Holdren, claiming that a \"growing body of evidence\" showed that the \"extreme cold being experienced by much of the United States as we speak is a pattern that we can expect to see with increasing frequency as global warming continues.. Result: Called \"The Polar Vortex Explained in 2 Minutes,\" it featured the director of the White House Office of Science & Technology Policy (OSTP), John Holdren, claiming that a \"growing body of evidence\" showed that the \"extreme cold being experienced by much of the United States as we speak is a pattern that we can expect to see with increasing frequency as global warming continues.\n",
      "\n",
      "Negated Claim: John Holdren did not claim that the extreme cold being experienced by much of the United States is a pattern that we can expect to see with increasing frequency as global warming continues.\n"
     ]
    },
    {
     "name": "stderr",
     "output_type": "stream",
     "text": [
      "7044it [1:08:40,  1.07s/it]"
     ]
    },
    {
     "name": "stdout",
     "output_type": "stream",
     "text": [
      "Error negating claim: About 60 percent of Americans surveyed said the United States should not intervene in Syrias civil war, while just 9 percent thought President Barack Obama should act .. Smith goes so far as to state, \"In spite of the development push that began in the 1960's, it seems unlikely that the area cleared today is any larger than it was in 1500 the area of forest is probably greater now than when the Europeans arrived.\".. Result: Original Claim: About 60 percent of Americans surveyed said the United States should not intervene in Syria's civil war, while just 9 percent thought President Barack Obama should act .. Smith goes so far as to state, \"In spite of the development push that began in the 1960's, it seems unlikely that the area cleared today is any larger than it was in 1500 the area of forest is probably greater now than when the Europeans arrived.\".\n",
      "\n",
      "Negated Claim: About 60 percent of Americans surveyed said the United States should intervene in Syria's civil war, while just 9 percent thought President Barack Obama should not act. Smith goes so far as to state, \"In spite of the development push that began in the 1960's, it seems likely that the area cleared today is larger than it was in 1500 the area of forest is probably not greater now than when the Europeans arrived.\".\n"
     ]
    },
    {
     "name": "stderr",
     "output_type": "stream",
     "text": [
      "8043it [1:23:23,  1.16s/it]"
     ]
    },
    {
     "name": "stdout",
     "output_type": "stream",
     "text": [
      "Error negating claim: However, before small businesses applaud EPA's \"Tailoring Rule,' which temporarily exempts them from certain mandates, they should remember that Congress never authorized EPA to make climate change policy in the first place.. Florida, there has been a record number hit Japan 10??.. Result: Original Claim: However, before small businesses applaud EPA's \"Tailoring Rule,' which temporarily exempts them from certain mandates, they should remember that Congress never authorized EPA to make climate change policy in the first place.. Florida, there has been a record number hit Japan 10??.\n",
      "Negated Claim: However, small businesses should not applaud EPA's \"Tailoring Rule,' which temporarily exempts them from certain mandates, as Congress did authorize EPA to make climate change policy in the first place. Florida, there has not been a record number hit Japan 10??.\n"
     ]
    },
    {
     "name": "stderr",
     "output_type": "stream",
     "text": [
      "8318it [1:27:18,  1.40s/it]"
     ]
    },
    {
     "name": "stdout",
     "output_type": "stream",
     "text": [
      "Error negating claim: Yet this 90 percent figure, sometimes used by the United Nations Intergovernmental Panel on Climate Change, is not from the testing of a falsifiable hypothesis but rather a political expression of the strength of opinion.. Im positive that this window is what is causing the damage to my car, says Patron.. EPA statistics regarding the six principal sources of air pollution in 199811 show:.. Result: Original Claim: Yet this 90 percent figure, sometimes used by the United Nations Intergovernmental Panel on Climate Change, is not from the testing of a falsifiable hypothesis but rather a political expression of the strength of opinion.. Im positive that this window is what is causing the damage to my car, says Patron.. EPA statistics regarding the six principal sources of air pollution in 199811 show:.\n",
      "Negated Claim: The 90 percent figure, sometimes used by the United Nations Intergovernmental Panel on Climate Change, is not from the testing of a falsifiable hypothesis but rather a political expression of the strength of opinion.. Im positive that this window is what is causing the damage to my car, says Patron.. EPA statistics regarding the six principal sources of air pollution in 199811 do not show:.\n"
     ]
    },
    {
     "name": "stderr",
     "output_type": "stream",
     "text": [
      "10048it [1:54:23,  1.46it/s]\n"
     ]
    }
   ],
   "source": [
    "from tqdm import tqdm\n",
    "# Card Data\n",
    "card_data_score = pd.read_csv( \"/Users/vinayakkannan/Desktop/Projects/FactChecker/FactChecker/Clustering/Raw Data/Climate/card_train_with_score.csv\")\n",
    "current_df = pd.read_csv('/Users/vinayakkannan/Desktop/Projects/FactChecker/FactChecker/Clustering/Raw Data/Climate/Negated Claims/negated_card_data_score_over_0.7.csv')\n",
    "card_data_score = card_data_score[card_data_score['score'] > 0.7]\n",
    "current_claims = set(current_df['text'].tolist())\n",
    "print(len(current_claims))\n",
    "for i, claim in tqdm(enumerate(card_data_score['text'])):\n",
    "    if i < len(current_claims) - 50:\n",
    "        continue\n",
    "    try:\n",
    "        data_negator = DataNegator(claims=[claim])\n",
    "        output_claims = data_negator.negate()\n",
    "        if len(output_claims) != len([claim]):\n",
    "            raise ValueError(f\"Mistmatch: {len(output_claims)}. Result: {len([claim])}\")\n",
    "        # Create a new dataframe with output_claims in the 'text' column and the value 3 in the 'score' column\n",
    "        new_df = pd.DataFrame({'text': output_claims, 'score': 0.7,'Numerical Rating': [1] * len(output_claims)})\n",
    "        old_df = pd.read_csv('/Users/vinayakkannan/Desktop/Projects/FactChecker/FactChecker/Clustering/Raw Data/Climate/Negated Claims/negated_card_data_score_over_0.7.csv')\n",
    "        combined_df = pd.concat([old_df, new_df], ignore_index=True)\n",
    "        combined_df.to_csv('/Users/vinayakkannan/Desktop/Projects/FactChecker/FactChecker/Clustering/Raw Data/Climate/Negated Claims/negated_card_data_score_over_0.7.csv', index=False)\n",
    "    except Exception as e:\n",
    "        print(e)\n",
    "        current_df = pd.read_csv('/Users/vinayakkannan/Desktop/Projects/FactChecker/FactChecker/Clustering/Raw Data/Climate/Negated Claims/negated_card_data_score_over_0.7.csv')\n",
    "        current_claims = set(current_df['text'].tolist())"
   ],
   "metadata": {
    "collapsed": false,
    "ExecuteTime": {
     "end_time": "2024-04-13T03:01:57.071499Z",
     "start_time": "2024-04-13T01:07:33.390117Z"
    }
   },
   "id": "f04f8fd382adfb30"
  },
  {
   "cell_type": "code",
   "execution_count": null,
   "outputs": [],
   "source": [],
   "metadata": {
    "collapsed": false
   },
   "id": "3312aaebcff4e428"
  }
 ],
 "metadata": {
  "kernelspec": {
   "display_name": "Python 3",
   "language": "python",
   "name": "python3"
  },
  "language_info": {
   "codemirror_mode": {
    "name": "ipython",
    "version": 2
   },
   "file_extension": ".py",
   "mimetype": "text/x-python",
   "name": "python",
   "nbconvert_exporter": "python",
   "pygments_lexer": "ipython2",
   "version": "2.7.6"
  }
 },
 "nbformat": 4,
 "nbformat_minor": 5
}
