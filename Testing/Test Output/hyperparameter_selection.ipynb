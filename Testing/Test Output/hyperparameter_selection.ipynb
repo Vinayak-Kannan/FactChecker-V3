{
 "cells": [
  {
   "cell_type": "code",
   "execution_count": 39,
   "outputs": [
    {
     "name": "stdout",
     "output_type": "stream",
     "text": [
      "The autoreload extension is already loaded. To reload it, use:\n",
      "  %reload_ext autoreload\n"
     ]
    }
   ],
   "source": [
    "%load_ext autoreload\n",
    "%autoreload 2"
   ],
   "metadata": {
    "collapsed": false,
    "ExecuteTime": {
     "end_time": "2024-05-12T19:49:06.228501Z",
     "start_time": "2024-05-12T19:49:06.162042Z"
    }
   },
   "id": "e7540c59bbc4826c"
  },
  {
   "cell_type": "code",
   "execution_count": 40,
   "id": "initial_id",
   "metadata": {
    "collapsed": true,
    "ExecuteTime": {
     "end_time": "2024-05-12T19:49:06.586226Z",
     "start_time": "2024-05-12T19:49:06.539382Z"
    }
   },
   "outputs": [],
   "source": [
    "import pandas as pd\n",
    "from ClusterAndPredict.ClusterAndPredict import ClusterAndPredict\n",
    "from sklearn.model_selection import GridSearchCV\n",
    "import chromadb\n",
    "from Testing.DataLoader import DataLoader"
   ]
  },
  {
   "cell_type": "markdown",
   "source": [
    "Parameters to adjust\n",
    "UMAP - n_neighbors, min_dist (0 - 0.1), metric (cosine)\n",
    "HDBSCAN - min_cluster_size, min_samples\n",
    "\n",
    "Metrics to consider\n",
    "Accuracy\n",
    "\n",
    "TRACK The Results"
   ],
   "metadata": {
    "collapsed": false
   },
   "id": "945af0a5a29d0c59"
  },
  {
   "cell_type": "code",
   "execution_count": 41,
   "outputs": [
    {
     "name": "stdout",
     "output_type": "stream",
     "text": [
      "23\n"
     ]
    }
   ],
   "source": [
    "chroma_client = chromadb.PersistentClient(path=\"/Users/vinayakkannan/Desktop/Projects/FactChecker/FactChecker/Clustering/Clustering/Chroma\")\n",
    "# Count number of collections\n",
    "print(chroma_client.count_collections())\n",
    "\n",
    "# Get all collection names\n",
    "collection_names = chroma_client.list_collections()\n",
    "\n",
    "# Loop through each collection and drop it\n",
    "for collection_name in collection_names:\n",
    "    if collection_name.name != 'climate_claims_embeddings_unchanged':\n",
    "        chroma_client.delete_collection(collection_name.name)"
   ],
   "metadata": {
    "collapsed": false,
    "ExecuteTime": {
     "end_time": "2024-05-12T19:49:36.165507Z",
     "start_time": "2024-05-12T19:49:07.527367Z"
    }
   },
   "id": "f591a1efe4bdf97e"
  },
  {
   "cell_type": "code",
   "execution_count": 4,
   "outputs": [
    {
     "ename": "TypeError",
     "evalue": "DataLoader.create_large_train_test_df() missing 1 required positional argument: 'remove_synthetic_data'",
     "output_type": "error",
     "traceback": [
      "\u001B[0;31m---------------------------------------------------------------------------\u001B[0m",
      "\u001B[0;31mTypeError\u001B[0m                                 Traceback (most recent call last)",
      "Cell \u001B[0;32mIn[4], line 2\u001B[0m\n\u001B[1;32m      1\u001B[0m data_loader \u001B[38;5;241m=\u001B[39m DataLoader(\u001B[38;5;241m0.5\u001B[39m)\n\u001B[0;32m----> 2\u001B[0m train_df, test_df \u001B[38;5;241m=\u001B[39m \u001B[43mdata_loader\u001B[49m\u001B[38;5;241;43m.\u001B[39;49m\u001B[43mcreate_large_train_test_df\u001B[49m\u001B[43m(\u001B[49m\u001B[43m)\u001B[49m\n",
      "\u001B[0;31mTypeError\u001B[0m: DataLoader.create_large_train_test_df() missing 1 required positional argument: 'remove_synthetic_data'"
     ]
    }
   ],
   "source": [
    "data_loader = DataLoader(0.5)\n",
    "train_df, test_df = data_loader.create_large_train_test_df()"
   ],
   "metadata": {
    "collapsed": false,
    "ExecuteTime": {
     "end_time": "2024-05-03T13:57:33.026807Z",
     "start_time": "2024-05-03T13:57:32.479101Z"
    }
   },
   "id": "e917bcd3cb66f2ff"
  },
  {
   "cell_type": "code",
   "execution_count": 5,
   "outputs": [
    {
     "ename": "NameError",
     "evalue": "name 'train_df' is not defined",
     "output_type": "error",
     "traceback": [
      "\u001B[0;31m---------------------------------------------------------------------------\u001B[0m",
      "\u001B[0;31mNameError\u001B[0m                                 Traceback (most recent call last)",
      "Cell \u001B[0;32mIn[5], line 1\u001B[0m\n\u001B[0;32m----> 1\u001B[0m \u001B[43mtrain_df\u001B[49m[\u001B[38;5;124m'\u001B[39m\u001B[38;5;124mNumerical Rating\u001B[39m\u001B[38;5;124m'\u001B[39m]\u001B[38;5;241m.\u001B[39mvalue_counts()\n",
      "\u001B[0;31mNameError\u001B[0m: name 'train_df' is not defined"
     ]
    }
   ],
   "source": [
    "train_df['Numerical Rating'].value_counts()"
   ],
   "metadata": {
    "collapsed": false,
    "ExecuteTime": {
     "end_time": "2024-05-03T13:58:04.463539Z",
     "start_time": "2024-05-03T13:58:04.412296Z"
    }
   },
   "id": "c7baea409f2c1842"
  },
  {
   "cell_type": "code",
   "execution_count": 6,
   "outputs": [
    {
     "ename": "NameError",
     "evalue": "name 'test_df' is not defined",
     "output_type": "error",
     "traceback": [
      "\u001B[0;31m---------------------------------------------------------------------------\u001B[0m",
      "\u001B[0;31mNameError\u001B[0m                                 Traceback (most recent call last)",
      "Cell \u001B[0;32mIn[6], line 2\u001B[0m\n\u001B[1;32m      1\u001B[0m \u001B[38;5;66;03m# value count of train_df for each 'Category' and 'Numerical Rating'\u001B[39;00m\n\u001B[0;32m----> 2\u001B[0m \u001B[43mtest_df\u001B[49m[\u001B[38;5;124m'\u001B[39m\u001B[38;5;124mNumerical Rating\u001B[39m\u001B[38;5;124m'\u001B[39m]\u001B[38;5;241m.\u001B[39mvalue_counts()\n",
      "\u001B[0;31mNameError\u001B[0m: name 'test_df' is not defined"
     ]
    }
   ],
   "source": [
    "# value count of train_df for each 'Category' and 'Numerical Rating'\n",
    "test_df['Numerical Rating'].value_counts()"
   ],
   "metadata": {
    "collapsed": false,
    "ExecuteTime": {
     "end_time": "2024-05-03T13:58:04.751220Z",
     "start_time": "2024-05-03T13:58:04.705796Z"
    }
   },
   "id": "4e721e7edfa4397a"
  },
  {
   "cell_type": "code",
   "execution_count": 42,
   "outputs": [],
   "source": [
    "parameters = {\n",
    "    'min_cluster_size': [10],\n",
    "    'min_samples': [10],\n",
    "    # 'n_neighbors': [int(train_df.shape[0] - 2) * 0.15], #[400],\n",
    "    'min_dist': [0.1],\n",
    "    'num_components': [100],\n",
    "    'no_umap': [False],\n",
    "    'k': [15],\n",
    "    'supervised_umap': [True],\n",
    "    'parametric_umap': [False],\n",
    "    'claim_column_name': ['Text'],\n",
    "    'veracity_column_name': ['Numerical Rating'],\n",
    "    'supervised_label_column_name': ['Numerical Rating'],\n",
    "    'random_seed': [True],\n",
    "    'use_weightage': [True],\n",
    "}"
   ],
   "metadata": {
    "collapsed": false,
    "ExecuteTime": {
     "end_time": "2024-05-12T19:49:36.227679Z",
     "start_time": "2024-05-12T19:49:36.166526Z"
    }
   },
   "id": "bbc8233367de3c54"
  },
  {
   "cell_type": "code",
   "execution_count": null,
   "outputs": [
    {
     "name": "stdout",
     "output_type": "stream",
     "text": [
      "Fitting 2 folds for each of 1 candidates, totalling 2 fits\n"
     ]
    },
    {
     "name": "stderr",
     "output_type": "stream",
     "text": [
      "/Users/vinayakkannan/Desktop/Projects/FactChecker/FactChecker/venv2/lib/python3.11/site-packages/pynndescent/pynndescent_.py:962: UserWarning: Failed to correctly find n_neighbors for some samples. Results may be less than ideal. Try re-running with different parameters.\n",
      "  warn(\n"
     ]
    }
   ],
   "source": [
    "percentages = [0.5]\n",
    "results = []\n",
    "for percentage in percentages:\n",
    "    data_loader = DataLoader(percentage)\n",
    "    # train_df, test_df = data_loader.create_train_test_df(False, True, True)\n",
    "    # train_df, test_df = data_loader.create_large_train_test_df(remove_synthetic_data=True)\n",
    "    train_df, test_df = data_loader.create_matched_large_df(False)\n",
    "    # Sample 0.05 of the data\n",
    "    # train_df = train_df.sample(frac=0.05)\n",
    "    # test_df = test_df.sample(frac=0.05)\n",
    "    cluster_predict_object = ClusterAndPredict(train_df=train_df)\n",
    "    # Parallelism with jobs doesnt work\n",
    "    parameters['n_neighbors'] = [int(train_df.shape[0] - 2)]\n",
    "    clf = GridSearchCV(cluster_predict_object, parameters, verbose=1, cv=2, refit=True)\n",
    "    clf.fit(test_df['Text'].tolist(), test_df['Numerical Rating'].tolist())\n",
    "    # Print best parameters\n",
    "    best_estimator: ClusterAndPredict = clf.best_estimator_\n",
    "    output = {\n",
    "        'percentage': percentage,\n",
    "        'best_params': clf.best_params_,\n",
    "        'best_score': clf.best_score_,\n",
    "        'accuracy': best_estimator.get_accuracy(),\n",
    "        'was_supervised_umap_used': best_estimator.get_was_supervised(),\n",
    "        'metrics': best_estimator.get_all_performance_metrics(),\n",
    "    }\n",
    "    print(output)\n",
    "    results.append(output)"
   ],
   "metadata": {
    "collapsed": false,
    "is_executing": true,
    "ExecuteTime": {
     "start_time": "2024-05-12T19:49:40.343193Z"
    }
   },
   "id": "724a5cb50eba0305"
  },
  {
   "cell_type": "code",
   "execution_count": 37,
   "outputs": [
    {
     "name": "stdout",
     "output_type": "stream",
     "text": [
      "['Said of the National Climate Assessment: \"And you have to look at the fact that this report is based on the most extreme modeled scenario.\"'\n",
      " 'Said of the National Climate Assessment: \"And you have to look at the fact that this report is based on the most extreme modeled scenario.\"']\n",
      "[1. 1.]\n",
      "Yeah this shouldn't happen lol\n",
      "['Greenhouse effect is a hoax, global warming uncorrelated with CO2 levels'\n",
      " 'Greenhouse effect is a hoax, global warming uncorrelated with CO2 levels']\n",
      "[1. 1.]\n",
      "Yeah this shouldn't happen lol\n",
      "['Spain’s minister for ecological transition and demographic challenge, Teresa Ribera, travelled to a climate conference by private jet.'\n",
      " 'Spain’s minister for ecological transition and demographic challenge, Teresa Ribera, travelled to a climate conference by private jet.']\n",
      "[1. 1.]\n",
      "Yeah this shouldn't happen lol\n",
      "['\"30,000 scientists have come forward confirming that man-made climate change is a hoax perpetuated by the elite in order to make money.\"'\n",
      " '\"30,000 scientists have come forward confirming that man-made climate change is a hoax perpetuated by the elite in order to make money.\"']\n",
      "[1. 1.]\n",
      "Yeah this shouldn't happen lol\n",
      "['Sky News published an article that says vaccines can help fight climate change'\n",
      " 'Sky News published an article that says vaccines can help fight climate change']\n",
      "[1. 1.]\n",
      "Yeah this shouldn't happen lol\n",
      "[\"Recent advance in Greenland glacier shows climate change is a 'scam'\"\n",
      " \"Recent advance in Greenland glacier shows climate change is a 'scam'\"]\n",
      "[1. 1.]\n",
      "Yeah this shouldn't happen lol\n",
      "['Video of park rangers in Death Valley wearing jackets in extreme heat is an evidence that climate change is a hoax'\n",
      " 'Video of park rangers in Death Valley wearing jackets in extreme heat is an evidence that climate change is a hoax']\n",
      "[1. 1.]\n",
      "Yeah this shouldn't happen lol\n",
      "['Images show how climate change destroyed the Greenland ice sheet and harmed a polar bear from 2009 to 2019.'\n",
      " 'Images show how climate change destroyed the Greenland ice sheet and harmed a polar bear from 2009 to 2019.']\n",
      "[1. 1.]\n",
      "Yeah this shouldn't happen lol\n",
      "['“Global warming is part of (a) natural cycle and there’s nothing we can actually do to stop these cycles.”'\n",
      " '“Global warming is part of (a) natural cycle and there’s nothing we can actually do to stop these cycles.”']\n",
      "[1. 1.]\n",
      "Yeah this shouldn't happen lol\n",
      "['Laws of thermodynamics say CO2 can’t contribute to climate change'\n",
      " 'Laws of thermodynamics say CO2 can’t contribute to climate change']\n",
      "[1. 1.]\n",
      "Yeah this shouldn't happen lol\n",
      "['\"Rob Portman voted for the bipartisan bill to affirm climate change is real, humans significantly contribute to it and it needs to be addressed.\"'\n",
      " '\"Rob Portman voted for the bipartisan bill to affirm climate change is real, humans significantly contribute to it and it needs to be addressed.\"']\n",
      "[1. 1.]\n",
      "Yeah this shouldn't happen lol\n",
      "['A peer-reviewed study has found evidence that nearly all of global warming has been fabricated by climate scientists.'\n",
      " 'A peer-reviewed study has found evidence that nearly all of global warming has been fabricated by climate scientists.']\n",
      "[1. 1.]\n",
      "Yeah this shouldn't happen lol\n",
      "['Hillary Clinton said, ‘It’s time to ban cash to fight climate change'\n",
      " 'Hillary Clinton said, ‘It’s time to ban cash to fight climate change']\n",
      "[1. 1.]\n",
      "Yeah this shouldn't happen lol\n",
      "[\"A Facebook post suggests Australia's public broadcaster, the Australian Broadcasting Corporation, predicted that New York City would be underwater due to climate change by 2015.\"\n",
      " \"A Facebook post suggests Australia's public broadcaster, the Australian Broadcasting Corporation, predicted that New York City would be underwater due to climate change by 2015.\"]\n",
      "[1. 1.]\n",
      "Yeah this shouldn't happen lol\n",
      "['U.S. President Joe Biden was the only world leader to wear a mask during an online climate summit in April 2021.'\n",
      " 'U.S. President Joe Biden was the only world leader to wear a mask during an online climate summit in April 2021.']\n",
      "[1. 1.]\n",
      "Yeah this shouldn't happen lol\n",
      "['Video shows IAS officer Vijay Singh lashing out at Western countries at an international forum for their colonial attitude towards India when it comes to action on climate change'\n",
      " 'Video shows IAS officer Vijay Singh lashing out at Western countries at an international forum for their colonial attitude towards India when it comes to action on climate change']\n",
      "[1. 1.]\n",
      "Yeah this shouldn't happen lol\n",
      "[\"'15-minute cities' are really 'climate change lockdowns'\"\n",
      " \"'15-minute cities' are really 'climate change lockdowns'\"]\n",
      "[1. 1.]\n",
      "Yeah this shouldn't happen lol\n",
      "['Greta Thunberg has revealed that Climate Change is a hoax'\n",
      " 'Greta Thunberg has revealed that Climate Change is a hoax']\n",
      "[1. 1.]\n",
      "Yeah this shouldn't happen lol\n",
      "['Climate change is ‘actually geoengineering’; weather modified by chemtrails'\n",
      " 'Climate change is ‘actually geoengineering’; weather modified by chemtrails']\n",
      "[1. 1.]\n",
      "Yeah this shouldn't happen lol\n",
      "[\"'Albedo effect' proves synthetic cover over Earth is causing global warming\"\n",
      " \"'Albedo effect' proves synthetic cover over Earth is causing global warming\"]\n",
      "[1. 1.]\n",
      "Yeah this shouldn't happen lol\n",
      "['“Over the history of planet Earth, far and away the #1 cause of sea level rise has been erosion and its resulting deposits of sediment and rocks into the world’s seas and oceans.\"'\n",
      " '“Over the history of planet Earth, far and away the #1 cause of sea level rise has been erosion and its resulting deposits of sediment and rocks into the world’s seas and oceans.\"']\n",
      "[1. 1.]\n",
      "Yeah this shouldn't happen lol\n",
      "['The Earth has been warmer than the modern era for 83 percent of the past 10,000 years.'\n",
      " 'The Earth has been warmer than the modern era for 83 percent of the past 10,000 years.']\n",
      "[1. 1.]\n",
      "Yeah this shouldn't happen lol\n",
      "['NASA Admits That Climate Change Occurs Because of Changes in Earth’s Solar Orbit, and NOT Because of SUVs and Fossil Fuels'\n",
      " 'NASA Admits That Climate Change Occurs Because of Changes in Earth’s Solar Orbit, and NOT Because of SUVs and Fossil Fuels']\n",
      "[1. 1.]\n",
      "Yeah this shouldn't happen lol\n",
      "['\"We need to also recognize that we just had two of the coldest years, biggest drop in global temperatures that we have had since the 1980s, the biggest in the last 100 years. We don\\'t talk about that.\"'\n",
      " '\"We need to also recognize that we just had two of the coldest years, biggest drop in global temperatures that we have had since the 1980s, the biggest in the last 100 years. We don\\'t talk about that.\"']\n",
      "[1. 1.]\n",
      "Yeah this shouldn't happen lol\n",
      "['President Joe Biden announced he has cancer during a speech on climate change,'\n",
      " 'President Joe Biden announced he has cancer during a speech on climate change,']\n",
      "[1. 1.]\n",
      "Yeah this shouldn't happen lol\n",
      "['Based on the increase of solar activity during the twentieth century, it should account for between half to two-thirds of all climate change'\n",
      " 'Based on the increase of solar activity during the twentieth century, it should account for between half to two-thirds of all climate change']\n",
      "[1. 1.]\n",
      "Yeah this shouldn't happen lol\n",
      "['changes in the solar orbit of the earth, along with alterations to the earth’s axial tilt, are both responsible for what climate scientists today have dubbed as “warming”[...]. In no way, shape, or form are humans warming or cooling the planet'\n",
      " 'changes in the solar orbit of the earth, along with alterations to the earth’s axial tilt, are both responsible for what climate scientists today have dubbed as “warming”[...]. In no way, shape, or form are humans warming or cooling the planet']\n",
      "[1. 1.]\n",
      "Yeah this shouldn't happen lol\n",
      "['“Scientists say this map represents the United States in 30 years if we don’t reverse climate change.”'\n",
      " '“Scientists say this map represents the United States in 30 years if we don’t reverse climate change.”']\n",
      "[1. 1.]\n",
      "Yeah this shouldn't happen lol\n",
      "['Photo shows Glastonbury 2022 after Greta Thunberg climate change speech'\n",
      " 'Photo shows Glastonbury 2022 after Greta Thunberg climate change speech']\n",
      "[1. 1.]\n",
      "Yeah this shouldn't happen lol\n",
      "['Did the daughter of World Economic Forum Chairman Klaus Schwab say, \"permanent climate lockdowns\" are \"coming — whether you like it or not?\"'\n",
      " 'Did the daughter of World Economic Forum Chairman Klaus Schwab say, \"permanent climate lockdowns\" are \"coming — whether you like it or not?\"']\n",
      "[1. 1.]\n",
      "Yeah this shouldn't happen lol\n",
      "['96% of climate data is corrupted' '96% of climate data is corrupted']\n",
      "[1. 1.]\n",
      "Yeah this shouldn't happen lol\n",
      "['Temperatures in Australia have cooled over the last 100 years.'\n",
      " 'Temperatures in Australia have cooled over the last 100 years.']\n",
      "[1. 1.]\n",
      "Yeah this shouldn't happen lol\n",
      "['“… with 93% of that power being renewable.”'\n",
      " '“… with 93% of that power being renewable.”']\n",
      "[1. 1.]\n",
      "Yeah this shouldn't happen lol\n",
      "['Sky News published an article headlined: “UK Heatwave: Vaccines could be the way to battle the climate crises!”'\n",
      " 'Sky News published an article headlined: “UK Heatwave: Vaccines could be the way to battle the climate crises!”']\n",
      "[1. 1.]\n",
      "Yeah this shouldn't happen lol\n",
      "['[S]unspot activity on the surface of our star has dropped to a new low. It’s feared this could herald the arrival of a uniquely grim ‘mini Ice Age’.'\n",
      " '[S]unspot activity on the surface of our star has dropped to a new low. It’s feared this could herald the arrival of a uniquely grim ‘mini Ice Age’.']\n",
      "[1. 1.]\n",
      "Yeah this shouldn't happen lol\n",
      "['U.S. President Joe Biden’s administration is planning to ban gas stoves over concerns surrounding climate change.'\n",
      " 'U.S. President Joe Biden’s administration is planning to ban gas stoves over concerns surrounding climate change.']\n",
      "[1. 1.]\n",
      "Yeah this shouldn't happen lol\n",
      "[\"Chemtrails are intended to 'protect us from climate change'\"\n",
      " \"Chemtrails are intended to 'protect us from climate change'\"]\n",
      "[1. 1.]\n",
      "Yeah this shouldn't happen lol\n",
      "[\"Pope Francis said alcoholics, autistic and disabled people should be euthanized to 'fight climate change'\"\n",
      " \"Pope Francis said alcoholics, autistic and disabled people should be euthanized to 'fight climate change'\"]\n",
      "[1. 1.]\n",
      "Yeah this shouldn't happen lol\n",
      "['climate change is boosting crop production, not threatening it.'\n",
      " 'climate change is boosting crop production, not threatening it.']\n",
      "[1. 1.]\n",
      "Yeah this shouldn't happen lol\n",
      "['\"The Australia bushfires have nothing to do with climate change; it was arson.\"'\n",
      " '\"The Australia bushfires have nothing to do with climate change; it was arson.\"']\n",
      "[1. 1.]\n",
      "Yeah this shouldn't happen lol\n",
      "['Biden\\'s \"real (climate) plan costs $100 trillion.\"'\n",
      " 'Biden\\'s \"real (climate) plan costs $100 trillion.\"']\n",
      "[1. 1.]\n",
      "Yeah this shouldn't happen lol\n",
      "['Two photos show climate change “is a hoax.”'\n",
      " 'Two photos show climate change “is a hoax.”']\n",
      "[1. 1.]\n",
      "Yeah this shouldn't happen lol\n",
      "['[NASA] has been adjusting temperatures from the past[...] downward, while adjusting current-day temperatures upward, and those changes are responsible for most of the claimed global warming during that time.'\n",
      " '[NASA] has been adjusting temperatures from the past[...] downward, while adjusting current-day temperatures upward, and those changes are responsible for most of the claimed global warming during that time.']\n",
      "[1. 1.]\n",
      "Yeah this shouldn't happen lol\n",
      "[\"Klaus Schwab's daughter threatens permanent climate lockdowns\"\n",
      " \"Klaus Schwab's daughter threatens permanent climate lockdowns\"]\n",
      "[1. 1.]\n",
      "Yeah this shouldn't happen lol\n",
      "['Weather maps have to changed to exaggerate the impact of climate change.'\n",
      " 'Weather maps have to changed to exaggerate the impact of climate change.']\n",
      "[1. 1.]\n",
      "Yeah this shouldn't happen lol\n",
      "['Ted Cruz tweeted in 2016, \"I’ll believe in climate change when Texas freezes over.\"'\n",
      " 'Ted Cruz tweeted in 2016, \"I’ll believe in climate change when Texas freezes over.\"']\n",
      "[1. 1.]\n",
      "Yeah this shouldn't happen lol\n",
      "['14 US cities signed climate treaty to eliminate meat and dairy consumption'\n",
      " '14 US cities signed climate treaty to eliminate meat and dairy consumption']\n",
      "[1. 1.]\n",
      "Yeah this shouldn't happen lol\n",
      "['Justin Trudeau wore a kilt at the COP26 climate summit in Glasgow'\n",
      " 'Justin Trudeau wore a kilt at the COP26 climate summit in Glasgow']\n",
      "[1. 1.]\n",
      "Yeah this shouldn't happen lol\n",
      "[\"Global warming is from solar winds and changes in Earth's magnetic field\"\n",
      " \"Global warming is from solar winds and changes in Earth's magnetic field\"]\n",
      "[1. 1.]\n",
      "Yeah this shouldn't happen lol\n",
      "['President Joe Biden said, “I know you all know there’s no climate problem,” proving that people have been “lying for decades” about climate change.'\n",
      " 'President Joe Biden said, “I know you all know there’s no climate problem,” proving that people have been “lying for decades” about climate change.']\n",
      "[1. 1.]\n",
      "Yeah this shouldn't happen lol\n",
      "['CBC News reported that Trudeau said, “Climate Change” is to blame for rise in threats toward Politicians'\n",
      " 'CBC News reported that Trudeau said, “Climate Change” is to blame for rise in threats toward Politicians']\n",
      "[1. 1.]\n",
      "Yeah this shouldn't happen lol\n",
      "['“Every year, Africa needs to generate approximately 30 million new jobs to accommodate its rapidly expanding workforce.”'\n",
      " '“Every year, Africa needs to generate approximately 30 million new jobs to accommodate its rapidly expanding workforce.”']\n",
      "[1. 1.]\n",
      "Yeah this shouldn't happen lol\n",
      "[\"The Journal published an article about a man's parachute failing due to climate change\"\n",
      " \"The Journal published an article about a man's parachute failing due to climate change\"]\n",
      "[1. 1.]\n",
      "Yeah this shouldn't happen lol\n",
      "['I would not agree that [carbon dioxide is] a primary contributor to the global warming that we see.'\n",
      " 'I would not agree that [carbon dioxide is] a primary contributor to the global warming that we see.']\n",
      "[1. 1.]\n",
      "Yeah this shouldn't happen lol\n",
      "['‘No correlation’ between carbon dioxide emissions and the climate'\n",
      " '‘No correlation’ between carbon dioxide emissions and the climate']\n",
      "[1. 1.]\n",
      "Yeah this shouldn't happen lol\n",
      "['An article published by the World Economic Forum confirms that the organisation is engineering the climate.'\n",
      " 'An article published by the World Economic Forum confirms that the organisation is engineering the climate.']\n",
      "[1. 1.]\n",
      "Yeah this shouldn't happen lol\n",
      "['Ted Cruz tweeted \"I\\'ll believe in climate change when Texas freezes over.\"'\n",
      " 'Ted Cruz tweeted \"I\\'ll believe in climate change when Texas freezes over.\"']\n",
      "[1. 1.]\n",
      "Yeah this shouldn't happen lol\n",
      "['Surface temperatures on Earth \"have stabilized.\"'\n",
      " 'Surface temperatures on Earth \"have stabilized.\"']\n",
      "[1. 1.]\n",
      "Yeah this shouldn't happen lol\n",
      "['[O]ne of the previously fastest shrinking glaciers in the world is growing again, calling into question the narrative that rapid climate change [...] poses a significant threat to the existence of the human race'\n",
      " '[O]ne of the previously fastest shrinking glaciers in the world is growing again, calling into question the narrative that rapid climate change [...] poses a significant threat to the existence of the human race']\n",
      "[1. 1.]\n",
      "Yeah this shouldn't happen lol\n",
      "['Boris Johnson has said that climate change is a primitive fear without foundation.'\n",
      " 'Boris Johnson has said that climate change is a primitive fear without foundation.']\n",
      "[1. 1.]\n",
      "Yeah this shouldn't happen lol\n",
      "['Climate Change is a Scam, Created by Governments Using \" Chem Trails \"!'\n",
      " 'Climate Change is a Scam, Created by Governments Using \" Chem Trails \"!']\n",
      "[1. 1.]\n",
      "Yeah this shouldn't happen lol\n",
      "['The image shows what scientists have predicted Earth \"will look like in 20 years from space if we don\\'t reverse climate change\"'\n",
      " 'The image shows what scientists have predicted Earth \"will look like in 20 years from space if we don\\'t reverse climate change\"']\n",
      "[1. 1.]\n",
      "Yeah this shouldn't happen lol\n",
      "[\"'Climate history' graph shows temps at 'lower end of the historical range'\"\n",
      " \"'Climate history' graph shows temps at 'lower end of the historical range'\"]\n",
      "[1. 1.]\n",
      "Yeah this shouldn't happen lol\n",
      "['Climate activists have vowed to slaughter millions of dogs.'\n",
      " 'Climate activists have vowed to slaughter millions of dogs.']\n",
      "[1. 1.]\n",
      "Yeah this shouldn't happen lol\n",
      "['Video shows IAS officer Vijay Singh lashing out at Western countries at an international forum for their colonial attitude towards India when it comes to action on climate change.'\n",
      " 'Video shows IAS officer Vijay Singh lashing out at Western countries at an international forum for their colonial attitude towards India when it comes to action on climate change.']\n",
      "[1. 1.]\n",
      "Yeah this shouldn't happen lol\n",
      "['The majority of scientists in the 1970s supported the global cooling hypothesis.'\n",
      " 'The majority of scientists in the 1970s supported the global cooling hypothesis.']\n",
      "[1. 1.]\n",
      "Yeah this shouldn't happen lol\n",
      "['U.S. Rep. Alexandria Ocasio-Cortez said that she opposed daylight saving time because “the extra hour of sunlight drastically speeds up climate change.”'\n",
      " 'U.S. Rep. Alexandria Ocasio-Cortez said that she opposed daylight saving time because “the extra hour of sunlight drastically speeds up climate change.”']\n",
      "[1. 1.]\n",
      "Yeah this shouldn't happen lol\n",
      "['\"Biden\\'s climate requirements\" will \"cut 90% of red meat from diet\" to a \"max 4 lbs per year\" and \"one burger per month.\"'\n",
      " '\"Biden\\'s climate requirements\" will \"cut 90% of red meat from diet\" to a \"max 4 lbs per year\" and \"one burger per month.\"']\n",
      "[1. 1.]\n",
      "Yeah this shouldn't happen lol\n",
      "['Pictures of parked private jets are from the Davos 2022 climate change conference.'\n",
      " 'Pictures of parked private jets are from the Davos 2022 climate change conference.']\n",
      "[1. 1.]\n",
      "Yeah this shouldn't happen lol\n",
      "[\"Biden’s climate plan limits meat consumption by 90%; “Biden's climate plan could limit you to eat just one burger a MONTH”\"\n",
      " \"Biden’s climate plan limits meat consumption by 90%; “Biden's climate plan could limit you to eat just one burger a MONTH”\"]\n",
      "[1. 1.]\n",
      "Yeah this shouldn't happen lol\n",
      "['They tell us that we are the primary forces controlling earth temperatures by the burning of fossil fuels and releasing their carbon dioxide. I hope my readers can recognize the absurdity of their claims. … increasing sunspots are linked to increases in earth temperature'\n",
      " 'They tell us that we are the primary forces controlling earth temperatures by the burning of fossil fuels and releasing their carbon dioxide. I hope my readers can recognize the absurdity of their claims. … increasing sunspots are linked to increases in earth temperature']\n",
      "[1. 1.]\n",
      "Yeah this shouldn't happen lol\n",
      "['The temperature is not rising nearly as fast as the alarmist computer models predicted. You know, it’s much, much less, factors of 2 or 3 less.'\n",
      " 'The temperature is not rising nearly as fast as the alarmist computer models predicted. You know, it’s much, much less, factors of 2 or 3 less.']\n",
      "[1. 1.]\n",
      "Yeah this shouldn't happen lol\n",
      "['\"...the earth moves closer to the sun every year – you know the rotation of the earth. We’re moving closer to the sun.\"'\n",
      " '\"...the earth moves closer to the sun every year – you know the rotation of the earth. We’re moving closer to the sun.\"']\n",
      "[1. 1.]\n",
      "Yeah this shouldn't happen lol\n",
      "['For example, flooding from extreme precipitation can cause billions of dollars of damage to transportation infrastructure in a single year.'\n",
      " 'For example, flooding from extreme precipitation can cause billions of dollars of damage to transportation infrastructure in a single year.']\n",
      "[3. 3.]\n",
      "Yeah this shouldn't happen lol\n",
      "['While deforestation can increase the earth’s reflectivity globally by replacing dark trees with lighter surfaces such as crops, the net effect of all land-use changes appears to be a small cooling.'\n",
      " 'While deforestation can increase the earth’s reflectivity globally by replacing dark trees with lighter surfaces such as crops, the net effect of all land-use changes appears to be a small cooling.']\n",
      "[3. 3.]\n",
      "Yeah this shouldn't happen lol\n",
      "['These zones are expected to increase in number and size as the ocean warms and heavier rains wash more nutrient-laden runoff into coastal waters.'\n",
      " 'These zones are expected to increase in number and size as the ocean warms and heavier rains wash more nutrient-laden runoff into coastal waters.']\n",
      "[3. 3.]\n",
      "Yeah this shouldn't happen lol\n",
      "['Therefore, as greenhouse gas concentrations increase and global temperatures rise, the total amount of water vapor in the atmosphere also increases, further amplifying the warming effect. For more information on greenhouse gases, see Greenhouse Gas Emissions. Aerosols in the atmosphere can affect climate.'\n",
      " 'Therefore, as greenhouse gas concentrations increase and global temperatures rise, the total amount of water vapor in the atmosphere also increases, further amplifying the warming effect. For more information on greenhouse gases, see Greenhouse Gas Emissions. Aerosols in the atmosphere can affect climate.']\n",
      "[3. 3.]\n",
      "Yeah this shouldn't happen lol\n",
      "['For example, federal agencies that manage the nation’s natural resources are now considering climate change in polices and planning.'\n",
      " 'For example, federal agencies that manage the nation’s natural resources are now considering climate change in polices and planning.']\n",
      "[3. 3.]\n",
      "Yeah this shouldn't happen lol\n",
      "['In 2020, wildfires burned over 10 million acres of U.S. lands, the highest-ever amount on record.'\n",
      " 'In 2020, wildfires burned over 10 million acres of U.S. lands, the highest-ever amount on record.']\n",
      "[3. 3.]\n",
      "Yeah this shouldn't happen lol\n",
      "['Exposure to extreme or prolonged heat can cause exhaustion, heat stroke, kidney and heart disease, and pregnancy complications.,10 In fact, extreme heat is already the leading cause of weather-related deaths in the United States.'\n",
      " 'Exposure to extreme or prolonged heat can cause exhaustion, heat stroke, kidney and heart disease, and pregnancy complications.,10 In fact, extreme heat is already the leading cause of weather-related deaths in the United States.']\n",
      "[3. 3.]\n",
      "Yeah this shouldn't happen lol\n",
      "['Even though cities only occupy about 1% to 5% of the land in North America, they produce 80 percent of all the greenhouse gases on the continent.'\n",
      " 'Even though cities only occupy about 1% to 5% of the land in North America, they produce 80 percent of all the greenhouse gases on the continent.']\n",
      "[3. 3.]\n",
      "Yeah this shouldn't happen lol\n",
      "['Climate change is directly contributing to humanitarian emergencies from heatwaves, wildfires, floods, tropical storms and hurricanes and they are increasing in scale, frequency and intensity. Research shows that 3.\\xa0billion people already live in areas highly susceptible to climate change.'\n",
      " 'Climate change is directly contributing to humanitarian emergencies from heatwaves, wildfires, floods, tropical storms and hurricanes and they are increasing in scale, frequency and intensity. Research shows that 3.\\xa0billion people already live in areas highly susceptible to climate change.']\n",
      "[3. 3.]\n",
      "Yeah this shouldn't happen lol\n",
      "['For example, scientists predict that some areas, such as the Bering Sea, will see more kinds of fish as warming waters drive populations north.'\n",
      " 'For example, scientists predict that some areas, such as the Bering Sea, will see more kinds of fish as warming waters drive populations north.']\n",
      "[3. 3.]\n",
      "Yeah this shouldn't happen lol\n",
      "['For example, energy disruptions from extreme weather damage to energy infrastructure have cost billions of dollars.'\n",
      " 'For example, energy disruptions from extreme weather damage to energy infrastructure have cost billions of dollars.']\n",
      "[3. 3.]\n",
      "Yeah this shouldn't happen lol\n",
      "['These illnesses cost the U.S. health care system more than $3 billion annually, and climate impacts are expected to increase risk of exposure to water-borne pathogens and water-treatment expenses., 20, 21.'\n",
      " 'These illnesses cost the U.S. health care system more than $3 billion annually, and climate impacts are expected to increase risk of exposure to water-borne pathogens and water-treatment expenses., 20, 21.']\n",
      "[3. 3.]\n",
      "Yeah this shouldn't happen lol\n",
      "['Most U.S. households are currently food secureExit EPA’s website.'\n",
      " 'Most U.S. households are currently food secureExit EPA’s website.']\n",
      "[3. 3.]\n",
      "Yeah this shouldn't happen lol\n",
      "['\"In last week’s debate, Bernie questioned Hillary’s commitment to fighting climate change because a whopping 0.2 percent of the money given to our campaign has come from employees of oil and gas companies. Not even 2 percent, mind you: 0.2 percent.\"'\n",
      " '\"In last week’s debate, Bernie questioned Hillary’s commitment to fighting climate change because a whopping 0.2 percent of the money given to our campaign has come from employees of oil and gas companies. Not even 2 percent, mind you: 0.2 percent.\"']\n",
      "[3. 3.]\n",
      "Yeah this shouldn't happen lol\n",
      "['The WHO conservatively projects 250\\xa0000 additional yearly deaths by the 2030s due to climate change impacts on diseases like malaria and coastal flooding.'\n",
      " 'The WHO conservatively projects 250\\xa0000 additional yearly deaths by the 2030s due to climate change impacts on diseases like malaria and coastal flooding.']\n",
      "[3. 3.]\n",
      "Yeah this shouldn't happen lol\n",
      "['Hundreds of independent and governmental scientific organizations have released similar statements, both in the United States and worldwide, including the World Meteorological OrganizationExit EPA’s website, the American Meteorological SocietyExit EPA’s website, and the American Geophysical UnionExit EPA’s website.'\n",
      " 'Hundreds of independent and governmental scientific organizations have released similar statements, both in the United States and worldwide, including the World Meteorological OrganizationExit EPA’s website, the American Meteorological SocietyExit EPA’s website, and the American Geophysical UnionExit EPA’s website.']\n",
      "[3. 3.]\n",
      "Yeah this shouldn't happen lol\n",
      "['\"The White House removed its climate change web page. And the healthcare, civil rights and LGBT sections.\"'\n",
      " '\"The White House removed its climate change web page. And the healthcare, civil rights and LGBT sections.\"']\n",
      "[3. 3.]\n",
      "Yeah this shouldn't happen lol\n",
      "['In 2019, there were more than 41 million U.S. adults living with a disability.'\n",
      " 'In 2019, there were more than 41 million U.S. adults living with a disability.']\n",
      "[3. 3.]\n",
      "Yeah this shouldn't happen lol\n",
      "['By 2050, up to $106 billion worth of coastal property will likely be below sea level if current trends continue. U.S. coastal counties face permanent inundation and flooding threats from sea level rise, intense rains, high tide flooding, and severe storms.'\n",
      " 'By 2050, up to $106 billion worth of coastal property will likely be below sea level if current trends continue. U.S. coastal counties face permanent inundation and flooding threats from sea level rise, intense rains, high tide flooding, and severe storms.']\n",
      "[3. 3.]\n",
      "Yeah this shouldn't happen lol\n",
      "['These changes could increase pesticide exposures for agricultural workers.'\n",
      " 'These changes could increase pesticide exposures for agricultural workers.']\n",
      "[3. 3.]\n",
      "Yeah this shouldn't happen lol\n",
      "['\"I’m one of the first guys to introduce a climate change bill, way, way back in ‘87.\"'\n",
      " '\"I’m one of the first guys to introduce a climate change bill, way, way back in ‘87.\"']\n",
      "[3. 3.]\n",
      "Yeah this shouldn't happen lol\n",
      "['In 2020, wildfires burned over 10 million acres of land in the United States, the highest-ever amount on record.'\n",
      " 'In 2020, wildfires burned over 10 million acres of land in the United States, the highest-ever amount on record.']\n",
      "[3. 3.]\n",
      "Yeah this shouldn't happen lol\n",
      "['In 2020 alone, reductions in air pollution prevented more than 230,000 premature deaths, 200,000 heart attacks, 120,000 emergency room visits, and 17 million lost workdays.'\n",
      " 'In 2020 alone, reductions in air pollution prevented more than 230,000 premature deaths, 200,000 heart attacks, 120,000 emergency room visits, and 17 million lost workdays.']\n",
      "[3. 3.]\n",
      "Yeah this shouldn't happen lol\n",
      "['Pacific island communities are already experiencing saltwater contamination of groundwater systems due to sea level rise.'\n",
      " 'Pacific island communities are already experiencing saltwater contamination of groundwater systems due to sea level rise.']\n",
      "[3. 3.]\n",
      "Yeah this shouldn't happen lol\n",
      "['When temperatures rise, the carrying capacity of transmission lines decreases.'\n",
      " 'When temperatures rise, the carrying capacity of transmission lines decreases.']\n",
      "[3. 3.]\n",
      "Yeah this shouldn't happen lol\n",
      "['For example, many states are upgrading and protecting their energy infrastructure from extreme weather.'\n",
      " 'For example, many states are upgrading and protecting their energy infrastructure from extreme weather.']\n",
      "[3. 3.]\n",
      "Yeah this shouldn't happen lol\n",
      "['They also recover in a few days to a week. Trauma from extreme weather events can cause psychological stress, worsen mental illnesses, and add emotional stress for pregnant and postpartum women.'\n",
      " 'They also recover in a few days to a week. Trauma from extreme weather events can cause psychological stress, worsen mental illnesses, and add emotional stress for pregnant and postpartum women.']\n",
      "[3. 3.]\n",
      "Yeah this shouldn't happen lol\n",
      "['A 2023 EPA report\\xa0quantifies projected health effects to children from climate change.'\n",
      " 'A 2023 EPA report\\xa0quantifies projected health effects to children from climate change.']\n",
      "[3. 3.]\n",
      "Yeah this shouldn't happen lol\n",
      "['For instance, detours caused by closed or damaged bridges are three times longer in rural areas than elsewhere.'\n",
      " 'For instance, detours caused by closed or damaged bridges are three times longer in rural areas than elsewhere.']\n",
      "[3. 3.]\n",
      "Yeah this shouldn't happen lol\n",
      "['Evidence shows rare night clouds are linked to human-caused climate change.'\n",
      " 'Evidence shows rare night clouds are linked to human-caused climate change.']\n",
      "[3. 3.]\n",
      "Yeah this shouldn't happen lol\n",
      "['The New York City metro area provided extra bus service after Superstorm Sandy to make up for flooded subway and commuter tunnels.'\n",
      " 'The New York City metro area provided extra bus service after Superstorm Sandy to make up for flooded subway and commuter tunnels.']\n",
      "[3. 3.]\n",
      "Yeah this shouldn't happen lol\n",
      "['“Almost a billion [people] have no access to clean cooking energy.”'\n",
      " '“Almost a billion [people] have no access to clean cooking energy.”']\n",
      "[3. 3.]\n",
      "Yeah this shouldn't happen lol\n",
      "['Intense, single-day rainstorms are rising, increasing the risk of urban flooding, especially in areas with a lot of paved surfaces.'\n",
      " 'Intense, single-day rainstorms are rising, increasing the risk of urban flooding, especially in areas with a lot of paved surfaces.']\n",
      "[3. 3.]\n",
      "Yeah this shouldn't happen lol\n",
      "['\"The science tells us that Tuvalu, which I often hear about, is actually growing not sinking,\"'\n",
      " '\"The science tells us that Tuvalu, which I often hear about, is actually growing not sinking,\"']\n",
      "[3. 3.]\n",
      "Yeah this shouldn't happen lol\n",
      "['Transportation systems are also vulnerable to multiple climate change stressors, including extreme temperatures and heavy precipitation.'\n",
      " 'Transportation systems are also vulnerable to multiple climate change stressors, including extreme temperatures and heavy precipitation.']\n",
      "[3. 3.]\n",
      "Yeah this shouldn't happen lol\n",
      "['All U.S. regions are experiencing the impacts of climate change but impacts vary by area and ecosystem.'\n",
      " 'All U.S. regions are experiencing the impacts of climate change but impacts vary by area and ecosystem.']\n",
      "[3. 3.]\n",
      "Yeah this shouldn't happen lol\n",
      "['Atmospheric carbon dioxide concentrations have increased by more than 40 percent since pre-industrial times, from approximately 280 parts per million (ppm) in the 18th century7 to 414 ppm in 2020. Methane: Human activities increased methane concentrations during most of the 20th century to more than 2. times the pre-industrial level, from approximately 722 parts per billion (ppb) in the 18th century9 to 1,867 ppb in 2019. Nitrous oxide: Nitrous oxide concentrations have risen approximately 20 percent since the start of the Industrial Revolution, with a relatively rapid increase toward the end of the 20th century.'\n",
      " 'Atmospheric carbon dioxide concentrations have increased by more than 40 percent since pre-industrial times, from approximately 280 parts per million (ppm) in the 18th century7 to 414 ppm in 2020. Methane: Human activities increased methane concentrations during most of the 20th century to more than 2. times the pre-industrial level, from approximately 722 parts per billion (ppb) in the 18th century9 to 1,867 ppb in 2019. Nitrous oxide: Nitrous oxide concentrations have risen approximately 20 percent since the start of the Industrial Revolution, with a relatively rapid increase toward the end of the 20th century.']\n",
      "[3. 3.]\n",
      "Yeah this shouldn't happen lol\n",
      "['Temperatures are rising in all regions of the United States.'\n",
      " 'Temperatures are rising in all regions of the United States.']\n",
      "[3. 3.]\n",
      "Yeah this shouldn't happen lol\n",
      "['Food service makes up the largest share of these jobs at 13 million.'\n",
      " 'Food service makes up the largest share of these jobs at 13 million.']\n",
      "[3. 3.]\n",
      "Yeah this shouldn't happen lol\n",
      "['Energy systems on both the Gulf and East Coasts face more risk of damage from flooding due to hurricanes and sea level rise.'\n",
      " 'Energy systems on both the Gulf and East Coasts face more risk of damage from flooding due to hurricanes and sea level rise.']\n",
      "[3. 3.]\n",
      "Yeah this shouldn't happen lol\n",
      "['At the coldest part of the last glacial period (or ice age), the average global temperature was about 11°F\\xa0colder than it is\\xa0today.'\n",
      " 'At the coldest part of the last glacial period (or ice age), the average global temperature was about 11°F\\xa0colder than it is\\xa0today.']\n",
      "[3. 3.]\n",
      "Yeah this shouldn't happen lol\n",
      "['A 14 August 1912 article from a New Zealand newspaper contained a brief story about how burning coal might produce future warming by adding carbon dioxide to the atmosphere.'\n",
      " 'A 14 August 1912 article from a New Zealand newspaper contained a brief story about how burning coal might produce future warming by adding carbon dioxide to the atmosphere.']\n",
      "[3. 3.]\n",
      "Yeah this shouldn't happen lol\n",
      "['While reductions in all aerosols can lead to more warming, targeted reductions in black carbon emissions can reduce global warming.'\n",
      " 'While reductions in all aerosols can lead to more warming, targeted reductions in black carbon emissions can reduce global warming.']\n",
      "[3. 3.]\n",
      "Yeah this shouldn't happen lol\n",
      "['In vulnerable regions, the death rate from extreme weather events in the last decade was 15 times higher than in less vulnerable ones.'\n",
      " 'In vulnerable regions, the death rate from extreme weather events in the last decade was 15 times higher than in less vulnerable ones.']\n",
      "[3. 3.]\n",
      "Yeah this shouldn't happen lol\n",
      "['A 1912 article warned coal burning can have a negative effect on climate'\n",
      " 'A 1912 article warned coal burning can have a negative effect on climate']\n",
      "[3. 3.]\n",
      "Yeah this shouldn't happen lol\n",
      "['A 1912 newspaper article predicted coal-fueled climate change'\n",
      " 'A 1912 newspaper article predicted coal-fueled climate change']\n",
      "[3. 3.]\n",
      "Yeah this shouldn't happen lol\n",
      "['But millions of households with children experience food insecurity at times during the year.'\n",
      " 'But millions of households with children experience food insecurity at times during the year.']\n",
      "[3. 3.]\n",
      "Yeah this shouldn't happen lol\n",
      "['Increases in average and extreme temperatures and heat waves are expected to lead to more heat illnessesExit EPA’s website and deaths among vulnerable groups, including people with disabilities.'\n",
      " 'Increases in average and extreme temperatures and heat waves are expected to lead to more heat illnessesExit EPA’s website and deaths among vulnerable groups, including people with disabilities.']\n",
      "[3. 3.]\n",
      "Yeah this shouldn't happen lol\n",
      "['“The clothing industry contributes up to 10% of the pollution driving the climate crisis.”'\n",
      " '“The clothing industry contributes up to 10% of the pollution driving the climate crisis.”']\n",
      "[3. 3.]\n",
      "Yeah this shouldn't happen lol\n",
      "['In contrast, the Northeast and Southeast may experience more extreme storms and heavy rains, which can put aging water infrastructure (such as dams, sewers, and water treatment facilities) at risk. To help reduce climate risks, many water utilities are considering potential impacts to their systems and taking steps to build resilience.'\n",
      " 'In contrast, the Northeast and Southeast may experience more extreme storms and heavy rains, which can put aging water infrastructure (such as dams, sewers, and water treatment facilities) at risk. To help reduce climate risks, many water utilities are considering potential impacts to their systems and taking steps to build resilience.']\n",
      "[3. 3.]\n",
      "Yeah this shouldn't happen lol\n",
      "['Other businesses, such as grocery stores, tackle shops, and restaurants, also benefit from fishery-related products and services. As of 2019, almost 2. million Americans had jobs related to the ocean in fields including fisheries, construction, tourism, real estate, food service, and transportation.'\n",
      " 'Other businesses, such as grocery stores, tackle shops, and restaurants, also benefit from fishery-related products and services. As of 2019, almost 2. million Americans had jobs related to the ocean in fields including fisheries, construction, tourism, real estate, food service, and transportation.']\n",
      "[3. 3.]\n",
      "Yeah this shouldn't happen lol\n",
      "['Overall, human-generated aerosols have a net cooling effect on the earth.'\n",
      " 'Overall, human-generated aerosols have a net cooling effect on the earth.']\n",
      "[3. 3.]\n",
      "Yeah this shouldn't happen lol\n",
      "['Yet, elsewhere, communities are relocating entirely; members of the Isle de Jean Charles Band of the Biloxi-Chitimacha-Choctaw Tribe are planning to resettle inland after losing 98% of their tribal lands to rising seas., 8.'\n",
      " 'Yet, elsewhere, communities are relocating entirely; members of the Isle de Jean Charles Band of the Biloxi-Chitimacha-Choctaw Tribe are planning to resettle inland after losing 98% of their tribal lands to rising seas., 8.']\n",
      "[3. 3.]\n",
      "Yeah this shouldn't happen lol\n",
      "['For instance, Native American/Alaska Native infants are hospitalized more for diarrheal disease than infants in the general U.S. population—often due to a lack of safe and reliable drinking water.'\n",
      " 'For instance, Native American/Alaska Native infants are hospitalized more for diarrheal disease than infants in the general U.S. population—often due to a lack of safe and reliable drinking water.']\n",
      "[3. 3.]\n",
      "Yeah this shouldn't happen lol\n",
      "['From 1932 to 2016, Louisiana lost more than 2,000 square miles of land area, mostly wetlands, in part due to rising sea levels.'\n",
      " 'From 1932 to 2016, Louisiana lost more than 2,000 square miles of land area, mostly wetlands, in part due to rising sea levels.']\n",
      "[3. 3.]\n",
      "Yeah this shouldn't happen lol\n"
     ]
    },
    {
     "data": {
      "text/plain": "11"
     },
     "execution_count": 37,
     "metadata": {},
     "output_type": "execute_result"
    }
   ],
   "source": [
    "object_output = best_estimator.get_all_performance_metrics()\n",
    "cluster_df = object_output['cluster_df']\n",
    "# Print unique count of 'cluster'\n",
    "cluster_df['cluster'].nunique()"
   ],
   "metadata": {
    "collapsed": false,
    "ExecuteTime": {
     "end_time": "2024-05-12T19:48:19.312645Z",
     "start_time": "2024-05-12T19:48:18.652936Z"
    }
   },
   "id": "2dd02d7938148d81"
  },
  {
   "cell_type": "code",
   "execution_count": 9,
   "outputs": [
    {
     "name": "stdout",
     "output_type": "stream",
     "text": [
      "Numerical Rating\n",
      "3    5158\n",
      "1     402\n",
      "Name: count, dtype: int64\n",
      "Numerical Rating\n",
      "3    5157\n",
      "1     403\n",
      "Name: count, dtype: int64\n"
     ]
    }
   ],
   "source": [
    "# Rename 'text' column in cluster_df to 'Text'\n",
    "cluster_df = cluster_df.rename(columns={'text': 'Text'})\n",
    "train_df, test_df = data_loader.create_large_train_test_df(False)\n",
    "# Join the 'Synthetic' column in train_df and test_df on cluster_df using the 'text' column\n",
    "# Concatenate train_df and test_df\n",
    "combined_df = pd.concat([train_df, test_df])\n",
    "\n",
    "# Ensure that 'Text' column is of the same data type in both dataframes\n",
    "combined_df['Text'] = combined_df['Text'].astype(str)\n",
    "cluster_df['Text'] = cluster_df['Text'].astype(str)\n",
    "\n",
    "# Merge 'Synthetic' column from combined_df to cluster_df\n",
    "cluster_df = cluster_df.merge(combined_df[['Text', 'Synthetic']], on='Text', how='left')"
   ],
   "metadata": {
    "collapsed": false,
    "ExecuteTime": {
     "end_time": "2024-05-12T18:22:59.948166Z",
     "start_time": "2024-05-12T18:22:59.707046Z"
    }
   },
   "id": "15b7aeebd80e657e"
  },
  {
   "cell_type": "code",
   "execution_count": 38,
   "outputs": [
    {
     "data": {
      "text/plain": "                                                  text  veracity  predict  \\\n0    Said of the National Climate Assessment: \"And ...       1.0     True   \n1    Greenhouse effect is a hoax, global warming un...       1.0     True   \n2    Spain’s minister for ecological transition and...       1.0     True   \n3    \"30,000 scientists have come forward confirmin...       1.0     True   \n4    Sky News published an article that says vaccin...       1.0     True   \n..                                                 ...       ...      ...   \n762  “The reality is more people are dying of bad c...       1.0    False   \n763  “We have been cooling down for the past 4000 y...       1.0    False   \n764  “… 600 million Africans lack access to electri...       3.0    False   \n765        “… with 93% of that power being renewable.”       1.0    False   \n766  ”Global warming started to run out of steam ov...       1.0    False   \n\n                                            embeddings  cluster  \\\n0    [1.2157729864120483, 9.680440902709961, 4.9769...       -1   \n1    [1.171416997909546, 9.694263458251953, 5.00755...       12   \n2    [1.3434456586837769, 9.884533882141113, 4.8615...       -1   \n3    [1.3134266138076782, 9.653348922729492, 4.9968...       -1   \n4    [1.3298743963241577, 9.775714874267578, 4.9629...       -1   \n..                                                 ...      ...   \n762  [1.2670339345932007, 9.894373893737793, 5.1771...       -1   \n763  [1.06821870803833, 9.75129222869873, 5.0348243...       13   \n764  [1.309965968132019, 9.540392875671387, 4.71548...       -1   \n765  [1.2300374507904053, 9.86239242553711, 5.00887...       -1   \n766  [1.152709722518921, 9.716227531433105, 5.03844...       13   \n\n     predicted_veracity  num_correct_in_cluster  total_in_cluster  \\\n0                   4.0                     470               569   \n1                   1.0                      26                26   \n2                   4.0                     470               569   \n3                   4.0                     470               569   \n4                   4.0                     470               569   \n..                  ...                     ...               ...   \n762                 1.0                     470               569   \n763                 1.0                      15                15   \n764                 3.0                     470               569   \n765                 1.0                     470               569   \n766                 1.0                      15                15   \n\n     cluster_accuracy  \n0            0.826011  \n1            1.000000  \n2            0.826011  \n3            0.826011  \n4            0.826011  \n..                ...  \n762          0.826011  \n763          1.000000  \n764          0.826011  \n765          0.826011  \n766          1.000000  \n\n[767 rows x 9 columns]",
      "text/html": "<div>\n<style scoped>\n    .dataframe tbody tr th:only-of-type {\n        vertical-align: middle;\n    }\n\n    .dataframe tbody tr th {\n        vertical-align: top;\n    }\n\n    .dataframe thead th {\n        text-align: right;\n    }\n</style>\n<table border=\"1\" class=\"dataframe\">\n  <thead>\n    <tr style=\"text-align: right;\">\n      <th></th>\n      <th>text</th>\n      <th>veracity</th>\n      <th>predict</th>\n      <th>embeddings</th>\n      <th>cluster</th>\n      <th>predicted_veracity</th>\n      <th>num_correct_in_cluster</th>\n      <th>total_in_cluster</th>\n      <th>cluster_accuracy</th>\n    </tr>\n  </thead>\n  <tbody>\n    <tr>\n      <th>0</th>\n      <td>Said of the National Climate Assessment: \"And ...</td>\n      <td>1.0</td>\n      <td>True</td>\n      <td>[1.2157729864120483, 9.680440902709961, 4.9769...</td>\n      <td>-1</td>\n      <td>4.0</td>\n      <td>470</td>\n      <td>569</td>\n      <td>0.826011</td>\n    </tr>\n    <tr>\n      <th>1</th>\n      <td>Greenhouse effect is a hoax, global warming un...</td>\n      <td>1.0</td>\n      <td>True</td>\n      <td>[1.171416997909546, 9.694263458251953, 5.00755...</td>\n      <td>12</td>\n      <td>1.0</td>\n      <td>26</td>\n      <td>26</td>\n      <td>1.000000</td>\n    </tr>\n    <tr>\n      <th>2</th>\n      <td>Spain’s minister for ecological transition and...</td>\n      <td>1.0</td>\n      <td>True</td>\n      <td>[1.3434456586837769, 9.884533882141113, 4.8615...</td>\n      <td>-1</td>\n      <td>4.0</td>\n      <td>470</td>\n      <td>569</td>\n      <td>0.826011</td>\n    </tr>\n    <tr>\n      <th>3</th>\n      <td>\"30,000 scientists have come forward confirmin...</td>\n      <td>1.0</td>\n      <td>True</td>\n      <td>[1.3134266138076782, 9.653348922729492, 4.9968...</td>\n      <td>-1</td>\n      <td>4.0</td>\n      <td>470</td>\n      <td>569</td>\n      <td>0.826011</td>\n    </tr>\n    <tr>\n      <th>4</th>\n      <td>Sky News published an article that says vaccin...</td>\n      <td>1.0</td>\n      <td>True</td>\n      <td>[1.3298743963241577, 9.775714874267578, 4.9629...</td>\n      <td>-1</td>\n      <td>4.0</td>\n      <td>470</td>\n      <td>569</td>\n      <td>0.826011</td>\n    </tr>\n    <tr>\n      <th>...</th>\n      <td>...</td>\n      <td>...</td>\n      <td>...</td>\n      <td>...</td>\n      <td>...</td>\n      <td>...</td>\n      <td>...</td>\n      <td>...</td>\n      <td>...</td>\n    </tr>\n    <tr>\n      <th>762</th>\n      <td>“The reality is more people are dying of bad c...</td>\n      <td>1.0</td>\n      <td>False</td>\n      <td>[1.2670339345932007, 9.894373893737793, 5.1771...</td>\n      <td>-1</td>\n      <td>1.0</td>\n      <td>470</td>\n      <td>569</td>\n      <td>0.826011</td>\n    </tr>\n    <tr>\n      <th>763</th>\n      <td>“We have been cooling down for the past 4000 y...</td>\n      <td>1.0</td>\n      <td>False</td>\n      <td>[1.06821870803833, 9.75129222869873, 5.0348243...</td>\n      <td>13</td>\n      <td>1.0</td>\n      <td>15</td>\n      <td>15</td>\n      <td>1.000000</td>\n    </tr>\n    <tr>\n      <th>764</th>\n      <td>“… 600 million Africans lack access to electri...</td>\n      <td>3.0</td>\n      <td>False</td>\n      <td>[1.309965968132019, 9.540392875671387, 4.71548...</td>\n      <td>-1</td>\n      <td>3.0</td>\n      <td>470</td>\n      <td>569</td>\n      <td>0.826011</td>\n    </tr>\n    <tr>\n      <th>765</th>\n      <td>“… with 93% of that power being renewable.”</td>\n      <td>1.0</td>\n      <td>False</td>\n      <td>[1.2300374507904053, 9.86239242553711, 5.00887...</td>\n      <td>-1</td>\n      <td>1.0</td>\n      <td>470</td>\n      <td>569</td>\n      <td>0.826011</td>\n    </tr>\n    <tr>\n      <th>766</th>\n      <td>”Global warming started to run out of steam ov...</td>\n      <td>1.0</td>\n      <td>False</td>\n      <td>[1.152709722518921, 9.716227531433105, 5.03844...</td>\n      <td>13</td>\n      <td>1.0</td>\n      <td>15</td>\n      <td>15</td>\n      <td>1.000000</td>\n    </tr>\n  </tbody>\n</table>\n<p>767 rows × 9 columns</p>\n</div>"
     },
     "execution_count": 38,
     "metadata": {},
     "output_type": "execute_result"
    }
   ],
   "source": [
    "cluster_df"
   ],
   "metadata": {
    "collapsed": false,
    "ExecuteTime": {
     "end_time": "2024-05-12T19:48:22.919288Z",
     "start_time": "2024-05-12T19:48:22.817163Z"
    }
   },
   "id": "fba8be1fa3bda21"
  },
  {
   "cell_type": "code",
   "execution_count": 10,
   "outputs": [
    {
     "data": {
      "text/plain": "                                                    Text  veracity  predict  \\\n54     Even climate scientists who believe that man i...       1.0     True   \n239    in a time when CO2 emissions were rising stron...       1.0     True   \n248    We know this because observations over the las...       1.0     True   \n271    The climate alarmists, says Carlin, have now b...       1.0     True   \n286    However, proof of global warming is not proof ...       1.0     True   \n...                                                  ...       ...      ...   \n17429  The WHO conservatively projects 250 000 additi...       3.0    False   \n18408  The public does not seem to be buying it eithe...       1.0    False   \n19026  These illnesses do not cost the U.S. health ca...       1.0    False   \n19238  This build-up of forest carbon stocks, in the ...       3.0    False   \n20225  You cant write a novel about a global disaster...       1.0    False   \n\n                                              embeddings  cluster  \\\n54     [16.75649642944336, 7.302152633666992, 8.66819...       78   \n239    [16.768678665161133, 7.143996238708496, 8.9121...       15   \n248    [16.84231948852539, 7.284847259521484, 8.87673...      153   \n271    [16.71180534362793, 7.290363788604736, 8.84081...       15   \n286    [16.63208770751953, 7.000495910644531, 9.13333...      142   \n...                                                  ...      ...   \n17429  [15.916265487670898, 7.806142330169678, 9.0867...      109   \n18408  [16.686992645263672, 7.437294960021973, 8.3894...      199   \n19026  [15.955400466918945, 7.791223526000977, 9.0949...      109   \n19238  [14.952432632446289, 7.287282466888428, 10.111...       35   \n20225  [15.948162078857422, 7.723169803619385, 9.0304...      104   \n\n       predicted_veracity  num_correct_in_cluster  total_in_cluster  \\\n54                    3.0                      12                28   \n239                   3.0                      12                29   \n248                   3.0                      12                21   \n271                   3.0                      12                29   \n286                   3.0                      11                19   \n...                   ...                     ...               ...   \n17429                 3.0                      10                18   \n18408                 1.0                      19                36   \n19026                 1.0                      10                18   \n19238                 3.0                       9                18   \n20225                 1.0                      10                18   \n\n       cluster_accuracy Synthetic  \n54             0.428571     False  \n239            0.413793     False  \n248            0.571429     False  \n271            0.413793     False  \n286            0.578947     False  \n...                 ...       ...  \n17429          0.555556     False  \n18408          0.527778     False  \n19026          0.555556      True  \n19238          0.500000      True  \n20225          0.555556     False  \n\n[284 rows x 10 columns]",
      "text/html": "<div>\n<style scoped>\n    .dataframe tbody tr th:only-of-type {\n        vertical-align: middle;\n    }\n\n    .dataframe tbody tr th {\n        vertical-align: top;\n    }\n\n    .dataframe thead th {\n        text-align: right;\n    }\n</style>\n<table border=\"1\" class=\"dataframe\">\n  <thead>\n    <tr style=\"text-align: right;\">\n      <th></th>\n      <th>Text</th>\n      <th>veracity</th>\n      <th>predict</th>\n      <th>embeddings</th>\n      <th>cluster</th>\n      <th>predicted_veracity</th>\n      <th>num_correct_in_cluster</th>\n      <th>total_in_cluster</th>\n      <th>cluster_accuracy</th>\n      <th>Synthetic</th>\n    </tr>\n  </thead>\n  <tbody>\n    <tr>\n      <th>54</th>\n      <td>Even climate scientists who believe that man i...</td>\n      <td>1.0</td>\n      <td>True</td>\n      <td>[16.75649642944336, 7.302152633666992, 8.66819...</td>\n      <td>78</td>\n      <td>3.0</td>\n      <td>12</td>\n      <td>28</td>\n      <td>0.428571</td>\n      <td>False</td>\n    </tr>\n    <tr>\n      <th>239</th>\n      <td>in a time when CO2 emissions were rising stron...</td>\n      <td>1.0</td>\n      <td>True</td>\n      <td>[16.768678665161133, 7.143996238708496, 8.9121...</td>\n      <td>15</td>\n      <td>3.0</td>\n      <td>12</td>\n      <td>29</td>\n      <td>0.413793</td>\n      <td>False</td>\n    </tr>\n    <tr>\n      <th>248</th>\n      <td>We know this because observations over the las...</td>\n      <td>1.0</td>\n      <td>True</td>\n      <td>[16.84231948852539, 7.284847259521484, 8.87673...</td>\n      <td>153</td>\n      <td>3.0</td>\n      <td>12</td>\n      <td>21</td>\n      <td>0.571429</td>\n      <td>False</td>\n    </tr>\n    <tr>\n      <th>271</th>\n      <td>The climate alarmists, says Carlin, have now b...</td>\n      <td>1.0</td>\n      <td>True</td>\n      <td>[16.71180534362793, 7.290363788604736, 8.84081...</td>\n      <td>15</td>\n      <td>3.0</td>\n      <td>12</td>\n      <td>29</td>\n      <td>0.413793</td>\n      <td>False</td>\n    </tr>\n    <tr>\n      <th>286</th>\n      <td>However, proof of global warming is not proof ...</td>\n      <td>1.0</td>\n      <td>True</td>\n      <td>[16.63208770751953, 7.000495910644531, 9.13333...</td>\n      <td>142</td>\n      <td>3.0</td>\n      <td>11</td>\n      <td>19</td>\n      <td>0.578947</td>\n      <td>False</td>\n    </tr>\n    <tr>\n      <th>...</th>\n      <td>...</td>\n      <td>...</td>\n      <td>...</td>\n      <td>...</td>\n      <td>...</td>\n      <td>...</td>\n      <td>...</td>\n      <td>...</td>\n      <td>...</td>\n      <td>...</td>\n    </tr>\n    <tr>\n      <th>17429</th>\n      <td>The WHO conservatively projects 250 000 additi...</td>\n      <td>3.0</td>\n      <td>False</td>\n      <td>[15.916265487670898, 7.806142330169678, 9.0867...</td>\n      <td>109</td>\n      <td>3.0</td>\n      <td>10</td>\n      <td>18</td>\n      <td>0.555556</td>\n      <td>False</td>\n    </tr>\n    <tr>\n      <th>18408</th>\n      <td>The public does not seem to be buying it eithe...</td>\n      <td>1.0</td>\n      <td>False</td>\n      <td>[16.686992645263672, 7.437294960021973, 8.3894...</td>\n      <td>199</td>\n      <td>1.0</td>\n      <td>19</td>\n      <td>36</td>\n      <td>0.527778</td>\n      <td>False</td>\n    </tr>\n    <tr>\n      <th>19026</th>\n      <td>These illnesses do not cost the U.S. health ca...</td>\n      <td>1.0</td>\n      <td>False</td>\n      <td>[15.955400466918945, 7.791223526000977, 9.0949...</td>\n      <td>109</td>\n      <td>1.0</td>\n      <td>10</td>\n      <td>18</td>\n      <td>0.555556</td>\n      <td>True</td>\n    </tr>\n    <tr>\n      <th>19238</th>\n      <td>This build-up of forest carbon stocks, in the ...</td>\n      <td>3.0</td>\n      <td>False</td>\n      <td>[14.952432632446289, 7.287282466888428, 10.111...</td>\n      <td>35</td>\n      <td>3.0</td>\n      <td>9</td>\n      <td>18</td>\n      <td>0.500000</td>\n      <td>True</td>\n    </tr>\n    <tr>\n      <th>20225</th>\n      <td>You cant write a novel about a global disaster...</td>\n      <td>1.0</td>\n      <td>False</td>\n      <td>[15.948162078857422, 7.723169803619385, 9.0304...</td>\n      <td>104</td>\n      <td>1.0</td>\n      <td>10</td>\n      <td>18</td>\n      <td>0.555556</td>\n      <td>False</td>\n    </tr>\n  </tbody>\n</table>\n<p>284 rows × 10 columns</p>\n</div>"
     },
     "execution_count": 10,
     "metadata": {},
     "output_type": "execute_result"
    }
   ],
   "source": [
    "# Filter out 4 from cluster_df\n",
    "cluster_df = cluster_df[cluster_df['predicted_veracity'] != 4.0]\n",
    "cluster_df = cluster_df[cluster_df['predicted_veracity'] != 5.0]\n",
    "cluster_df = cluster_df[cluster_df['cluster'] != -1]\n",
    "# Filter cluster_df to be the first row per cluster\n",
    "clusters_unique = cluster_df.groupby('cluster').first().reset_index()\n",
    "# Calculate the cutoff for the top 50% of clusters by count\n",
    "cutoff = clusters_unique['total_in_cluster'].quantile(0.5)\n",
    "# Filter the clusters that are in the top 50%\n",
    "top_clusters = clusters_unique[clusters_unique['total_in_cluster'] > cutoff]\n",
    "# Get the top 10 lowest 'cluster_accuracy' clusters\n",
    "top_clusters = top_clusters.nsmallest(10, 'cluster_accuracy', keep='all')\n",
    "# Filter cluster_df to be the top clusters\n",
    "top_cluster_df = cluster_df[cluster_df['cluster'].isin(top_clusters['cluster'])]\n",
    "top_cluster_df"
   ],
   "metadata": {
    "collapsed": false,
    "ExecuteTime": {
     "end_time": "2024-05-07T14:37:46.567395Z",
     "start_time": "2024-05-07T14:37:46.475196Z"
    }
   },
   "id": "895c3aaedb312ec"
  },
  {
   "cell_type": "code",
   "execution_count": 11,
   "outputs": [
    {
     "data": {
      "text/plain": "17.0"
     },
     "execution_count": 11,
     "metadata": {},
     "output_type": "execute_result"
    }
   ],
   "source": [
    "cutoff"
   ],
   "metadata": {
    "collapsed": false,
    "ExecuteTime": {
     "end_time": "2024-05-07T14:37:46.612314Z",
     "start_time": "2024-05-07T14:37:46.550505Z"
    }
   },
   "id": "3ee364b6222c6ccb"
  },
  {
   "cell_type": "code",
   "execution_count": 42,
   "outputs": [
    {
     "data": {
      "text/plain": "10"
     },
     "execution_count": 42,
     "metadata": {},
     "output_type": "execute_result"
    }
   ],
   "source": [
    "# Count number of cluster in top_cluster_df\n",
    "top_cluster_df['cluster'].nunique()"
   ],
   "metadata": {
    "collapsed": false,
    "ExecuteTime": {
     "end_time": "2024-05-02T19:56:10.502602Z",
     "start_time": "2024-05-02T19:56:10.384950Z"
    }
   },
   "id": "f8bdbcbc6f5649aa"
  },
  {
   "cell_type": "code",
   "execution_count": 57,
   "outputs": [
    {
     "name": "stdout",
     "output_type": "stream",
     "text": [
      "Fitting 2 folds for each of 1 candidates, totalling 2 fits\n",
      "Number of clusters: 2\n",
      "Number of clusters: 2\n",
      "Number of clusters: 2\n"
     ]
    },
    {
     "data": {
      "text/plain": "GridSearchCV(cv=2,\n             estimator=<ClusterAndPredict.ClusterAndPredict.ClusterAndPredict object at 0x37b789350>,\n             param_grid={'claim_column_name': ['Text'], 'k': [15],\n                         'min_cluster_size': [2], 'min_dist': [0],\n                         'min_samples': [1], 'n_neighbors': [439],\n                         'no_umap': [False], 'num_components': [100],\n                         'random_seed': [True],\n                         'supervised_label_column_name': ['Numerical Rating'],\n                         'supervised_umap': [True], 'use_weightage': [True],\n                         'veracity_column_name': ['Numerical Rating']},\n             verbose=1)",
      "text/html": "<style>#sk-container-id-5 {\n  /* Definition of color scheme common for light and dark mode */\n  --sklearn-color-text: black;\n  --sklearn-color-line: gray;\n  /* Definition of color scheme for unfitted estimators */\n  --sklearn-color-unfitted-level-0: #fff5e6;\n  --sklearn-color-unfitted-level-1: #f6e4d2;\n  --sklearn-color-unfitted-level-2: #ffe0b3;\n  --sklearn-color-unfitted-level-3: chocolate;\n  /* Definition of color scheme for fitted estimators */\n  --sklearn-color-fitted-level-0: #f0f8ff;\n  --sklearn-color-fitted-level-1: #d4ebff;\n  --sklearn-color-fitted-level-2: #b3dbfd;\n  --sklearn-color-fitted-level-3: cornflowerblue;\n\n  /* Specific color for light theme */\n  --sklearn-color-text-on-default-background: var(--sg-text-color, var(--theme-code-foreground, var(--jp-content-font-color1, black)));\n  --sklearn-color-background: var(--sg-background-color, var(--theme-background, var(--jp-layout-color0, white)));\n  --sklearn-color-border-box: var(--sg-text-color, var(--theme-code-foreground, var(--jp-content-font-color1, black)));\n  --sklearn-color-icon: #696969;\n\n  @media (prefers-color-scheme: dark) {\n    /* Redefinition of color scheme for dark theme */\n    --sklearn-color-text-on-default-background: var(--sg-text-color, var(--theme-code-foreground, var(--jp-content-font-color1, white)));\n    --sklearn-color-background: var(--sg-background-color, var(--theme-background, var(--jp-layout-color0, #111)));\n    --sklearn-color-border-box: var(--sg-text-color, var(--theme-code-foreground, var(--jp-content-font-color1, white)));\n    --sklearn-color-icon: #878787;\n  }\n}\n\n#sk-container-id-5 {\n  color: var(--sklearn-color-text);\n}\n\n#sk-container-id-5 pre {\n  padding: 0;\n}\n\n#sk-container-id-5 input.sk-hidden--visually {\n  border: 0;\n  clip: rect(1px 1px 1px 1px);\n  clip: rect(1px, 1px, 1px, 1px);\n  height: 1px;\n  margin: -1px;\n  overflow: hidden;\n  padding: 0;\n  position: absolute;\n  width: 1px;\n}\n\n#sk-container-id-5 div.sk-dashed-wrapped {\n  border: 1px dashed var(--sklearn-color-line);\n  margin: 0 0.4em 0.5em 0.4em;\n  box-sizing: border-box;\n  padding-bottom: 0.4em;\n  background-color: var(--sklearn-color-background);\n}\n\n#sk-container-id-5 div.sk-container {\n  /* jupyter's `normalize.less` sets `[hidden] { display: none; }`\n     but bootstrap.min.css set `[hidden] { display: none !important; }`\n     so we also need the `!important` here to be able to override the\n     default hidden behavior on the sphinx rendered scikit-learn.org.\n     See: https://github.com/scikit-learn/scikit-learn/issues/21755 */\n  display: inline-block !important;\n  position: relative;\n}\n\n#sk-container-id-5 div.sk-text-repr-fallback {\n  display: none;\n}\n\ndiv.sk-parallel-item,\ndiv.sk-serial,\ndiv.sk-item {\n  /* draw centered vertical line to link estimators */\n  background-image: linear-gradient(var(--sklearn-color-text-on-default-background), var(--sklearn-color-text-on-default-background));\n  background-size: 2px 100%;\n  background-repeat: no-repeat;\n  background-position: center center;\n}\n\n/* Parallel-specific style estimator block */\n\n#sk-container-id-5 div.sk-parallel-item::after {\n  content: \"\";\n  width: 100%;\n  border-bottom: 2px solid var(--sklearn-color-text-on-default-background);\n  flex-grow: 1;\n}\n\n#sk-container-id-5 div.sk-parallel {\n  display: flex;\n  align-items: stretch;\n  justify-content: center;\n  background-color: var(--sklearn-color-background);\n  position: relative;\n}\n\n#sk-container-id-5 div.sk-parallel-item {\n  display: flex;\n  flex-direction: column;\n}\n\n#sk-container-id-5 div.sk-parallel-item:first-child::after {\n  align-self: flex-end;\n  width: 50%;\n}\n\n#sk-container-id-5 div.sk-parallel-item:last-child::after {\n  align-self: flex-start;\n  width: 50%;\n}\n\n#sk-container-id-5 div.sk-parallel-item:only-child::after {\n  width: 0;\n}\n\n/* Serial-specific style estimator block */\n\n#sk-container-id-5 div.sk-serial {\n  display: flex;\n  flex-direction: column;\n  align-items: center;\n  background-color: var(--sklearn-color-background);\n  padding-right: 1em;\n  padding-left: 1em;\n}\n\n\n/* Toggleable style: style used for estimator/Pipeline/ColumnTransformer box that is\nclickable and can be expanded/collapsed.\n- Pipeline and ColumnTransformer use this feature and define the default style\n- Estimators will overwrite some part of the style using the `sk-estimator` class\n*/\n\n/* Pipeline and ColumnTransformer style (default) */\n\n#sk-container-id-5 div.sk-toggleable {\n  /* Default theme specific background. It is overwritten whether we have a\n  specific estimator or a Pipeline/ColumnTransformer */\n  background-color: var(--sklearn-color-background);\n}\n\n/* Toggleable label */\n#sk-container-id-5 label.sk-toggleable__label {\n  cursor: pointer;\n  display: block;\n  width: 100%;\n  margin-bottom: 0;\n  padding: 0.5em;\n  box-sizing: border-box;\n  text-align: center;\n}\n\n#sk-container-id-5 label.sk-toggleable__label-arrow:before {\n  /* Arrow on the left of the label */\n  content: \"▸\";\n  float: left;\n  margin-right: 0.25em;\n  color: var(--sklearn-color-icon);\n}\n\n#sk-container-id-5 label.sk-toggleable__label-arrow:hover:before {\n  color: var(--sklearn-color-text);\n}\n\n/* Toggleable content - dropdown */\n\n#sk-container-id-5 div.sk-toggleable__content {\n  max-height: 0;\n  max-width: 0;\n  overflow: hidden;\n  text-align: left;\n  /* unfitted */\n  background-color: var(--sklearn-color-unfitted-level-0);\n}\n\n#sk-container-id-5 div.sk-toggleable__content.fitted {\n  /* fitted */\n  background-color: var(--sklearn-color-fitted-level-0);\n}\n\n#sk-container-id-5 div.sk-toggleable__content pre {\n  margin: 0.2em;\n  border-radius: 0.25em;\n  color: var(--sklearn-color-text);\n  /* unfitted */\n  background-color: var(--sklearn-color-unfitted-level-0);\n}\n\n#sk-container-id-5 div.sk-toggleable__content.fitted pre {\n  /* unfitted */\n  background-color: var(--sklearn-color-fitted-level-0);\n}\n\n#sk-container-id-5 input.sk-toggleable__control:checked~div.sk-toggleable__content {\n  /* Expand drop-down */\n  max-height: 200px;\n  max-width: 100%;\n  overflow: auto;\n}\n\n#sk-container-id-5 input.sk-toggleable__control:checked~label.sk-toggleable__label-arrow:before {\n  content: \"▾\";\n}\n\n/* Pipeline/ColumnTransformer-specific style */\n\n#sk-container-id-5 div.sk-label input.sk-toggleable__control:checked~label.sk-toggleable__label {\n  color: var(--sklearn-color-text);\n  background-color: var(--sklearn-color-unfitted-level-2);\n}\n\n#sk-container-id-5 div.sk-label.fitted input.sk-toggleable__control:checked~label.sk-toggleable__label {\n  background-color: var(--sklearn-color-fitted-level-2);\n}\n\n/* Estimator-specific style */\n\n/* Colorize estimator box */\n#sk-container-id-5 div.sk-estimator input.sk-toggleable__control:checked~label.sk-toggleable__label {\n  /* unfitted */\n  background-color: var(--sklearn-color-unfitted-level-2);\n}\n\n#sk-container-id-5 div.sk-estimator.fitted input.sk-toggleable__control:checked~label.sk-toggleable__label {\n  /* fitted */\n  background-color: var(--sklearn-color-fitted-level-2);\n}\n\n#sk-container-id-5 div.sk-label label.sk-toggleable__label,\n#sk-container-id-5 div.sk-label label {\n  /* The background is the default theme color */\n  color: var(--sklearn-color-text-on-default-background);\n}\n\n/* On hover, darken the color of the background */\n#sk-container-id-5 div.sk-label:hover label.sk-toggleable__label {\n  color: var(--sklearn-color-text);\n  background-color: var(--sklearn-color-unfitted-level-2);\n}\n\n/* Label box, darken color on hover, fitted */\n#sk-container-id-5 div.sk-label.fitted:hover label.sk-toggleable__label.fitted {\n  color: var(--sklearn-color-text);\n  background-color: var(--sklearn-color-fitted-level-2);\n}\n\n/* Estimator label */\n\n#sk-container-id-5 div.sk-label label {\n  font-family: monospace;\n  font-weight: bold;\n  display: inline-block;\n  line-height: 1.2em;\n}\n\n#sk-container-id-5 div.sk-label-container {\n  text-align: center;\n}\n\n/* Estimator-specific */\n#sk-container-id-5 div.sk-estimator {\n  font-family: monospace;\n  border: 1px dotted var(--sklearn-color-border-box);\n  border-radius: 0.25em;\n  box-sizing: border-box;\n  margin-bottom: 0.5em;\n  /* unfitted */\n  background-color: var(--sklearn-color-unfitted-level-0);\n}\n\n#sk-container-id-5 div.sk-estimator.fitted {\n  /* fitted */\n  background-color: var(--sklearn-color-fitted-level-0);\n}\n\n/* on hover */\n#sk-container-id-5 div.sk-estimator:hover {\n  /* unfitted */\n  background-color: var(--sklearn-color-unfitted-level-2);\n}\n\n#sk-container-id-5 div.sk-estimator.fitted:hover {\n  /* fitted */\n  background-color: var(--sklearn-color-fitted-level-2);\n}\n\n/* Specification for estimator info (e.g. \"i\" and \"?\") */\n\n/* Common style for \"i\" and \"?\" */\n\n.sk-estimator-doc-link,\na:link.sk-estimator-doc-link,\na:visited.sk-estimator-doc-link {\n  float: right;\n  font-size: smaller;\n  line-height: 1em;\n  font-family: monospace;\n  background-color: var(--sklearn-color-background);\n  border-radius: 1em;\n  height: 1em;\n  width: 1em;\n  text-decoration: none !important;\n  margin-left: 1ex;\n  /* unfitted */\n  border: var(--sklearn-color-unfitted-level-1) 1pt solid;\n  color: var(--sklearn-color-unfitted-level-1);\n}\n\n.sk-estimator-doc-link.fitted,\na:link.sk-estimator-doc-link.fitted,\na:visited.sk-estimator-doc-link.fitted {\n  /* fitted */\n  border: var(--sklearn-color-fitted-level-1) 1pt solid;\n  color: var(--sklearn-color-fitted-level-1);\n}\n\n/* On hover */\ndiv.sk-estimator:hover .sk-estimator-doc-link:hover,\n.sk-estimator-doc-link:hover,\ndiv.sk-label-container:hover .sk-estimator-doc-link:hover,\n.sk-estimator-doc-link:hover {\n  /* unfitted */\n  background-color: var(--sklearn-color-unfitted-level-3);\n  color: var(--sklearn-color-background);\n  text-decoration: none;\n}\n\ndiv.sk-estimator.fitted:hover .sk-estimator-doc-link.fitted:hover,\n.sk-estimator-doc-link.fitted:hover,\ndiv.sk-label-container:hover .sk-estimator-doc-link.fitted:hover,\n.sk-estimator-doc-link.fitted:hover {\n  /* fitted */\n  background-color: var(--sklearn-color-fitted-level-3);\n  color: var(--sklearn-color-background);\n  text-decoration: none;\n}\n\n/* Span, style for the box shown on hovering the info icon */\n.sk-estimator-doc-link span {\n  display: none;\n  z-index: 9999;\n  position: relative;\n  font-weight: normal;\n  right: .2ex;\n  padding: .5ex;\n  margin: .5ex;\n  width: min-content;\n  min-width: 20ex;\n  max-width: 50ex;\n  color: var(--sklearn-color-text);\n  box-shadow: 2pt 2pt 4pt #999;\n  /* unfitted */\n  background: var(--sklearn-color-unfitted-level-0);\n  border: .5pt solid var(--sklearn-color-unfitted-level-3);\n}\n\n.sk-estimator-doc-link.fitted span {\n  /* fitted */\n  background: var(--sklearn-color-fitted-level-0);\n  border: var(--sklearn-color-fitted-level-3);\n}\n\n.sk-estimator-doc-link:hover span {\n  display: block;\n}\n\n/* \"?\"-specific style due to the `<a>` HTML tag */\n\n#sk-container-id-5 a.estimator_doc_link {\n  float: right;\n  font-size: 1rem;\n  line-height: 1em;\n  font-family: monospace;\n  background-color: var(--sklearn-color-background);\n  border-radius: 1rem;\n  height: 1rem;\n  width: 1rem;\n  text-decoration: none;\n  /* unfitted */\n  color: var(--sklearn-color-unfitted-level-1);\n  border: var(--sklearn-color-unfitted-level-1) 1pt solid;\n}\n\n#sk-container-id-5 a.estimator_doc_link.fitted {\n  /* fitted */\n  border: var(--sklearn-color-fitted-level-1) 1pt solid;\n  color: var(--sklearn-color-fitted-level-1);\n}\n\n/* On hover */\n#sk-container-id-5 a.estimator_doc_link:hover {\n  /* unfitted */\n  background-color: var(--sklearn-color-unfitted-level-3);\n  color: var(--sklearn-color-background);\n  text-decoration: none;\n}\n\n#sk-container-id-5 a.estimator_doc_link.fitted:hover {\n  /* fitted */\n  background-color: var(--sklearn-color-fitted-level-3);\n}\n</style><div id=\"sk-container-id-5\" class=\"sk-top-container\"><div class=\"sk-text-repr-fallback\"><pre>GridSearchCV(cv=2,\n             estimator=&lt;ClusterAndPredict.ClusterAndPredict.ClusterAndPredict object at 0x37b789350&gt;,\n             param_grid={&#x27;claim_column_name&#x27;: [&#x27;Text&#x27;], &#x27;k&#x27;: [15],\n                         &#x27;min_cluster_size&#x27;: [2], &#x27;min_dist&#x27;: [0],\n                         &#x27;min_samples&#x27;: [1], &#x27;n_neighbors&#x27;: [439],\n                         &#x27;no_umap&#x27;: [False], &#x27;num_components&#x27;: [100],\n                         &#x27;random_seed&#x27;: [True],\n                         &#x27;supervised_label_column_name&#x27;: [&#x27;Numerical Rating&#x27;],\n                         &#x27;supervised_umap&#x27;: [True], &#x27;use_weightage&#x27;: [True],\n                         &#x27;veracity_column_name&#x27;: [&#x27;Numerical Rating&#x27;]},\n             verbose=1)</pre><b>In a Jupyter environment, please rerun this cell to show the HTML representation or trust the notebook. <br />On GitHub, the HTML representation is unable to render, please try loading this page with nbviewer.org.</b></div><div class=\"sk-container\" hidden><div class=\"sk-item sk-dashed-wrapped\"><div class=\"sk-label-container\"><div class=\"sk-label fitted sk-toggleable\"><input class=\"sk-toggleable__control sk-hidden--visually\" id=\"sk-estimator-id-13\" type=\"checkbox\" ><label for=\"sk-estimator-id-13\" class=\"sk-toggleable__label fitted sk-toggleable__label-arrow fitted\">&nbsp;&nbsp;GridSearchCV<a class=\"sk-estimator-doc-link fitted\" rel=\"noreferrer\" target=\"_blank\" href=\"https://scikit-learn.org/1.4/modules/generated/sklearn.model_selection.GridSearchCV.html\">?<span>Documentation for GridSearchCV</span></a><span class=\"sk-estimator-doc-link fitted\">i<span>Fitted</span></span></label><div class=\"sk-toggleable__content fitted\"><pre>GridSearchCV(cv=2,\n             estimator=&lt;ClusterAndPredict.ClusterAndPredict.ClusterAndPredict object at 0x37b789350&gt;,\n             param_grid={&#x27;claim_column_name&#x27;: [&#x27;Text&#x27;], &#x27;k&#x27;: [15],\n                         &#x27;min_cluster_size&#x27;: [2], &#x27;min_dist&#x27;: [0],\n                         &#x27;min_samples&#x27;: [1], &#x27;n_neighbors&#x27;: [439],\n                         &#x27;no_umap&#x27;: [False], &#x27;num_components&#x27;: [100],\n                         &#x27;random_seed&#x27;: [True],\n                         &#x27;supervised_label_column_name&#x27;: [&#x27;Numerical Rating&#x27;],\n                         &#x27;supervised_umap&#x27;: [True], &#x27;use_weightage&#x27;: [True],\n                         &#x27;veracity_column_name&#x27;: [&#x27;Numerical Rating&#x27;]},\n             verbose=1)</pre></div> </div></div><div class=\"sk-parallel\"><div class=\"sk-parallel-item\"><div class=\"sk-item\"><div class=\"sk-label-container\"><div class=\"sk-label fitted sk-toggleable\"><input class=\"sk-toggleable__control sk-hidden--visually\" id=\"sk-estimator-id-14\" type=\"checkbox\" ><label for=\"sk-estimator-id-14\" class=\"sk-toggleable__label fitted sk-toggleable__label-arrow fitted\">estimator: ClusterAndPredict</label><div class=\"sk-toggleable__content fitted\"><pre>&lt;ClusterAndPredict.ClusterAndPredict.ClusterAndPredict object at 0x37b789350&gt;</pre></div> </div></div><div class=\"sk-serial\"><div class=\"sk-item\"><div class=\"sk-estimator fitted sk-toggleable\"><input class=\"sk-toggleable__control sk-hidden--visually\" id=\"sk-estimator-id-15\" type=\"checkbox\" ><label for=\"sk-estimator-id-15\" class=\"sk-toggleable__label fitted sk-toggleable__label-arrow fitted\">ClusterAndPredict</label><div class=\"sk-toggleable__content fitted\"><pre>&lt;ClusterAndPredict.ClusterAndPredict.ClusterAndPredict object at 0x37b789350&gt;</pre></div> </div></div></div></div></div></div></div></div></div>"
     },
     "execution_count": 57,
     "metadata": {},
     "output_type": "execute_result"
    }
   ],
   "source": [
    "cluster_predict_object = ClusterAndPredict(train_df=train_df)\n",
    "# Parallelism with jobs doesnt work\n",
    "clf = GridSearchCV(cluster_predict_object, parameters, verbose=1, cv=2, refit=True)\n",
    "clf.fit(test_df['Text'].tolist(), test_df['Numerical Rating'].tolist())"
   ],
   "metadata": {
    "collapsed": false,
    "ExecuteTime": {
     "end_time": "2024-04-04T22:04:51.112508Z",
     "start_time": "2024-04-04T22:03:49.000076Z"
    }
   },
   "id": "bc16603aecb160cc"
  },
  {
   "cell_type": "code",
   "execution_count": 59,
   "outputs": [
    {
     "name": "stdout",
     "output_type": "stream",
     "text": [
      "{'claim_column_name': 'Text', 'k': 15, 'min_cluster_size': 2, 'min_dist': 0, 'min_samples': 1, 'n_neighbors': 439, 'no_umap': False, 'num_components': 100, 'random_seed': True, 'supervised_label_column_name': 'Numerical Rating', 'supervised_umap': True, 'use_weightage': True, 'veracity_column_name': 'Numerical Rating'}\n",
      "0.4943181818181818\n",
      "[1, 1, 1, 1, 1, 1, 1, 1, 1, 1, 1, 1, 1, 1, 1, 1, 1, 1, 1, 1, 1, 1, 1, 1, 1, 1, 1, 1, 1, 1, 1, 1, 1, 1, 1, 1, 1, 1, 1, 1, 1, 1, 1, 1, 3, 3, 3, 3, 3, 3, 3, 3, 3, 3, 3, 3, 3, 3, 3, 3, 3, 3, 3, 3, 3, 3, 3, 3, 3, 3, 3, 3, 3, 3, 3, 3, 3, 3, 3, 3, 3, 3, 3, 3, 3, 3, 3, 3]\n",
      "[1, 1, 1, 1, 1, 1, 1, 1, 1, 1, 1, 1, 1, 1, 1, 1, 1, 1, 1, 1, 1, 1, 1, 1, 1, 1, 1, 1, 1, 1, 1, 1, 1, 1, 1, 1, 1, 1, 1, 1, 1, 1, 1, 1, 3, 3, 3, 3, 3, 3, 3, 3, 3, 3, 3, 3, 3, 3, 3, 3, 3, 3, 3, 3, 3, 3, 3, 3, 3, 3, 3, 3, 3, 3, 4, 3, 3, 3, 3, 3, 3, 3, 3, 3, 3, 3, 3, 3]\n",
      "Accuracy: 0.9886363636363636\n",
      "Accuracy not including no clusters in test data: 1.0\n",
      "Percentage of no clusters in test data: 0.011363636363636364\n",
      "Percentage of no clusters in ground truth: 0.0\n",
      "Precision on veracity 3: 1.0\n",
      "Recall on veracity 3: 0.9772727272727273\n"
     ]
    }
   ],
   "source": [
    "# Print best parameters\n",
    "print(clf.best_params_)\n",
    "print(clf.best_score_)\n",
    "best_estimator: ClusterAndPredict = clf.best_estimator_\n",
    "best_estimator.score(test_df['Text'].tolist(), test_df['Numerical Rating'].tolist())\n",
    "best_estimator.print_all_performance_metrics()"
   ],
   "metadata": {
    "collapsed": false,
    "ExecuteTime": {
     "end_time": "2024-04-04T22:06:01.873273Z",
     "start_time": "2024-04-04T22:06:01.822662Z"
    }
   },
   "id": "33aebf6ce1d3c837"
  },
  {
   "cell_type": "code",
   "execution_count": 65,
   "outputs": [
    {
     "data": {
      "text/plain": "<Figure size 640x480 with 1 Axes>",
      "image/png": "[encoded data removed]"
     },
     "metadata": {},
     "output_type": "display_data"
    }
   ],
   "source": [
    "best_estimator.plot_confidence_histogram()"
   ],
   "metadata": {
    "collapsed": false,
    "ExecuteTime": {
     "end_time": "2024-03-29T17:32:08.692528Z",
     "start_time": "2024-03-29T17:32:07.378377Z"
    }
   },
   "id": "239200035203d4fd"
  },
  {
   "cell_type": "code",
   "execution_count": 35,
   "outputs": [],
   "source": [
    "results = clf.cv_results_"
   ],
   "metadata": {
    "collapsed": false,
    "ExecuteTime": {
     "end_time": "2024-03-16T03:26:36.272150Z",
     "start_time": "2024-03-16T03:26:36.046072Z"
    }
   },
   "id": "1a7068e5b96687f3"
  },
  {
   "cell_type": "code",
   "execution_count": 36,
   "outputs": [
    {
     "data": {
      "text/plain": "{'mean_fit_time': array([249.91539812, 219.16717911]),\n 'std_fit_time': array([28.91756701,  5.43024993]),\n 'mean_score_time': array([0.32185006, 0.16234255]),\n 'std_score_time': array([0.01697397, 0.10468745]),\n 'param_claim_column_name': masked_array(data=['Text', 'Text'],\n              mask=[False, False],\n        fill_value='?',\n             dtype=object),\n 'param_k': masked_array(data=[15, 15],\n              mask=[False, False],\n        fill_value='?',\n             dtype=object),\n 'param_min_cluster_size': masked_array(data=[5, 5],\n              mask=[False, False],\n        fill_value='?',\n             dtype=object),\n 'param_min_dist': masked_array(data=[0, 0],\n              mask=[False, False],\n        fill_value='?',\n             dtype=object),\n 'param_min_samples': masked_array(data=[1, 1],\n              mask=[False, False],\n        fill_value='?',\n             dtype=object),\n 'param_n_neighbors': masked_array(data=[348, 348],\n              mask=[False, False],\n        fill_value='?',\n             dtype=object),\n 'param_no_umap': masked_array(data=[False, False],\n              mask=[False, False],\n        fill_value='?',\n             dtype=object),\n 'param_num_components': masked_array(data=[100, 100],\n              mask=[False, False],\n        fill_value='?',\n             dtype=object),\n 'param_random_seed': masked_array(data=[False, False],\n              mask=[False, False],\n        fill_value='?',\n             dtype=object),\n 'param_supervised_label_column_name': masked_array(data=['Category', 'Category'],\n              mask=[False, False],\n        fill_value='?',\n             dtype=object),\n 'param_supervised_umap': masked_array(data=[True, False],\n              mask=[False, False],\n        fill_value='?',\n             dtype=object),\n 'param_veracity_column_name': masked_array(data=['Numerical Rating', 'Numerical Rating'],\n              mask=[False, False],\n        fill_value='?',\n             dtype=object),\n 'params': [{'claim_column_name': 'Text',\n   'k': 15,\n   'min_cluster_size': 5,\n   'min_dist': 0,\n   'min_samples': 1,\n   'n_neighbors': 348,\n   'no_umap': False,\n   'num_components': 100,\n   'random_seed': False,\n   'supervised_label_column_name': 'Category',\n   'supervised_umap': True,\n   'veracity_column_name': 'Numerical Rating'},\n  {'claim_column_name': 'Text',\n   'k': 15,\n   'min_cluster_size': 5,\n   'min_dist': 0,\n   'min_samples': 1,\n   'n_neighbors': 348,\n   'no_umap': False,\n   'num_components': 100,\n   'random_seed': False,\n   'supervised_label_column_name': 'Category',\n   'supervised_umap': False,\n   'veracity_column_name': 'Numerical Rating'}],\n 'split0_test_score': array([0.66666667, 0.66666667]),\n 'split1_test_score': array([0.875     , 0.86363636]),\n 'mean_test_score': array([0.77083333, 0.76515152]),\n 'std_test_score': array([0.10416667, 0.09848485]),\n 'rank_test_score': array([1, 2], dtype=int32)}"
     },
     "execution_count": 36,
     "metadata": {},
     "output_type": "execute_result"
    }
   ],
   "source": [
    "results"
   ],
   "metadata": {
    "collapsed": false,
    "ExecuteTime": {
     "end_time": "2024-03-16T03:26:36.328879Z",
     "start_time": "2024-03-16T03:26:36.276226Z"
    }
   },
   "id": "bfe931293ccc84"
  },
  {
   "cell_type": "markdown",
   "source": [],
   "metadata": {
    "collapsed": false
   },
   "id": "ad5e14ce4e170b79"
  },
  {
   "cell_type": "code",
   "execution_count": 29,
   "outputs": [
    {
     "name": "stderr",
     "output_type": "stream",
     "text": [
      "[nltk_data] Downloading package stopwords to\n",
      "[nltk_data]     /Users/vinayakkannan/nltk_data...\n",
      "[nltk_data]   Package stopwords is already up-to-date!\n"
     ]
    },
    {
     "name": "stdout",
     "output_type": "stream",
     "text": [
      "heat\n",
      "argument\n",
      "scientists\n",
      "grid\n",
      "corrupted\n",
      "daylight\n",
      "exaggerate\n",
      "meat\n",
      "agreement\n",
      "way\n",
      "passed\n",
      "called\n",
      "going\n",
      "threat\n",
      "acid\n",
      "denying\n",
      "hot\n",
      "denies\n",
      "arsonists\n",
      "took\n",
      "human\n",
      "hoax\n",
      "wildfires\n",
      "cycle\n",
      "reef\n",
      "biggest\n",
      "lockdowns\n",
      "activity\n",
      "faked\n",
      "warming\n",
      "manhattan\n",
      "arctic\n",
      "article\n",
      "happening\n",
      "lion\n",
      "socially\n",
      "epa\n",
      "greta\n",
      "lockdown\n",
      "field\n",
      "asymptomatic\n",
      "level\n",
      "shows\n",
      "sky\n",
      "video\n",
      "stress\n",
      "absorbed\n",
      "permafrost\n",
      "grow\n",
      "lyme\n",
      "workers\n",
      "geography\n",
      "impacts\n",
      "transportation\n",
      "fish\n",
      "strategies\n",
      "albert\n",
      "cnn\n",
      "map\n",
      "jets\n",
      "haarp\n",
      "animal\n",
      "aphelion\n",
      "april\n",
      "million\n",
      "period\n",
      "urban\n",
      "concentrations\n",
      "dec\n",
      "health\n",
      "biden\n",
      "gates\n",
      "goal\n",
      "households\n",
      "continue\n",
      "trudeau\n",
      "co\n",
      "co\n",
      "co\n",
      "kilt\n",
      "primary\n",
      "exposure\n",
      "chemtrails\n",
      "concedes\n",
      "created\n",
      "greta\n",
      "vowed\n",
      "scam\n",
      "increase\n",
      "hundreds\n",
      "affect\n",
      "moon\n",
      "influence\n",
      "yard\n",
      "coasts\n",
      "companies\n",
      "heat\n",
      "billion\n",
      "differences\n",
      "disha\n",
      "periods\n",
      "warmed\n",
      "solar\n",
      "warming\n",
      "flooding\n",
      "example\n",
      "water\n",
      "scientific\n",
      "severity\n",
      "deaths\n",
      "trump\n",
      "hurricane\n",
      "bus\n",
      "transportation\n",
      "band\n",
      "bridges\n",
      "land\n",
      "energy\n",
      "square\n",
      "tenths\n",
      "risen\n",
      "natural\n",
      "worth\n",
      "greta\n",
      "warms\n",
      "cash\n",
      "earlier\n",
      "dioxide\n",
      "cruz\n",
      "carolina\n",
      "economy\n",
      "southwest\n",
      "live\n",
      "income\n",
      "water\n",
      "risk\n",
      "assessment\n",
      "heat\n",
      "irrigation\n",
      "employs\n",
      "mask\n",
      "greenhouse\n",
      "reductions\n",
      "buildings\n",
      "ocean\n",
      "solar\n",
      "households\n",
      "republican\n",
      "occurs\n",
      "scam\n",
      "nasa\n",
      "government\n",
      "legislation\n",
      "addressing\n",
      "drought\n",
      "cooling\n",
      "glastonbury\n",
      "pope\n",
      "know\n",
      "died\n",
      "yields\n",
      "bark\n",
      "jet\n",
      "threats\n",
      "attitude\n",
      "carrying\n",
      "bought\n",
      "absurdity\n",
      "slaughter\n",
      "urine\n",
      "models\n",
      "believing\n",
      "level\n",
      "dead\n",
      "video\n",
      "video\n",
      "wef\n",
      "purchase\n",
      "came\n",
      "adjusting\n",
      "models\n",
      "january\n",
      "access\n"
     ]
    }
   ],
   "source": [
    "ground_truth_df, cluster_counts = best_estimator.report_ground_truth_data(True)"
   ],
   "metadata": {
    "collapsed": false,
    "ExecuteTime": {
     "end_time": "2024-03-22T14:51:45.925732Z",
     "start_time": "2024-03-22T14:49:02.253797Z"
    }
   },
   "id": "90c3b74e727dabd1"
  },
  {
   "cell_type": "code",
   "execution_count": 30,
   "outputs": [
    {
     "data": {
      "text/plain": "     cluster                                              claim  veracity  \\\n0         -1  \"...the earth moves closer to the sun every ye...       1.0   \n1         31  \"11 straight years of no major hurricanes stri...       1.0   \n2         86  \"30,000 scientists have come forward confirmin...       1.0   \n3         75  \"70 per cent of Australia's trade [is] now wit...       3.0   \n4          0       \"96 percent of US climate data is corrupted\"       1.0   \n..       ...                                                ...       ...   \n634       10  “The reality is more people are dying of bad c...       1.0   \n635      158  “We have been cooling down for the past 4000 y...       1.0   \n636       11  “… 600 million Africans lack access to electri...       3.0   \n637       75        “… with 93% of that power being renewable.”       1.0   \n638      161  ”Global warming started to run out of steam ov...       1.0   \n\n                                           tfidf_top_3  \\\n0                   heat, percent, epa, earth, infants   \n1            argument, bores, hole, straight, striking   \n2    scientists, signed, arguing, confirming, convi...   \n3            grid, electric, gigawatts, onto, operates   \n4                corrupted, data, percent, us, climate   \n..                                                 ...   \n634               died, dying, elizabeth, ii, policies   \n635                  biggest, years, since, drop, talk   \n636     access, africa, million, accommodate, advanced   \n637          grid, electric, gigawatts, onto, operates   \n638  january, adjustments, administrative, apparent...   \n\n                                         cluster_label  \n0    Climate change impacts on health, infants, and...  \n1    Impact of hurricane frequency on climate chang...  \n2    Claiming scientists argue man-made climate cha...  \n3    Electric grid transitions to renewable energy ...  \n4    \"High percentage of corrupted climate data in ...  \n..                                                 ...  \n634  Climate change impacts on death and Queen Eliz...  \n635  Earth cooling claims based on historical tempe...  \n636  Africa's challenges with access, millions of p...  \n637  Electric grid transitions to renewable energy ...  \n638  Administrative adjustments in temperature data...  \n\n[639 rows x 5 columns]",
      "text/html": "<div>\n<style scoped>\n    .dataframe tbody tr th:only-of-type {\n        vertical-align: middle;\n    }\n\n    .dataframe tbody tr th {\n        vertical-align: top;\n    }\n\n    .dataframe thead th {\n        text-align: right;\n    }\n</style>\n<table border=\"1\" class=\"dataframe\">\n  <thead>\n    <tr style=\"text-align: right;\">\n      <th></th>\n      <th>cluster</th>\n      <th>claim</th>\n      <th>veracity</th>\n      <th>tfidf_top_3</th>\n      <th>cluster_label</th>\n    </tr>\n  </thead>\n  <tbody>\n    <tr>\n      <th>0</th>\n      <td>-1</td>\n      <td>\"...the earth moves closer to the sun every ye...</td>\n      <td>1.0</td>\n      <td>heat, percent, epa, earth, infants</td>\n      <td>Climate change impacts on health, infants, and...</td>\n    </tr>\n    <tr>\n      <th>1</th>\n      <td>31</td>\n      <td>\"11 straight years of no major hurricanes stri...</td>\n      <td>1.0</td>\n      <td>argument, bores, hole, straight, striking</td>\n      <td>Impact of hurricane frequency on climate chang...</td>\n    </tr>\n    <tr>\n      <th>2</th>\n      <td>86</td>\n      <td>\"30,000 scientists have come forward confirmin...</td>\n      <td>1.0</td>\n      <td>scientists, signed, arguing, confirming, convi...</td>\n      <td>Claiming scientists argue man-made climate cha...</td>\n    </tr>\n    <tr>\n      <th>3</th>\n      <td>75</td>\n      <td>\"70 per cent of Australia's trade [is] now wit...</td>\n      <td>3.0</td>\n      <td>grid, electric, gigawatts, onto, operates</td>\n      <td>Electric grid transitions to renewable energy ...</td>\n    </tr>\n    <tr>\n      <th>4</th>\n      <td>0</td>\n      <td>\"96 percent of US climate data is corrupted\"</td>\n      <td>1.0</td>\n      <td>corrupted, data, percent, us, climate</td>\n      <td>\"High percentage of corrupted climate data in ...</td>\n    </tr>\n    <tr>\n      <th>...</th>\n      <td>...</td>\n      <td>...</td>\n      <td>...</td>\n      <td>...</td>\n      <td>...</td>\n    </tr>\n    <tr>\n      <th>634</th>\n      <td>10</td>\n      <td>“The reality is more people are dying of bad c...</td>\n      <td>1.0</td>\n      <td>died, dying, elizabeth, ii, policies</td>\n      <td>Climate change impacts on death and Queen Eliz...</td>\n    </tr>\n    <tr>\n      <th>635</th>\n      <td>158</td>\n      <td>“We have been cooling down for the past 4000 y...</td>\n      <td>1.0</td>\n      <td>biggest, years, since, drop, talk</td>\n      <td>Earth cooling claims based on historical tempe...</td>\n    </tr>\n    <tr>\n      <th>636</th>\n      <td>11</td>\n      <td>“… 600 million Africans lack access to electri...</td>\n      <td>3.0</td>\n      <td>access, africa, million, accommodate, advanced</td>\n      <td>Africa's challenges with access, millions of p...</td>\n    </tr>\n    <tr>\n      <th>637</th>\n      <td>75</td>\n      <td>“… with 93% of that power being renewable.”</td>\n      <td>1.0</td>\n      <td>grid, electric, gigawatts, onto, operates</td>\n      <td>Electric grid transitions to renewable energy ...</td>\n    </tr>\n    <tr>\n      <th>638</th>\n      <td>161</td>\n      <td>”Global warming started to run out of steam ov...</td>\n      <td>1.0</td>\n      <td>january, adjustments, administrative, apparent...</td>\n      <td>Administrative adjustments in temperature data...</td>\n    </tr>\n  </tbody>\n</table>\n<p>639 rows × 5 columns</p>\n</div>"
     },
     "execution_count": 30,
     "metadata": {},
     "output_type": "execute_result"
    }
   ],
   "source": [
    "ground_truth_df"
   ],
   "metadata": {
    "collapsed": false,
    "ExecuteTime": {
     "end_time": "2024-03-22T14:51:45.985303Z",
     "start_time": "2024-03-22T14:51:45.926642Z"
    }
   },
   "id": "d0ec00c0d369db1f"
  },
  {
   "cell_type": "code",
   "execution_count": 28,
   "outputs": [
    {
     "data": {
      "text/plain": "     cluster  count_false  count_true\n0         -1           41          46\n1         31            3           0\n2         86            3           0\n3         75            1           3\n4          0            3           0\n..       ...          ...         ...\n178       21            0           2\n179      105            2           0\n180      138            2           0\n181      161            2           0\n182       11            1           4\n\n[183 rows x 3 columns]",
      "text/html": "<div>\n<style scoped>\n    .dataframe tbody tr th:only-of-type {\n        vertical-align: middle;\n    }\n\n    .dataframe tbody tr th {\n        vertical-align: top;\n    }\n\n    .dataframe thead th {\n        text-align: right;\n    }\n</style>\n<table border=\"1\" class=\"dataframe\">\n  <thead>\n    <tr style=\"text-align: right;\">\n      <th></th>\n      <th>cluster</th>\n      <th>count_false</th>\n      <th>count_true</th>\n    </tr>\n  </thead>\n  <tbody>\n    <tr>\n      <th>0</th>\n      <td>-1</td>\n      <td>41</td>\n      <td>46</td>\n    </tr>\n    <tr>\n      <th>1</th>\n      <td>31</td>\n      <td>3</td>\n      <td>0</td>\n    </tr>\n    <tr>\n      <th>2</th>\n      <td>86</td>\n      <td>3</td>\n      <td>0</td>\n    </tr>\n    <tr>\n      <th>3</th>\n      <td>75</td>\n      <td>1</td>\n      <td>3</td>\n    </tr>\n    <tr>\n      <th>4</th>\n      <td>0</td>\n      <td>3</td>\n      <td>0</td>\n    </tr>\n    <tr>\n      <th>...</th>\n      <td>...</td>\n      <td>...</td>\n      <td>...</td>\n    </tr>\n    <tr>\n      <th>178</th>\n      <td>21</td>\n      <td>0</td>\n      <td>2</td>\n    </tr>\n    <tr>\n      <th>179</th>\n      <td>105</td>\n      <td>2</td>\n      <td>0</td>\n    </tr>\n    <tr>\n      <th>180</th>\n      <td>138</td>\n      <td>2</td>\n      <td>0</td>\n    </tr>\n    <tr>\n      <th>181</th>\n      <td>161</td>\n      <td>2</td>\n      <td>0</td>\n    </tr>\n    <tr>\n      <th>182</th>\n      <td>11</td>\n      <td>1</td>\n      <td>4</td>\n    </tr>\n  </tbody>\n</table>\n<p>183 rows × 3 columns</p>\n</div>"
     },
     "execution_count": 28,
     "metadata": {},
     "output_type": "execute_result"
    }
   ],
   "source": [
    "cluster_counts"
   ],
   "metadata": {
    "collapsed": false,
    "ExecuteTime": {
     "end_time": "2024-03-22T14:47:55.456011Z",
     "start_time": "2024-03-22T14:47:55.377825Z"
    }
   },
   "id": "198b60f38b4ed960"
  },
  {
   "cell_type": "code",
   "execution_count": 31,
   "outputs": [],
   "source": [
    "ground_truth_df\n",
    "ground_truth_df.to_csv(\"ground_truth_df.csv\")"
   ],
   "metadata": {
    "collapsed": false,
    "ExecuteTime": {
     "end_time": "2024-03-22T14:52:12.324498Z",
     "start_time": "2024-03-22T14:52:12.261537Z"
    }
   },
   "id": "f3e4f0b26516b3e"
  },
  {
   "cell_type": "code",
   "execution_count": 32,
   "outputs": [],
   "source": [
    "cluster_counts\n",
    "cluster_counts.to_csv(\"cluster_counts.csv\")"
   ],
   "metadata": {
    "collapsed": false,
    "ExecuteTime": {
     "end_time": "2024-03-22T14:52:12.703331Z",
     "start_time": "2024-03-22T14:52:12.673860Z"
    }
   },
   "id": "740eb553c80d1320"
  },
  {
   "cell_type": "code",
   "execution_count": 69,
   "outputs": [
    {
     "data": {
      "text/plain": "     cluster                                              claim  veracity  \\\n0          0  \"...the earth moves closer to the sun every ye...       1.0   \n1          0  \"30,000 scientists have come forward confirmin...       1.0   \n2          0       \"96 percent of US climate data is corrupted\"       1.0   \n3          0  \"Antarctica has had to update its flag\"due to ...       1.0   \n4          0  \"Biden's climate requirements\" will \"cut 90% o...       1.0   \n..       ...                                                ...       ...   \n506        0  “The amount of coral on the Great Barrier Reef...       1.0   \n507        5  “The clothing industry contributes up to 10% o...       3.0   \n508        0  “We have been cooling down for the past 4000 y...       1.0   \n509        5  “… 600 million Africans lack access to electri...       3.0   \n510        0  ”Global warming started to run out of steam ov...       1.0   \n\n                                    tfidf_top_3  \\\n0             co, change, global, said, climate   \n1             co, change, global, said, climate   \n2             co, change, global, said, climate   \n3             co, change, global, said, climate   \n4             co, change, global, said, climate   \n..                                          ...   \n506           co, change, global, said, climate   \n507  income, access, grid, households, electric   \n508           co, change, global, said, climate   \n509  income, access, grid, households, electric   \n510           co, change, global, said, climate   \n\n                                         cluster_label  \n0    Controversial claims on global climate change ...  \n1    Controversial claims on global climate change ...  \n2    Controversial claims on global climate change ...  \n3    Controversial claims on global climate change ...  \n4    Controversial claims on global climate change ...  \n..                                                 ...  \n506  Controversial claims on global climate change ...  \n507  Impact of income and access on household elect...  \n508  Controversial claims on global climate change ...  \n509  Impact of income and access on household elect...  \n510  Controversial claims on global climate change ...  \n\n[511 rows x 5 columns]",
      "text/html": "<div>\n<style scoped>\n    .dataframe tbody tr th:only-of-type {\n        vertical-align: middle;\n    }\n\n    .dataframe tbody tr th {\n        vertical-align: top;\n    }\n\n    .dataframe thead th {\n        text-align: right;\n    }\n</style>\n<table border=\"1\" class=\"dataframe\">\n  <thead>\n    <tr style=\"text-align: right;\">\n      <th></th>\n      <th>cluster</th>\n      <th>claim</th>\n      <th>veracity</th>\n      <th>tfidf_top_3</th>\n      <th>cluster_label</th>\n    </tr>\n  </thead>\n  <tbody>\n    <tr>\n      <th>0</th>\n      <td>0</td>\n      <td>\"...the earth moves closer to the sun every ye...</td>\n      <td>1.0</td>\n      <td>co, change, global, said, climate</td>\n      <td>Controversial claims on global climate change ...</td>\n    </tr>\n    <tr>\n      <th>1</th>\n      <td>0</td>\n      <td>\"30,000 scientists have come forward confirmin...</td>\n      <td>1.0</td>\n      <td>co, change, global, said, climate</td>\n      <td>Controversial claims on global climate change ...</td>\n    </tr>\n    <tr>\n      <th>2</th>\n      <td>0</td>\n      <td>\"96 percent of US climate data is corrupted\"</td>\n      <td>1.0</td>\n      <td>co, change, global, said, climate</td>\n      <td>Controversial claims on global climate change ...</td>\n    </tr>\n    <tr>\n      <th>3</th>\n      <td>0</td>\n      <td>\"Antarctica has had to update its flag\"due to ...</td>\n      <td>1.0</td>\n      <td>co, change, global, said, climate</td>\n      <td>Controversial claims on global climate change ...</td>\n    </tr>\n    <tr>\n      <th>4</th>\n      <td>0</td>\n      <td>\"Biden's climate requirements\" will \"cut 90% o...</td>\n      <td>1.0</td>\n      <td>co, change, global, said, climate</td>\n      <td>Controversial claims on global climate change ...</td>\n    </tr>\n    <tr>\n      <th>...</th>\n      <td>...</td>\n      <td>...</td>\n      <td>...</td>\n      <td>...</td>\n      <td>...</td>\n    </tr>\n    <tr>\n      <th>506</th>\n      <td>0</td>\n      <td>“The amount of coral on the Great Barrier Reef...</td>\n      <td>1.0</td>\n      <td>co, change, global, said, climate</td>\n      <td>Controversial claims on global climate change ...</td>\n    </tr>\n    <tr>\n      <th>507</th>\n      <td>5</td>\n      <td>“The clothing industry contributes up to 10% o...</td>\n      <td>3.0</td>\n      <td>income, access, grid, households, electric</td>\n      <td>Impact of income and access on household elect...</td>\n    </tr>\n    <tr>\n      <th>508</th>\n      <td>0</td>\n      <td>“We have been cooling down for the past 4000 y...</td>\n      <td>1.0</td>\n      <td>co, change, global, said, climate</td>\n      <td>Controversial claims on global climate change ...</td>\n    </tr>\n    <tr>\n      <th>509</th>\n      <td>5</td>\n      <td>“… 600 million Africans lack access to electri...</td>\n      <td>3.0</td>\n      <td>income, access, grid, households, electric</td>\n      <td>Impact of income and access on household elect...</td>\n    </tr>\n    <tr>\n      <th>510</th>\n      <td>0</td>\n      <td>”Global warming started to run out of steam ov...</td>\n      <td>1.0</td>\n      <td>co, change, global, said, climate</td>\n      <td>Controversial claims on global climate change ...</td>\n    </tr>\n  </tbody>\n</table>\n<p>511 rows × 5 columns</p>\n</div>"
     },
     "execution_count": 69,
     "metadata": {},
     "output_type": "execute_result"
    }
   ],
   "source": [
    "ground_truth_df"
   ],
   "metadata": {
    "collapsed": false,
    "ExecuteTime": {
     "end_time": "2024-03-12T01:48:48.626347Z",
     "start_time": "2024-03-12T01:48:48.591477Z"
    }
   },
   "id": "33c183a965c885a2"
  },
  {
   "cell_type": "code",
   "execution_count": null,
   "outputs": [],
   "source": [],
   "metadata": {
    "collapsed": false
   },
   "id": "b00303f1bef2024f"
  }
 ],
 "metadata": {
  "kernelspec": {
   "display_name": "Python 3",
   "language": "python",
   "name": "python3"
  },
  "language_info": {
   "codemirror_mode": {
    "name": "ipython",
    "version": 2
   },
   "file_extension": ".py",
   "mimetype": "text/x-python",
   "name": "python",
   "nbconvert_exporter": "python",
   "pygments_lexer": "ipython2",
   "version": "2.7.6"
  }
 },
 "nbformat": 4,
 "nbformat_minor": 5
}
