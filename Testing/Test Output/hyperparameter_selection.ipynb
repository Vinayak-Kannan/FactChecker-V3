{
 "cells": [
  {
   "cell_type": "code",
   "execution_count": 1,
   "outputs": [],
   "source": [
    "%load_ext autoreload\n",
    "%autoreload 2"
   ],
   "metadata": {
    "collapsed": false,
    "ExecuteTime": {
     "end_time": "2024-05-19T22:19:22.054045Z",
     "start_time": "2024-05-19T22:19:22.023115Z"
    }
   },
   "id": "e7540c59bbc4826c"
  },
  {
   "cell_type": "code",
   "execution_count": 2,
   "id": "initial_id",
   "metadata": {
    "collapsed": true,
    "ExecuteTime": {
     "end_time": "2024-05-19T22:19:34.554577Z",
     "start_time": "2024-05-19T22:19:22.035295Z"
    }
   },
   "outputs": [],
   "source": [
    "import pandas as pd\n",
    "from ClusterAndPredict.ClusterAndPredict import ClusterAndPredict\n",
    "from sklearn.model_selection import GridSearchCV\n",
    "import chromadb\n",
    "from Testing.DataLoader import DataLoader"
   ]
  },
  {
   "cell_type": "markdown",
   "source": [
    "Parameters to adjust\n",
    "UMAP - n_neighbors, min_dist (0 - 0.1), metric (cosine)\n",
    "HDBSCAN - min_cluster_size, min_samples\n",
    "\n",
    "Metrics to consider\n",
    "Accuracy\n",
    "\n",
    "TRACK The Results"
   ],
   "metadata": {
    "collapsed": false
   },
   "id": "945af0a5a29d0c59"
  },
  {
   "cell_type": "code",
   "execution_count": 3,
   "outputs": [
    {
     "name": "stdout",
     "output_type": "stream",
     "text": [
      "13\n"
     ]
    }
   ],
   "source": [
    "chroma_client = chromadb.PersistentClient(path=\"/Users/vinayakkannan/Desktop/Projects/FactChecker/FactChecker/Clustering/Clustering/Chroma\")\n",
    "# Count number of collections\n",
    "print(chroma_client.count_collections())\n",
    "\n",
    "# Get all collection names\n",
    "collection_names = chroma_client.list_collections()\n",
    "\n",
    "# Loop through each collection and drop it\n",
    "for collection_name in collection_names:\n",
    "    if collection_name.name != 'climate_claims_embeddings_unchanged':\n",
    "        chroma_client.delete_collection(collection_name.name)"
   ],
   "metadata": {
    "collapsed": false,
    "ExecuteTime": {
     "end_time": "2024-05-19T22:19:59.868573Z",
     "start_time": "2024-05-19T22:19:34.555067Z"
    }
   },
   "id": "f591a1efe4bdf97e"
  },
  {
   "cell_type": "code",
   "execution_count": 4,
   "outputs": [
    {
     "ename": "TypeError",
     "evalue": "DataLoader.create_large_train_test_df() missing 1 required positional argument: 'remove_synthetic_data'",
     "output_type": "error",
     "traceback": [
      "\u001B[0;31m---------------------------------------------------------------------------\u001B[0m",
      "\u001B[0;31mTypeError\u001B[0m                                 Traceback (most recent call last)",
      "Cell \u001B[0;32mIn[4], line 2\u001B[0m\n\u001B[1;32m      1\u001B[0m data_loader \u001B[38;5;241m=\u001B[39m DataLoader(\u001B[38;5;241m0.5\u001B[39m)\n\u001B[0;32m----> 2\u001B[0m train_df, test_df \u001B[38;5;241m=\u001B[39m \u001B[43mdata_loader\u001B[49m\u001B[38;5;241;43m.\u001B[39;49m\u001B[43mcreate_large_train_test_df\u001B[49m\u001B[43m(\u001B[49m\u001B[43m)\u001B[49m\n",
      "\u001B[0;31mTypeError\u001B[0m: DataLoader.create_large_train_test_df() missing 1 required positional argument: 'remove_synthetic_data'"
     ]
    }
   ],
   "source": [
    "data_loader = DataLoader(0.5)\n",
    "train_df, test_df = data_loader.create_large_train_test_df()"
   ],
   "metadata": {
    "collapsed": false,
    "ExecuteTime": {
     "end_time": "2024-05-03T13:57:33.026807Z",
     "start_time": "2024-05-03T13:57:32.479101Z"
    }
   },
   "id": "e917bcd3cb66f2ff"
  },
  {
   "cell_type": "code",
   "execution_count": 5,
   "outputs": [
    {
     "ename": "NameError",
     "evalue": "name 'train_df' is not defined",
     "output_type": "error",
     "traceback": [
      "\u001B[0;31m---------------------------------------------------------------------------\u001B[0m",
      "\u001B[0;31mNameError\u001B[0m                                 Traceback (most recent call last)",
      "Cell \u001B[0;32mIn[5], line 1\u001B[0m\n\u001B[0;32m----> 1\u001B[0m \u001B[43mtrain_df\u001B[49m[\u001B[38;5;124m'\u001B[39m\u001B[38;5;124mNumerical Rating\u001B[39m\u001B[38;5;124m'\u001B[39m]\u001B[38;5;241m.\u001B[39mvalue_counts()\n",
      "\u001B[0;31mNameError\u001B[0m: name 'train_df' is not defined"
     ]
    }
   ],
   "source": [
    "train_df['Numerical Rating'].value_counts()"
   ],
   "metadata": {
    "collapsed": false,
    "ExecuteTime": {
     "end_time": "2024-05-03T13:58:04.463539Z",
     "start_time": "2024-05-03T13:58:04.412296Z"
    }
   },
   "id": "c7baea409f2c1842"
  },
  {
   "cell_type": "code",
   "execution_count": 6,
   "outputs": [
    {
     "ename": "NameError",
     "evalue": "name 'test_df' is not defined",
     "output_type": "error",
     "traceback": [
      "\u001B[0;31m---------------------------------------------------------------------------\u001B[0m",
      "\u001B[0;31mNameError\u001B[0m                                 Traceback (most recent call last)",
      "Cell \u001B[0;32mIn[6], line 2\u001B[0m\n\u001B[1;32m      1\u001B[0m \u001B[38;5;66;03m# value count of train_df for each 'Category' and 'Numerical Rating'\u001B[39;00m\n\u001B[0;32m----> 2\u001B[0m \u001B[43mtest_df\u001B[49m[\u001B[38;5;124m'\u001B[39m\u001B[38;5;124mNumerical Rating\u001B[39m\u001B[38;5;124m'\u001B[39m]\u001B[38;5;241m.\u001B[39mvalue_counts()\n",
      "\u001B[0;31mNameError\u001B[0m: name 'test_df' is not defined"
     ]
    }
   ],
   "source": [
    "# value count of train_df for each 'Category' and 'Numerical Rating'\n",
    "test_df['Numerical Rating'].value_counts()"
   ],
   "metadata": {
    "collapsed": false,
    "ExecuteTime": {
     "end_time": "2024-05-03T13:58:04.751220Z",
     "start_time": "2024-05-03T13:58:04.705796Z"
    }
   },
   "id": "4e721e7edfa4397a"
  },
  {
   "cell_type": "code",
   "execution_count": 4,
   "outputs": [],
   "source": [
    "parameters = {\n",
    "    'min_cluster_size': [5],\n",
    "    'min_samples': [5],\n",
    "    # 'n_neighbors': [int(train_df.shape[0] - 2) * 0.15], #[400],\n",
    "    'min_dist': [0],\n",
    "    'num_components': [100],\n",
    "    'no_umap': [False],\n",
    "    'k': [15],\n",
    "    'supervised_umap': [False],\n",
    "    'parametric_umap': [False],\n",
    "    'claim_column_name': ['Text'],\n",
    "    'veracity_column_name': ['Numerical Rating'],\n",
    "    'supervised_label_column_name': ['Numerical Rating'],\n",
    "    'random_seed': [True],\n",
    "    'use_weightage': [True],\n",
    "}"
   ],
   "metadata": {
    "collapsed": false,
    "ExecuteTime": {
     "end_time": "2024-05-19T22:19:59.910142Z",
     "start_time": "2024-05-19T22:19:59.870038Z"
    }
   },
   "id": "bbc8233367de3c54"
  },
  {
   "cell_type": "code",
   "execution_count": 5,
   "outputs": [
    {
     "name": "stdout",
     "output_type": "stream",
     "text": [
      "Numerical Rating\n",
      "1    2998\n",
      "3     619\n",
      "Name: count, dtype: int64\n",
      "Numerical Rating\n",
      "1    799\n",
      "3    124\n",
      "Name: count, dtype: int64\n"
     ]
    }
   ],
   "source": [
    "data_loader = DataLoader(0.5)\n",
    "train_df, test_df = data_loader.create_train_test_df(True, True, True)"
   ],
   "metadata": {
    "collapsed": false,
    "ExecuteTime": {
     "end_time": "2024-05-19T13:45:02.726250Z",
     "start_time": "2024-05-19T13:45:02.210294Z"
    }
   },
   "id": "de2831abb753be32"
  },
  {
   "cell_type": "code",
   "execution_count": 5,
   "outputs": [
    {
     "name": "stdout",
     "output_type": "stream",
     "text": [
      "Numerical Rating\n",
      "1    2998\n",
      "3     619\n",
      "Name: count, dtype: int64\n",
      "Numerical Rating\n",
      "1    799\n",
      "3    124\n",
      "Name: count, dtype: int64\n",
      "Fitting 2 folds for each of 1 candidates, totalling 2 fits\n",
      "461\n",
      "['The southeastern province of Hakkari was also struck by cold weather, with snow reaching a depth of 20 centimeters and 15 village roads closed due to heavy snowfall..', 'Over the past five years, the 30% increase in domestic oil production has occurred overwhelmingly on private and state lands.', 'And at 5 acres per the space required for equivalent output with 2 Megawatt fans is 2500 acres.', 'Congratulations.. \"The most pessimistic model projects five to seven times as many heat-related deaths in Los Angeles, with six to eight times as many heat waves.', 'In fact, the polar bear population has doubled to over 25,000 in the past 20 years.', 'So far this year, the northeast US has been record cold, with by far the driest snow on record.', 'Yet carbon emissions continue to rise, while temperatures do not.. \"The top 400 charities showed donations declined by 11 percent last year- the worst decline in 20 years.', 'In terms of severity and geographic extent, the 2000-4 drought in the West exceeded such legendary events as the Dust Bowl of the 1930s.', 'According to the U.S. Energy Department and the Ground Water Protection Council, it typically takes three gallons of water to produce 1 million British thermal units of energy from deep-shale natural gas/fracking.. > >> >>sectors and Bank investments.', 'He has particpated in over a dozen UN conferences..', 'Here?s a break down of just a handful of the states affected by these regulations:.', 'While the global temperature rose by about 0.C from the 1970s until the end of the 1990s, it has stagnated for the last 15 years, though at a high level.', 'In some interpretations of the sea level data, it has not been rising since 2004.. Petitioners in Mass v. EPA denied the case posed any risks to the U.S. economy,claiming, for example, that, The NAAQS program is entirely separate from the mobile source program at issue in this case( Initial Brief of Petitioners , August 31, 2006, p. 28).', \"In a 1983 study into vegetal species by Kimbal (1983) published in Carbon Dioxide Fertilizing Effects on Plant Biomass production and Water-Use Efficiency showed that, A doubling of atmospheric CO2 concentrations increased biomass production by an average of 33% in the vegetal species.. Due to the damaging effects green energy has had on Germany's grid, the government plans to cap the total amount of wind energy at 40 to 45 percent of national capacity, according to a report published last month by the German newspaper Berliner Zeitung.\", 'We see a real plummet over the last few months, which by the way was anticipated at the beginning of the year as we reported here .. colleagues are spending this week as I am: It is the first 100 days landmark,.', 'A new report written by Dr David Whitehouse and published today by the Global Warming Policy Foundation concludes that there has been no statistically significant increase in annual global temperatures since 1997.. Morano: \"Climate activists think we need more taxes & regulation to somehow stop bad weather...Mayor Bloomberg said we need to take immediate action to prevent bad weather.', '\"The amount of carbon dioxide in the atmosphere is actually close to an all-time low ever in human history.\"', 'If oil flow through the Alaska Pipeline slows to 300,000 barrels per day, the oil may freeze and the pipeline may never be restarted.', 'While the environmental extremists and utility and oil companies benefit, the public will get harmed by a massive energy tax that will cut jobs, reduce personal income, and have a disproportionate impact on the poor.. Outflow (water usage) has greatly increased over the last few decades due to massive population increases in Phoenix, Las Vegas and Southern California not to mention the large and ever increasing amount of water being used by the biofuels industry.', 'Atmospheric temperature readings show global temperatures have been flat for more than a decade ..', 'The administration argues that the acid rain program has reduced emissions below the required regulatory cap and has done so at very low cost, about $100 per ton of SO2 reduced.', \"Here's climate prediction center for the land -- they have an upward trend since 1979 of fourteen-hundredths per decade.\", 'Despite a record (or near record, depending on who you ask ) high for global temperatures in 2010, the general rate of warming over the past decade and half (going on two decades) is generally less than it was expected to be .. Kemp Column Distributed by Copley News Service.', 'In the United States there have been thousands of new records for cold temperatures and snowfalls just in the month of December.', '“NOAA makes it official… CO2 warming is a hoax.”', 'After two and three years, however, elevated CO 2 increased apparent tree volume by 22 and 28%, respectively, while elevated ozone reduced it by 26% in each of those years.', \"WEF posted that climate change is affecting 'attractive places the state wants to purchase'\", 'Note that the climate skeptics in the world produce something like $50 trillion every year.', 'The first study appeared in February 2013 and it examined six of the longest existing thermometer data seriesrecorded in Europe, as well asone dataset from an Antarctic ice core and another from a data series extracted from stalagmites.', 'The state is also home to four commercial nuclear reactors, which provide Virginians with 35% of their electricity.', 'billion a year (the current federal research budget, which supplies 99. percent of climatic research funding).', 'My daughter, her husband and their little baby managed to get out of the city ahead of the flood on Sunday, driving 14 hours into Texas with the few belongings they could stuff into their car.', 'In all of the major temperature increases, CO2 contributes no more than about 1/6 of the temperature increase..', 'They can also interfere with radios and televisions.. \"The diversion of food crops to biofuel production was a significant factor contributing to global food prices rocketing by 83% in the last year, and causing violent conflicts in Haiti and other parts of the world,\" reports African Energy News.', 'In mid-January, the Energy and Environmental Legal Institute revealed that emails obtained through the Freedom of Information Act revealed that the EPA used official events to help environmental groups gather signatures for petitions on agency rulemaking.', 'As wind and rain erode the mountain range, massive rivers carry more than a billion tonnes of sediment into the Bay of Bengal each year; in some places, the layer deposited since the most recent ice age is more than one kilometre thick.', 'Again, look at the numbers: Over the past decade, global coal use increased by 47 percent to about 71. million barrels of oil equivalent per day.', 'Motorists thus incurred about $83 billion roughly $10 billion annually in additional fuel costs over and above what they would have paid for gasoline alone.', 'It should come as no surprise, then, to learn the same poll shows Republicans leading Democrats by 22 points on the generic congressional ballot, whereas Democrats led Republicans by 12 points two years ago..', 'Over Christmas break, airports across the country were closed due to snow and ice.', 'However, he acknowledged \"renewables make up such a small slice of the world\\'s energy portfolio nowonly about 2%that even at such a blistering growth rate they are unlikely to significantly displace fossil fuels in the next two decades.\".', 'It should be noted that the United States set the all time temperature record for 50% of the states back in the 1930s.\".', 'President Joe Biden announced he has cancer during a speech on climate change,', 'United Nations Intergovernmental Panel on Climate Change (IPCC) computer models project approximately 15 inches of sea level rise during the 21st century.', 'If you doubt this will happen, look at the wind and solar industries, which have used the same argument to extend their subsidies successfully half a dozen times, most recently in December.. As I forecast a couple of months ago, CET figures just released confirm that 2012 was the second coldest for sixteen years, second only to 2010.', 'More than 51 per cent of the 138 articles analysed were either negative or very negative toward the industry.?.', 'The highest recent rate of warming based on its linear trend occurred during the 157-month period that ended about 2004, but warming trends have dropped drastically since then.', 'Carbon cycling was much smaller during last ice age than in todays climate Atmospheric carbon dioxide (CO2) is one of the most important greenhouse gases and the increase of its abundance in the atmosphere by fossil fuel burning is the main cause of future global warming.', 'In 2009, Professor Henrik Svensmark from the Danish National Space Centre, said that the last time the Earth experienced unusually high temperatures, in the later Medieval period, there had also been an increase in solar activity.', \"Canada remains the largest foreign supplier of natural gas to the United States, and the United States is Canada's largest export market for gas, but volumes have been falling as new U.S. natural gas supplies come into the market.\", 'Converting millimeters into inches, in 2005, the net contribution of Greenland ice mass changes to sea level rise is about 0. inches.', \"He gives more speeches than the agency's head, according to NASA.. Facts : It has been 9 years since the last Category 3 hurricane (Wilma, 2005).\", \"Obama's EPA Finalizes Latest Job-Killing Policies For 26 States Will Cost Taxpayers $1.\", 'There appear to have been more category four and category five storms post-1928 as compared to pre-1928 (12 vs. 9).', 'Five senators, all Republicans, even sent a letter this week to Mr. Clinton urging negotiators to keep in mind that the Senate is clearly on record, by a vote of 95-0, regarding what kind of climate-change treaty would be acceptable.', 'The IPCC also claims that observations of globally averaged temperature anomaly are also consistent with computer model predictions of warming.. \"The Treasury will issue net medium- and long-term debt of 47. billion euros ($62.', \"Past research on global warming was based on a long-term United Nations projection, issued in the early 1990's, of 11. billion people in 2200, far more people than we're ever likely to see.\", 'This analysis, prepared by NERA Economic Consulting, concluded \"the US would experience net economic benefits from increased LNG exports\"and they could be staggering.', 'I would not agree that [carbon dioxide is] a primary contributor to the global warming that we see.', 'ABS statistics indicate a population increase from 7853 in 1933 to over 132,000 in 2008.', 'A similar, though smaller, divide was found in Britain.. \"Thieves stole credit and debit card PINs from thousands Barnes & Noble customers, not by breaking into the company\\'s website, but by hacking the keypads sitting right on their store counters.\".', 'The USGS estimated 7 billion barrels at Prudhoe Bay.', 'Hydropower only supplies 6 percent of the electricity in the United States.', 'The total amount of fossil fuel burned to date (historically to 2010) by humans is 3. x 10^14 kg-C, less than half of the carbon contained in the atmosphere as a minor constituent gas.', 'The National Weather Service even extended a winter weather advisory for several counties until Saturday morning..', 'The UN Intergovernmental Panel on Climate Change says there can be little doubt that humans are responsible for warming the planet, but the organisation has reduced its overall estimate of this effect by 25 per cent.', 'Refiners have eliminated lead from gasoline and reduced its sulfur content by some 95% while coal-fired power plants now remove 80-95% of the particulates, mercury, nitrogen oxides and sulfur dioxide that they emitted in 1970.. New Source Review: Report to the President (pdf).', 'The researchers determined that both Roman and Medieval Periods experienced temperatures that were significantly higher than those of the current period.', 'Water vapor and water in clouds absorb nearly 90% of the infrared radiation, while carbon dioxide, methane, and the other minor greenhouse gases together absorb little more than 10% of the infrared radiation..', 'Antarctic sea ice underestimated by 50%.. Scientists looked at 13 polar bear subpopulations and found \"much of the scientific evidence indicating that some polar bear subpopulations are declining due to climate change-mediated sea ice reductions is likely flawed by poor markrecapture sampling.\".', 'GE estimates there are 15 million natural gas cars globally today, and around 250,000 in the U.S.??.', 'Note also that only a handful of early credit bills were introduced, all in the 105th, 106th, and 109th Congresses, and all went nowhere.', 'The new projections show the global population rising from just over six billion now to just under nine billion in 2050, followed by a decline, moving downward in a geometric progression.. To suggest that climate science money trickles down from government would be a gross understatement.', 'Note:Erikson and Lazarus assume that an additional 830,000 bpd would increase CO2e emissions by110 million metric tons, not 181 million, as in Chip?.', 'The Danish Meteorological Institute reports that Greenlands ice sheet has seen more growth so far this year than in the last four years.', 'The past 4 years have seen 12 major landfalling hurricanes, very low but not unprecedented ?.', 'Soon, the Obama administration published a five-page talking points memo assailing the economic assessment written by two young, non-economist, pro-wind activists from the National Renewable Energy Laboratory (NREL) in Boulder, Colorado..', 'Then, from 1940-1979, CO2 increased by 30 ppm while temperatures declined again.', '?s summer drought, NASA scientist James Hansen made a big splash with a study in Proceedings of the National Academy of Sciences and a Washington Post op-ed arguing that global warming was the cause ofthe four biggest hot spells of the past 10 years.', 'So how can global warming be causing current and future extreme weather events when global warming as predicted has not been happening for a decade and is unlikely to happen during the next 30 years since the world 60-year climate cycle is heading for colder weather due to changing ocean surface temperatures and changes in deep ocean currents?.', 'A typical carbon tax of $20 per metric ton of carbon dioxide, rising at a nominal rate of 5.% a year, could bring in $1.', 'In November, the Pacific Decadal Oscillation or PDO dropped to its lowest level since 1961 at -2..', 'Indeed, approximately 40% of Danish carbon tax revenue is used for environmental subsidies, while the other 60% is returned to industry..', 'In fact, the National Climate Data Center (NCDC) reports the Southeast region has experienced slight global cooling since 1895 through September, 2010.. Total US installed capacity of natural gas (442GW) plus renewables (187GW) is now at 629GW (58% of the total power generating mix) up from 605GW (56%) in 2011 and 548GW (54%) in 2007.', 'In 2009, the European Commission called on the Obama administration to join with Europe in establishing a joint mandatory transatlantic carbon trading scheme based on the EU ETS system.', 'The only consolation at the moment is that global temperatures have failed to rise for more than a decade now, and have turned sharply downward in the past 18 months.. Making matters worse, dense conifer canopies intercept rain and snow, with 30% lost to evaporation instead of soaking into the ground or flowing into rivers.', \"In other words, President Obama looks like he has been played for a fool by the Chinese, or that he played the role all by himself.. NASA's James Hansen has estimated that the greenhouse gases already emitted into the atmosphere are likely to deliver about 1 of additional warming by the year 2100, regardless of what we do to slow the growth in greenhouse gas emissions today.\", 'For example, this amount equals 58/100 of 1 percent of the total electricity imported into New York in 2000.', 'During 2014, sea ice extent has been above normal for 245 days, at an average of 295,000 sq km..', 'The rate of warming according to the data is much slower than the models used by the IPCC', 'Unfortunately, solar energy costs 10 to 20 times more than coal and nuclear power.. Energy reality continues to set in for the government-dependent energy sector, industrial windpower.', \"Climate change is not happening, there is no significant man-made global warming now, there hasn't been any in the past, and there's no reason to expect any in the future.\", \"NASA 'admits' climate change not caused by fossil fuels\", 'The Williams Lake Airport received 51 cm (20 inches), with the next highest being the Coquihalla Summit where they received 35 cm (14 inches), and Allison Pass which received 32 cm (13 inches)..', 'The summer of 2012 didnt even rank in the top ten for daily record maximums.', 'It had wind speeds over 300 mph and destroyed 15,000 homes..', 'Investment in newer and cleaners plants has ground to a halt in places such as the United Kingdom where the government has embraced the Kyoto treaty and pledged to cut greenhouse gases by 5.m tonnes by 2010.', \"The Sierra Club's total assets were $50 million in 2010, according to Politico..\", 'On average, garden tomatoes gain 32.. because they may see it as a licence to engage in premarital sex,\".', 'The EU also is quietly rolling back its renewable agenda, which EU leaders now recognise has been raising energy prices across the Continent.', 'The smaller resorts of Mount Buffalo, Mount Baw Baw and Lake Mountain become marginal for skiing at 2020, even in the most optimistic scenarios.', \"This practice was affirmed in a report by the Department of Commerce's Office of Inspector General earlier this year..\", 'The economic cost of climate policy for the market to absorb is estimated to amount to as much as approximately $8 trillion cumulatively, by 2030.\".', 'He shows a sharp rise in temperatures after July just as the coldest La Nina on record set in.', 'Trashy Photo shows Aftermath Of The Climate Change Rally In Hyde Park', 'See also Sam Tangredi, ed., Globalization and Maritime Power, National Defense University, 2002.. As Ive shown several times already, even the 2009 Black Saturday fires were far from our biggest recorded - in 1851.', 'Exponent commented as follows: There are seven pairs of measurements (highlighted in orange and red) in which the drop in pressure between the earlier ball tested and the later ball tested is greater than or equal to 0. psig, and there are three pairs of measurements (highlighted in red) in which the drop in pressure between the earlier ball tested and later ball tested is greater than or equal to 1. psig.. At the same time it released its report, EPA issued seven recommendations, the first four of which were proposed by the Clinton administration in 1996 but never implemented.', 'The Financial Times reports that China has reassumed its position as the top manufacturing country, measured as proportion of global output..', 'Indeed, satellites show that Earths total vegetation increased 6% just from 1982 to 1999, as CO 2 levels increased.', 'Over the past ten years, oil imports have fallen by more than half.', 'The latest UN IPCC report deleted all references to this temperature standstill from the Summary for Policy Makers, and eliminated an IPCC graph that revealed how every single climate model predicted that average global temperatures would be up to 1.', 'Following the coldest June in nearly 40 years and the coldest July in 50 years, this month is now one of the coldest Augusts since records began in 1851..', 'So far Europe?s emissions trading scheme has cost consumers more than ?300bn.', 'While they dont get much mainstream press coverage, several scientists are reporting an unprecedented increase in the worlds polar bear population.. On longer time scales, ocean mixing caused by deep ocean currents causes long term changes in ocean temperatures.', 'Yet the actual plotted global temperature results on Chart #2, through June 2013, reveal that global warming has died and world temperatures are well below the NASA \"business as usual\" scenario.', 'The only people that seem to be unable to get their arms around the reality is the enviroslooking for a utopia where the air is clean as in no pollutants.. Microsoft has received federal contracts worth $852 million under Obama, according to USASpending.gov, and the company spent about $6 million on lobbying last year, pushing its case on tax credits, education funding and immigration policy..', \"I also started writing to the Media Research Center this year, asking them to include PBS when they criticized broadcast news outlets' lack of balance in global warming stories.\", 'The propellent is now in 97 bunkers stored wall-to-wall and ceiling-to-ceiling.', 'Within the past two years, at least seven peer-reviewed studies published in the scientific literature have concluded that the influence of doubling the amount of CO 2 in the Earths atmosphere is likely to be substantially lower than IPCC has determined and have ruled out the high-end projections.. To hear the Obama Administration explain it, Russia and the United States have common interests in Syria, difficult though it may be to reach an agreement based on them.', 'CO2 has increased by 10% over the last 18 years, with no warming.', 'Estimates suggest that as many as 100 million people participated.', 'Since most research has found that a dollar spent on mitigation returns somewhere between $3 and $7 in long-term savings, investing in making properties more storm resistant will also save taxpayer money while facilitating a switch to risk-based insurance rates.', 'There was an Ice Age 450 million years ago when CO2 was about 10 times higher than it is today..', 'The work of Groisman and his co-authors shows that elements of the cryosphere across northern Eurasia did decline over the past 50 years (1956-2004).', 'As reported in The Heartland Institute\\'s Environment & Climate News, \"European governments, once at the vanguard of renewable energy mandates, appear to be having second thoughts about their reliance on giant wind farms \" There has been a sharp drop in such projects with installations plunging 90% in Denmark, 75% in Italy, and 84% in Spain.. Vilsack insisted at the time that the planting restrictions were necessary to help biotech and organic crops coexist more peacefully.', 'They asserted, \"According to a United Nations\\' study, every ton of greenhouse gas emitted into the atmosphere costs each American up to $160and we are emitting billions of tons each year.\".', 'In terms of aggregate GDP, these gains translate into almost $3.', 'Hybrid sales waned as gasoline prices ebbed in 2011, declining to 2. percent of the market from 2. percent a year earlier, according to the research firm LMC Automotive.', 'There was global warming on the order of about 1F during the twentieth century.', 'Including the new sea surface temperatures, which push up global temperatures by 0.C, the warming rate for the past 10 years is estimated at 0.-0.C.', 'Satellite data shows that Arctic Sea ice extent is now the greatest for mid-June since at least 2005.. A new paper published in Climate of the Past finds climate models are unable to reproduce the climate change of the past 6,000 years found by temperature proxies.', \"But it turns out that the fuel burned in all the gasoline-powered engines used in the United States produces about two-tenths of 1 percent of worldwide carbon dioxide (which is only one of the greenhouse gases thought to cause what may be some warming of the world's climate).. James Murrays proposition seems to be essentially an updated form of environmental determinism, an approach once popular in academic circles but recently less so.. Satellite data shows that glaciers in part of the Karakoram range on the China-Pakistan border are putting on mass, defying (supposedly) the general trend toward glacier shrinkage.. Five elephants will trek 250 km in Thailand to urge US President Obama to take action against global warming The Chang(e) Caravan project is aimed particularly at urging Obama to bring up the issue of a worsening global-warming at the Copenhagen summit .\", 'Last year the number of fuel poor households, those where more than 10% of income goes on energy bills, was revealed to have hit 5.m in 2009.', 'In December 2006, scientists at Sandia National Laboratory in New Mexico issued a report, Energy Demands on Water Resources, explaining that virtually all forms of energy production consume a lot of water.', '‘No correlation’ between carbon dioxide emissions and the climate', 'Only the older but curative cancer drugs drugs that can cost as little as $3 per dose have become unavailable.', 'A Wall Street Journal/NBC poll in January found that \"climate change\" ranked last on a list of 15 issues when people were asked which ones the administration should make its priorities..', 'This map shows what the US will look like in 30 years because of climate change', 'Recently , about one-third of Americas huge corn crop has been diverted from food and feed into an ultra-costly auto fuel that gives consumers poorer mileage even as it drives up their food costs .', 'Based on national rates of 8% of over age 12 being users, about 500,000 of those are illegal drug users.', 'At least 10 people have died in the country as a weather system driven South from Siberia sent temperatures plummeting .Below are some pictures of snow from that region.. in a rather interesting fashion.', 'The BP data show that between 2002 and 2012, global coal consumption grew by the equivalent of about 26 million barrels of oil per day.', 'The only other known date with four hurricanes occurring at the same time was September 25, 1998 , when hurricanes Georges, Ivan, Jeanne and Karl were in existence..', 'Current polar bear numbers are estimated to total between 20,000 and 25,000..', 'It basically forces developed countries, accounting for less than one-fourth of total global emissions, to cut back on releasing carbon dioxide through the Clean Development Mechanism.', 'In 2012, the UK Meteorological Office reported that global temperatures have virtually remained steady since 1997 .', '?The US has the cleanest, most heavily regulated drilling and mining facilities on earth, right??.', 'The latest science suggests the equilibrium climate sensitivity probably lies between 1.C and 2.C (with an average value of 2.C), while the climate models used by the IPCC have climate sensitivities which range from 2.C to 4.C with an average value of 3.C.. Richard Nixon launched the shuttle program in 1972, but the president whose name will always be associated with it is Ronald Reagan..', 'The Obama Administration has thus far imposed some $743 billion of those new costs, via 4,432 new rules requiring 754 million hours of paperwork, according to a new American Action Forum analysis.', 'As the years passed, the size of the disaster increased; by 2000, the BBC and New York Times estimated 15,000-30,000 dead, and so on.', 'In April, researchers from the Lawrence Livermore National Laboratory reported in the Proceedings of the National Academy of Sciences that forests in northern regions those north of the line of latitude that runs through southern Cuba will warm surface temperatures by an estimated 10 degrees Fahrenheit by the year 2100..', 'In May 2013, the CO2 concentration in Earths atmosphere surpassed a milestone of 400 ppm for the first time in human history, a level that many scientists consider dangerous territory in terms of its impact on Earths climate.. Are these uncertainty intervals adequate?.', 'Critically, the warmer temperatures appear to have resulted in global sea levels some 6. to 9. metres higher than today, with a rate of rise of between 60 to 90 centimetres per decade more than double that recently observed.. How valid is the 2014 claim?.', 'In fact, the actual temperatures are practically below the NASA model\\'s \\'Scenario C\\' (the cyan/aqua curve on chart) that assumes CO2 emissions had been reduced to year 2000 levels.. M-pesa has in turn improved access to capital even more, and technology businesses are thriving all over Kenya as a result.. A new paper published in The Cryosphere finds the largest ice cap in Tibet had approximately equal gain and loss of ice mass between 2000 and 2012, such that \"Overall, our results show an almost balanced mass budget for the studied time period.', 'According to the International Union for the Conservation of Nature (IUCN) Red List of Threatened Species there has been a 70 percent decline in the global population of female Leatherbacks in one generation..', 'A period of high global temperatures near the beginning of the last millennium closely matches the warming witnessed, about one degree Fahrenheit, during the 20th century, according to a new study in the March 22 issue of Science.. Northern Hemisphere CO2 levels undoubtedly continued to climb monotonically on an annual scale over the period 1982 2006 and we can reasonably presume was accompanied by no significant attendant global warming since about 2000..', \"The union responded to Paterson's proposal with an ad blitz extraordinary in its cost$1 million per week, for a month of television and radio spotsand viciousness.\", 'The union supplements its lobbying efforts with state-level political contributions, which have totaled $9.', 'but it ?ranks as one of the most expensive U.S. fossil fuel projects ever?at $4.', 'Burning a ton of coal emits about 3 tons of carbon into the atmosphere, so we are responsible for 30 tons of green greenhouse gases!.', 'According to NYSERDA , the average NYS residential electricity rate in 1999 was 13. cents per kilowatt hour (kWh).', 'This rate of ice mass loss translates into about 1 inch of sea level rise per century.', 'Temperatures dropped to -3C in West Salmi, -2C in north Abdaly, and 3C at Kuwait International Airport.', 'Yet, several studies presented at the latest American Association for the Advancement of Science (AAAS) Conference emphasize that sea level will rise by about 1000 mm per century ?.', 'Opponents (including Forecast the Facts and Occupy Wall Street) promised to disrupt the conference and failed utterly fewer than 50 people showed up for their rallies.', \"): a national nonprofit plan, not run by the government but with funding seeded by the federal government, available where private plans don't cut the mustard.. McCarthy and the Post apparently neglected to notice that no UN category 3-5 hurricanes have struck the U.S. coast since October 2005, setting a more than century-long record lull since 1900.\", 'Ted Cruz wrote this tweet about climate change in 2016', 'It was reported to be 185 mph the day it made landfall, but nobody knows for sure.', 'Under a doubled-CO 2 scenario of enhanced greenhouse and aerial fertilization effects, for example, they calculated NPP increases for 14 of the 21 stands studied, obtaining enhancements that ranged from 8 to 55%..', 'Weve doubled the number of current donors since February.', 'According to the Institute\\'s website, it was \"established in May 2008 through a generous 12 million donation from the Grantham Foundation for the Protection of the Environment, and works closely with the Grantham Institute for Climate Change at Imperial College London, which was launched in February 2007.\".', 'The IPCC concedes for the first time that a 15 year-long period of no significant warming occurred since 1998 despite a 7% rise in carbon dioxide (CO2).', 'The National Post also reported on March 29 that Prime Minister Jean Chretien \"appeared to be softening his commitment to ratifying the Kyoto Protocol.\".', '?Water Vapor accounts for the largest percentage of the greenhouse effect, between 36% and 66% for clear sky conditions and between 66% and 85% when including clouds.??.', 'Yesterday I posted the satellite-based global-average monthly sea surface temperature (SST) variations since mid-2002, Which was When The NASA Aqua satellite was Launched Carrying the Advanced Microwave Scanning Radiometer for EOS (AMSR-E).', 'And the derided top 1 percent paid 23. percent of the income tax.. At the same time, the paleoclimate data revealed average ocean temperatures that were only about 0. degrees Celsius, or 1. degrees Fahrenheit, above those of today.. is an important one.', 'Yet the IPCC itself finally admitted the \"pause\" in its latest report.. That admission came in a new paper by prominent warmists in the peer-reviewed journal Climate Dynamics.', \"Obama is now using BP's oil spill to push the global-warming legislation that BP had lobbied for.. Judith LEAN: Variations in Solar Irradiance and Climate.\", 'While Americans grapple with the Obamacare debacle and 90 million are officially unemployed according to the Bureau of Labor Statistics, there is another threat to our future as environmental groups like the Sierra Club and Friends of the Earth continue their assault on the provision of electrical energy, the lifeblood of the nation?s economy and our ability to function at home and on the job..', 'Today Swiss glaciers are shrinking by nearly 33 feet (10 meters) a year, on average.', 'According to the report, the program by 2008 had reduced the nations carbon dioxide emissions by only 0. percent, at an average social abatement cost of $257 Australian to $301 Australian per ton of reduced carbon dioxide emissions.', 'The United States is currently doing this in New Orleans, where people are re-building in an area that is still at risk from storm surges and levee failure.. Democratic attorneys general mounted a dogged defense Tuesday of their effort to prosecute climate skeptics amid signs that the 4-month-old campaign is deteriorating into a legal and public relations flop..', 'Eight sculptors in Pingtung, in southern Taiwan, spent half a year carving the wooden penis.', 'In Slovakia, the government stopped issuing solar licenses barely six months after launching its program.', 'In August, U.S. natural gas production hit nearly 91 billion cubic feet per day.', 'I have lost 30 pounds since late June.. \"Thanks to the industry\\'s investment of $188 billion, major emissions from coal-fueled power plants have been reduced by nearly 90 percent,\" said Sheehan.', 'In 2002, the House passed trade promotion authority by just a 215-212 margin, with aye votes from 190 Republicans and only 25 Democrats.. Empirical evidence shows that Earth is currently ?.', 'Emissions offset by the installation of wind turbines appear to be surpassed by emissions from the need to cycle.. As the CO 2 concentration of the air continues to rise, it is likely that this invasive mite, which negatively affects more than 150 crop species, will exhibit reduced reproductive success and subsequent colonization of bean foliage.', 'They also warned that such a treaty would send 1 million U.S. jobs to developing countries.', 'Climate experts claim that hot days in the US are becoming more common due to increased CO2, but the data shows the exact opposite.', 'Last year, I put together an additional collection of my texts devoted to this subject Blue Planet Endangered, Doko?n, Prague, 2009 (in Czech language).. Add to that the fact that more than 2/3rds of the worlds stations (most rural) have dropped out and or are often missing monthly data, 69% of the first nearly 600 US stations evaluated by Anthony Watts surface stations.org are poor or very poorly sited with only 4% meeting official standards and no changes were made for the known biases of new instrumentation..', 'A recent report by the CPUC California Net Energy Metering (NEM) Draft Cost Effectiveness Evaluation (Sept. 26), reported that net-metered solar energy rooftop systems will shift $1.', 'It is now six months since I reported on what even environmentalists are calling \"the biggest environmental scandal in history\".', 'Moreover the WBDGE site writes that Arctic sea ice has grown strongly over last year and that there has been no melting trend there in almost 10 years..', 'The United States Geological Survey projects possible undiscovered resources at more than 50 trillion cubic feet of natural gas, 148 million barrels of natural gas liquids and between 7 and 35 million barrels of oil.. That wasntalarmingenough either, so they bumped the numbers up to 3. mm per year, almost triple the 1990 number without any evidence that sea level rise had accelerated..', 'That same year, the IPCC released its fourth assessment report, which declared that \"most of the observed increase in global average temperatures since the mid-20th century is very likely due to the observed increase in anthropogenic greenhouse gas emissions.\".', 'And the highest observed warming in both hemispheres occurred at the mid-latitudes in the Pacific.', 'This compares unfavorably to nuclear energy (4 cents), is about the same as for energy from natural gas, and only slightly less than coal-fired electricity (9 cents).. Barking madness in the New York Times: Global warming blamed for coldest winter in China in 30 years and many other extreme cold events; story illustrated with a photo of snow on the palm trees of Jerusalem.', '\"The Tampa to Orlando line had the backing of everyone from business to the state\\'s Republican legislators; but Rick Scott, the new Tea Party-backed governor, blocked it as a \"big government boondoggle\".', 'It quickly refroze in a few days even before the flurry of news stories hyping it stopped..', 'The semiofficial Fars News Agency reports the find, in ultradeep waters, may hold the equivalent of 7 percent of the countrys known national reserves.. Hansen\\'s Teflon credibility wasn\\'t even scratched after the August revelation that since 2000 he and his fellow scientists had been incorrectly crunching the data from about 1,200 ground weather stations that NASA uses to take the country\\'s annual average temperature -- and which the unquestioning mainstream media used as \"proof\" the country has been getting hotter every year since 1998.. To address global warming, we\\'re going to do something that may surprise the save-the-planet camp: burn more fossil fuel less efficiently.', 'This weather pattern, known as the Arctic Dipole, was also responsible for the record sea ice loss in 2007, but was stronger that year.. \"The world is experiencing a rapidly rising frequency of extreme climate-related events such as heat waves.\".', 'Norway spruce trees are growing a healthy 32 percent faster since 1960, while European beech trees are growing an astounding 77 percent faster since 1970.', '\"Google Inc. is close to settling a U.S. criminal investigation into allegations it made hundreds of millions of dollars by accepting ads from online pharmacies that break U.S. laws, according to people familiar with the matter.', 'According to the Paris-based International Energy Agency, in 2012 the world emitted a little over 31 gigatons of carbon dioxide.', 'The paper presents a detailed overview of the surface temperature measuring stations, with Europe covered for more than 150 years and the US for more than 110 years.', 'Figure 1 shows that sea level rise has remained constant since 1940 no acceleration over the last 70 years!.', 'The price of water in Australias largest water markets in the Southern Murray Darling regions experienced extreme volatility during the 07-08 season, peaking at $1200 per ML in November 2007 only to drop to below $300 per ML in February 2008.', 'Greece has slashed the guaranteed feed-in prices it pays to some solar operators and is no longer approving permits for their installation.', '30,000 scientists have signed a petition arguing that there is no convincing scientific evidence for anthropogenic climate change.', 'But, we have this graph charting the rise and fall of arctic sea ice for the last 365 days, notice that the arctic sea ice is right back where it started at in February 2007..', 'Germany?s green energy transition alone may cost consumers up to ?1 trillion by 2030, the German government recently warned..', \"Of greater concern to the system's advocates is that prices of tradable emissions permits in the EU ETS have declined to record lows in the commodities marketplace.\", \"The subpoena was issued by Virgin Islands Attorney General Claude E. Walker, a leader of the prosecutors' climate change campaign..\", 'Well, it was not quite as bad as Beijing during the winter, but air quality really degraded around the Northwest last night as massive amounts of fireworks were deployed..', 'Last of all, they indicate that \"glaciers in the Alps attained their Little Ice Age maximum extents in the 14th, 17th and 19th centuries, with most reaching their greatest Little Ice Age extent in the final 1850/1860 AD advance .\".', 'When alternative energy incentives were put in place, it was thought that other countries would join us in cutting back.. Germany?s renewable energy levy, which subsidises green energy production, rose from ?14bn to ?20bn in just one year as a result of the fierce expansion of wind and solar power projects.', 'The BLS reported today that total job openings in May (4. million) reached their highest level since June 2007, and openings for private jobs (4. million) were the highest since April 2007.', 'Theres likely to be less winter rainfall across much of the country too, with the bureau saying much of the continent only has a 30 to 45 per cent chance of exceeding average rainfall..', \"The consumer impact of America's massive land and petroleum resource lockdowns is much higher.. That is because proposition 2 is far from settled.\", 'While the White House economic report does not address those criticisms directly, it says greater domestic energy production, the use of wind and solar power and the reduction in oil consumption have had substantial economic and energy security benefits, and they are helping to reduce carbon emissions in the energy sector and thereby tackle the challenge posed by climate change..', \"They played no role in uncovering the fraud, but they are hounding bank officials and demanding $185 million in fines.. For hundreds of millions of the world's poor, however, coal is cleaner and more energy efficient than the alternative.\", 'The correlation between solar activity and water temperature is even higher than the correlation between solar activity and land temperature.. Narrator: Like heat-related mortality, air pollution levels have fallen as cities have warmed.', 'Australian target set at 26% reduction by 2030 billions spent to reduce global CO2 emissions by 0.%.', 'I currently have 5 policies to cover 10 states.. As we argued in a previous AEI Environmental Policy Outlook in June, a revenue-neutral carbon tax, offset by reductions in taxes on productivity is a superior policy option to carbon emission trading in virtually every dimension.', 'The data displayed above on weekly earnings for full-time workers in 2014 by race and gender are from the Women in the Labor Force: A Databook that was released last month by the BLS.', 'Hillary Clinton: ‘It’s Time to BAN Cash To Fight Climate Change’', 'They could have mentioned the remarkable absence of hurricanes making US landfall in the last 6 years or the fact there have many earlier decades with more major hurricane strikes than the last one..', 'It trashes the idea that global warming hurt the Alaska polar bear populations in 2004 and 2006, when bear counts were one of the pieces of evidence used to have the bears listed as threatened in the U.S.. One instruction was to change a correct statement about warming rates into a flat lie: \"Change \"continue to rise\\' to \"rise by even greater amounts\\' to provide a sense of magnitude of the extended change.\".', 'No Category 3 or stronger storm has made landfall in the US since Katrina in 2005 the longest hurricane \\'drought\\' on record.. As for recent deforestation, there are currently three main factors: \"(1) agricultural and livestock expansion (human population growth leads to expanded needs for crop and grazing lands); (2) increased demand for commercial forest products (national economic development and international trade stimulate mainly timber harvesting); and (3) increased demand for noncommercial forest products (fuel wood, fodder, and others).', 'In the United States, the oil and gas industry does get approximately $4 billion per year in federal handouts.', 'Much of the private financing came after the Department of Energy announced that Solyndra was one of 16 companies eligible for a loan guarantee in 2007.', \"Climate change is a hoax created by the West to derail China's growth.\", \"I can't explain his motivations, for why he was only one of two Republicans in the entire Congress to vote against the tax cut.\", 'Indeed, earlier this year David Whitehouse from the Global Warming Policy Foundation concluded that there had been no global warming for 15 years ..', 'Global ACE is still near 33-year lows , and shows no signs of picking up anytime soon.??.', 'There was, in fact, a fairly rapid decrease in Arctic sea ice extent sea ice extent over the last few years.But thelosses werealmost entirely recovered in an unprecedented ice build-up of Arctic sea ice in the last months of 2007 and the first months of 2008.', 'Bering Sea ice has been normal or above normal, and at record levels for the last two years..', 'This suggests a second threshold question: when did the United States last experience per-capita CO2 emissions of only 2. tons?.', 'You cant write a novel about a global disaster in which only 50 people die..', 'Nevertheless, last month the Canadian federal budget allocated $1 billion more to support new environmental technologies.', 'climate models have overestimated the amount of global warming and failed to predict what climatologists call the warming ‘hiatus’', 'Using more realistic assumptions CRA believes that permit costs of $170 are plausible \"even if there is a restricted form of international emissions trading.\".', 'In a gulag, people were at least given the same rations, which did not lessen from one day to the next, but the Kyoto Protocol proposes decreasing rations day by day ..', 'As for Category 5 storms, there have been only three since the 1850s: in the decades of the 1930s, 1960s and 1990s.. 13.', 'Governor Jerry Brown recently raided Californias dedicated green fund raised through its cap-and-trade system.', 'The Wall Street Journal today published a selection of the leaked emails and an editorial concluding that the emails \"give every appearance of testifying to concerted and coordinated efforts by leading climatologists to fit the data to their conclusions while attempting to silence and discredit their critics.\".', 'As a result of paying more for energy and job losses, the report predicts that poverty rates for African Americans and Hispanics will increase by 20% and 22% respectively.. Abraham then trots out various papers he found in his Google Scholar search, one of which says that the world is warming because of human activities: but that was not the point made in my slide.', 'They are much less likely than Libertarians to say government should be smaller (85 percent vs. 55 percent), and are significantly less likely to say that cutting major programs should be the main way to cut the deficit (47 percent vs. 8 percent).', 'From 1995 to 2008, California added only 42,000 new green jobs.', \"This is the exact opposite of the 100% fraudulent NCDC climate extremes index (CEI) which reports that the region of the country with unusually hot days has increased to record levels.. To counteract all this reverence and submission, but there a widespread delight in seeing yesterday's heroes as villains or failed today, and periodically choose a character like idol of the moment, to be preserved in order to vent their contempt more ' the '(and mourn his tragic demise in most cases) ... Hurricane Sandy was asuper storm not because it was an intense hurricane (Sandywas a category 1before making landfall), but because it was massive in area and merged with a winter frontal storm.\", 'For example, data for the last hundred years show no correlation between average winter temperatures in California and subsequent Sierra Nevada water runoff during the spring.', 'The correlation with carbon dioxide seems to have vanished or even reversed in the last decade.. CEI Expert Available to Comment: Senior Fellow Iain Murray on what everyone should know about global warming.. As DeGregori notes, in the United States today we have about the same amount of land under cultivation as we had in 1925, yet grain output is seven times greater, indicating technological advances increase sustainability.. Coal production dropping by 60 percent and coal employment dropping by more than 40 percent by 2030,.', 'Even if other countries did nothing to reduce carbon use, successful geoengineering would have global effects and largely eliminate any need for carbon caps and the regulatory burden of monitoring and enforcement.. Particulate matter (PM, or soot) is down roughly 67 percent from 1970 levels, and is lower now than at any time since measurements began in the 1930s.. Empirical analyses of the emissions avoided in electricity grids in the U.S. and Europe indicatethat (1) wind turbines are significantly less effective at avoiding emissions than is commonly assumed and (2) effectiveness decreases as the proportion of electricity generated by wind turbines increases.. Hansen Compares Conservatives and Climate Change Skeptics to Neanderthals.', \"The comments are open, as always, for your Reader Tips.. Heartland doubled the number of individual donors since Peter Gleick's Fakegate scandal.\", 'trillion, and they dwarf corporate income taxes of $345 billion,\" said Wayne Crews, author of the annual report, Ten Thousand Commandments: An Annual Snapshot of the Federal Regulatory State.', 'Three East Coast refineries have already closed, costing thousands of jobs and causing the Department of Energy to warn that pump prices are likely to soar even higher in Eastern states.. in unionization elections.', 'In many cases you will find, on an open claim, the insurance company may have paid out $5,000 to date, but may have say $15,000 total reserved, meaning they estimate the payouts might reach that point some day.', 'CO2 was much higher for most of the last 600 million years, and life thrived.. For example, 18 years of sea level measurements from satellites suggested a trend of 3. mm per year until a drop in 2010, attributed to a shift from El Nio to La Nia, neither event accepted by the IPCC as a cause of climate change.', '“Believing CO2 controls the climate is pretty close to believing in magic.”', 'The NWICO project was simply quietly transferred from Paris to New York, from UNESCO headquarters to UN headquarters.', 'Ted Cruz tweeted in 2016, \"I’ll believe in climate change when Texas freezes over.\"', 'Economists predict that should 10 times more fossil fuel be burnt, there would be a 25 percent reduction in the size of our economy (GPD) by 2100.. During the last 10,000 years the climate has remained relatively warm and stable, allowing humans to advance and prosper.', 'One of the reasons was a 4. percent reduction in manufacturing output.\".', '96% of climate data is corrupted', '?blocking would increase in response to increasing greenhouse gases.??.', 'still frozen up, and doubts were entertained as to the possibility of escape,\" Captain Francis McClintock wrote in his ship\\'s log in 1860.. Hudson Bay sea ice cover is the highest since 1992, and is the third highest on record.. $ M \\\\leq M {Planck} / N^{1/2} $ This statement is supported by.', 'According to the authors, America has more recoverable oil and gas than Russia, twice as much as China, and three times as much as Saudi Arabia..', 'The amount of federal land leased for mineral rights decreased 20% since 2008.', 'Spanish environment minister flew to climate conference by private jet', 'According to his estimates, CO2 trading will be a $40 billion annual industry by the end of this decade.', \"Models projected 230 percent more warming than the median value of the combined observational data sets.. Further, if India and China don't also sign up to cut their carbon emissions-and they did not embrace Kyoto-these proposed dramatic cuts in American carbon emissions alone would not solve the problems of climate change.. During his visit to America, Pope Francis has placed the responsibility for global warming on mankind and called for countries to reduce greenhouse gas production..\", 'The Sierra Club Foundation 2004 budget was $91 million and the Natural Resources Defense Council had a $57 million budget for the same year.', 'BPs Energy Outlook 2035 report forecasts that Chinas oil, natural gas and coal use will increase by some 50% and its carbon dioxide emissions by 37% over the next 20 years.', \"This work revealed that over this half-century interval, the net primary productivity (NPP) of Europe's forests rose by approximately 67%, while their biomass carbon stocks rose by approximately 75%.\", 'A further study on North American drought story appeared in mid-2013 in PNAS by Asmerom et al.', \"After adjusting for the US population, 2013 was the safest year in US history for America's law enforcement officers, followed by 2015 as the second safest year in US history.\", 'In fact, the most electricity wind produced on any day during last weeks heat wave was an average of 320 MW on July 3rd, or about 10 percent of the capacity of the wind turbines built in Illinois, when temperatures soared to 103 degrees..', 'Map showing U.S. submerged underwater by 2052', 'We now have an average rate of 4. gun homicides per 100,000 in the ten most anti-gun jurisdictions, and a gun homicide rate of 3. per 100,000 in the ten jurisdictions with the fewest gun regulations, even if we include the outlier, Louisiana.', 'Likewise, the longest period of reconstructed spring drought was the four-year period 1476-79, while the single driest spring was 1746.', 'Gasoline prices are likewise climbing to unaffordable levels, and the majority of United Kingdom companies will see their natural gas and electricity prices skyrocket by 100% between 2012 and 2016 on top of a carbon tax bill of \"at least\" $65,660 ( 42,000) annually according to the analytical firm Carbon Masters..', 'Dozens of people have already died, and almost 150 hospitalized..', 'Over the last 120,000 years, there have been 25 periods of warming where temperature rose by up to 8 deg C. These were not driven by human emissions, were natural and were neither irreversible nor catastrophic..', 'Since then, there have been just two more instances in which the price of wind power in Denmark turned negative for a significant period of time because of excess wind, according to the national grid company, Energinet.dk.. What is the origin of the false beliefconstantly repeatedthat almost all scientists agree about global warming?.', 'Compared to the average of the period between 2010 and 2012, a 33 percent increase in sea ice volume was found in 2013 and and in 2014 there was still a quarter more ice than during that period.', 'The authors state that heavy metal pollution in agricultural soils is receiving ever more attention, citing Tang (2006) and the IPCC (2007), while noting that China possesses more than 130 km 2 of cadmium (Cd) contaminated soil due to wastewater discharge from mining operations and industrial emissions, citing Xiong et al .', \"The political landscape is further complicated by a fierce response from companies who operated in reliance on the old regime and are now fighting the EPA's regulatory initiative.. Nearly half the people who say they believe in global warming base that on personal observations of the weather.\", 'Meanwhile, politically-connected corporations would make a bundle, since the \"bill would give away some 85 percent of the permits\" to emit carbon dioxide to favored \"businesses instead of selling them at auction.\".', 'The sea level rise rate today is about 3 mm per year and decreasing according to satellitedata.', 'report that, on average over the last 20 years, \"the cumulated product of the surface area affected by melting and the duration of the melting event, called cumulative melting surface ... has decreased by 1.% 1% per year, a result that is consistent with a mean January cooling of the continent recently identified from infrared satellite data.\".', 'The majority of scientists in the 1970s supported the global cooling hypothesis.', 'On June 6, Germany?s solar power production touched a new record of 23. gigawatts, meeting almost 40 per cent of the country?s entire peak electricity demand.', 'The Cuban Institute of Meteorology reported that last Friday morning (Feb 20) the temperature fell to one degree Celsius (33. o F) in the town of Union Reyes in western Matanzas province..', 'US Gas 75% Cheaper Than In Europe notes some of the industries moving back to the US or starting from scratch thanks to cheap natural gas.', 'In the geological time frame, the current amount of atmospheric CO2 is near an all time low, vying with the Carboniferous and Permian Periods for the lowest atmospheric CO2 in over 500 million years.', 'In addition, computer models cant explain global warming from 1910-1940 without increasing atmospheric carbon dioxide levels; followed by a slight decline in global temperatures from 1945 to 1975 and increasing global temperatures from 1975-1998, at the same rate as the 1910-1940 increase, when atmospheric carbon dioxide levels increased about 16 percent..', 'With almost 50% of the bay still covered in ice , Hudson Bay has the third highest coverage this week since 1992 (after 2009 and 2004); Davis Strait has the highest coverage since 1992; and Foxe Basin and Baffin Bay have the highest coverage since 1998.. 5.', \"The most recent report from the UN's Intergovernmental Panel on Climate Change found that developed nations must make 25-40 percent reductions below the 1990 benchmark by 2020 to stave off the worst effects of climate change.\", 'If their calculation is correct, the 5. million gallons of corn ethanol used in America in 2006 required the use of 760 million gallons of fresh water.. ulse-like variation in local SST conditions and high SST (>1.C) anomalies in the Midriff do not equate to global warming.', 'Scientists announced this week that rapidly melting Arctic sea ice has beached tens of thousands of Walruses in Alaska.', \"The results are stunning: the TVA would have lost 32 percent of its coal system's energy capability; the Southern Company said it would not have been able to meet 38 percent of its customer demand; First Energy estimated it would have lost 39 percent of its coal-fired generating capacity, and so on.\", 'It was the deadliest tornado outbreak in Indiana history with 137 people killed.', 'They knew about Solyndrawhich took over five hundred million dollars and then folded.', 'Far from the earth running out of oil by the year 2000, proven reserves are at record levels; far from topping $100 a barrel, petroleum prices fell to under $17 a barrel.', 'On July 6th, when the demand for electricity in northern Illinois and Chicago averaged 22,000 MW, the average amount of wind power available during the day was a virtually nonexistent four MW, less than the output of two large wind turbines, or about and enough power to operate 4,000 blow dryers.', 'That\\'s right; no warming in the past decade even as so-called \"greenhouse gas emissions\" and ambient concentrations are at historical highs!.', 'There were 124 separate occasions from November 2008 till December 2010 when total generation from the windfarms metered by the National Grid was less than 20MW (average capacity over the period was in excess of 1600MW).. Clearly, sea levels have actually been falling in the last decade, after very little change in the 1990s.. Phew!.', 'The findings described by the three researchers represent good news for the biosphere , since \"marine phytoplankton contribute to about half of the global primary productivity,\" and this phenomenon, in their words, \"promotes the absorption of CO 2 from the atmosphere.\".', 'For example, Typhoons striking the China coast in August 1912 and August 1922 resulted in fatality counts of 50,000 and 60,000 respectively..', 'According to an April PRI Harris Interactive poll, 74 percent of respondents revealed their belief that cars are less polluting now than they were 25 years ago..', 'Florida hasnt been hit by a hurricane in almost 8 years, the longest hurricane-free period on record.', 'The United States has enough coal reserves to last at least another 250 years, with reserves that are over one-and-one-half times greater than our nearest competitor, Russia, and over twice that of China.', 'And they found that \"at least three specimens reproduced during exposure to either 90,000 ppm or 200,000 ppm CO 2 ,\" while \"such reproduction was observed only once in an atmospheric treatment.\".', 'It was Britain\\'s coldest December in 120 years.. \"In the words of the authors, they \"examined the distribution of flood peaks for the eastern United States using annual maximum flood peak records from 572 U.S. Geological Survey stream gaging stations with at least 75 years of observations.', 'His comparatively modest investments in green energy promised to make him a global warming billionaire if cap-and-trade were enacted.', 'The cartels are under siege by the federal police and federal soldiers, but the slaughter just a few weeks ago of more than 50 people at a casino in Monterey shows that the narcos are still running wild.', 'are centered well below the seasonal averages of 12 named storms, 6 hurricanes and three major hurricanes.. At the climate activist website Desmogblog, writer and author Chris Mooney says he is appalled at this Washington Postarticle for what he regards as its tarring of climate scientists as radicals or political operatives.. Environmentalists are therefore de facto blocking or hindering the construction of rigasificatori, although the country does not have the certainty to meet the needs of natural gas and energy for the coming winter.', 'As much as 30 to 40 per cent of the Arctic Ocean remains covered in ice.. Modern coal-fired power stations with efficient pollution controls do not release detectable particulates or noxious gases.', 'Similarly the real savings of CO2 emissions from wind were 3 million tonnes less than the official DECC figures of 11. million tonnes, and which also ignores the increased emissions of Gas plants to balance Wind.', 'Prime Minister Anthony Albanese has committed Australian taxpayers to $2 trillion per year in climate change payments.', 'He then presents a chart documenting a decreasing trend that shown US F3 to F5 tornadoes dropping from 43 to 27 in a fairly consistent linear progression.', 'According to the BP Statistical Review of World Energy dataset, the global proved reserves of oil have increased steadily since the dataset began in 1980.', 'However, Alberta environment office show that greenhouse gas emissions from oil sands plummeted 38% between 1990 and 2009, and are now 5% of Canadas total GHG emissions and equal to or lower than CO2/GHG emissions from petroleum operations in Nigeria, Iraq, Saudi Arabia and Venezuela.. And you know what?.', \"Agreement signed at Mexico City June 13, 2006; entered into force June 13, 2006.. Washington, D.C., April 14, 2008 The tax burden borne by Americans goes well beyond April 15th's infamous income taxes.. A new U.S. Geological Survey study predicts where 50 bird species will breed, feed and live in the conterminous U.S. by 2075.\", 'That was more than three times the growth of non-hydro renewables (solar, wind, biomass, and geothermal), which were up by 600,000 barrels of oil equivalent per day.. No, to the contrary.', 'Osaka-based Sharp plans to cut more than 10,000 jobs, or about 18 percent of its workforce, and is in talks to sell plants as it tries to return to profit, two people with knowledge of the proposal said yesterday.', 'Accumulated Cyclone (hurricanes, in the North Atlantic) Energy across the world: we are near a 30 year low..', 'The NOAA chief said climate change is already raising sea levels, lengthening growing seasons, prompting earlier spring snowmeltsand shifts in river flows, causing more intense drought and increasing the incidence of extreme weather.. Andrew Montford draws attention to another paper just published by Gavin Schmidt, et al., that the failure of the earth to warm is one incredible, incredible coincidence.', 'In April 1991, a single cyclone, the worst in recent decades, wiped out well over 100,000 lives in the delta and left millions of people homeless.. WHY ARE THE DIFFERENCES IN THE TRENDS OF OUTGOING LONGWAVE AND SHORTWAVE RADIATION SO LARGE?.', 'We know that adding CO2 or other greenhouse gases to the air will cause warming, but that cannot prevent natural factors from causing a countervailing cooling from time to time, which is why we have had the 17-year pause in global warming that Railroad Engineer Pachauri has now admitted.', 'Snow accumulated to a depth of more than one meter in places ?.', \"Meanwhile important factors such as influence on the state's economy, impacts on health and safety, and effects from increased regulation on businesses and consumers are not taken into account.. A new study of tree-ring data has concluded that not only has our climate often been noticeably hotter than today, temperatures have actually been on a falling trend for the past 2,000 years.. As Lamb identified, lack of data was and remains the most serious limitation.\", 'In the first experiment, the total reproductive biomass of the plants that were grown in CO 2 -enriched air was 32% greater than that of the plants grown in ambient air, as was the total number of fruit produced.??.', 'Policy makers are trying to extricate themselves from the useless solar and wind projects to which billions were committed.', 'Per the latest NOAA/NCDC U.S. temperature data records, the 12-month period ending Augut was the 6th coldest August-ending period for the last 15 years.', 'On average, Antarctic sea ice reaches minimum on 20th February, about a month earlier, relatively speaking, than the Arctic.', 'Engineers are developing solutions to help bolster system resilience.', 'Scientists project that as the climate warms, there will be more intense hurricanes as well as increased rainfall.', 'Nuclear power accounts for about one-fifth of U.S. electricity production.', 'As part of President Biden’s Investing in America agenda, the US Environmental Protection Agency and the US Department of Energy today released a Funding Opportunity Announcement (FOA) for up to $9.4 million for the development of advanced biofuels..', 'In 2023, under the first phase of the $5 billion program, EPA provided $250 million in grants to 45 states, the District of Columbia, Puerto Rico, 82 metropolitan statistical areas, four territories, and more than 200 Tribes (including Tribal consortia) to develop ambitious climate action plans that address greenhouse gas emissions across their communities and economies..', 'The WHO conservatively projects 250\\xa0000 additional yearly deaths by the 2030s due to climate change impacts on diseases like malaria and coastal flooding.', 'And they will dedicate over $14 billion of capital—over 70% of the selections for awards announced today—toward low-income and disadvantaged communities, making the Greenhouse Gas Reduction Fund the single largest non-tax investment within the Inflation Reduction Act to build a clean energy economy while benefiting communities historically left behind..', 'In April, EPA finalized a rulemaking under the Significant New Alternatives Policy (SNAP) program that listed new refrigerant options for use in retail food refrigeration, residential and light commercial air conditioning, and heat pump equipment..', 'In addition, through implementation of the 2015 CCR rule, EPA found “historic” disposal units that are leaking and contaminating groundwater at currently regulated power plants, but which were exempt under the original 2015 regulations..', 'By 2050, up to $106 billion worth of coastal property will likely be below sea level if current trends continue. U.S. coastal counties face permanent inundation and flooding threats from sea level rise, intense rains, high tide flooding, and severe storms.', 'I am especially proud that EPA has secured commitments from today’s awardees that over 70 percent of the capital – over $14 billion – will go to low-income and disadvantaged communities..', 'In some coastal areas, more flooding is occurring as the sea level rises.', 'Additionally, ozone season (May 1 to September 30) NOX emissions decreased by 9% nationwide and 18% for the 10 states implementing the Good Neighbor Plan..', 'Companies and researchers are developing and installing innovative and renewable technologies (such as wind and solar) that help reduce air pollution and greenhouse gas emissions.', 'More than 60,000 miles of U.S. roads and bridges in coastal areas are at risk of flooding and damage from climate-change-related sea level rise.', 'For instance, detours caused by closed or damaged bridges are three times longer in rural areas than elsewhere.', 'EPA received $41.5 billion in appropriations to develop and support 24 new and existing programs that monitor and reduce greenhouse gas emissions and air pollution, protect health and advance environmental justice..', 'There has been an overall long-term decreasing trend in industry GHG emissions since 2011, primarily driven by a decrease in emissions from power plants to lower emissions inputs such as natural gas and renewables..', 'The total emission reductions of the proposal from 2022 to 2050 are projected to amount to the equivalent of 4.7 billion metric tons of CO2 – nearly equal to three years of US power sector emissions at 2019 levels..', 'These efforts through GMI have resulted in methane emissions reductions of more than 540 million metric tons of carbon dioxide equivalent, equal to taking 115 million gasoline powered passenger vehicles off the road for a year..', 'Many cities already experience urban heat islands.', 'The new program builds on the success of EPA’s Ports Initiative and the Diesel Emissions Reduction Act programs, which have invested over $196 million to implement 207 diesel emissions reduction projects at ports with an additional $88 million to multi-sector projects that involve ports..', 'Food service makes up the largest share of these jobs at 13 million.', 'The Organisation for Economic Co-operation and Development estimates that in 2019, plastic products were responsible for 3.4% of global greenhouse gas emissions throughout their life cycles, with 90% of these emissions coming from the production and conversion of fossil fuels into new plastic products..', 'Beyond agreeing to pay a $1.675 billion civil penalty – the largest ever assessed in a Clean Air Act case – Cummins has agreed to spend more than $325 million to remedy the violations, which included the use of software “defeat devices” that circumvented emissions testing and certification requirements..', 'Today, EPA is announcing a settlement with Open Mountain Energy, LLC, a geothermal power generation company, for the attempted illegal import of hydrofluorocarbons (HFCs), which is the latest in a series of enforcement actions EPA has taken recently against importers of HFCs..', 'Hundreds of independent and governmental scientific organizations have released similar statements, both in the United States and worldwide, including the World Meteorological OrganizationExit EPA’s website, the American Meteorological SocietyExit EPA’s website, and the American Geophysical UnionExit EPA’s website.', 'For example, a large heat wave off the West Coast in 2014 shut down crab fisheries and starved baby sea lions. Commercial and recreational marine fisheriesExit EPA’s website in some regions are at high risk from climate-driven changes in the size and distribution of fish populations.', 'Since January 2022, EPA and CBP have denied entry to over 80 shipments of illegal HFCs..', 'A 2023 EPA report\\xa0quantifies projected health effects to children from climate change.', 'Until 2021, its Swinerton Renewable Energy division was the country’s leading constructor of utility-scale solar farms..', 'Irrigation accounts for 70% of all groundwater withdrawals nationwide.', 'America is now a magnet for private investment, with hundreds of billions of dollars committed and 270,000 new clean energy jobs created..', 'During the timeframes of Apache’s alleged violations, air quality monitors in the relevant counties in New Mexico registered rising ozone concentrations exceeding 95% of the NAAQS for ozone..', 'EPA also performed a sensitivity analysis exploring the combined effect on the power sector of the carbon pollution, air toxics, and water rules, as well as EPA’s recent rules for the transportation sector..', 'The Kigali Amendment to the Montreal Protocol, adopted by the United Nations in 2016, requires the global phasedown of HFCs by 2036 for the United States and other developed countries..', 'Most hired crop farmworkers are not migrant workers; instead, they work at a single location within 75 miles of their homes.', 'This project will reduce VOC emissions by approximately 370 tons per year as a result of installing emission control devices at uncontrolled facilities..', 'Carbon dioxide: Human activities currently release over 30 billion tons of carbon dioxide into the atmosphere every year.', 'Since 1992, ENERGY STAR and its partners helped American families and businesses avoid more than $500 billion in energy costs and achieve more than 4 billion metric tons of greenhouse gas reductions..', 'EPA received extensive feedback on the proposed rule, including over 175,000 public comments, testimony at public hearings, and engagement with stakeholder groups..', 'In April 2023, EPA announced the availability of at least $400 million for its 2023 Clean School Bus Grants through a Notice of Funding Opportunity..', 'In 2021, the U.S. Southwest experienced one of the most severe long-term droughts of the past 1,200 years.', 'Among the many examples cited by the 2018 National Climate AssessmentExit EPA’s website are an increase in heat waves and days with temperatures above 90°F; more extreme weather events such as storms, droughts, and floods; and a projected sea level rise of 1 to 4 feet by the end of this century, which could put certain areas of the country underwater.', 'Pollination is vital to more than 100 crops grown in the United States.', 'EPA recently announced the launch of the $3 billion Clean Ports Program to help tackle emissions from heavy-duty vehicles both in and out of US port communities..', 'When including the coast of the Great Lakes, more than 128 million people live in coastal counties.', 'First released in 2009, EPA’s list of cities with the most ENERGY STAR certified buildings shows how buildings across America are embracing energy efficiency as a simple and effective way to save money and reduce greenhouse gas emissions..', 'Under these new standards, the heavy-duty industry is expected to realize annualized savings of $3.5 billion compared to annualized costs of about $1.1 billion from 2027 through 2055..', '“The clothing industry contributes up to 10% of the pollution driving the climate crisis.”', 'Rising temperatures and carbon dioxide concentrations may increase some crop yields, but the yields of major commodity crops (such as corn, rice, and oats) are expected to be lower than they would in a future without climate change. Heat stress.', 'The energy sector is the largest emitter of greenhouse gases into the atmosphere, contributing to climate change.', 'Saving Money, Reducing Emissions, , EPA estimates that the present value of the cumulative net benefits of this action is more than $272 billion from 2022 through 2050, and that the rule will yield cumulative compliance savings for industry..', 'For example, infants living on the Fort Apache reservation in Arizona have had higher hospitalization rates for diarrheal disease than infants in the general U.S. population. Increasing water temperatures and other climate changes can also encourage the growth of harmful algal bloomsExit EPA’s website.', 'Roughly 20 square miles of dry land and wetland became open water along the Atlantic coast between 1996 and 2011.', 'In addition, many groups of urban residents live with high levels of air pollution.,28 Black and African American individuals are 34% more likely to live in areas with the highest projected increases in childhood asthma due to climate-related changes in particulate matter. People who live in buildings that are older or in poor condition can be more exposed to outdoor pollutants and allergens.', 'Even without the impacts of climate change, the United States’ water supply has begun to diminish.', 'Global average temperature has increased about 1.°F from 1901 to 2016.', 'By 2050, up to $106 billion worth of coastal property will likely be below sea level if current trends continue.', 'Communities on the coasts also support more than 58 million jobs in the fishing, tourism, real estate, defense, and other industries.', 'For example, a disproportionate number of flood-related deaths from Hurricane Katrina were older adults. Not everyone will be able to prepare for or respond equally to climate change threats in coastal areas.', 'Recent research attributes 37% of heat-related deaths to human-induced climate change.', 'In 2022, reported emissions from large industrial sources were approximately 1% lower than in 2021..', 'ENERGY STAR certified buildings use an average of 35% less energy and are responsible for 35% fewer greenhouse gas emissions than typical buildings..', 'Recently, the 2021 Bipartisan Infrastructure Law provided the largest EPA investment in recycling in 30 years, supporting improvements to waste management systems and programs..', 'Damage to coral reefs due to climate change is projected to result in $140 billion in total lost revenues to the U.S. recreation industry by 2100.', 'These shifts are projected to result in losses of hundreds of millions of dollars each year by the year 2100.', 'This section establishes a wide range of eligible applicants that includes individuals, state, local and Tribal Air pollution control agencies, and other public or nonprofit private agencies, institutions, and organizations EPA also received $50 million in Section 60106 to address air pollution at schools with $12.5 million dedicated to providing technical assistance and the remainder for grants and other activities to monitor and reduce air pollution and greenhouse gas emissions  at schools in low-income and disadvantaged communities..', 'Some communities, including Boston, Houston, and Orlando, are seeing twice as many tidal flooding days each year as they did 20 years ago. Impacts to coastal ecosystems.', 'Climate Change Indicators in the United States: Health and Society. Centers for Disease Control and Prevention (CDC)Exit EPA’s website.', 'The program will reduce 30 million metric tons of carbon dioxide equivalent emissions cumulatively, from over four gigawatts of solar energy capacity unlocked for low-income communities over five years..', 'Some utility companies even offer federal tax credits.', 'Store Recertification Excellence, , ALDI – A total of 109 locations across California, Connecticut, Georgia, Maryland, Massachusetts, Michigan Minnesota, New Hampshire, New Jersey, New York, Ohio, Pennsylvania, Rhode Island, South Carolina, South Dakota, Virginia, and Wisconsin achieved GreenChill Store Certification for five consecutive years..', '\"The White House removed its climate change web page. And the healthcare, civil rights and LGBT sections.\"', 'The Crescent Point settlement requires the company to pay a civil penalty of $3 million for violations of requirements to control volatile organic compound (VOC) emissions from storage tanks at 30 previously owned oil and gas production facilities..', 'Summarizes climate change impacts, adaptation strategies, and mitigation strategies with a focus on ecosystems. EPA’s Report on Seasonality and Climate Change.', 'The Grant Funding to Address Indoor Air Pollution at Schools Program, , EPA anticipates awarding four to six grants of $5 million to $8 million to support five years of school indoor air quality and energy efficiency activities..', 'This historic agreement makes clear that the Justice Department will be aggressive in its efforts to hold accountable those who seek to profit at the expense of people’s health and safety.”, , “Cummins installed illegal defeat devices on more than 600,000 RAM pickup trucks, which exposed overburdened communities across America to harmful air pollution,” said David M. Uhlmann, Assistant Administrator for EPA’s Office of Enforcement and Compliance Assurance..', 'Today, April 22, as the Biden-Harris Administration celebrates Earth Day, the US Environmental Protection Agency announced 60 selectees that will receive $7 billion in grant awards through the Solar for All grant competition to deliver residential solar projects to over 900,000 households nationwide..', 'When temperatures rise, the carrying capacity of transmission lines decreases.', 'EPA estimates that the grants will be awarded by fall 2024..', 'This rises to 59% under 4°C of global warming..', 'The continued melting of ice caps due to human-caused climate change could release long-dormant bacteria and viruses able to infect their targets', 'Background, , EPA studies of human exposure to air pollutants indicate that indoor levels of pollutants may be two to five times — and occasionally more than 100 times — higher than outdoor levels..', 'Today’s action will cut over seven billion tons of climate pollution – that’s more than all US greenhouse gas pollution last year..', 'EPA received 81 plans in total from Tribes and Tribal consortia representing more than 200 Tribes, along with four plans from territories..', 'In second place is Washington, D.C. with 555 buildings, followed by Atlanta in third place with 376 buildings..', 'Pound for pound, methane is approximately 28 times more powerful than carbon dioxide in terms of its impact on global warming..', 'After accounting for compliance costs of the rule, EPA estimated the net present value of health benefits from the proposed rule, due to reductions in particulate matter and ozone alone, to be up to $14 billion over 20 years..', 'In the United States, the transportation sector is the largest source of greenhouse gas emissions, and a leading source of health-harming pollution..', 'Today, March 21, 2024, the US Environmental Protection Agency announced a settlement with Resonac America Inc. to address the company’s illegal import of hydrofluorocarbons (HFCs) at the Port of Los Angeles on four occasions in 2023 and 2024..', 'The direct damage costs to health (excluding costs in health-determining sectors such as agriculture and water and sanitation) is estimated to be between US$\\xa02–4\\xa0billion per year by 2030. Areas with weak health infrastructure – mostly in developing countries – will be the least able to cope without assistance to prepare and respond. Reducing emissions of greenhouse gases through better transport, food and energy use choices can result in very large gains for health, particularly through reduced air pollution. Promote actions that both reduce carbon emissions and improve health: supporting a rapid and equitable transition to a clean energy economy; ensuring that health is central to climate change mitigation policy; accelerating mitigation actions that bring the greatest health gains; and mobilizing the strength of the health community to drive policy change and build public support.', 'Some communities, including Boston, Houston, and Orlando, are seeing twice as many tidal flooding days each year as they did 20 years ago.', 'The sector accounts for 10. percent of total U.S. employment—more than 22 million jobs.', 'Since January 2022, EPA and CBP have denied entry to approximately 81 shipments of illegal HFCs..', 'Today, the US Environmental Protection Agency (EPA) announced a direct award of $8.8 million through President Biden’s Investing in America Agenda to Northeast States for Coordinated Air Use Management (NESCAUM) and a nationwide network of partner air agencies, including in Alaska, Washington, and Idaho..', 'Film actor and activist Jane Fonda said, \"There\\'d be no climate crisis if it wasn\\'t for racism.\"', 'Currently, in approximately two-thirds of the country, E15 cannot be sold from terminals starting on May 1 and at retail stations starting on June 1..', 'Publix Super Markets – Five locations in Alabama, North Carolina, and South Carolina achieved five-year recertifications..', 'Rising water and air temperatures have already forced some nuclear plants to temporarily close to lower the risk of overheating.', 'Today we’re making $3 billion available to install cleaner and more efficient technologies while cutting air pollution to protect the people who work at and live near ports.”, , “Our country’s ports feed our supply chains to put food on our tables, keep our businesses running and provide for our everyday needs,” said Governor Roy Cooper..', 'Nearly 2.5 million energy-efficient new homes and apartments have earned ENERGY STAR certification to date, and about 10% of all US homes built in America earned the ENERGY STAR label last year..', 'It also generates over $200 billion a year in sales and makes up about 6% of the U.S. manufacturing gross domestic product.', 'Today, April 15, the US Environmental Protection Agency denied a petition to remove stationary combustion turbines from the list of sources subject to regulation for emissions of air toxics, maintaining public health protections for communities near these facilities..', 'Landfills are the third largest source of methane in the United States and EPA is tackling these sources as part of its National Enforcement and Compliance Initiative dedicated to Mitigating Climate Change..', 'Storm surge from hurricanes already threaten dozens of power plants and refineries on the Atlantic and Gulf Coasts.', 'Exposure to extreme or prolonged heat can cause exhaustion, heat stroke, kidney and heart disease, and pregnancy complications.,10 In fact, extreme heat is already the leading cause of weather-related deaths in the United States.', 'Natural disasters and droughts can also lead to more tobacco and alcohol use, as well as domestic violence.,\\xa029 In addition, heat overall has been linked to increases in violence. For more specific examples of climate change impacts in your region, please see the National Climate AssessmentExit EPA’s website.', '(2016 is the earliest year of comparable data for this sector, as new industry segments began reporting that year.', 'In 2019, they produced 9. billion pounds of seafood valued at $5.', 'The final amendments to the air toxics standards for ethylene oxide commercial sterilization facilities put in place the strongest measures in US history to reduce emissions of EtO, one of the most potent cancer-causing chemicals..', 'In many cities, buildings are the largest contributor of emissions — responsible for 30% to more than 70% of a city’s total emissions..', 'Since 1991, the incidence of Lyme disease in the United States has nearly doubled. Warmer temperatures also create conditions that help mosquitoes thrive.', 'However, 13. million U.S. households (about one-tenth of all U.S. households) were food insecure at least part of the time in 2020.', 'In the West, warmer temperatures and changes in precipitation are reducing snowpack.', 'A 2014 marine heatwave caused the death of many sea lions.', 'Many cities are already dealing with multiple impacts from climate change.', 'Tidal flooding is increasing in some areas as sea levels rise.', 'Coastal counties produce more than $9.', '“This is the latest in a series of EPA HFC enforcement efforts nationwide, which send a clear message that the federal government is vigilantly monitoring imports of HFCs and will hold illegal actors accountable.”, , On three separate occasions – in October, November and December 2023 – Resonac America imported a total of 6,208 pounds of illegal HFCs into the United States at the Port of Los Angeles..', 'As a result, thousands of sea lion pups starved. Decreases in commercial fishing harvests.', 'Nearly 4 million Americans live within 3 miles of these large facilities, which are disproportionately located in low-income communities and communities of color..', 'Satellites have been measuring the amount of energy the earth receives from the sun since 1978.', 'Water utilities spend more than $109 billion each year to provide safe drinking water and wastewater services in the communities they serve.']\n"
     ]
    },
    {
     "ename": "KeyboardInterrupt",
     "evalue": "",
     "output_type": "error",
     "traceback": [
      "\u001B[0;31m---------------------------------------------------------------------------\u001B[0m",
      "\u001B[0;31mKeyboardInterrupt\u001B[0m                         Traceback (most recent call last)",
      "Cell \u001B[0;32mIn[5], line 15\u001B[0m\n\u001B[1;32m     13\u001B[0m parameters[\u001B[38;5;124m'\u001B[39m\u001B[38;5;124mn_neighbors\u001B[39m\u001B[38;5;124m'\u001B[39m] \u001B[38;5;241m=\u001B[39m [\u001B[38;5;28mint\u001B[39m(train_df\u001B[38;5;241m.\u001B[39mshape[\u001B[38;5;241m0\u001B[39m] \u001B[38;5;241m-\u001B[39m \u001B[38;5;241m2\u001B[39m)]\n\u001B[1;32m     14\u001B[0m clf \u001B[38;5;241m=\u001B[39m GridSearchCV(cluster_predict_object, parameters, verbose\u001B[38;5;241m=\u001B[39m\u001B[38;5;241m1\u001B[39m, cv\u001B[38;5;241m=\u001B[39m\u001B[38;5;241m2\u001B[39m, refit\u001B[38;5;241m=\u001B[39m\u001B[38;5;28;01mTrue\u001B[39;00m)\n\u001B[0;32m---> 15\u001B[0m \u001B[43mclf\u001B[49m\u001B[38;5;241;43m.\u001B[39;49m\u001B[43mfit\u001B[49m\u001B[43m(\u001B[49m\u001B[43mtest_df\u001B[49m\u001B[43m[\u001B[49m\u001B[38;5;124;43m'\u001B[39;49m\u001B[38;5;124;43mText\u001B[39;49m\u001B[38;5;124;43m'\u001B[39;49m\u001B[43m]\u001B[49m\u001B[38;5;241;43m.\u001B[39;49m\u001B[43mtolist\u001B[49m\u001B[43m(\u001B[49m\u001B[43m)\u001B[49m\u001B[43m,\u001B[49m\u001B[43m \u001B[49m\u001B[43mtest_df\u001B[49m\u001B[43m[\u001B[49m\u001B[38;5;124;43m'\u001B[39;49m\u001B[38;5;124;43mNumerical Rating\u001B[39;49m\u001B[38;5;124;43m'\u001B[39;49m\u001B[43m]\u001B[49m\u001B[38;5;241;43m.\u001B[39;49m\u001B[43mtolist\u001B[49m\u001B[43m(\u001B[49m\u001B[43m)\u001B[49m\u001B[43m)\u001B[49m\n\u001B[1;32m     16\u001B[0m \u001B[38;5;66;03m# Print best parameters\u001B[39;00m\n\u001B[1;32m     17\u001B[0m best_estimator: ClusterAndPredict \u001B[38;5;241m=\u001B[39m clf\u001B[38;5;241m.\u001B[39mbest_estimator_\n",
      "File \u001B[0;32m~/Desktop/Projects/FactChecker/FactChecker/venv2/lib/python3.11/site-packages/sklearn/base.py:1474\u001B[0m, in \u001B[0;36m_fit_context.<locals>.decorator.<locals>.wrapper\u001B[0;34m(estimator, *args, **kwargs)\u001B[0m\n\u001B[1;32m   1467\u001B[0m     estimator\u001B[38;5;241m.\u001B[39m_validate_params()\n\u001B[1;32m   1469\u001B[0m \u001B[38;5;28;01mwith\u001B[39;00m config_context(\n\u001B[1;32m   1470\u001B[0m     skip_parameter_validation\u001B[38;5;241m=\u001B[39m(\n\u001B[1;32m   1471\u001B[0m         prefer_skip_nested_validation \u001B[38;5;129;01mor\u001B[39;00m global_skip_validation\n\u001B[1;32m   1472\u001B[0m     )\n\u001B[1;32m   1473\u001B[0m ):\n\u001B[0;32m-> 1474\u001B[0m     \u001B[38;5;28;01mreturn\u001B[39;00m \u001B[43mfit_method\u001B[49m\u001B[43m(\u001B[49m\u001B[43mestimator\u001B[49m\u001B[43m,\u001B[49m\u001B[43m \u001B[49m\u001B[38;5;241;43m*\u001B[39;49m\u001B[43margs\u001B[49m\u001B[43m,\u001B[49m\u001B[43m \u001B[49m\u001B[38;5;241;43m*\u001B[39;49m\u001B[38;5;241;43m*\u001B[39;49m\u001B[43mkwargs\u001B[49m\u001B[43m)\u001B[49m\n",
      "File \u001B[0;32m~/Desktop/Projects/FactChecker/FactChecker/venv2/lib/python3.11/site-packages/sklearn/model_selection/_search.py:970\u001B[0m, in \u001B[0;36mBaseSearchCV.fit\u001B[0;34m(self, X, y, **params)\u001B[0m\n\u001B[1;32m    964\u001B[0m     results \u001B[38;5;241m=\u001B[39m \u001B[38;5;28mself\u001B[39m\u001B[38;5;241m.\u001B[39m_format_results(\n\u001B[1;32m    965\u001B[0m         all_candidate_params, n_splits, all_out, all_more_results\n\u001B[1;32m    966\u001B[0m     )\n\u001B[1;32m    968\u001B[0m     \u001B[38;5;28;01mreturn\u001B[39;00m results\n\u001B[0;32m--> 970\u001B[0m \u001B[38;5;28;43mself\u001B[39;49m\u001B[38;5;241;43m.\u001B[39;49m\u001B[43m_run_search\u001B[49m\u001B[43m(\u001B[49m\u001B[43mevaluate_candidates\u001B[49m\u001B[43m)\u001B[49m\n\u001B[1;32m    972\u001B[0m \u001B[38;5;66;03m# multimetric is determined here because in the case of a callable\u001B[39;00m\n\u001B[1;32m    973\u001B[0m \u001B[38;5;66;03m# self.scoring the return type is only known after calling\u001B[39;00m\n\u001B[1;32m    974\u001B[0m first_test_score \u001B[38;5;241m=\u001B[39m all_out[\u001B[38;5;241m0\u001B[39m][\u001B[38;5;124m\"\u001B[39m\u001B[38;5;124mtest_scores\u001B[39m\u001B[38;5;124m\"\u001B[39m]\n",
      "File \u001B[0;32m~/Desktop/Projects/FactChecker/FactChecker/venv2/lib/python3.11/site-packages/sklearn/model_selection/_search.py:1527\u001B[0m, in \u001B[0;36mGridSearchCV._run_search\u001B[0;34m(self, evaluate_candidates)\u001B[0m\n\u001B[1;32m   1525\u001B[0m \u001B[38;5;28;01mdef\u001B[39;00m \u001B[38;5;21m_run_search\u001B[39m(\u001B[38;5;28mself\u001B[39m, evaluate_candidates):\n\u001B[1;32m   1526\u001B[0m \u001B[38;5;250m    \u001B[39m\u001B[38;5;124;03m\"\"\"Search all candidates in param_grid\"\"\"\u001B[39;00m\n\u001B[0;32m-> 1527\u001B[0m     \u001B[43mevaluate_candidates\u001B[49m\u001B[43m(\u001B[49m\u001B[43mParameterGrid\u001B[49m\u001B[43m(\u001B[49m\u001B[38;5;28;43mself\u001B[39;49m\u001B[38;5;241;43m.\u001B[39;49m\u001B[43mparam_grid\u001B[49m\u001B[43m)\u001B[49m\u001B[43m)\u001B[49m\n",
      "File \u001B[0;32m~/Desktop/Projects/FactChecker/FactChecker/venv2/lib/python3.11/site-packages/sklearn/model_selection/_search.py:916\u001B[0m, in \u001B[0;36mBaseSearchCV.fit.<locals>.evaluate_candidates\u001B[0;34m(candidate_params, cv, more_results)\u001B[0m\n\u001B[1;32m    908\u001B[0m \u001B[38;5;28;01mif\u001B[39;00m \u001B[38;5;28mself\u001B[39m\u001B[38;5;241m.\u001B[39mverbose \u001B[38;5;241m>\u001B[39m \u001B[38;5;241m0\u001B[39m:\n\u001B[1;32m    909\u001B[0m     \u001B[38;5;28mprint\u001B[39m(\n\u001B[1;32m    910\u001B[0m         \u001B[38;5;124m\"\u001B[39m\u001B[38;5;124mFitting \u001B[39m\u001B[38;5;132;01m{0}\u001B[39;00m\u001B[38;5;124m folds for each of \u001B[39m\u001B[38;5;132;01m{1}\u001B[39;00m\u001B[38;5;124m candidates,\u001B[39m\u001B[38;5;124m\"\u001B[39m\n\u001B[1;32m    911\u001B[0m         \u001B[38;5;124m\"\u001B[39m\u001B[38;5;124m totalling \u001B[39m\u001B[38;5;132;01m{2}\u001B[39;00m\u001B[38;5;124m fits\u001B[39m\u001B[38;5;124m\"\u001B[39m\u001B[38;5;241m.\u001B[39mformat(\n\u001B[1;32m    912\u001B[0m             n_splits, n_candidates, n_candidates \u001B[38;5;241m*\u001B[39m n_splits\n\u001B[1;32m    913\u001B[0m         )\n\u001B[1;32m    914\u001B[0m     )\n\u001B[0;32m--> 916\u001B[0m out \u001B[38;5;241m=\u001B[39m \u001B[43mparallel\u001B[49m\u001B[43m(\u001B[49m\n\u001B[1;32m    917\u001B[0m \u001B[43m    \u001B[49m\u001B[43mdelayed\u001B[49m\u001B[43m(\u001B[49m\u001B[43m_fit_and_score\u001B[49m\u001B[43m)\u001B[49m\u001B[43m(\u001B[49m\n\u001B[1;32m    918\u001B[0m \u001B[43m        \u001B[49m\u001B[43mclone\u001B[49m\u001B[43m(\u001B[49m\u001B[43mbase_estimator\u001B[49m\u001B[43m)\u001B[49m\u001B[43m,\u001B[49m\n\u001B[1;32m    919\u001B[0m \u001B[43m        \u001B[49m\u001B[43mX\u001B[49m\u001B[43m,\u001B[49m\n\u001B[1;32m    920\u001B[0m \u001B[43m        \u001B[49m\u001B[43my\u001B[49m\u001B[43m,\u001B[49m\n\u001B[1;32m    921\u001B[0m \u001B[43m        \u001B[49m\u001B[43mtrain\u001B[49m\u001B[38;5;241;43m=\u001B[39;49m\u001B[43mtrain\u001B[49m\u001B[43m,\u001B[49m\n\u001B[1;32m    922\u001B[0m \u001B[43m        \u001B[49m\u001B[43mtest\u001B[49m\u001B[38;5;241;43m=\u001B[39;49m\u001B[43mtest\u001B[49m\u001B[43m,\u001B[49m\n\u001B[1;32m    923\u001B[0m \u001B[43m        \u001B[49m\u001B[43mparameters\u001B[49m\u001B[38;5;241;43m=\u001B[39;49m\u001B[43mparameters\u001B[49m\u001B[43m,\u001B[49m\n\u001B[1;32m    924\u001B[0m \u001B[43m        \u001B[49m\u001B[43msplit_progress\u001B[49m\u001B[38;5;241;43m=\u001B[39;49m\u001B[43m(\u001B[49m\u001B[43msplit_idx\u001B[49m\u001B[43m,\u001B[49m\u001B[43m \u001B[49m\u001B[43mn_splits\u001B[49m\u001B[43m)\u001B[49m\u001B[43m,\u001B[49m\n\u001B[1;32m    925\u001B[0m \u001B[43m        \u001B[49m\u001B[43mcandidate_progress\u001B[49m\u001B[38;5;241;43m=\u001B[39;49m\u001B[43m(\u001B[49m\u001B[43mcand_idx\u001B[49m\u001B[43m,\u001B[49m\u001B[43m \u001B[49m\u001B[43mn_candidates\u001B[49m\u001B[43m)\u001B[49m\u001B[43m,\u001B[49m\n\u001B[1;32m    926\u001B[0m \u001B[43m        \u001B[49m\u001B[38;5;241;43m*\u001B[39;49m\u001B[38;5;241;43m*\u001B[39;49m\u001B[43mfit_and_score_kwargs\u001B[49m\u001B[43m,\u001B[49m\n\u001B[1;32m    927\u001B[0m \u001B[43m    \u001B[49m\u001B[43m)\u001B[49m\n\u001B[1;32m    928\u001B[0m \u001B[43m    \u001B[49m\u001B[38;5;28;43;01mfor\u001B[39;49;00m\u001B[43m \u001B[49m\u001B[43m(\u001B[49m\u001B[43mcand_idx\u001B[49m\u001B[43m,\u001B[49m\u001B[43m \u001B[49m\u001B[43mparameters\u001B[49m\u001B[43m)\u001B[49m\u001B[43m,\u001B[49m\u001B[43m \u001B[49m\u001B[43m(\u001B[49m\u001B[43msplit_idx\u001B[49m\u001B[43m,\u001B[49m\u001B[43m \u001B[49m\u001B[43m(\u001B[49m\u001B[43mtrain\u001B[49m\u001B[43m,\u001B[49m\u001B[43m \u001B[49m\u001B[43mtest\u001B[49m\u001B[43m)\u001B[49m\u001B[43m)\u001B[49m\u001B[43m \u001B[49m\u001B[38;5;129;43;01min\u001B[39;49;00m\u001B[43m \u001B[49m\u001B[43mproduct\u001B[49m\u001B[43m(\u001B[49m\n\u001B[1;32m    929\u001B[0m \u001B[43m        \u001B[49m\u001B[38;5;28;43menumerate\u001B[39;49m\u001B[43m(\u001B[49m\u001B[43mcandidate_params\u001B[49m\u001B[43m)\u001B[49m\u001B[43m,\u001B[49m\n\u001B[1;32m    930\u001B[0m \u001B[43m        \u001B[49m\u001B[38;5;28;43menumerate\u001B[39;49m\u001B[43m(\u001B[49m\u001B[43mcv\u001B[49m\u001B[38;5;241;43m.\u001B[39;49m\u001B[43msplit\u001B[49m\u001B[43m(\u001B[49m\u001B[43mX\u001B[49m\u001B[43m,\u001B[49m\u001B[43m \u001B[49m\u001B[43my\u001B[49m\u001B[43m,\u001B[49m\u001B[43m \u001B[49m\u001B[38;5;241;43m*\u001B[39;49m\u001B[38;5;241;43m*\u001B[39;49m\u001B[43mrouted_params\u001B[49m\u001B[38;5;241;43m.\u001B[39;49m\u001B[43msplitter\u001B[49m\u001B[38;5;241;43m.\u001B[39;49m\u001B[43msplit\u001B[49m\u001B[43m)\u001B[49m\u001B[43m)\u001B[49m\u001B[43m,\u001B[49m\n\u001B[1;32m    931\u001B[0m \u001B[43m    \u001B[49m\u001B[43m)\u001B[49m\n\u001B[1;32m    932\u001B[0m \u001B[43m\u001B[49m\u001B[43m)\u001B[49m\n\u001B[1;32m    934\u001B[0m \u001B[38;5;28;01mif\u001B[39;00m \u001B[38;5;28mlen\u001B[39m(out) \u001B[38;5;241m<\u001B[39m \u001B[38;5;241m1\u001B[39m:\n\u001B[1;32m    935\u001B[0m     \u001B[38;5;28;01mraise\u001B[39;00m \u001B[38;5;167;01mValueError\u001B[39;00m(\n\u001B[1;32m    936\u001B[0m         \u001B[38;5;124m\"\u001B[39m\u001B[38;5;124mNo fits were performed. \u001B[39m\u001B[38;5;124m\"\u001B[39m\n\u001B[1;32m    937\u001B[0m         \u001B[38;5;124m\"\u001B[39m\u001B[38;5;124mWas the CV iterator empty? \u001B[39m\u001B[38;5;124m\"\u001B[39m\n\u001B[1;32m    938\u001B[0m         \u001B[38;5;124m\"\u001B[39m\u001B[38;5;124mWere there no candidates?\u001B[39m\u001B[38;5;124m\"\u001B[39m\n\u001B[1;32m    939\u001B[0m     )\n",
      "File \u001B[0;32m~/Desktop/Projects/FactChecker/FactChecker/venv2/lib/python3.11/site-packages/sklearn/utils/parallel.py:67\u001B[0m, in \u001B[0;36mParallel.__call__\u001B[0;34m(self, iterable)\u001B[0m\n\u001B[1;32m     62\u001B[0m config \u001B[38;5;241m=\u001B[39m get_config()\n\u001B[1;32m     63\u001B[0m iterable_with_config \u001B[38;5;241m=\u001B[39m (\n\u001B[1;32m     64\u001B[0m     (_with_config(delayed_func, config), args, kwargs)\n\u001B[1;32m     65\u001B[0m     \u001B[38;5;28;01mfor\u001B[39;00m delayed_func, args, kwargs \u001B[38;5;129;01min\u001B[39;00m iterable\n\u001B[1;32m     66\u001B[0m )\n\u001B[0;32m---> 67\u001B[0m \u001B[38;5;28;01mreturn\u001B[39;00m \u001B[38;5;28;43msuper\u001B[39;49m\u001B[43m(\u001B[49m\u001B[43m)\u001B[49m\u001B[38;5;241;43m.\u001B[39;49m\u001B[38;5;21;43m__call__\u001B[39;49m\u001B[43m(\u001B[49m\u001B[43miterable_with_config\u001B[49m\u001B[43m)\u001B[49m\n",
      "File \u001B[0;32m~/Desktop/Projects/FactChecker/FactChecker/venv2/lib/python3.11/site-packages/joblib/parallel.py:1863\u001B[0m, in \u001B[0;36mParallel.__call__\u001B[0;34m(self, iterable)\u001B[0m\n\u001B[1;32m   1861\u001B[0m     output \u001B[38;5;241m=\u001B[39m \u001B[38;5;28mself\u001B[39m\u001B[38;5;241m.\u001B[39m_get_sequential_output(iterable)\n\u001B[1;32m   1862\u001B[0m     \u001B[38;5;28mnext\u001B[39m(output)\n\u001B[0;32m-> 1863\u001B[0m     \u001B[38;5;28;01mreturn\u001B[39;00m output \u001B[38;5;28;01mif\u001B[39;00m \u001B[38;5;28mself\u001B[39m\u001B[38;5;241m.\u001B[39mreturn_generator \u001B[38;5;28;01melse\u001B[39;00m \u001B[38;5;28;43mlist\u001B[39;49m\u001B[43m(\u001B[49m\u001B[43moutput\u001B[49m\u001B[43m)\u001B[49m\n\u001B[1;32m   1865\u001B[0m \u001B[38;5;66;03m# Let's create an ID that uniquely identifies the current call. If the\u001B[39;00m\n\u001B[1;32m   1866\u001B[0m \u001B[38;5;66;03m# call is interrupted early and that the same instance is immediately\u001B[39;00m\n\u001B[1;32m   1867\u001B[0m \u001B[38;5;66;03m# re-used, this id will be used to prevent workers that were\u001B[39;00m\n\u001B[1;32m   1868\u001B[0m \u001B[38;5;66;03m# concurrently finalizing a task from the previous call to run the\u001B[39;00m\n\u001B[1;32m   1869\u001B[0m \u001B[38;5;66;03m# callback.\u001B[39;00m\n\u001B[1;32m   1870\u001B[0m \u001B[38;5;28;01mwith\u001B[39;00m \u001B[38;5;28mself\u001B[39m\u001B[38;5;241m.\u001B[39m_lock:\n",
      "File \u001B[0;32m~/Desktop/Projects/FactChecker/FactChecker/venv2/lib/python3.11/site-packages/joblib/parallel.py:1792\u001B[0m, in \u001B[0;36mParallel._get_sequential_output\u001B[0;34m(self, iterable)\u001B[0m\n\u001B[1;32m   1790\u001B[0m \u001B[38;5;28mself\u001B[39m\u001B[38;5;241m.\u001B[39mn_dispatched_batches \u001B[38;5;241m+\u001B[39m\u001B[38;5;241m=\u001B[39m \u001B[38;5;241m1\u001B[39m\n\u001B[1;32m   1791\u001B[0m \u001B[38;5;28mself\u001B[39m\u001B[38;5;241m.\u001B[39mn_dispatched_tasks \u001B[38;5;241m+\u001B[39m\u001B[38;5;241m=\u001B[39m \u001B[38;5;241m1\u001B[39m\n\u001B[0;32m-> 1792\u001B[0m res \u001B[38;5;241m=\u001B[39m \u001B[43mfunc\u001B[49m\u001B[43m(\u001B[49m\u001B[38;5;241;43m*\u001B[39;49m\u001B[43margs\u001B[49m\u001B[43m,\u001B[49m\u001B[43m \u001B[49m\u001B[38;5;241;43m*\u001B[39;49m\u001B[38;5;241;43m*\u001B[39;49m\u001B[43mkwargs\u001B[49m\u001B[43m)\u001B[49m\n\u001B[1;32m   1793\u001B[0m \u001B[38;5;28mself\u001B[39m\u001B[38;5;241m.\u001B[39mn_completed_tasks \u001B[38;5;241m+\u001B[39m\u001B[38;5;241m=\u001B[39m \u001B[38;5;241m1\u001B[39m\n\u001B[1;32m   1794\u001B[0m \u001B[38;5;28mself\u001B[39m\u001B[38;5;241m.\u001B[39mprint_progress()\n",
      "File \u001B[0;32m~/Desktop/Projects/FactChecker/FactChecker/venv2/lib/python3.11/site-packages/sklearn/utils/parallel.py:129\u001B[0m, in \u001B[0;36m_FuncWrapper.__call__\u001B[0;34m(self, *args, **kwargs)\u001B[0m\n\u001B[1;32m    127\u001B[0m     config \u001B[38;5;241m=\u001B[39m {}\n\u001B[1;32m    128\u001B[0m \u001B[38;5;28;01mwith\u001B[39;00m config_context(\u001B[38;5;241m*\u001B[39m\u001B[38;5;241m*\u001B[39mconfig):\n\u001B[0;32m--> 129\u001B[0m     \u001B[38;5;28;01mreturn\u001B[39;00m \u001B[38;5;28;43mself\u001B[39;49m\u001B[38;5;241;43m.\u001B[39;49m\u001B[43mfunction\u001B[49m\u001B[43m(\u001B[49m\u001B[38;5;241;43m*\u001B[39;49m\u001B[43margs\u001B[49m\u001B[43m,\u001B[49m\u001B[43m \u001B[49m\u001B[38;5;241;43m*\u001B[39;49m\u001B[38;5;241;43m*\u001B[39;49m\u001B[43mkwargs\u001B[49m\u001B[43m)\u001B[49m\n",
      "File \u001B[0;32m~/Desktop/Projects/FactChecker/FactChecker/venv2/lib/python3.11/site-packages/sklearn/model_selection/_validation.py:895\u001B[0m, in \u001B[0;36m_fit_and_score\u001B[0;34m(estimator, X, y, scorer, train, test, verbose, parameters, fit_params, score_params, return_train_score, return_parameters, return_n_test_samples, return_times, return_estimator, split_progress, candidate_progress, error_score)\u001B[0m\n\u001B[1;32m    893\u001B[0m         estimator\u001B[38;5;241m.\u001B[39mfit(X_train, \u001B[38;5;241m*\u001B[39m\u001B[38;5;241m*\u001B[39mfit_params)\n\u001B[1;32m    894\u001B[0m     \u001B[38;5;28;01melse\u001B[39;00m:\n\u001B[0;32m--> 895\u001B[0m         \u001B[43mestimator\u001B[49m\u001B[38;5;241;43m.\u001B[39;49m\u001B[43mfit\u001B[49m\u001B[43m(\u001B[49m\u001B[43mX_train\u001B[49m\u001B[43m,\u001B[49m\u001B[43m \u001B[49m\u001B[43my_train\u001B[49m\u001B[43m,\u001B[49m\u001B[43m \u001B[49m\u001B[38;5;241;43m*\u001B[39;49m\u001B[38;5;241;43m*\u001B[39;49m\u001B[43mfit_params\u001B[49m\u001B[43m)\u001B[49m\n\u001B[1;32m    897\u001B[0m \u001B[38;5;28;01mexcept\u001B[39;00m \u001B[38;5;167;01mException\u001B[39;00m:\n\u001B[1;32m    898\u001B[0m     \u001B[38;5;66;03m# Note fit time as time until error\u001B[39;00m\n\u001B[1;32m    899\u001B[0m     fit_time \u001B[38;5;241m=\u001B[39m time\u001B[38;5;241m.\u001B[39mtime() \u001B[38;5;241m-\u001B[39m start_time\n",
      "File \u001B[0;32m~/Desktop/Projects/FactChecker/FactChecker/ClusterAndPredict/ClusterAndPredict.py:128\u001B[0m, in \u001B[0;36mClusterAndPredict.fit\u001B[0;34m(self, X, y)\u001B[0m\n\u001B[1;32m    123\u001B[0m \u001B[38;5;28mself\u001B[39m\u001B[38;5;241m.\u001B[39mClusterEmbeddingsObject \u001B[38;5;241m=\u001B[39m ClusterEmbeddings(min_cluster_size\u001B[38;5;241m=\u001B[39m\u001B[38;5;28mself\u001B[39m\u001B[38;5;241m.\u001B[39mmin_cluster_size,\n\u001B[1;32m    124\u001B[0m                                                  min_samples\u001B[38;5;241m=\u001B[39m\u001B[38;5;28mself\u001B[39m\u001B[38;5;241m.\u001B[39mmin_samples, time_stamp\u001B[38;5;241m=\u001B[39m\u001B[38;5;28mself\u001B[39m\u001B[38;5;241m.\u001B[39mtime_stamp)\n\u001B[1;32m    125\u001B[0m \u001B[38;5;28mself\u001B[39m\u001B[38;5;241m.\u001B[39mEmbedderObject \u001B[38;5;241m=\u001B[39m Embedder(n_neighbors\u001B[38;5;241m=\u001B[39m\u001B[38;5;28mself\u001B[39m\u001B[38;5;241m.\u001B[39mn_neighbors, min_dist\u001B[38;5;241m=\u001B[39m\u001B[38;5;28mself\u001B[39m\u001B[38;5;241m.\u001B[39mmin_dist,\n\u001B[1;32m    126\u001B[0m                                num_components\u001B[38;5;241m=\u001B[39m\u001B[38;5;28mself\u001B[39m\u001B[38;5;241m.\u001B[39mnum_components, no_umap\u001B[38;5;241m=\u001B[39m\u001B[38;5;28mself\u001B[39m\u001B[38;5;241m.\u001B[39mno_umap,\n\u001B[1;32m    127\u001B[0m                                time_stamp\u001B[38;5;241m=\u001B[39m\u001B[38;5;28mself\u001B[39m\u001B[38;5;241m.\u001B[39mtime_stamp, random_seed\u001B[38;5;241m=\u001B[39m\u001B[38;5;28mself\u001B[39m\u001B[38;5;241m.\u001B[39mrandom_seed)\n\u001B[0;32m--> 128\u001B[0m \u001B[38;5;28;43mself\u001B[39;49m\u001B[38;5;241;43m.\u001B[39;49m\u001B[43m__cluster_ground_truth\u001B[49m\u001B[43m(\u001B[49m\u001B[43m)\u001B[49m\n\u001B[1;32m    129\u001B[0m ClaimClassifierObject \u001B[38;5;241m=\u001B[39m ClaimClassifier(\n\u001B[1;32m    130\u001B[0m     path_to_model\u001B[38;5;241m=\u001B[39m\u001B[38;5;124m'\u001B[39m\u001B[38;5;124m/Users/vinayakkannan/Desktop/Projects/FactChecker/FactChecker/Clustering/Models/\u001B[39m\u001B[38;5;124m'\u001B[39m,\n\u001B[1;32m    131\u001B[0m     time_stamp\u001B[38;5;241m=\u001B[39m\u001B[38;5;28mself\u001B[39m\u001B[38;5;241m.\u001B[39mtime_stamp, min_cluster_size\u001B[38;5;241m=\u001B[39m\u001B[38;5;28mself\u001B[39m\u001B[38;5;241m.\u001B[39mmin_cluster_size, min_samples\u001B[38;5;241m=\u001B[39m\u001B[38;5;28mself\u001B[39m\u001B[38;5;241m.\u001B[39mmin_samples,\n\u001B[1;32m    132\u001B[0m     min_dist\u001B[38;5;241m=\u001B[39m\u001B[38;5;28mself\u001B[39m\u001B[38;5;241m.\u001B[39mmin_dist, num_components\u001B[38;5;241m=\u001B[39m\u001B[38;5;28mself\u001B[39m\u001B[38;5;241m.\u001B[39mnum_components, n_neighbors\u001B[38;5;241m=\u001B[39m\u001B[38;5;28mself\u001B[39m\u001B[38;5;241m.\u001B[39mn_neighbors)\n\u001B[1;32m    133\u001B[0m \u001B[38;5;66;03m# Loop through the test data and classify each claim\u001B[39;00m\n\u001B[1;32m    134\u001B[0m \u001B[38;5;66;03m# predicted_mean = []\u001B[39;00m\n\u001B[1;32m    135\u001B[0m \u001B[38;5;66;03m# predicted_sd = []\u001B[39;00m\n\u001B[1;32m    136\u001B[0m \u001B[38;5;66;03m# predicted_confidence = []\u001B[39;00m\n\u001B[1;32m    137\u001B[0m \n\u001B[1;32m    138\u001B[0m \u001B[38;5;66;03m# cluster_df columns - text, veracity, predict, embeddings, cluster\u001B[39;00m\n",
      "File \u001B[0;32m~/Desktop/Projects/FactChecker/FactChecker/ClusterAndPredict/ClusterAndPredict.py:113\u001B[0m, in \u001B[0;36mClusterAndPredict.__cluster_ground_truth\u001B[0;34m(self)\u001B[0m\n\u001B[1;32m    112\u001B[0m \u001B[38;5;28;01mdef\u001B[39;00m \u001B[38;5;21m__cluster_ground_truth\u001B[39m(\u001B[38;5;28mself\u001B[39m):\n\u001B[0;32m--> 113\u001B[0m     \u001B[38;5;28;43mself\u001B[39;49m\u001B[38;5;241;43m.\u001B[39;49m\u001B[43mEmbedderObject\u001B[49m\u001B[38;5;241;43m.\u001B[39;49m\u001B[43membed_column_ground_truth\u001B[49m\u001B[43m(\u001B[49m\u001B[43mdf\u001B[49m\u001B[38;5;241;43m=\u001B[39;49m\u001B[38;5;28;43mself\u001B[39;49m\u001B[38;5;241;43m.\u001B[39;49m\u001B[43mtrain_df\u001B[49m\u001B[43m,\u001B[49m\u001B[43m \u001B[49m\u001B[43mclaim_column_name\u001B[49m\u001B[38;5;241;43m=\u001B[39;49m\u001B[38;5;28;43mself\u001B[39;49m\u001B[38;5;241;43m.\u001B[39;49m\u001B[43mclaim_column_name\u001B[49m\u001B[43m,\u001B[49m\n\u001B[1;32m    114\u001B[0m \u001B[43m                                                  \u001B[49m\u001B[43mveracity_column_name\u001B[49m\u001B[38;5;241;43m=\u001B[39;49m\u001B[38;5;28;43mself\u001B[39;49m\u001B[38;5;241;43m.\u001B[39;49m\u001B[43mveracity_column_name\u001B[49m\u001B[43m,\u001B[49m\n\u001B[1;32m    115\u001B[0m \u001B[43m                                                  \u001B[49m\u001B[43minsert_into_collection\u001B[49m\u001B[38;5;241;43m=\u001B[39;49m\u001B[38;5;28;43;01mTrue\u001B[39;49;00m\u001B[43m,\u001B[49m\u001B[43m \u001B[49m\u001B[43msupervised_umap\u001B[49m\u001B[38;5;241;43m=\u001B[39;49m\u001B[38;5;28;43mself\u001B[39;49m\u001B[38;5;241;43m.\u001B[39;49m\u001B[43msupervised_umap\u001B[49m\u001B[43m,\u001B[49m\n\u001B[1;32m    116\u001B[0m \u001B[43m                                                  \u001B[49m\u001B[43msupervised_label_column_name\u001B[49m\u001B[38;5;241;43m=\u001B[39;49m\u001B[38;5;28;43mself\u001B[39;49m\u001B[38;5;241;43m.\u001B[39;49m\u001B[43msupervised_label_column_name\u001B[49m\u001B[43m)\u001B[49m\n\u001B[1;32m    117\u001B[0m     clustered_data, \u001B[38;5;28mself\u001B[39m\u001B[38;5;241m.\u001B[39mpercentage_of_no_clusters_in_ground_truth \u001B[38;5;241m=\u001B[39m \u001B[38;5;28mself\u001B[39m\u001B[38;5;241m.\u001B[39mClusterEmbeddingsObject\u001B[38;5;241m.\u001B[39mcluster()\n\u001B[1;32m    118\u001B[0m     \u001B[38;5;28mself\u001B[39m\u001B[38;5;241m.\u001B[39mground_truth_df \u001B[38;5;241m=\u001B[39m clustered_data\n",
      "File \u001B[0;32m~/Desktop/Projects/FactChecker/FactChecker/Clustering/Helpers/Embedder.py:89\u001B[0m, in \u001B[0;36mEmbedder.embed_column_ground_truth\u001B[0;34m(self, df, claim_column_name, veracity_column_name, supervised_label_column_name, insert_into_collection, supervised_umap)\u001B[0m\n\u001B[1;32m     84\u001B[0m \u001B[38;5;28;01mif\u001B[39;00m \u001B[38;5;129;01mnot\u001B[39;00m \u001B[38;5;28mself\u001B[39m\u001B[38;5;241m.\u001B[39mno_umap:\n\u001B[1;32m     85\u001B[0m     \u001B[38;5;66;03m# Reduce using UMAP\u001B[39;00m\n\u001B[1;32m     86\u001B[0m     reducer \u001B[38;5;241m=\u001B[39m umap\u001B[38;5;241m.\u001B[39mUMAP(n_neighbors\u001B[38;5;241m=\u001B[39m\u001B[38;5;28mself\u001B[39m\u001B[38;5;241m.\u001B[39mn_neighbors, min_dist\u001B[38;5;241m=\u001B[39m\u001B[38;5;28mself\u001B[39m\u001B[38;5;241m.\u001B[39mmin_dist, n_components\u001B[38;5;241m=\u001B[39m\u001B[38;5;28mself\u001B[39m\u001B[38;5;241m.\u001B[39mnum_components,\n\u001B[1;32m     87\u001B[0m                         n_jobs\u001B[38;5;241m=\u001B[39m\u001B[38;5;241m1\u001B[39m,\n\u001B[1;32m     88\u001B[0m                         random_state\u001B[38;5;241m=\u001B[39m\u001B[38;5;241m23\u001B[39m \u001B[38;5;28;01mif\u001B[39;00m \u001B[38;5;28mself\u001B[39m\u001B[38;5;241m.\u001B[39mrandom_seed \u001B[38;5;28;01melse\u001B[39;00m \u001B[38;5;28;01mNone\u001B[39;00m)\n\u001B[0;32m---> 89\u001B[0m     embeddings \u001B[38;5;241m=\u001B[39m \u001B[43mnp\u001B[49m\u001B[38;5;241;43m.\u001B[39;49m\u001B[43marray\u001B[49m\u001B[43m(\u001B[49m\u001B[43membeddings\u001B[49m\u001B[38;5;241;43m.\u001B[39;49m\u001B[43mtolist\u001B[49m\u001B[43m(\u001B[49m\u001B[43m)\u001B[49m\u001B[43m)\u001B[49m\n\u001B[1;32m     90\u001B[0m     embeddings_reduced_object \u001B[38;5;241m=\u001B[39m \u001B[38;5;28;01mNone\u001B[39;00m\n\u001B[1;32m     91\u001B[0m     \u001B[38;5;28;01mif\u001B[39;00m supervised_umap:\n",
      "\u001B[0;31mKeyboardInterrupt\u001B[0m: "
     ]
    }
   ],
   "source": [
    "percentages = [0.5]\n",
    "results = []\n",
    "for percentage in percentages:\n",
    "    data_loader = DataLoader(percentage)\n",
    "    train_df, test_df = data_loader.create_train_test_df(True, True, True)\n",
    "    # train_df, test_df = data_loader.create_large_train_test_df(remove_synthetic_data=True)\n",
    "    # train_df, test_df = data_loader.create_matched_large_df(False)\n",
    "    # Sample 0.05 of the data\n",
    "    # train_df = train_df.sample(frac=0.05)\n",
    "    # test_df = test_df.sample(frac=0.05)\n",
    "    cluster_predict_object = ClusterAndPredict(train_df=train_df)\n",
    "    # Parallelism with jobs doesnt work\n",
    "    parameters['n_neighbors'] = [int(train_df.shape[0] - 2)]\n",
    "    clf = GridSearchCV(cluster_predict_object, parameters, verbose=1, cv=2, refit=True)\n",
    "    clf.fit(test_df['Text'].tolist(), test_df['Numerical Rating'].tolist())\n",
    "    # Print best parameters\n",
    "    best_estimator: ClusterAndPredict = clf.best_estimator_\n",
    "    output = {\n",
    "        'percentage': percentage,\n",
    "        'best_params': clf.best_params_,\n",
    "        'best_score': clf.best_score_,\n",
    "        'accuracy': best_estimator.get_accuracy(),\n",
    "        'was_supervised_umap_used': best_estimator.get_was_supervised(),\n",
    "        'metrics': best_estimator.get_all_performance_metrics(),\n",
    "    }\n",
    "    print(output)\n",
    "    results.append(output)"
   ],
   "metadata": {
    "collapsed": false,
    "ExecuteTime": {
     "end_time": "2024-05-19T22:20:11.490936Z",
     "start_time": "2024-05-19T22:19:59.912004Z"
    }
   },
   "id": "724a5cb50eba0305"
  },
  {
   "cell_type": "code",
   "execution_count": 17,
   "outputs": [
    {
     "name": "stdout",
     "output_type": "stream",
     "text": [
      "0\n",
      "9 55 64\n",
      "0.140625 1.0 0.140625\n"
     ]
    },
    {
     "data": {
      "text/plain": "{'accuracy': 0.36728060671722645,\n 'accuracy_not_including_fours': 0.9643652561247216,\n 'percentage_of_fours': 0.5135427952329361,\n 'percentage_of_no_clusters_in_ground_truth': 0.5496267625103677,\n 'precision_on_three': 0.140625,\n 'recall_on_three': 0.07258064516129033,\n 'average_confidence_for_3': 0.9071800682964969,\n 'precision_on_three_excluding_fours': 0.140625,\n 'recall_on_three_excluding_fours': 0.140625,\n 'accuracy_90_confidence': 0.3174431202600217,\n 'accuracy_80_confidence': 0.35102925243770317,\n 'accuracy_70_confidence': 0.35752979414951247,\n 'accuracy_60_confidence': 0.3629469122426869,\n 'percentage_90_confidence': 0.9295774647887324,\n 'percentage_80_confidence': 0.9696641386782232,\n 'percentage_70_confidence': 0.9772481040086674,\n 'percentage_60_confidence': 0.9945828819068255,\n 'cluster_df':                                                    text  veracity  predict  \\\n 0     Yet, the White House keeps pushing the Green-e...       1.0     True   \n 1     In April, EPA finalized a rulemaking under the...       3.0     True   \n 2     Damage to coral reefs due to climate change is...       3.0     True   \n 3     The latest NOAA CFS model is showing exactly t...       1.0     True   \n 4     It is instructive to note that over the past c...       1.0     True   \n ...                                                 ...       ...      ...   \n 3790  “We are proud to join HUD and EPA to call for ...       3.0    False   \n 3791  “With nearly $1 billion in investment already ...       3.0    False   \n 3792  “… 600 million Africans lack access to electri...       3.0    False   \n 3793        “… with 93% of that power being renewable.”       1.0    False   \n 3794  ”Global warming started to run out of steam ov...       1.0    False   \n \n       predicted_veracity                                         embeddings  \\\n 0                    4.0  [29.242650985717773, 12.672236442565918, -1.04...   \n 1                    3.0  [29.288766860961914, 12.631510734558105, -1.20...   \n 2                    3.0  [29.78821563720703, 12.83484935760498, -0.8474...   \n 3                    1.0  [29.869421005249023, 13.158324241638184, -0.71...   \n 4                    1.0  [29.978166580200195, 13.277459144592285, -0.78...   \n ...                  ...                                                ...   \n 3790                 3.0  [29.3698787689209, 12.605443954467773, -1.2006...   \n 3791                 3.0  [29.368019104003906, 12.7279052734375, -1.2808...   \n 3792                 3.0  [29.522491455078125, 12.716552734375, -0.89415...   \n 3793                 1.0  [29.226356506347656, 12.523391723632812, -0.99...   \n 3794                 1.0  [29.778722763061523, 13.041099548339844, -0.55...   \n \n       cluster  num_correct_in_cluster  total_in_cluster  cluster_accuracy  \n 0          -1                    1611              2085          0.772662  \n 1          70                      17                17          1.000000  \n 2          13                       5                 5          1.000000  \n 3          59                      76                76          1.000000  \n 4          41                     153               153          1.000000  \n ...       ...                     ...               ...               ...  \n 3790       -1                    1611              2085          0.772662  \n 3791       69                      53                53          1.000000  \n 3792        3                       5                 5          1.000000  \n 3793       -1                    1611              2085          0.772662  \n 3794       76                      71                72          0.986111  \n \n [3795 rows x 9 columns]}"
     },
     "execution_count": 17,
     "metadata": {},
     "output_type": "execute_result"
    }
   ],
   "source": [
    "object_output = best_estimator.get_all_performance_metrics()\n",
    "cluster_df = object_output['cluster_df']\n",
    "# Print unique count of 'cluster'\n",
    "cluster_df['cluster'].nunique()\n",
    "object_output"
   ],
   "metadata": {
    "collapsed": false,
    "ExecuteTime": {
     "end_time": "2024-05-19T14:54:27.178225Z",
     "start_time": "2024-05-19T14:54:25.532337Z"
    }
   },
   "id": "2dd02d7938148d81"
  },
  {
   "cell_type": "code",
   "execution_count": 77,
   "outputs": [
    {
     "name": "stdout",
     "output_type": "stream",
     "text": [
      "Numerical Rating\n",
      "1    2102\n",
      "3     319\n",
      "Name: count, dtype: int64\n",
      "Numerical Rating\n",
      "1    2117\n",
      "3     300\n",
      "Name: count, dtype: int64\n"
     ]
    }
   ],
   "source": [
    "# Rename 'text' column in cluster_df to 'Text'\n",
    "cluster_df = cluster_df.rename(columns={'text': 'Text'})\n",
    "train_df, test_df = data_loader.create_large_train_test_df(False)\n",
    "# Join the 'Synthetic' column in train_df and test_df on cluster_df using the 'text' column\n",
    "# Concatenate train_df and test_df\n",
    "combined_df = pd.concat([train_df, test_df])\n",
    "\n",
    "# Ensure that 'Text' column is of the same data type in both dataframes\n",
    "combined_df['Text'] = combined_df['Text'].astype(str)\n",
    "cluster_df['Text'] = cluster_df['Text'].astype(str)\n",
    "\n",
    "# Merge 'Synthetic' column from combined_df to cluster_df\n",
    "cluster_df = cluster_df.merge(combined_df[['Text', 'Synthetic']], on='Text', how='left')"
   ],
   "metadata": {
    "collapsed": false,
    "ExecuteTime": {
     "end_time": "2024-05-17T16:49:45.943604Z",
     "start_time": "2024-05-17T16:49:45.766871Z"
    }
   },
   "id": "15b7aeebd80e657e"
  },
  {
   "cell_type": "code",
   "execution_count": 69,
   "outputs": [
    {
     "data": {
      "text/plain": "cluster  predict  predicted_veracity\n-1       False    1.0                   1655\n                  3.0                    311\n         True     4.0                    593\n 0       False    3.0                     11\n         True     3.0                      2\n                                        ... \n 91      False    3.0                      1\n         True     1.0                      3\n 92      False    1.0                      4\n                  3.0                      2\n         True     1.0                      2\nName: count, Length: 197, dtype: int64"
     },
     "execution_count": 69,
     "metadata": {},
     "output_type": "execute_result"
    }
   ],
   "source": [
    "# Print value counts for predicted_veracity for across each cluster in cluster_df\n",
    "value_counts = cluster_df.groupby(['cluster', 'predict'])['predicted_veracity'].value_counts()\n",
    "value_counts"
   ],
   "metadata": {
    "collapsed": false,
    "ExecuteTime": {
     "end_time": "2024-05-17T16:33:38.264439Z",
     "start_time": "2024-05-17T16:33:38.217296Z"
    }
   },
   "id": "d398547c7800eb0f"
  },
  {
   "cell_type": "code",
   "execution_count": 18,
   "outputs": [
    {
     "data": {
      "text/plain": "                                                   text  veracity  predict  \\\n0     Yet, the White House keeps pushing the Green-e...       1.0     True   \n1     In April, EPA finalized a rulemaking under the...       3.0     True   \n2     Damage to coral reefs due to climate change is...       3.0     True   \n3     The latest NOAA CFS model is showing exactly t...       1.0     True   \n4     It is instructive to note that over the past c...       1.0     True   \n...                                                 ...       ...      ...   \n3790  “We are proud to join HUD and EPA to call for ...       3.0    False   \n3791  “With nearly $1 billion in investment already ...       3.0    False   \n3792  “… 600 million Africans lack access to electri...       3.0    False   \n3793        “… with 93% of that power being renewable.”       1.0    False   \n3794  ”Global warming started to run out of steam ov...       1.0    False   \n\n      predicted_veracity                                         embeddings  \\\n0                    4.0  [29.242650985717773, 12.672236442565918, -1.04...   \n1                    3.0  [29.288766860961914, 12.631510734558105, -1.20...   \n2                    3.0  [29.78821563720703, 12.83484935760498, -0.8474...   \n3                    1.0  [29.869421005249023, 13.158324241638184, -0.71...   \n4                    1.0  [29.978166580200195, 13.277459144592285, -0.78...   \n...                  ...                                                ...   \n3790                 3.0  [29.3698787689209, 12.605443954467773, -1.2006...   \n3791                 3.0  [29.368019104003906, 12.7279052734375, -1.2808...   \n3792                 3.0  [29.522491455078125, 12.716552734375, -0.89415...   \n3793                 1.0  [29.226356506347656, 12.523391723632812, -0.99...   \n3794                 1.0  [29.778722763061523, 13.041099548339844, -0.55...   \n\n      cluster  num_correct_in_cluster  total_in_cluster  cluster_accuracy  \n0          -1                    1611              2085          0.772662  \n1          70                      17                17          1.000000  \n2          13                       5                 5          1.000000  \n3          59                      76                76          1.000000  \n4          41                     153               153          1.000000  \n...       ...                     ...               ...               ...  \n3790       -1                    1611              2085          0.772662  \n3791       69                      53                53          1.000000  \n3792        3                       5                 5          1.000000  \n3793       -1                    1611              2085          0.772662  \n3794       76                      71                72          0.986111  \n\n[3795 rows x 9 columns]",
      "text/html": "<div>\n<style scoped>\n    .dataframe tbody tr th:only-of-type {\n        vertical-align: middle;\n    }\n\n    .dataframe tbody tr th {\n        vertical-align: top;\n    }\n\n    .dataframe thead th {\n        text-align: right;\n    }\n</style>\n<table border=\"1\" class=\"dataframe\">\n  <thead>\n    <tr style=\"text-align: right;\">\n      <th></th>\n      <th>text</th>\n      <th>veracity</th>\n      <th>predict</th>\n      <th>predicted_veracity</th>\n      <th>embeddings</th>\n      <th>cluster</th>\n      <th>num_correct_in_cluster</th>\n      <th>total_in_cluster</th>\n      <th>cluster_accuracy</th>\n    </tr>\n  </thead>\n  <tbody>\n    <tr>\n      <th>0</th>\n      <td>Yet, the White House keeps pushing the Green-e...</td>\n      <td>1.0</td>\n      <td>True</td>\n      <td>4.0</td>\n      <td>[29.242650985717773, 12.672236442565918, -1.04...</td>\n      <td>-1</td>\n      <td>1611</td>\n      <td>2085</td>\n      <td>0.772662</td>\n    </tr>\n    <tr>\n      <th>1</th>\n      <td>In April, EPA finalized a rulemaking under the...</td>\n      <td>3.0</td>\n      <td>True</td>\n      <td>3.0</td>\n      <td>[29.288766860961914, 12.631510734558105, -1.20...</td>\n      <td>70</td>\n      <td>17</td>\n      <td>17</td>\n      <td>1.000000</td>\n    </tr>\n    <tr>\n      <th>2</th>\n      <td>Damage to coral reefs due to climate change is...</td>\n      <td>3.0</td>\n      <td>True</td>\n      <td>3.0</td>\n      <td>[29.78821563720703, 12.83484935760498, -0.8474...</td>\n      <td>13</td>\n      <td>5</td>\n      <td>5</td>\n      <td>1.000000</td>\n    </tr>\n    <tr>\n      <th>3</th>\n      <td>The latest NOAA CFS model is showing exactly t...</td>\n      <td>1.0</td>\n      <td>True</td>\n      <td>1.0</td>\n      <td>[29.869421005249023, 13.158324241638184, -0.71...</td>\n      <td>59</td>\n      <td>76</td>\n      <td>76</td>\n      <td>1.000000</td>\n    </tr>\n    <tr>\n      <th>4</th>\n      <td>It is instructive to note that over the past c...</td>\n      <td>1.0</td>\n      <td>True</td>\n      <td>1.0</td>\n      <td>[29.978166580200195, 13.277459144592285, -0.78...</td>\n      <td>41</td>\n      <td>153</td>\n      <td>153</td>\n      <td>1.000000</td>\n    </tr>\n    <tr>\n      <th>...</th>\n      <td>...</td>\n      <td>...</td>\n      <td>...</td>\n      <td>...</td>\n      <td>...</td>\n      <td>...</td>\n      <td>...</td>\n      <td>...</td>\n      <td>...</td>\n    </tr>\n    <tr>\n      <th>3790</th>\n      <td>“We are proud to join HUD and EPA to call for ...</td>\n      <td>3.0</td>\n      <td>False</td>\n      <td>3.0</td>\n      <td>[29.3698787689209, 12.605443954467773, -1.2006...</td>\n      <td>-1</td>\n      <td>1611</td>\n      <td>2085</td>\n      <td>0.772662</td>\n    </tr>\n    <tr>\n      <th>3791</th>\n      <td>“With nearly $1 billion in investment already ...</td>\n      <td>3.0</td>\n      <td>False</td>\n      <td>3.0</td>\n      <td>[29.368019104003906, 12.7279052734375, -1.2808...</td>\n      <td>69</td>\n      <td>53</td>\n      <td>53</td>\n      <td>1.000000</td>\n    </tr>\n    <tr>\n      <th>3792</th>\n      <td>“… 600 million Africans lack access to electri...</td>\n      <td>3.0</td>\n      <td>False</td>\n      <td>3.0</td>\n      <td>[29.522491455078125, 12.716552734375, -0.89415...</td>\n      <td>3</td>\n      <td>5</td>\n      <td>5</td>\n      <td>1.000000</td>\n    </tr>\n    <tr>\n      <th>3793</th>\n      <td>“… with 93% of that power being renewable.”</td>\n      <td>1.0</td>\n      <td>False</td>\n      <td>1.0</td>\n      <td>[29.226356506347656, 12.523391723632812, -0.99...</td>\n      <td>-1</td>\n      <td>1611</td>\n      <td>2085</td>\n      <td>0.772662</td>\n    </tr>\n    <tr>\n      <th>3794</th>\n      <td>”Global warming started to run out of steam ov...</td>\n      <td>1.0</td>\n      <td>False</td>\n      <td>1.0</td>\n      <td>[29.778722763061523, 13.041099548339844, -0.55...</td>\n      <td>76</td>\n      <td>71</td>\n      <td>72</td>\n      <td>0.986111</td>\n    </tr>\n  </tbody>\n</table>\n<p>3795 rows × 9 columns</p>\n</div>"
     },
     "execution_count": 18,
     "metadata": {},
     "output_type": "execute_result"
    }
   ],
   "source": [
    "# Show cluster_df with cluster != -1 \n",
    "cluster_df"
   ],
   "metadata": {
    "collapsed": false,
    "ExecuteTime": {
     "end_time": "2024-05-19T14:54:34.164267Z",
     "start_time": "2024-05-19T14:54:34.115596Z"
    }
   },
   "id": "fba8be1fa3bda21"
  },
  {
   "cell_type": "code",
   "execution_count": 10,
   "outputs": [
    {
     "data": {
      "text/plain": "                                                    Text  veracity  predict  \\\n54     Even climate scientists who believe that man i...       1.0     True   \n239    in a time when CO2 emissions were rising stron...       1.0     True   \n248    We know this because observations over the las...       1.0     True   \n271    The climate alarmists, says Carlin, have now b...       1.0     True   \n286    However, proof of global warming is not proof ...       1.0     True   \n...                                                  ...       ...      ...   \n17429  The WHO conservatively projects 250 000 additi...       3.0    False   \n18408  The public does not seem to be buying it eithe...       1.0    False   \n19026  These illnesses do not cost the U.S. health ca...       1.0    False   \n19238  This build-up of forest carbon stocks, in the ...       3.0    False   \n20225  You cant write a novel about a global disaster...       1.0    False   \n\n                                              embeddings  cluster  \\\n54     [16.75649642944336, 7.302152633666992, 8.66819...       78   \n239    [16.768678665161133, 7.143996238708496, 8.9121...       15   \n248    [16.84231948852539, 7.284847259521484, 8.87673...      153   \n271    [16.71180534362793, 7.290363788604736, 8.84081...       15   \n286    [16.63208770751953, 7.000495910644531, 9.13333...      142   \n...                                                  ...      ...   \n17429  [15.916265487670898, 7.806142330169678, 9.0867...      109   \n18408  [16.686992645263672, 7.437294960021973, 8.3894...      199   \n19026  [15.955400466918945, 7.791223526000977, 9.0949...      109   \n19238  [14.952432632446289, 7.287282466888428, 10.111...       35   \n20225  [15.948162078857422, 7.723169803619385, 9.0304...      104   \n\n       predicted_veracity  num_correct_in_cluster  total_in_cluster  \\\n54                    3.0                      12                28   \n239                   3.0                      12                29   \n248                   3.0                      12                21   \n271                   3.0                      12                29   \n286                   3.0                      11                19   \n...                   ...                     ...               ...   \n17429                 3.0                      10                18   \n18408                 1.0                      19                36   \n19026                 1.0                      10                18   \n19238                 3.0                       9                18   \n20225                 1.0                      10                18   \n\n       cluster_accuracy Synthetic  \n54             0.428571     False  \n239            0.413793     False  \n248            0.571429     False  \n271            0.413793     False  \n286            0.578947     False  \n...                 ...       ...  \n17429          0.555556     False  \n18408          0.527778     False  \n19026          0.555556      True  \n19238          0.500000      True  \n20225          0.555556     False  \n\n[284 rows x 10 columns]",
      "text/html": "<div>\n<style scoped>\n    .dataframe tbody tr th:only-of-type {\n        vertical-align: middle;\n    }\n\n    .dataframe tbody tr th {\n        vertical-align: top;\n    }\n\n    .dataframe thead th {\n        text-align: right;\n    }\n</style>\n<table border=\"1\" class=\"dataframe\">\n  <thead>\n    <tr style=\"text-align: right;\">\n      <th></th>\n      <th>Text</th>\n      <th>veracity</th>\n      <th>predict</th>\n      <th>embeddings</th>\n      <th>cluster</th>\n      <th>predicted_veracity</th>\n      <th>num_correct_in_cluster</th>\n      <th>total_in_cluster</th>\n      <th>cluster_accuracy</th>\n      <th>Synthetic</th>\n    </tr>\n  </thead>\n  <tbody>\n    <tr>\n      <th>54</th>\n      <td>Even climate scientists who believe that man i...</td>\n      <td>1.0</td>\n      <td>True</td>\n      <td>[16.75649642944336, 7.302152633666992, 8.66819...</td>\n      <td>78</td>\n      <td>3.0</td>\n      <td>12</td>\n      <td>28</td>\n      <td>0.428571</td>\n      <td>False</td>\n    </tr>\n    <tr>\n      <th>239</th>\n      <td>in a time when CO2 emissions were rising stron...</td>\n      <td>1.0</td>\n      <td>True</td>\n      <td>[16.768678665161133, 7.143996238708496, 8.9121...</td>\n      <td>15</td>\n      <td>3.0</td>\n      <td>12</td>\n      <td>29</td>\n      <td>0.413793</td>\n      <td>False</td>\n    </tr>\n    <tr>\n      <th>248</th>\n      <td>We know this because observations over the las...</td>\n      <td>1.0</td>\n      <td>True</td>\n      <td>[16.84231948852539, 7.284847259521484, 8.87673...</td>\n      <td>153</td>\n      <td>3.0</td>\n      <td>12</td>\n      <td>21</td>\n      <td>0.571429</td>\n      <td>False</td>\n    </tr>\n    <tr>\n      <th>271</th>\n      <td>The climate alarmists, says Carlin, have now b...</td>\n      <td>1.0</td>\n      <td>True</td>\n      <td>[16.71180534362793, 7.290363788604736, 8.84081...</td>\n      <td>15</td>\n      <td>3.0</td>\n      <td>12</td>\n      <td>29</td>\n      <td>0.413793</td>\n      <td>False</td>\n    </tr>\n    <tr>\n      <th>286</th>\n      <td>However, proof of global warming is not proof ...</td>\n      <td>1.0</td>\n      <td>True</td>\n      <td>[16.63208770751953, 7.000495910644531, 9.13333...</td>\n      <td>142</td>\n      <td>3.0</td>\n      <td>11</td>\n      <td>19</td>\n      <td>0.578947</td>\n      <td>False</td>\n    </tr>\n    <tr>\n      <th>...</th>\n      <td>...</td>\n      <td>...</td>\n      <td>...</td>\n      <td>...</td>\n      <td>...</td>\n      <td>...</td>\n      <td>...</td>\n      <td>...</td>\n      <td>...</td>\n      <td>...</td>\n    </tr>\n    <tr>\n      <th>17429</th>\n      <td>The WHO conservatively projects 250 000 additi...</td>\n      <td>3.0</td>\n      <td>False</td>\n      <td>[15.916265487670898, 7.806142330169678, 9.0867...</td>\n      <td>109</td>\n      <td>3.0</td>\n      <td>10</td>\n      <td>18</td>\n      <td>0.555556</td>\n      <td>False</td>\n    </tr>\n    <tr>\n      <th>18408</th>\n      <td>The public does not seem to be buying it eithe...</td>\n      <td>1.0</td>\n      <td>False</td>\n      <td>[16.686992645263672, 7.437294960021973, 8.3894...</td>\n      <td>199</td>\n      <td>1.0</td>\n      <td>19</td>\n      <td>36</td>\n      <td>0.527778</td>\n      <td>False</td>\n    </tr>\n    <tr>\n      <th>19026</th>\n      <td>These illnesses do not cost the U.S. health ca...</td>\n      <td>1.0</td>\n      <td>False</td>\n      <td>[15.955400466918945, 7.791223526000977, 9.0949...</td>\n      <td>109</td>\n      <td>1.0</td>\n      <td>10</td>\n      <td>18</td>\n      <td>0.555556</td>\n      <td>True</td>\n    </tr>\n    <tr>\n      <th>19238</th>\n      <td>This build-up of forest carbon stocks, in the ...</td>\n      <td>3.0</td>\n      <td>False</td>\n      <td>[14.952432632446289, 7.287282466888428, 10.111...</td>\n      <td>35</td>\n      <td>3.0</td>\n      <td>9</td>\n      <td>18</td>\n      <td>0.500000</td>\n      <td>True</td>\n    </tr>\n    <tr>\n      <th>20225</th>\n      <td>You cant write a novel about a global disaster...</td>\n      <td>1.0</td>\n      <td>False</td>\n      <td>[15.948162078857422, 7.723169803619385, 9.0304...</td>\n      <td>104</td>\n      <td>1.0</td>\n      <td>10</td>\n      <td>18</td>\n      <td>0.555556</td>\n      <td>False</td>\n    </tr>\n  </tbody>\n</table>\n<p>284 rows × 10 columns</p>\n</div>"
     },
     "execution_count": 10,
     "metadata": {},
     "output_type": "execute_result"
    }
   ],
   "source": [
    "# Filter out 4 from cluster_df\n",
    "cluster_df = cluster_df[cluster_df['predicted_veracity'] != 4.0]\n",
    "cluster_df = cluster_df[cluster_df['predicted_veracity'] != 5.0]\n",
    "cluster_df = cluster_df[cluster_df['cluster'] != -1]\n",
    "# Filter cluster_df to be the first row per cluster\n",
    "clusters_unique = cluster_df.groupby('cluster').first().reset_index()\n",
    "# Calculate the cutoff for the top 50% of clusters by count\n",
    "cutoff = clusters_unique['total_in_cluster'].quantile(0.5)\n",
    "# Filter the clusters that are in the top 50%\n",
    "top_clusters = clusters_unique[clusters_unique['total_in_cluster'] > cutoff]\n",
    "# Get the top 10 lowest 'cluster_accuracy' clusters\n",
    "top_clusters = top_clusters.nsmallest(10, 'cluster_accuracy', keep='all')\n",
    "# Filter cluster_df to be the top clusters\n",
    "top_cluster_df = cluster_df[cluster_df['cluster'].isin(top_clusters['cluster'])]\n",
    "top_cluster_df"
   ],
   "metadata": {
    "collapsed": false,
    "ExecuteTime": {
     "end_time": "2024-05-07T14:37:46.567395Z",
     "start_time": "2024-05-07T14:37:46.475196Z"
    }
   },
   "id": "895c3aaedb312ec"
  },
  {
   "cell_type": "code",
   "execution_count": 11,
   "outputs": [
    {
     "data": {
      "text/plain": "17.0"
     },
     "execution_count": 11,
     "metadata": {},
     "output_type": "execute_result"
    }
   ],
   "source": [
    "cutoff"
   ],
   "metadata": {
    "collapsed": false,
    "ExecuteTime": {
     "end_time": "2024-05-07T14:37:46.612314Z",
     "start_time": "2024-05-07T14:37:46.550505Z"
    }
   },
   "id": "3ee364b6222c6ccb"
  },
  {
   "cell_type": "code",
   "execution_count": 42,
   "outputs": [
    {
     "data": {
      "text/plain": "10"
     },
     "execution_count": 42,
     "metadata": {},
     "output_type": "execute_result"
    }
   ],
   "source": [
    "# Count number of cluster in top_cluster_df\n",
    "top_cluster_df['cluster'].nunique()"
   ],
   "metadata": {
    "collapsed": false,
    "ExecuteTime": {
     "end_time": "2024-05-02T19:56:10.502602Z",
     "start_time": "2024-05-02T19:56:10.384950Z"
    }
   },
   "id": "f8bdbcbc6f5649aa"
  },
  {
   "cell_type": "code",
   "execution_count": 57,
   "outputs": [
    {
     "name": "stdout",
     "output_type": "stream",
     "text": [
      "Fitting 2 folds for each of 1 candidates, totalling 2 fits\n",
      "Number of clusters: 2\n",
      "Number of clusters: 2\n",
      "Number of clusters: 2\n"
     ]
    },
    {
     "data": {
      "text/plain": "GridSearchCV(cv=2,\n             estimator=<ClusterAndPredict.ClusterAndPredict.ClusterAndPredict object at 0x37b789350>,\n             param_grid={'claim_column_name': ['Text'], 'k': [15],\n                         'min_cluster_size': [2], 'min_dist': [0],\n                         'min_samples': [1], 'n_neighbors': [439],\n                         'no_umap': [False], 'num_components': [100],\n                         'random_seed': [True],\n                         'supervised_label_column_name': ['Numerical Rating'],\n                         'supervised_umap': [True], 'use_weightage': [True],\n                         'veracity_column_name': ['Numerical Rating']},\n             verbose=1)",
      "text/html": "<style>#sk-container-id-5 {\n  /* Definition of color scheme common for light and dark mode */\n  --sklearn-color-text: black;\n  --sklearn-color-line: gray;\n  /* Definition of color scheme for unfitted estimators */\n  --sklearn-color-unfitted-level-0: #fff5e6;\n  --sklearn-color-unfitted-level-1: #f6e4d2;\n  --sklearn-color-unfitted-level-2: #ffe0b3;\n  --sklearn-color-unfitted-level-3: chocolate;\n  /* Definition of color scheme for fitted estimators */\n  --sklearn-color-fitted-level-0: #f0f8ff;\n  --sklearn-color-fitted-level-1: #d4ebff;\n  --sklearn-color-fitted-level-2: #b3dbfd;\n  --sklearn-color-fitted-level-3: cornflowerblue;\n\n  /* Specific color for light theme */\n  --sklearn-color-text-on-default-background: var(--sg-text-color, var(--theme-code-foreground, var(--jp-content-font-color1, black)));\n  --sklearn-color-background: var(--sg-background-color, var(--theme-background, var(--jp-layout-color0, white)));\n  --sklearn-color-border-box: var(--sg-text-color, var(--theme-code-foreground, var(--jp-content-font-color1, black)));\n  --sklearn-color-icon: #696969;\n\n  @media (prefers-color-scheme: dark) {\n    /* Redefinition of color scheme for dark theme */\n    --sklearn-color-text-on-default-background: var(--sg-text-color, var(--theme-code-foreground, var(--jp-content-font-color1, white)));\n    --sklearn-color-background: var(--sg-background-color, var(--theme-background, var(--jp-layout-color0, #111)));\n    --sklearn-color-border-box: var(--sg-text-color, var(--theme-code-foreground, var(--jp-content-font-color1, white)));\n    --sklearn-color-icon: #878787;\n  }\n}\n\n#sk-container-id-5 {\n  color: var(--sklearn-color-text);\n}\n\n#sk-container-id-5 pre {\n  padding: 0;\n}\n\n#sk-container-id-5 input.sk-hidden--visually {\n  border: 0;\n  clip: rect(1px 1px 1px 1px);\n  clip: rect(1px, 1px, 1px, 1px);\n  height: 1px;\n  margin: -1px;\n  overflow: hidden;\n  padding: 0;\n  position: absolute;\n  width: 1px;\n}\n\n#sk-container-id-5 div.sk-dashed-wrapped {\n  border: 1px dashed var(--sklearn-color-line);\n  margin: 0 0.4em 0.5em 0.4em;\n  box-sizing: border-box;\n  padding-bottom: 0.4em;\n  background-color: var(--sklearn-color-background);\n}\n\n#sk-container-id-5 div.sk-container {\n  /* jupyter's `normalize.less` sets `[hidden] { display: none; }`\n     but bootstrap.min.css set `[hidden] { display: none !important; }`\n     so we also need the `!important` here to be able to override the\n     default hidden behavior on the sphinx rendered scikit-learn.org.\n     See: https://github.com/scikit-learn/scikit-learn/issues/21755 */\n  display: inline-block !important;\n  position: relative;\n}\n\n#sk-container-id-5 div.sk-text-repr-fallback {\n  display: none;\n}\n\ndiv.sk-parallel-item,\ndiv.sk-serial,\ndiv.sk-item {\n  /* draw centered vertical line to link estimators */\n  background-image: linear-gradient(var(--sklearn-color-text-on-default-background), var(--sklearn-color-text-on-default-background));\n  background-size: 2px 100%;\n  background-repeat: no-repeat;\n  background-position: center center;\n}\n\n/* Parallel-specific style estimator block */\n\n#sk-container-id-5 div.sk-parallel-item::after {\n  content: \"\";\n  width: 100%;\n  border-bottom: 2px solid var(--sklearn-color-text-on-default-background);\n  flex-grow: 1;\n}\n\n#sk-container-id-5 div.sk-parallel {\n  display: flex;\n  align-items: stretch;\n  justify-content: center;\n  background-color: var(--sklearn-color-background);\n  position: relative;\n}\n\n#sk-container-id-5 div.sk-parallel-item {\n  display: flex;\n  flex-direction: column;\n}\n\n#sk-container-id-5 div.sk-parallel-item:first-child::after {\n  align-self: flex-end;\n  width: 50%;\n}\n\n#sk-container-id-5 div.sk-parallel-item:last-child::after {\n  align-self: flex-start;\n  width: 50%;\n}\n\n#sk-container-id-5 div.sk-parallel-item:only-child::after {\n  width: 0;\n}\n\n/* Serial-specific style estimator block */\n\n#sk-container-id-5 div.sk-serial {\n  display: flex;\n  flex-direction: column;\n  align-items: center;\n  background-color: var(--sklearn-color-background);\n  padding-right: 1em;\n  padding-left: 1em;\n}\n\n\n/* Toggleable style: style used for estimator/Pipeline/ColumnTransformer box that is\nclickable and can be expanded/collapsed.\n- Pipeline and ColumnTransformer use this feature and define the default style\n- Estimators will overwrite some part of the style using the `sk-estimator` class\n*/\n\n/* Pipeline and ColumnTransformer style (default) */\n\n#sk-container-id-5 div.sk-toggleable {\n  /* Default theme specific background. It is overwritten whether we have a\n  specific estimator or a Pipeline/ColumnTransformer */\n  background-color: var(--sklearn-color-background);\n}\n\n/* Toggleable label */\n#sk-container-id-5 label.sk-toggleable__label {\n  cursor: pointer;\n  display: block;\n  width: 100%;\n  margin-bottom: 0;\n  padding: 0.5em;\n  box-sizing: border-box;\n  text-align: center;\n}\n\n#sk-container-id-5 label.sk-toggleable__label-arrow:before {\n  /* Arrow on the left of the label */\n  content: \"▸\";\n  float: left;\n  margin-right: 0.25em;\n  color: var(--sklearn-color-icon);\n}\n\n#sk-container-id-5 label.sk-toggleable__label-arrow:hover:before {\n  color: var(--sklearn-color-text);\n}\n\n/* Toggleable content - dropdown */\n\n#sk-container-id-5 div.sk-toggleable__content {\n  max-height: 0;\n  max-width: 0;\n  overflow: hidden;\n  text-align: left;\n  /* unfitted */\n  background-color: var(--sklearn-color-unfitted-level-0);\n}\n\n#sk-container-id-5 div.sk-toggleable__content.fitted {\n  /* fitted */\n  background-color: var(--sklearn-color-fitted-level-0);\n}\n\n#sk-container-id-5 div.sk-toggleable__content pre {\n  margin: 0.2em;\n  border-radius: 0.25em;\n  color: var(--sklearn-color-text);\n  /* unfitted */\n  background-color: var(--sklearn-color-unfitted-level-0);\n}\n\n#sk-container-id-5 div.sk-toggleable__content.fitted pre {\n  /* unfitted */\n  background-color: var(--sklearn-color-fitted-level-0);\n}\n\n#sk-container-id-5 input.sk-toggleable__control:checked~div.sk-toggleable__content {\n  /* Expand drop-down */\n  max-height: 200px;\n  max-width: 100%;\n  overflow: auto;\n}\n\n#sk-container-id-5 input.sk-toggleable__control:checked~label.sk-toggleable__label-arrow:before {\n  content: \"▾\";\n}\n\n/* Pipeline/ColumnTransformer-specific style */\n\n#sk-container-id-5 div.sk-label input.sk-toggleable__control:checked~label.sk-toggleable__label {\n  color: var(--sklearn-color-text);\n  background-color: var(--sklearn-color-unfitted-level-2);\n}\n\n#sk-container-id-5 div.sk-label.fitted input.sk-toggleable__control:checked~label.sk-toggleable__label {\n  background-color: var(--sklearn-color-fitted-level-2);\n}\n\n/* Estimator-specific style */\n\n/* Colorize estimator box */\n#sk-container-id-5 div.sk-estimator input.sk-toggleable__control:checked~label.sk-toggleable__label {\n  /* unfitted */\n  background-color: var(--sklearn-color-unfitted-level-2);\n}\n\n#sk-container-id-5 div.sk-estimator.fitted input.sk-toggleable__control:checked~label.sk-toggleable__label {\n  /* fitted */\n  background-color: var(--sklearn-color-fitted-level-2);\n}\n\n#sk-container-id-5 div.sk-label label.sk-toggleable__label,\n#sk-container-id-5 div.sk-label label {\n  /* The background is the default theme color */\n  color: var(--sklearn-color-text-on-default-background);\n}\n\n/* On hover, darken the color of the background */\n#sk-container-id-5 div.sk-label:hover label.sk-toggleable__label {\n  color: var(--sklearn-color-text);\n  background-color: var(--sklearn-color-unfitted-level-2);\n}\n\n/* Label box, darken color on hover, fitted */\n#sk-container-id-5 div.sk-label.fitted:hover label.sk-toggleable__label.fitted {\n  color: var(--sklearn-color-text);\n  background-color: var(--sklearn-color-fitted-level-2);\n}\n\n/* Estimator label */\n\n#sk-container-id-5 div.sk-label label {\n  font-family: monospace;\n  font-weight: bold;\n  display: inline-block;\n  line-height: 1.2em;\n}\n\n#sk-container-id-5 div.sk-label-container {\n  text-align: center;\n}\n\n/* Estimator-specific */\n#sk-container-id-5 div.sk-estimator {\n  font-family: monospace;\n  border: 1px dotted var(--sklearn-color-border-box);\n  border-radius: 0.25em;\n  box-sizing: border-box;\n  margin-bottom: 0.5em;\n  /* unfitted */\n  background-color: var(--sklearn-color-unfitted-level-0);\n}\n\n#sk-container-id-5 div.sk-estimator.fitted {\n  /* fitted */\n  background-color: var(--sklearn-color-fitted-level-0);\n}\n\n/* on hover */\n#sk-container-id-5 div.sk-estimator:hover {\n  /* unfitted */\n  background-color: var(--sklearn-color-unfitted-level-2);\n}\n\n#sk-container-id-5 div.sk-estimator.fitted:hover {\n  /* fitted */\n  background-color: var(--sklearn-color-fitted-level-2);\n}\n\n/* Specification for estimator info (e.g. \"i\" and \"?\") */\n\n/* Common style for \"i\" and \"?\" */\n\n.sk-estimator-doc-link,\na:link.sk-estimator-doc-link,\na:visited.sk-estimator-doc-link {\n  float: right;\n  font-size: smaller;\n  line-height: 1em;\n  font-family: monospace;\n  background-color: var(--sklearn-color-background);\n  border-radius: 1em;\n  height: 1em;\n  width: 1em;\n  text-decoration: none !important;\n  margin-left: 1ex;\n  /* unfitted */\n  border: var(--sklearn-color-unfitted-level-1) 1pt solid;\n  color: var(--sklearn-color-unfitted-level-1);\n}\n\n.sk-estimator-doc-link.fitted,\na:link.sk-estimator-doc-link.fitted,\na:visited.sk-estimator-doc-link.fitted {\n  /* fitted */\n  border: var(--sklearn-color-fitted-level-1) 1pt solid;\n  color: var(--sklearn-color-fitted-level-1);\n}\n\n/* On hover */\ndiv.sk-estimator:hover .sk-estimator-doc-link:hover,\n.sk-estimator-doc-link:hover,\ndiv.sk-label-container:hover .sk-estimator-doc-link:hover,\n.sk-estimator-doc-link:hover {\n  /* unfitted */\n  background-color: var(--sklearn-color-unfitted-level-3);\n  color: var(--sklearn-color-background);\n  text-decoration: none;\n}\n\ndiv.sk-estimator.fitted:hover .sk-estimator-doc-link.fitted:hover,\n.sk-estimator-doc-link.fitted:hover,\ndiv.sk-label-container:hover .sk-estimator-doc-link.fitted:hover,\n.sk-estimator-doc-link.fitted:hover {\n  /* fitted */\n  background-color: var(--sklearn-color-fitted-level-3);\n  color: var(--sklearn-color-background);\n  text-decoration: none;\n}\n\n/* Span, style for the box shown on hovering the info icon */\n.sk-estimator-doc-link span {\n  display: none;\n  z-index: 9999;\n  position: relative;\n  font-weight: normal;\n  right: .2ex;\n  padding: .5ex;\n  margin: .5ex;\n  width: min-content;\n  min-width: 20ex;\n  max-width: 50ex;\n  color: var(--sklearn-color-text);\n  box-shadow: 2pt 2pt 4pt #999;\n  /* unfitted */\n  background: var(--sklearn-color-unfitted-level-0);\n  border: .5pt solid var(--sklearn-color-unfitted-level-3);\n}\n\n.sk-estimator-doc-link.fitted span {\n  /* fitted */\n  background: var(--sklearn-color-fitted-level-0);\n  border: var(--sklearn-color-fitted-level-3);\n}\n\n.sk-estimator-doc-link:hover span {\n  display: block;\n}\n\n/* \"?\"-specific style due to the `<a>` HTML tag */\n\n#sk-container-id-5 a.estimator_doc_link {\n  float: right;\n  font-size: 1rem;\n  line-height: 1em;\n  font-family: monospace;\n  background-color: var(--sklearn-color-background);\n  border-radius: 1rem;\n  height: 1rem;\n  width: 1rem;\n  text-decoration: none;\n  /* unfitted */\n  color: var(--sklearn-color-unfitted-level-1);\n  border: var(--sklearn-color-unfitted-level-1) 1pt solid;\n}\n\n#sk-container-id-5 a.estimator_doc_link.fitted {\n  /* fitted */\n  border: var(--sklearn-color-fitted-level-1) 1pt solid;\n  color: var(--sklearn-color-fitted-level-1);\n}\n\n/* On hover */\n#sk-container-id-5 a.estimator_doc_link:hover {\n  /* unfitted */\n  background-color: var(--sklearn-color-unfitted-level-3);\n  color: var(--sklearn-color-background);\n  text-decoration: none;\n}\n\n#sk-container-id-5 a.estimator_doc_link.fitted:hover {\n  /* fitted */\n  background-color: var(--sklearn-color-fitted-level-3);\n}\n</style><div id=\"sk-container-id-5\" class=\"sk-top-container\"><div class=\"sk-text-repr-fallback\"><pre>GridSearchCV(cv=2,\n             estimator=&lt;ClusterAndPredict.ClusterAndPredict.ClusterAndPredict object at 0x37b789350&gt;,\n             param_grid={&#x27;claim_column_name&#x27;: [&#x27;Text&#x27;], &#x27;k&#x27;: [15],\n                         &#x27;min_cluster_size&#x27;: [2], &#x27;min_dist&#x27;: [0],\n                         &#x27;min_samples&#x27;: [1], &#x27;n_neighbors&#x27;: [439],\n                         &#x27;no_umap&#x27;: [False], &#x27;num_components&#x27;: [100],\n                         &#x27;random_seed&#x27;: [True],\n                         &#x27;supervised_label_column_name&#x27;: [&#x27;Numerical Rating&#x27;],\n                         &#x27;supervised_umap&#x27;: [True], &#x27;use_weightage&#x27;: [True],\n                         &#x27;veracity_column_name&#x27;: [&#x27;Numerical Rating&#x27;]},\n             verbose=1)</pre><b>In a Jupyter environment, please rerun this cell to show the HTML representation or trust the notebook. <br />On GitHub, the HTML representation is unable to render, please try loading this page with nbviewer.org.</b></div><div class=\"sk-container\" hidden><div class=\"sk-item sk-dashed-wrapped\"><div class=\"sk-label-container\"><div class=\"sk-label fitted sk-toggleable\"><input class=\"sk-toggleable__control sk-hidden--visually\" id=\"sk-estimator-id-13\" type=\"checkbox\" ><label for=\"sk-estimator-id-13\" class=\"sk-toggleable__label fitted sk-toggleable__label-arrow fitted\">&nbsp;&nbsp;GridSearchCV<a class=\"sk-estimator-doc-link fitted\" rel=\"noreferrer\" target=\"_blank\" href=\"https://scikit-learn.org/1.4/modules/generated/sklearn.model_selection.GridSearchCV.html\">?<span>Documentation for GridSearchCV</span></a><span class=\"sk-estimator-doc-link fitted\">i<span>Fitted</span></span></label><div class=\"sk-toggleable__content fitted\"><pre>GridSearchCV(cv=2,\n             estimator=&lt;ClusterAndPredict.ClusterAndPredict.ClusterAndPredict object at 0x37b789350&gt;,\n             param_grid={&#x27;claim_column_name&#x27;: [&#x27;Text&#x27;], &#x27;k&#x27;: [15],\n                         &#x27;min_cluster_size&#x27;: [2], &#x27;min_dist&#x27;: [0],\n                         &#x27;min_samples&#x27;: [1], &#x27;n_neighbors&#x27;: [439],\n                         &#x27;no_umap&#x27;: [False], &#x27;num_components&#x27;: [100],\n                         &#x27;random_seed&#x27;: [True],\n                         &#x27;supervised_label_column_name&#x27;: [&#x27;Numerical Rating&#x27;],\n                         &#x27;supervised_umap&#x27;: [True], &#x27;use_weightage&#x27;: [True],\n                         &#x27;veracity_column_name&#x27;: [&#x27;Numerical Rating&#x27;]},\n             verbose=1)</pre></div> </div></div><div class=\"sk-parallel\"><div class=\"sk-parallel-item\"><div class=\"sk-item\"><div class=\"sk-label-container\"><div class=\"sk-label fitted sk-toggleable\"><input class=\"sk-toggleable__control sk-hidden--visually\" id=\"sk-estimator-id-14\" type=\"checkbox\" ><label for=\"sk-estimator-id-14\" class=\"sk-toggleable__label fitted sk-toggleable__label-arrow fitted\">estimator: ClusterAndPredict</label><div class=\"sk-toggleable__content fitted\"><pre>&lt;ClusterAndPredict.ClusterAndPredict.ClusterAndPredict object at 0x37b789350&gt;</pre></div> </div></div><div class=\"sk-serial\"><div class=\"sk-item\"><div class=\"sk-estimator fitted sk-toggleable\"><input class=\"sk-toggleable__control sk-hidden--visually\" id=\"sk-estimator-id-15\" type=\"checkbox\" ><label for=\"sk-estimator-id-15\" class=\"sk-toggleable__label fitted sk-toggleable__label-arrow fitted\">ClusterAndPredict</label><div class=\"sk-toggleable__content fitted\"><pre>&lt;ClusterAndPredict.ClusterAndPredict.ClusterAndPredict object at 0x37b789350&gt;</pre></div> </div></div></div></div></div></div></div></div></div>"
     },
     "execution_count": 57,
     "metadata": {},
     "output_type": "execute_result"
    }
   ],
   "source": [
    "cluster_predict_object = ClusterAndPredict(train_df=train_df)\n",
    "# Parallelism with jobs doesnt work\n",
    "clf = GridSearchCV(cluster_predict_object, parameters, verbose=1, cv=2, refit=True)\n",
    "clf.fit(test_df['Text'].tolist(), test_df['Numerical Rating'].tolist())"
   ],
   "metadata": {
    "collapsed": false,
    "ExecuteTime": {
     "end_time": "2024-04-04T22:04:51.112508Z",
     "start_time": "2024-04-04T22:03:49.000076Z"
    }
   },
   "id": "bc16603aecb160cc"
  },
  {
   "cell_type": "code",
   "execution_count": 59,
   "outputs": [
    {
     "name": "stdout",
     "output_type": "stream",
     "text": [
      "{'claim_column_name': 'Text', 'k': 15, 'min_cluster_size': 2, 'min_dist': 0, 'min_samples': 1, 'n_neighbors': 439, 'no_umap': False, 'num_components': 100, 'random_seed': True, 'supervised_label_column_name': 'Numerical Rating', 'supervised_umap': True, 'use_weightage': True, 'veracity_column_name': 'Numerical Rating'}\n",
      "0.4943181818181818\n",
      "[1, 1, 1, 1, 1, 1, 1, 1, 1, 1, 1, 1, 1, 1, 1, 1, 1, 1, 1, 1, 1, 1, 1, 1, 1, 1, 1, 1, 1, 1, 1, 1, 1, 1, 1, 1, 1, 1, 1, 1, 1, 1, 1, 1, 3, 3, 3, 3, 3, 3, 3, 3, 3, 3, 3, 3, 3, 3, 3, 3, 3, 3, 3, 3, 3, 3, 3, 3, 3, 3, 3, 3, 3, 3, 3, 3, 3, 3, 3, 3, 3, 3, 3, 3, 3, 3, 3, 3]\n",
      "[1, 1, 1, 1, 1, 1, 1, 1, 1, 1, 1, 1, 1, 1, 1, 1, 1, 1, 1, 1, 1, 1, 1, 1, 1, 1, 1, 1, 1, 1, 1, 1, 1, 1, 1, 1, 1, 1, 1, 1, 1, 1, 1, 1, 3, 3, 3, 3, 3, 3, 3, 3, 3, 3, 3, 3, 3, 3, 3, 3, 3, 3, 3, 3, 3, 3, 3, 3, 3, 3, 3, 3, 3, 3, 4, 3, 3, 3, 3, 3, 3, 3, 3, 3, 3, 3, 3, 3]\n",
      "Accuracy: 0.9886363636363636\n",
      "Accuracy not including no clusters in test data: 1.0\n",
      "Percentage of no clusters in test data: 0.011363636363636364\n",
      "Percentage of no clusters in ground truth: 0.0\n",
      "Precision on veracity 3: 1.0\n",
      "Recall on veracity 3: 0.9772727272727273\n"
     ]
    }
   ],
   "source": [
    "# Print best parameters\n",
    "print(clf.best_params_)\n",
    "print(clf.best_score_)\n",
    "best_estimator: ClusterAndPredict = clf.best_estimator_\n",
    "best_estimator.score(test_df['Text'].tolist(), test_df['Numerical Rating'].tolist())\n",
    "best_estimator.print_all_performance_metrics()"
   ],
   "metadata": {
    "collapsed": false,
    "ExecuteTime": {
     "end_time": "2024-04-04T22:06:01.873273Z",
     "start_time": "2024-04-04T22:06:01.822662Z"
    }
   },
   "id": "33aebf6ce1d3c837"
  },
  {
   "cell_type": "code",
   "execution_count": 65,
   "outputs": [
    {
     "data": {
      "text/plain": "<Figure size 640x480 with 1 Axes>",
      "image/png": "[encoded data removed]"
     },
     "metadata": {},
     "output_type": "display_data"
    }
   ],
   "source": [
    "best_estimator.plot_confidence_histogram()"
   ],
   "metadata": {
    "collapsed": false,
    "ExecuteTime": {
     "end_time": "2024-03-29T17:32:08.692528Z",
     "start_time": "2024-03-29T17:32:07.378377Z"
    }
   },
   "id": "239200035203d4fd"
  },
  {
   "cell_type": "code",
   "execution_count": 35,
   "outputs": [],
   "source": [
    "results = clf.cv_results_"
   ],
   "metadata": {
    "collapsed": false,
    "ExecuteTime": {
     "end_time": "2024-03-16T03:26:36.272150Z",
     "start_time": "2024-03-16T03:26:36.046072Z"
    }
   },
   "id": "1a7068e5b96687f3"
  },
  {
   "cell_type": "code",
   "execution_count": 36,
   "outputs": [
    {
     "data": {
      "text/plain": "{'mean_fit_time': array([249.91539812, 219.16717911]),\n 'std_fit_time': array([28.91756701,  5.43024993]),\n 'mean_score_time': array([0.32185006, 0.16234255]),\n 'std_score_time': array([0.01697397, 0.10468745]),\n 'param_claim_column_name': masked_array(data=['Text', 'Text'],\n              mask=[False, False],\n        fill_value='?',\n             dtype=object),\n 'param_k': masked_array(data=[15, 15],\n              mask=[False, False],\n        fill_value='?',\n             dtype=object),\n 'param_min_cluster_size': masked_array(data=[5, 5],\n              mask=[False, False],\n        fill_value='?',\n             dtype=object),\n 'param_min_dist': masked_array(data=[0, 0],\n              mask=[False, False],\n        fill_value='?',\n             dtype=object),\n 'param_min_samples': masked_array(data=[1, 1],\n              mask=[False, False],\n        fill_value='?',\n             dtype=object),\n 'param_n_neighbors': masked_array(data=[348, 348],\n              mask=[False, False],\n        fill_value='?',\n             dtype=object),\n 'param_no_umap': masked_array(data=[False, False],\n              mask=[False, False],\n        fill_value='?',\n             dtype=object),\n 'param_num_components': masked_array(data=[100, 100],\n              mask=[False, False],\n        fill_value='?',\n             dtype=object),\n 'param_random_seed': masked_array(data=[False, False],\n              mask=[False, False],\n        fill_value='?',\n             dtype=object),\n 'param_supervised_label_column_name': masked_array(data=['Category', 'Category'],\n              mask=[False, False],\n        fill_value='?',\n             dtype=object),\n 'param_supervised_umap': masked_array(data=[True, False],\n              mask=[False, False],\n        fill_value='?',\n             dtype=object),\n 'param_veracity_column_name': masked_array(data=['Numerical Rating', 'Numerical Rating'],\n              mask=[False, False],\n        fill_value='?',\n             dtype=object),\n 'params': [{'claim_column_name': 'Text',\n   'k': 15,\n   'min_cluster_size': 5,\n   'min_dist': 0,\n   'min_samples': 1,\n   'n_neighbors': 348,\n   'no_umap': False,\n   'num_components': 100,\n   'random_seed': False,\n   'supervised_label_column_name': 'Category',\n   'supervised_umap': True,\n   'veracity_column_name': 'Numerical Rating'},\n  {'claim_column_name': 'Text',\n   'k': 15,\n   'min_cluster_size': 5,\n   'min_dist': 0,\n   'min_samples': 1,\n   'n_neighbors': 348,\n   'no_umap': False,\n   'num_components': 100,\n   'random_seed': False,\n   'supervised_label_column_name': 'Category',\n   'supervised_umap': False,\n   'veracity_column_name': 'Numerical Rating'}],\n 'split0_test_score': array([0.66666667, 0.66666667]),\n 'split1_test_score': array([0.875     , 0.86363636]),\n 'mean_test_score': array([0.77083333, 0.76515152]),\n 'std_test_score': array([0.10416667, 0.09848485]),\n 'rank_test_score': array([1, 2], dtype=int32)}"
     },
     "execution_count": 36,
     "metadata": {},
     "output_type": "execute_result"
    }
   ],
   "source": [
    "results"
   ],
   "metadata": {
    "collapsed": false,
    "ExecuteTime": {
     "end_time": "2024-03-16T03:26:36.328879Z",
     "start_time": "2024-03-16T03:26:36.276226Z"
    }
   },
   "id": "bfe931293ccc84"
  },
  {
   "cell_type": "markdown",
   "source": [],
   "metadata": {
    "collapsed": false
   },
   "id": "ad5e14ce4e170b79"
  },
  {
   "cell_type": "code",
   "execution_count": 29,
   "outputs": [
    {
     "name": "stderr",
     "output_type": "stream",
     "text": [
      "[nltk_data] Downloading package stopwords to\n",
      "[nltk_data]     /Users/vinayakkannan/nltk_data...\n",
      "[nltk_data]   Package stopwords is already up-to-date!\n"
     ]
    },
    {
     "name": "stdout",
     "output_type": "stream",
     "text": [
      "heat\n",
      "argument\n",
      "scientists\n",
      "grid\n",
      "corrupted\n",
      "daylight\n",
      "exaggerate\n",
      "meat\n",
      "agreement\n",
      "way\n",
      "passed\n",
      "called\n",
      "going\n",
      "threat\n",
      "acid\n",
      "denying\n",
      "hot\n",
      "denies\n",
      "arsonists\n",
      "took\n",
      "human\n",
      "hoax\n",
      "wildfires\n",
      "cycle\n",
      "reef\n",
      "biggest\n",
      "lockdowns\n",
      "activity\n",
      "faked\n",
      "warming\n",
      "manhattan\n",
      "arctic\n",
      "article\n",
      "happening\n",
      "lion\n",
      "socially\n",
      "epa\n",
      "greta\n",
      "lockdown\n",
      "field\n",
      "asymptomatic\n",
      "level\n",
      "shows\n",
      "sky\n",
      "video\n",
      "stress\n",
      "absorbed\n",
      "permafrost\n",
      "grow\n",
      "lyme\n",
      "workers\n",
      "geography\n",
      "impacts\n",
      "transportation\n",
      "fish\n",
      "strategies\n",
      "albert\n",
      "cnn\n",
      "map\n",
      "jets\n",
      "haarp\n",
      "animal\n",
      "aphelion\n",
      "april\n",
      "million\n",
      "period\n",
      "urban\n",
      "concentrations\n",
      "dec\n",
      "health\n",
      "biden\n",
      "gates\n",
      "goal\n",
      "households\n",
      "continue\n",
      "trudeau\n",
      "co\n",
      "co\n",
      "co\n",
      "kilt\n",
      "primary\n",
      "exposure\n",
      "chemtrails\n",
      "concedes\n",
      "created\n",
      "greta\n",
      "vowed\n",
      "scam\n",
      "increase\n",
      "hundreds\n",
      "affect\n",
      "moon\n",
      "influence\n",
      "yard\n",
      "coasts\n",
      "companies\n",
      "heat\n",
      "billion\n",
      "differences\n",
      "disha\n",
      "periods\n",
      "warmed\n",
      "solar\n",
      "warming\n",
      "flooding\n",
      "example\n",
      "water\n",
      "scientific\n",
      "severity\n",
      "deaths\n",
      "trump\n",
      "hurricane\n",
      "bus\n",
      "transportation\n",
      "band\n",
      "bridges\n",
      "land\n",
      "energy\n",
      "square\n",
      "tenths\n",
      "risen\n",
      "natural\n",
      "worth\n",
      "greta\n",
      "warms\n",
      "cash\n",
      "earlier\n",
      "dioxide\n",
      "cruz\n",
      "carolina\n",
      "economy\n",
      "southwest\n",
      "live\n",
      "income\n",
      "water\n",
      "risk\n",
      "assessment\n",
      "heat\n",
      "irrigation\n",
      "employs\n",
      "mask\n",
      "greenhouse\n",
      "reductions\n",
      "buildings\n",
      "ocean\n",
      "solar\n",
      "households\n",
      "republican\n",
      "occurs\n",
      "scam\n",
      "nasa\n",
      "government\n",
      "legislation\n",
      "addressing\n",
      "drought\n",
      "cooling\n",
      "glastonbury\n",
      "pope\n",
      "know\n",
      "died\n",
      "yields\n",
      "bark\n",
      "jet\n",
      "threats\n",
      "attitude\n",
      "carrying\n",
      "bought\n",
      "absurdity\n",
      "slaughter\n",
      "urine\n",
      "models\n",
      "believing\n",
      "level\n",
      "dead\n",
      "video\n",
      "video\n",
      "wef\n",
      "purchase\n",
      "came\n",
      "adjusting\n",
      "models\n",
      "january\n",
      "access\n"
     ]
    }
   ],
   "source": [
    "ground_truth_df, cluster_counts = best_estimator.report_ground_truth_data(True)"
   ],
   "metadata": {
    "collapsed": false,
    "ExecuteTime": {
     "end_time": "2024-03-22T14:51:45.925732Z",
     "start_time": "2024-03-22T14:49:02.253797Z"
    }
   },
   "id": "90c3b74e727dabd1"
  },
  {
   "cell_type": "code",
   "execution_count": 30,
   "outputs": [
    {
     "data": {
      "text/plain": "     cluster                                              claim  veracity  \\\n0         -1  \"...the earth moves closer to the sun every ye...       1.0   \n1         31  \"11 straight years of no major hurricanes stri...       1.0   \n2         86  \"30,000 scientists have come forward confirmin...       1.0   \n3         75  \"70 per cent of Australia's trade [is] now wit...       3.0   \n4          0       \"96 percent of US climate data is corrupted\"       1.0   \n..       ...                                                ...       ...   \n634       10  “The reality is more people are dying of bad c...       1.0   \n635      158  “We have been cooling down for the past 4000 y...       1.0   \n636       11  “… 600 million Africans lack access to electri...       3.0   \n637       75        “… with 93% of that power being renewable.”       1.0   \n638      161  ”Global warming started to run out of steam ov...       1.0   \n\n                                           tfidf_top_3  \\\n0                   heat, percent, epa, earth, infants   \n1            argument, bores, hole, straight, striking   \n2    scientists, signed, arguing, confirming, convi...   \n3            grid, electric, gigawatts, onto, operates   \n4                corrupted, data, percent, us, climate   \n..                                                 ...   \n634               died, dying, elizabeth, ii, policies   \n635                  biggest, years, since, drop, talk   \n636     access, africa, million, accommodate, advanced   \n637          grid, electric, gigawatts, onto, operates   \n638  january, adjustments, administrative, apparent...   \n\n                                         cluster_label  \n0    Climate change impacts on health, infants, and...  \n1    Impact of hurricane frequency on climate chang...  \n2    Claiming scientists argue man-made climate cha...  \n3    Electric grid transitions to renewable energy ...  \n4    \"High percentage of corrupted climate data in ...  \n..                                                 ...  \n634  Climate change impacts on death and Queen Eliz...  \n635  Earth cooling claims based on historical tempe...  \n636  Africa's challenges with access, millions of p...  \n637  Electric grid transitions to renewable energy ...  \n638  Administrative adjustments in temperature data...  \n\n[639 rows x 5 columns]",
      "text/html": "<div>\n<style scoped>\n    .dataframe tbody tr th:only-of-type {\n        vertical-align: middle;\n    }\n\n    .dataframe tbody tr th {\n        vertical-align: top;\n    }\n\n    .dataframe thead th {\n        text-align: right;\n    }\n</style>\n<table border=\"1\" class=\"dataframe\">\n  <thead>\n    <tr style=\"text-align: right;\">\n      <th></th>\n      <th>cluster</th>\n      <th>claim</th>\n      <th>veracity</th>\n      <th>tfidf_top_3</th>\n      <th>cluster_label</th>\n    </tr>\n  </thead>\n  <tbody>\n    <tr>\n      <th>0</th>\n      <td>-1</td>\n      <td>\"...the earth moves closer to the sun every ye...</td>\n      <td>1.0</td>\n      <td>heat, percent, epa, earth, infants</td>\n      <td>Climate change impacts on health, infants, and...</td>\n    </tr>\n    <tr>\n      <th>1</th>\n      <td>31</td>\n      <td>\"11 straight years of no major hurricanes stri...</td>\n      <td>1.0</td>\n      <td>argument, bores, hole, straight, striking</td>\n      <td>Impact of hurricane frequency on climate chang...</td>\n    </tr>\n    <tr>\n      <th>2</th>\n      <td>86</td>\n      <td>\"30,000 scientists have come forward confirmin...</td>\n      <td>1.0</td>\n      <td>scientists, signed, arguing, confirming, convi...</td>\n      <td>Claiming scientists argue man-made climate cha...</td>\n    </tr>\n    <tr>\n      <th>3</th>\n      <td>75</td>\n      <td>\"70 per cent of Australia's trade [is] now wit...</td>\n      <td>3.0</td>\n      <td>grid, electric, gigawatts, onto, operates</td>\n      <td>Electric grid transitions to renewable energy ...</td>\n    </tr>\n    <tr>\n      <th>4</th>\n      <td>0</td>\n      <td>\"96 percent of US climate data is corrupted\"</td>\n      <td>1.0</td>\n      <td>corrupted, data, percent, us, climate</td>\n      <td>\"High percentage of corrupted climate data in ...</td>\n    </tr>\n    <tr>\n      <th>...</th>\n      <td>...</td>\n      <td>...</td>\n      <td>...</td>\n      <td>...</td>\n      <td>...</td>\n    </tr>\n    <tr>\n      <th>634</th>\n      <td>10</td>\n      <td>“The reality is more people are dying of bad c...</td>\n      <td>1.0</td>\n      <td>died, dying, elizabeth, ii, policies</td>\n      <td>Climate change impacts on death and Queen Eliz...</td>\n    </tr>\n    <tr>\n      <th>635</th>\n      <td>158</td>\n      <td>“We have been cooling down for the past 4000 y...</td>\n      <td>1.0</td>\n      <td>biggest, years, since, drop, talk</td>\n      <td>Earth cooling claims based on historical tempe...</td>\n    </tr>\n    <tr>\n      <th>636</th>\n      <td>11</td>\n      <td>“… 600 million Africans lack access to electri...</td>\n      <td>3.0</td>\n      <td>access, africa, million, accommodate, advanced</td>\n      <td>Africa's challenges with access, millions of p...</td>\n    </tr>\n    <tr>\n      <th>637</th>\n      <td>75</td>\n      <td>“… with 93% of that power being renewable.”</td>\n      <td>1.0</td>\n      <td>grid, electric, gigawatts, onto, operates</td>\n      <td>Electric grid transitions to renewable energy ...</td>\n    </tr>\n    <tr>\n      <th>638</th>\n      <td>161</td>\n      <td>”Global warming started to run out of steam ov...</td>\n      <td>1.0</td>\n      <td>january, adjustments, administrative, apparent...</td>\n      <td>Administrative adjustments in temperature data...</td>\n    </tr>\n  </tbody>\n</table>\n<p>639 rows × 5 columns</p>\n</div>"
     },
     "execution_count": 30,
     "metadata": {},
     "output_type": "execute_result"
    }
   ],
   "source": [
    "ground_truth_df"
   ],
   "metadata": {
    "collapsed": false,
    "ExecuteTime": {
     "end_time": "2024-03-22T14:51:45.985303Z",
     "start_time": "2024-03-22T14:51:45.926642Z"
    }
   },
   "id": "d0ec00c0d369db1f"
  },
  {
   "cell_type": "code",
   "execution_count": 28,
   "outputs": [
    {
     "data": {
      "text/plain": "     cluster  count_false  count_true\n0         -1           41          46\n1         31            3           0\n2         86            3           0\n3         75            1           3\n4          0            3           0\n..       ...          ...         ...\n178       21            0           2\n179      105            2           0\n180      138            2           0\n181      161            2           0\n182       11            1           4\n\n[183 rows x 3 columns]",
      "text/html": "<div>\n<style scoped>\n    .dataframe tbody tr th:only-of-type {\n        vertical-align: middle;\n    }\n\n    .dataframe tbody tr th {\n        vertical-align: top;\n    }\n\n    .dataframe thead th {\n        text-align: right;\n    }\n</style>\n<table border=\"1\" class=\"dataframe\">\n  <thead>\n    <tr style=\"text-align: right;\">\n      <th></th>\n      <th>cluster</th>\n      <th>count_false</th>\n      <th>count_true</th>\n    </tr>\n  </thead>\n  <tbody>\n    <tr>\n      <th>0</th>\n      <td>-1</td>\n      <td>41</td>\n      <td>46</td>\n    </tr>\n    <tr>\n      <th>1</th>\n      <td>31</td>\n      <td>3</td>\n      <td>0</td>\n    </tr>\n    <tr>\n      <th>2</th>\n      <td>86</td>\n      <td>3</td>\n      <td>0</td>\n    </tr>\n    <tr>\n      <th>3</th>\n      <td>75</td>\n      <td>1</td>\n      <td>3</td>\n    </tr>\n    <tr>\n      <th>4</th>\n      <td>0</td>\n      <td>3</td>\n      <td>0</td>\n    </tr>\n    <tr>\n      <th>...</th>\n      <td>...</td>\n      <td>...</td>\n      <td>...</td>\n    </tr>\n    <tr>\n      <th>178</th>\n      <td>21</td>\n      <td>0</td>\n      <td>2</td>\n    </tr>\n    <tr>\n      <th>179</th>\n      <td>105</td>\n      <td>2</td>\n      <td>0</td>\n    </tr>\n    <tr>\n      <th>180</th>\n      <td>138</td>\n      <td>2</td>\n      <td>0</td>\n    </tr>\n    <tr>\n      <th>181</th>\n      <td>161</td>\n      <td>2</td>\n      <td>0</td>\n    </tr>\n    <tr>\n      <th>182</th>\n      <td>11</td>\n      <td>1</td>\n      <td>4</td>\n    </tr>\n  </tbody>\n</table>\n<p>183 rows × 3 columns</p>\n</div>"
     },
     "execution_count": 28,
     "metadata": {},
     "output_type": "execute_result"
    }
   ],
   "source": [
    "cluster_counts"
   ],
   "metadata": {
    "collapsed": false,
    "ExecuteTime": {
     "end_time": "2024-03-22T14:47:55.456011Z",
     "start_time": "2024-03-22T14:47:55.377825Z"
    }
   },
   "id": "198b60f38b4ed960"
  },
  {
   "cell_type": "code",
   "execution_count": 31,
   "outputs": [],
   "source": [
    "ground_truth_df\n",
    "ground_truth_df.to_csv(\"ground_truth_df.csv\")"
   ],
   "metadata": {
    "collapsed": false,
    "ExecuteTime": {
     "end_time": "2024-03-22T14:52:12.324498Z",
     "start_time": "2024-03-22T14:52:12.261537Z"
    }
   },
   "id": "f3e4f0b26516b3e"
  },
  {
   "cell_type": "code",
   "execution_count": 32,
   "outputs": [],
   "source": [
    "cluster_counts\n",
    "cluster_counts.to_csv(\"cluster_counts.csv\")"
   ],
   "metadata": {
    "collapsed": false,
    "ExecuteTime": {
     "end_time": "2024-03-22T14:52:12.703331Z",
     "start_time": "2024-03-22T14:52:12.673860Z"
    }
   },
   "id": "740eb553c80d1320"
  },
  {
   "cell_type": "code",
   "execution_count": 69,
   "outputs": [
    {
     "data": {
      "text/plain": "     cluster                                              claim  veracity  \\\n0          0  \"...the earth moves closer to the sun every ye...       1.0   \n1          0  \"30,000 scientists have come forward confirmin...       1.0   \n2          0       \"96 percent of US climate data is corrupted\"       1.0   \n3          0  \"Antarctica has had to update its flag\"due to ...       1.0   \n4          0  \"Biden's climate requirements\" will \"cut 90% o...       1.0   \n..       ...                                                ...       ...   \n506        0  “The amount of coral on the Great Barrier Reef...       1.0   \n507        5  “The clothing industry contributes up to 10% o...       3.0   \n508        0  “We have been cooling down for the past 4000 y...       1.0   \n509        5  “… 600 million Africans lack access to electri...       3.0   \n510        0  ”Global warming started to run out of steam ov...       1.0   \n\n                                    tfidf_top_3  \\\n0             co, change, global, said, climate   \n1             co, change, global, said, climate   \n2             co, change, global, said, climate   \n3             co, change, global, said, climate   \n4             co, change, global, said, climate   \n..                                          ...   \n506           co, change, global, said, climate   \n507  income, access, grid, households, electric   \n508           co, change, global, said, climate   \n509  income, access, grid, households, electric   \n510           co, change, global, said, climate   \n\n                                         cluster_label  \n0    Controversial claims on global climate change ...  \n1    Controversial claims on global climate change ...  \n2    Controversial claims on global climate change ...  \n3    Controversial claims on global climate change ...  \n4    Controversial claims on global climate change ...  \n..                                                 ...  \n506  Controversial claims on global climate change ...  \n507  Impact of income and access on household elect...  \n508  Controversial claims on global climate change ...  \n509  Impact of income and access on household elect...  \n510  Controversial claims on global climate change ...  \n\n[511 rows x 5 columns]",
      "text/html": "<div>\n<style scoped>\n    .dataframe tbody tr th:only-of-type {\n        vertical-align: middle;\n    }\n\n    .dataframe tbody tr th {\n        vertical-align: top;\n    }\n\n    .dataframe thead th {\n        text-align: right;\n    }\n</style>\n<table border=\"1\" class=\"dataframe\">\n  <thead>\n    <tr style=\"text-align: right;\">\n      <th></th>\n      <th>cluster</th>\n      <th>claim</th>\n      <th>veracity</th>\n      <th>tfidf_top_3</th>\n      <th>cluster_label</th>\n    </tr>\n  </thead>\n  <tbody>\n    <tr>\n      <th>0</th>\n      <td>0</td>\n      <td>\"...the earth moves closer to the sun every ye...</td>\n      <td>1.0</td>\n      <td>co, change, global, said, climate</td>\n      <td>Controversial claims on global climate change ...</td>\n    </tr>\n    <tr>\n      <th>1</th>\n      <td>0</td>\n      <td>\"30,000 scientists have come forward confirmin...</td>\n      <td>1.0</td>\n      <td>co, change, global, said, climate</td>\n      <td>Controversial claims on global climate change ...</td>\n    </tr>\n    <tr>\n      <th>2</th>\n      <td>0</td>\n      <td>\"96 percent of US climate data is corrupted\"</td>\n      <td>1.0</td>\n      <td>co, change, global, said, climate</td>\n      <td>Controversial claims on global climate change ...</td>\n    </tr>\n    <tr>\n      <th>3</th>\n      <td>0</td>\n      <td>\"Antarctica has had to update its flag\"due to ...</td>\n      <td>1.0</td>\n      <td>co, change, global, said, climate</td>\n      <td>Controversial claims on global climate change ...</td>\n    </tr>\n    <tr>\n      <th>4</th>\n      <td>0</td>\n      <td>\"Biden's climate requirements\" will \"cut 90% o...</td>\n      <td>1.0</td>\n      <td>co, change, global, said, climate</td>\n      <td>Controversial claims on global climate change ...</td>\n    </tr>\n    <tr>\n      <th>...</th>\n      <td>...</td>\n      <td>...</td>\n      <td>...</td>\n      <td>...</td>\n      <td>...</td>\n    </tr>\n    <tr>\n      <th>506</th>\n      <td>0</td>\n      <td>“The amount of coral on the Great Barrier Reef...</td>\n      <td>1.0</td>\n      <td>co, change, global, said, climate</td>\n      <td>Controversial claims on global climate change ...</td>\n    </tr>\n    <tr>\n      <th>507</th>\n      <td>5</td>\n      <td>“The clothing industry contributes up to 10% o...</td>\n      <td>3.0</td>\n      <td>income, access, grid, households, electric</td>\n      <td>Impact of income and access on household elect...</td>\n    </tr>\n    <tr>\n      <th>508</th>\n      <td>0</td>\n      <td>“We have been cooling down for the past 4000 y...</td>\n      <td>1.0</td>\n      <td>co, change, global, said, climate</td>\n      <td>Controversial claims on global climate change ...</td>\n    </tr>\n    <tr>\n      <th>509</th>\n      <td>5</td>\n      <td>“… 600 million Africans lack access to electri...</td>\n      <td>3.0</td>\n      <td>income, access, grid, households, electric</td>\n      <td>Impact of income and access on household elect...</td>\n    </tr>\n    <tr>\n      <th>510</th>\n      <td>0</td>\n      <td>”Global warming started to run out of steam ov...</td>\n      <td>1.0</td>\n      <td>co, change, global, said, climate</td>\n      <td>Controversial claims on global climate change ...</td>\n    </tr>\n  </tbody>\n</table>\n<p>511 rows × 5 columns</p>\n</div>"
     },
     "execution_count": 69,
     "metadata": {},
     "output_type": "execute_result"
    }
   ],
   "source": [
    "ground_truth_df"
   ],
   "metadata": {
    "collapsed": false,
    "ExecuteTime": {
     "end_time": "2024-03-12T01:48:48.626347Z",
     "start_time": "2024-03-12T01:48:48.591477Z"
    }
   },
   "id": "33c183a965c885a2"
  },
  {
   "cell_type": "code",
   "execution_count": null,
   "outputs": [],
   "source": [],
   "metadata": {
    "collapsed": false
   },
   "id": "b00303f1bef2024f"
  }
 ],
 "metadata": {
  "kernelspec": {
   "display_name": "Python 3",
   "language": "python",
   "name": "python3"
  },
  "language_info": {
   "codemirror_mode": {
    "name": "ipython",
    "version": 2
   },
   "file_extension": ".py",
   "mimetype": "text/x-python",
   "name": "python",
   "nbconvert_exporter": "python",
   "pygments_lexer": "ipython2",
   "version": "2.7.6"
  }
 },
 "nbformat": 4,
 "nbformat_minor": 5
}
