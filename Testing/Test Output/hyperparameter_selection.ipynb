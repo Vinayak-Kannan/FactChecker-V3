{
 "cells": [
  {
   "cell_type": "code",
   "execution_count": null,
   "outputs": [],
   "source": [
    "%load_ext autoreload\n",
    "%autoreload 2"
   ],
   "metadata": {
    "collapsed": false,
    "is_executing": true
   },
   "id": "e7540c59bbc4826c"
  },
  {
   "cell_type": "code",
   "execution_count": 1,
   "id": "initial_id",
   "metadata": {
    "collapsed": true,
    "ExecuteTime": {
     "end_time": "2024-06-24T01:54:35.980680Z",
     "start_time": "2024-06-24T01:54:22.812755Z"
    }
   },
   "outputs": [],
   "source": [
    "import pandas as pd\n",
    "from ClusterAndPredict.ClusterAndPredict import ClusterAndPredict\n",
    "from Testing.DataLoader import DataLoader\n",
    "from Testing.ParameterCreator import ParameterCreator"
   ]
  },
  {
   "cell_type": "code",
   "execution_count": 2,
   "outputs": [],
   "source": [
    "# DEPRECATED\n",
    "# chroma_client = chromadb.PersistentClient(path=\"./../../Clustering/Clustering/Chroma\")\n",
    "# # Count number of collections\n",
    "# print(chroma_client.count_collections())\n",
    "# \n",
    "# # Get all collection names\n",
    "# collection_names = chroma_client.list_collections()\n",
    "# \n",
    "# # Loop through each collection and drop it\n",
    "# for collection_name in collection_names:\n",
    "#     if collection_name.name != 'climate_claims_embeddings_unchanged':\n",
    "#         chroma_client.delete_collection(collection_name.name)"
   ],
   "metadata": {
    "collapsed": false,
    "ExecuteTime": {
     "end_time": "2024-06-24T01:54:35.990122Z",
     "start_time": "2024-06-24T01:54:35.970359Z"
    }
   },
   "id": "f591a1efe4bdf97e"
  },
  {
   "cell_type": "code",
   "execution_count": 3,
   "outputs": [
    {
     "name": "stdout",
     "output_type": "stream",
     "text": [
      "Numerical Rating\n",
      "1    2990\n",
      "3     619\n",
      "Name: count, dtype: int64\n",
      "Numerical Rating\n",
      "1    778\n",
      "3    124\n",
      "Name: count, dtype: int64\n",
      "cluster  predict  veracity\n",
      "-1       False     1          1027\n",
      "                   3           159\n",
      "         True     -1           424\n",
      " 0       False     1            37\n",
      "         True     -1             8\n",
      "                              ... \n",
      " 132     True     -1             4\n",
      " 133     False     1            27\n",
      "         True     -1            16\n",
      " 134     False     1            10\n",
      " 135     False     1            10\n",
      "Name: count, Length: 250, dtype: int64\n",
      "breaking further...\n",
      "135\n",
      "cluster  predict  veracity\n",
      "-1       False     1          1035\n",
      "                   3           160\n",
      "         True     -1           428\n",
      " 0       False     1            37\n",
      "         True     -1             8\n",
      "                              ... \n",
      " 132     True     -1             4\n",
      " 133     False     1            27\n",
      "         True     -1            16\n",
      " 134     False     1            10\n",
      " 135     False     1            10\n",
      "Name: count, Length: 247, dtype: int64\n",
      "breaking further...\n",
      "cluster  predict  veracity\n",
      "-1       False     1          1035\n",
      "                   3           160\n",
      "         True     -1           428\n",
      " 0       False     1            37\n",
      "         True     -1             8\n",
      "                              ... \n",
      " 132     True     -1             4\n",
      " 133     False     1            27\n",
      "         True     -1            16\n",
      " 134     False     1            10\n",
      " 135     False     1            10\n",
      "Name: count, Length: 247, dtype: int64\n",
      "Number of clusters: 134\n",
      "{'accuracy': 0.5044345898004434, 'accuracy_not_including_fours': 0.9827213822894169, 'percentage_of_fours': 0.4866962305986696, 'percentage_of_no_clusters_in_ground_truth': 0.0, 'precision_on_three': 0.972972972972973, 'recall_on_three': 0.2903225806451613, 'average_confidence_for_3': 0, 'precision_on_three_excluding_fours': 0.972972972972973, 'recall_on_three_excluding_fours': 0.8372093023255814, 'accuracy_90_confidence': 0.4024390243902439, 'accuracy_80_confidence': 0.4024390243902439, 'accuracy_70_confidence': 0.4024390243902439, 'accuracy_60_confidence': 0.4024390243902439, 'percentage_90_confidence': 0.9878048780487805, 'percentage_80_confidence': 0.9878048780487805, 'percentage_70_confidence': 0.9878048780487805, 'percentage_60_confidence': 0.9878048780487805, 'cluster_df':                                                    text  veracity  predict  \\\n",
      "0     In terms of severity and geographic extent, th...         1     True   \n",
      "1     billion a year (the current federal research b...         1     True   \n",
      "2     The authors found that juniper trees recovered...         1     True   \n",
      "3     Sharp Corp. plans to end production and sales ...         1     True   \n",
      "4     The production of biofuels may have led to at ...         1     True   \n",
      "...                                                 ...       ...      ...   \n",
      "3790  All U.S. regions are experiencing the impacts ...         3    False   \n",
      "3791  This is roughly equivalent to the greenhouse g...         3    False   \n",
      "3792  Since 2000, PM2.5 concentrations in the outdoo...         3    False   \n",
      "3793  EPA is currently developing new content that p...         3    False   \n",
      "3794  Separately, studies show that children between...         3    False   \n",
      "\n",
      "      predicted_veracity                                 embeddings  cluster  \\\n",
      "0                      4   [13.050065040588379, -8.074737548828125]       -1   \n",
      "1                      1   [11.886126518249512, -8.383235931396484]       47   \n",
      "2                      1   [10.645112991333008, -6.668778419494629]       21   \n",
      "3                      1    [10.723071098327637, -9.08640193939209]      119   \n",
      "4                      4    [11.358595848083496, -9.40406608581543]       -1   \n",
      "...                  ...                                        ...      ...   \n",
      "3790                   3  [13.052289009094238, -10.208512306213379]       11   \n",
      "3791                   3  [11.664925575256348, -10.442999839782715]        7   \n",
      "3792                   3   [12.180349349975586, -10.34106731414795]       -1   \n",
      "3793                   3  [12.860418319702148, -10.598186492919922]       -1   \n",
      "3794                   3   [13.00146770477295, -10.261536598205566]       11   \n",
      "\n",
      "      num_correct_in_cluster  total_in_cluster  cluster_accuracy  \n",
      "0                       1195              1623          0.736291  \n",
      "1                         13                13          1.000000  \n",
      "2                         59                59          1.000000  \n",
      "3                         13                13          1.000000  \n",
      "4                       1195              1623          0.736291  \n",
      "...                      ...               ...               ...  \n",
      "3790                     114               114          1.000000  \n",
      "3791                       7                 7          1.000000  \n",
      "3792                    1195              1623          0.736291  \n",
      "3793                    1195              1623          0.736291  \n",
      "3794                     114               114          1.000000  \n",
      "\n",
      "[3795 rows x 9 columns]}\n",
      "{'percentage': 1, 'score': 1.8101822752985544, 'accuracy': 0.5044345898004434, 'was_supervised_umap_used': True, 'metrics': {'accuracy': 0.5044345898004434, 'accuracy_not_including_fours': 0.9827213822894169, 'percentage_of_fours': 0.4866962305986696, 'percentage_of_no_clusters_in_ground_truth': 0.0, 'precision_on_three': 0.972972972972973, 'recall_on_three': 0.2903225806451613, 'average_confidence_for_3': 0, 'precision_on_three_excluding_fours': 0.972972972972973, 'recall_on_three_excluding_fours': 0.8372093023255814, 'accuracy_90_confidence': 0.4024390243902439, 'accuracy_80_confidence': 0.4024390243902439, 'accuracy_70_confidence': 0.4024390243902439, 'accuracy_60_confidence': 0.4024390243902439, 'percentage_90_confidence': 0.9878048780487805, 'percentage_80_confidence': 0.9878048780487805, 'percentage_70_confidence': 0.9878048780487805, 'percentage_60_confidence': 0.9878048780487805, 'cluster_df':                                                    text  veracity  predict  \\\n",
      "0     In terms of severity and geographic extent, th...         1     True   \n",
      "1     billion a year (the current federal research b...         1     True   \n",
      "2     The authors found that juniper trees recovered...         1     True   \n",
      "3     Sharp Corp. plans to end production and sales ...         1     True   \n",
      "4     The production of biofuels may have led to at ...         1     True   \n",
      "...                                                 ...       ...      ...   \n",
      "3790  All U.S. regions are experiencing the impacts ...         3    False   \n",
      "3791  This is roughly equivalent to the greenhouse g...         3    False   \n",
      "3792  Since 2000, PM2.5 concentrations in the outdoo...         3    False   \n",
      "3793  EPA is currently developing new content that p...         3    False   \n",
      "3794  Separately, studies show that children between...         3    False   \n",
      "\n",
      "      predicted_veracity                                 embeddings  cluster  \\\n",
      "0                      4   [13.050065040588379, -8.074737548828125]       -1   \n",
      "1                      1   [11.886126518249512, -8.383235931396484]       47   \n",
      "2                      1   [10.645112991333008, -6.668778419494629]       21   \n",
      "3                      1    [10.723071098327637, -9.08640193939209]      119   \n",
      "4                      4    [11.358595848083496, -9.40406608581543]       -1   \n",
      "...                  ...                                        ...      ...   \n",
      "3790                   3  [13.052289009094238, -10.208512306213379]       11   \n",
      "3791                   3  [11.664925575256348, -10.442999839782715]        7   \n",
      "3792                   3   [12.180349349975586, -10.34106731414795]       -1   \n",
      "3793                   3  [12.860418319702148, -10.598186492919922]       -1   \n",
      "3794                   3   [13.00146770477295, -10.261536598205566]       11   \n",
      "\n",
      "      num_correct_in_cluster  total_in_cluster  cluster_accuracy  \n",
      "0                       1195              1623          0.736291  \n",
      "1                         13                13          1.000000  \n",
      "2                         59                59          1.000000  \n",
      "3                         13                13          1.000000  \n",
      "4                       1195              1623          0.736291  \n",
      "...                      ...               ...               ...  \n",
      "3790                     114               114          1.000000  \n",
      "3791                       7                 7          1.000000  \n",
      "3792                    1195              1623          0.736291  \n",
      "3793                    1195              1623          0.736291  \n",
      "3794                     114               114          1.000000  \n",
      "\n",
      "[3795 rows x 9 columns]}}\n"
     ]
    }
   ],
   "source": [
    "params = ParameterCreator().get_parameters()\n",
    "results = []\n",
    "cluster_dfs = []\n",
    "for param in params:\n",
    "    percentage = 1\n",
    "    data_loader = DataLoader(percentage, True, param['random_seed'])\n",
    "    train_df, test_df = data_loader.create_train_test_df(True, True, True)\n",
    "    clf = ClusterAndPredict(**param, train_df=train_df)\n",
    "    clf.fit(test_df['Text'].tolist(), test_df['Numerical Rating'].tolist())\n",
    "    # Print best parameters\n",
    "    best_estimator = clf\n",
    "    score = best_estimator.score([], [])\n",
    "    print(best_estimator.get_all_performance_metrics())\n",
    "    object_output = best_estimator.get_all_performance_metrics()\n",
    "    cluster_df = object_output['cluster_df']\n",
    "    cluster_dfs.append(cluster_df)\n",
    "    output = {\n",
    "        'percentage': percentage,\n",
    "        'score': score,\n",
    "        'accuracy': best_estimator.get_accuracy(),\n",
    "        'was_supervised_umap_used': best_estimator.get_was_supervised(),\n",
    "        'metrics': best_estimator.get_all_performance_metrics(),\n",
    "    }\n",
    "    print(output)\n",
    "    results.append(output)"
   ],
   "metadata": {
    "collapsed": false,
    "ExecuteTime": {
     "end_time": "2024-06-24T02:02:48.848898Z",
     "start_time": "2024-06-24T01:54:35.973767Z"
    }
   },
   "id": "724a5cb50eba0305"
  },
  {
   "cell_type": "code",
   "execution_count": 4,
   "outputs": [
    {
     "data": {
      "text/plain": "   percentage     score  accuracy  was_supervised_umap_used  metrics.accuracy  \\\n0           1  1.810182  0.504435                      True          0.504435   \n\n   metrics.accuracy_not_including_fours  metrics.percentage_of_fours  \\\n0                              0.982721                     0.486696   \n\n   metrics.percentage_of_no_clusters_in_ground_truth  \\\n0                                                0.0   \n\n   metrics.precision_on_three  metrics.recall_on_three  ...  \\\n0                    0.972973                 0.290323  ...   \n\n   metrics.recall_on_three_excluding_fours  metrics.accuracy_90_confidence  \\\n0                                 0.837209                        0.402439   \n\n   metrics.accuracy_80_confidence  metrics.accuracy_70_confidence  \\\n0                        0.402439                        0.402439   \n\n   metrics.accuracy_60_confidence  metrics.percentage_90_confidence  \\\n0                        0.402439                          0.987805   \n\n   metrics.percentage_80_confidence  metrics.percentage_70_confidence  \\\n0                          0.987805                          0.987805   \n\n   metrics.percentage_60_confidence  \\\n0                          0.987805   \n\n                                  metrics.cluster_df  \n0                                                ...  \n\n[1 rows x 22 columns]",
      "text/html": "<div>\n<style scoped>\n    .dataframe tbody tr th:only-of-type {\n        vertical-align: middle;\n    }\n\n    .dataframe tbody tr th {\n        vertical-align: top;\n    }\n\n    .dataframe thead th {\n        text-align: right;\n    }\n</style>\n<table border=\"1\" class=\"dataframe\">\n  <thead>\n    <tr style=\"text-align: right;\">\n      <th></th>\n      <th>percentage</th>\n      <th>score</th>\n      <th>accuracy</th>\n      <th>was_supervised_umap_used</th>\n      <th>metrics.accuracy</th>\n      <th>metrics.accuracy_not_including_fours</th>\n      <th>metrics.percentage_of_fours</th>\n      <th>metrics.percentage_of_no_clusters_in_ground_truth</th>\n      <th>metrics.precision_on_three</th>\n      <th>metrics.recall_on_three</th>\n      <th>...</th>\n      <th>metrics.recall_on_three_excluding_fours</th>\n      <th>metrics.accuracy_90_confidence</th>\n      <th>metrics.accuracy_80_confidence</th>\n      <th>metrics.accuracy_70_confidence</th>\n      <th>metrics.accuracy_60_confidence</th>\n      <th>metrics.percentage_90_confidence</th>\n      <th>metrics.percentage_80_confidence</th>\n      <th>metrics.percentage_70_confidence</th>\n      <th>metrics.percentage_60_confidence</th>\n      <th>metrics.cluster_df</th>\n    </tr>\n  </thead>\n  <tbody>\n    <tr>\n      <th>0</th>\n      <td>1</td>\n      <td>1.810182</td>\n      <td>0.504435</td>\n      <td>True</td>\n      <td>0.504435</td>\n      <td>0.982721</td>\n      <td>0.486696</td>\n      <td>0.0</td>\n      <td>0.972973</td>\n      <td>0.290323</td>\n      <td>...</td>\n      <td>0.837209</td>\n      <td>0.402439</td>\n      <td>0.402439</td>\n      <td>0.402439</td>\n      <td>0.402439</td>\n      <td>0.987805</td>\n      <td>0.987805</td>\n      <td>0.987805</td>\n      <td>0.987805</td>\n      <td>...</td>\n    </tr>\n  </tbody>\n</table>\n<p>1 rows × 22 columns</p>\n</div>"
     },
     "execution_count": 4,
     "metadata": {},
     "output_type": "execute_result"
    }
   ],
   "source": [
    "results_df = pd.json_normalize(results)\n",
    "results_df"
   ],
   "metadata": {
    "collapsed": false,
    "ExecuteTime": {
     "end_time": "2024-06-24T02:02:48.983903Z",
     "start_time": "2024-06-24T02:02:48.943447Z"
    }
   },
   "id": "5e78bf69142c96ab"
  }
 ],
 "metadata": {
  "kernelspec": {
   "display_name": "Python 3",
   "language": "python",
   "name": "python3"
  },
  "language_info": {
   "codemirror_mode": {
    "name": "ipython",
    "version": 2
   },
   "file_extension": ".py",
   "mimetype": "text/x-python",
   "name": "python",
   "nbconvert_exporter": "python",
   "pygments_lexer": "ipython2",
   "version": "2.7.6"
  }
 },
 "nbformat": 4,
 "nbformat_minor": 5
}
