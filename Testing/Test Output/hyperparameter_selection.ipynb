{
 "cells": [
  {
   "cell_type": "code",
   "execution_count": 1,
   "outputs": [],
   "source": [
    "%load_ext autoreload\n",
    "%autoreload 2"
   ],
   "metadata": {
    "collapsed": false,
    "ExecuteTime": {
     "end_time": "2024-06-04T14:07:42.547977Z",
     "start_time": "2024-06-04T14:07:42.345947Z"
    }
   },
   "id": "e7540c59bbc4826c"
  },
  {
   "cell_type": "code",
   "execution_count": 2,
   "id": "initial_id",
   "metadata": {
    "collapsed": true,
    "ExecuteTime": {
     "end_time": "2024-06-04T14:08:04.665720Z",
     "start_time": "2024-06-04T14:07:42.361548Z"
    }
   },
   "outputs": [],
   "source": [
    "import pandas as pd\n",
    "from ClusterAndPredict.ClusterAndPredict import ClusterAndPredict\n",
    "from sklearn.model_selection import GridSearchCV\n",
    "import chromadb\n",
    "from Testing.DataLoader import DataLoader"
   ]
  },
  {
   "cell_type": "markdown",
   "source": [
    "Parameters to adjust\n",
    "UMAP - n_neighbors, min_dist (0 - 0.1), metric (cosine)\n",
    "HDBSCAN - min_cluster_size, min_samples\n",
    "\n",
    "Metrics to consider\n",
    "Accuracy\n",
    "\n",
    "TRACK The Results"
   ],
   "metadata": {
    "collapsed": false
   },
   "id": "945af0a5a29d0c59"
  },
  {
   "cell_type": "code",
   "execution_count": null,
   "outputs": [
    {
     "name": "stdout",
     "output_type": "stream",
     "text": [
      "25\n"
     ]
    }
   ],
   "source": [
    "chroma_client = chromadb.PersistentClient(path=\"/Users/vinayakkannan/Desktop/Projects/FactChecker/FactChecker/Clustering/Clustering/Chroma\")\n",
    "# Count number of collections\n",
    "print(chroma_client.count_collections())\n",
    "\n",
    "# Get all collection names\n",
    "collection_names = chroma_client.list_collections()\n",
    "\n",
    "# Loop through each collection and drop it\n",
    "for collection_name in collection_names:\n",
    "    if collection_name.name != 'climate_claims_embeddings_unchanged':\n",
    "        chroma_client.delete_collection(collection_name.name)"
   ],
   "metadata": {
    "collapsed": false,
    "is_executing": true,
    "ExecuteTime": {
     "start_time": "2024-06-05T03:14:21.450982Z"
    }
   },
   "id": "f591a1efe4bdf97e"
  },
  {
   "cell_type": "code",
   "execution_count": 4,
   "outputs": [
    {
     "ename": "TypeError",
     "evalue": "DataLoader.create_large_train_test_df() missing 1 required positional argument: 'remove_synthetic_data'",
     "output_type": "error",
     "traceback": [
      "\u001B[0;31m---------------------------------------------------------------------------\u001B[0m",
      "\u001B[0;31mTypeError\u001B[0m                                 Traceback (most recent call last)",
      "Cell \u001B[0;32mIn[4], line 2\u001B[0m\n\u001B[1;32m      1\u001B[0m data_loader \u001B[38;5;241m=\u001B[39m DataLoader(\u001B[38;5;241m0.5\u001B[39m)\n\u001B[0;32m----> 2\u001B[0m train_df, test_df \u001B[38;5;241m=\u001B[39m \u001B[43mdata_loader\u001B[49m\u001B[38;5;241;43m.\u001B[39;49m\u001B[43mcreate_large_train_test_df\u001B[49m\u001B[43m(\u001B[49m\u001B[43m)\u001B[49m\n",
      "\u001B[0;31mTypeError\u001B[0m: DataLoader.create_large_train_test_df() missing 1 required positional argument: 'remove_synthetic_data'"
     ]
    }
   ],
   "source": [
    "data_loader = DataLoader(0.5)\n",
    "train_df, test_df = data_loader.create_large_train_test_df()"
   ],
   "metadata": {
    "collapsed": false,
    "ExecuteTime": {
     "end_time": "2024-05-03T13:57:33.026807Z",
     "start_time": "2024-05-03T13:57:32.479101Z"
    }
   },
   "id": "e917bcd3cb66f2ff"
  },
  {
   "cell_type": "code",
   "execution_count": 5,
   "outputs": [
    {
     "ename": "NameError",
     "evalue": "name 'train_df' is not defined",
     "output_type": "error",
     "traceback": [
      "\u001B[0;31m---------------------------------------------------------------------------\u001B[0m",
      "\u001B[0;31mNameError\u001B[0m                                 Traceback (most recent call last)",
      "Cell \u001B[0;32mIn[5], line 1\u001B[0m\n\u001B[0;32m----> 1\u001B[0m \u001B[43mtrain_df\u001B[49m[\u001B[38;5;124m'\u001B[39m\u001B[38;5;124mNumerical Rating\u001B[39m\u001B[38;5;124m'\u001B[39m]\u001B[38;5;241m.\u001B[39mvalue_counts()\n",
      "\u001B[0;31mNameError\u001B[0m: name 'train_df' is not defined"
     ]
    }
   ],
   "source": [
    "train_df['Numerical Rating'].value_counts()"
   ],
   "metadata": {
    "collapsed": false,
    "ExecuteTime": {
     "end_time": "2024-05-03T13:58:04.463539Z",
     "start_time": "2024-05-03T13:58:04.412296Z"
    }
   },
   "id": "c7baea409f2c1842"
  },
  {
   "cell_type": "code",
   "execution_count": 6,
   "outputs": [
    {
     "ename": "NameError",
     "evalue": "name 'test_df' is not defined",
     "output_type": "error",
     "traceback": [
      "\u001B[0;31m---------------------------------------------------------------------------\u001B[0m",
      "\u001B[0;31mNameError\u001B[0m                                 Traceback (most recent call last)",
      "Cell \u001B[0;32mIn[6], line 2\u001B[0m\n\u001B[1;32m      1\u001B[0m \u001B[38;5;66;03m# value count of train_df for each 'Category' and 'Numerical Rating'\u001B[39;00m\n\u001B[0;32m----> 2\u001B[0m \u001B[43mtest_df\u001B[49m[\u001B[38;5;124m'\u001B[39m\u001B[38;5;124mNumerical Rating\u001B[39m\u001B[38;5;124m'\u001B[39m]\u001B[38;5;241m.\u001B[39mvalue_counts()\n",
      "\u001B[0;31mNameError\u001B[0m: name 'test_df' is not defined"
     ]
    }
   ],
   "source": [
    "# value count of train_df for each 'Category' and 'Numerical Rating'\n",
    "test_df['Numerical Rating'].value_counts()"
   ],
   "metadata": {
    "collapsed": false,
    "ExecuteTime": {
     "end_time": "2024-05-03T13:58:04.751220Z",
     "start_time": "2024-05-03T13:58:04.705796Z"
    }
   },
   "id": "4e721e7edfa4397a"
  },
  {
   "cell_type": "code",
   "execution_count": 54,
   "outputs": [],
   "source": [
    "parameters = {\n",
    "    'min_cluster_size': [5],\n",
    "    'min_samples': [5],\n",
    "    # 'n_neighbors': [int(train_df.shape[0] - 2) * 0.15], #[400],\n",
    "    'min_dist': [0],\n",
    "    'num_components': [100],\n",
    "    'no_umap': [False],\n",
    "    'k': [15000],\n",
    "    'supervised_umap': [True],\n",
    "    'parametric_umap': [False],\n",
    "    'claim_column_name': ['Text'],\n",
    "    'veracity_column_name': ['Numerical Rating'],\n",
    "    'supervised_label_column_name': ['Numerical Rating'],\n",
    "    'random_seed': [True],\n",
    "    'use_weightage': [True]\n",
    "}"
   ],
   "metadata": {
    "collapsed": false,
    "ExecuteTime": {
     "end_time": "2024-06-04T23:38:42.085234Z",
     "start_time": "2024-06-04T23:38:41.984565Z"
    }
   },
   "id": "bbc8233367de3c54"
  },
  {
   "cell_type": "code",
   "execution_count": 55,
   "outputs": [
    {
     "name": "stdout",
     "output_type": "stream",
     "text": [
      "Numerical Rating\n",
      "1    3071\n",
      "3     619\n",
      "Name: count, dtype: int64\n",
      "Numerical Rating\n",
      "1    810\n",
      "3    124\n",
      "Name: count, dtype: int64\n"
     ]
    }
   ],
   "source": [
    "data_loader = DataLoader(0.5)\n",
    "train_df, test_df = data_loader.create_train_test_df(True, True, True)"
   ],
   "metadata": {
    "collapsed": false,
    "ExecuteTime": {
     "end_time": "2024-06-04T23:38:42.547026Z",
     "start_time": "2024-06-04T23:38:42.087942Z"
    }
   },
   "id": "de2831abb753be32"
  },
  {
   "cell_type": "code",
   "execution_count": 56,
   "outputs": [
    {
     "name": "stdout",
     "output_type": "stream",
     "text": [
      "Numerical Rating\n",
      "1    3071\n",
      "3     619\n",
      "Name: count, dtype: int64\n",
      "Numerical Rating\n",
      "1    810\n",
      "3    124\n",
      "Name: count, dtype: int64\n",
      "Fitting 2 folds for each of 1 candidates, totalling 2 fits\n",
      "cluster  predict  veracity\n",
      "-1       False     1.0        1732\n",
      "                   3.0           1\n",
      "         True     -1.0         261\n",
      " 0       True     -1.0           7\n",
      " 1       False     3.0         494\n",
      "                              ... \n",
      " 45      True     -1.0           6\n",
      " 46      False     1.0          56\n",
      "         True     -1.0           5\n",
      " 47      False     1.0           4\n",
      "         True     -1.0           2\n",
      "Name: count, Length: 83, dtype: int64\n",
      "breaking further...\n",
      "cluster  predict  veracity\n",
      "-1       False     1.0        1732\n",
      "                   3.0           1\n",
      "         True     -1.0         261\n",
      " 0       True     -1.0           7\n",
      " 1       False     3.0         494\n",
      "                              ... \n",
      " 45      True     -1.0           6\n",
      " 46      False     1.0          56\n",
      "         True     -1.0           5\n",
      " 47      False     1.0           4\n",
      "         True     -1.0           2\n",
      "Name: count, Length: 83, dtype: int64\n",
      "Number of clusters: 48\n",
      "cluster  predict  veracity\n",
      "0        False     1.0        2685\n",
      "                   3.0           8\n",
      "         True     -1.0         463\n",
      "1        False     3.0         611\n",
      "         True     -1.0           4\n",
      "Name: count, dtype: int64\n",
      "breaking further...\n",
      "cluster  predict  veracity\n",
      "0        False     1.0        2685\n",
      "                   3.0           8\n",
      "         True     -1.0         463\n",
      "1        False     3.0         611\n",
      "         True     -1.0           4\n",
      "Name: count, dtype: int64\n",
      "Number of clusters: 2\n",
      "cluster  predict  veracity\n",
      "-1       False     1.0        1362\n",
      "                   3.0         251\n",
      "         True     -1.0         561\n",
      " 0       False     1.0           5\n",
      "         True     -1.0           2\n",
      "                              ... \n",
      " 54      True     -1.0           3\n",
      " 55      False     1.0          34\n",
      "         True     -1.0          16\n",
      " 56      False     1.0           4\n",
      "         True     -1.0           3\n",
      "Name: count, Length: 106, dtype: int64\n",
      "breaking further...\n",
      "cluster  predict  veracity\n",
      "-1       False     1.0        1362\n",
      "                   3.0         251\n",
      "         True     -1.0         561\n",
      " 0       False     1.0           5\n",
      "         True     -1.0           2\n",
      "                              ... \n",
      " 54      True     -1.0           3\n",
      " 55      False     1.0          34\n",
      "         True     -1.0          16\n",
      " 56      False     1.0           4\n",
      "         True     -1.0           3\n",
      "Name: count, Length: 106, dtype: int64\n",
      "Number of clusters: 57\n",
      "{'accuracy': 0.38008565310492504, 'accuracy_not_including_fours': 0.9752747252747253, 'percentage_of_fours': 0.6102783725910064, 'percentage_of_no_clusters_in_ground_truth': 0.0, 'precision_on_three': 1.0, 'recall_on_three': 0.07258064516129033, 'average_confidence_for_3': 0, 'precision_on_three_excluding_fours': 1.0, 'recall_on_three_excluding_fours': 0.5, 'accuracy_90_confidence': 0.33832976445396146, 'accuracy_80_confidence': 0.33832976445396146, 'accuracy_70_confidence': 0.33832976445396146, 'accuracy_60_confidence': 0.33832976445396146, 'percentage_90_confidence': 0.9903640256959315, 'percentage_80_confidence': 0.9903640256959315, 'percentage_70_confidence': 0.9903640256959315, 'percentage_60_confidence': 0.9903640256959315}\n",
      "{'percentage': 0.5, 'best_params': {'break_further': True, 'claim_column_name': 'Text', 'k': 15000, 'min_cluster_size': 5, 'min_dist': 0, 'min_samples': 5, 'n_neighbors': 3688, 'no_umap': False, 'num_components': 100, 'parametric_umap': False, 'random_seed': True, 'seeds': 23, 'supervised_label_column_name': 'Numerical Rating', 'supervised_umap': True, 'threshold': 0.8, 'use_hdbscan': True, 'use_weightage': True, 'veracity_column_name': 'Numerical Rating'}, 'best_score': 0.896255060728745, 'accuracy': 0.38008565310492504, 'was_supervised_umap_used': True, 'metrics': {'accuracy': 0.38008565310492504, 'accuracy_not_including_fours': 0.9752747252747253, 'percentage_of_fours': 0.6102783725910064, 'percentage_of_no_clusters_in_ground_truth': 0.0, 'precision_on_three': 1.0, 'recall_on_three': 0.07258064516129033, 'average_confidence_for_3': 0, 'precision_on_three_excluding_fours': 1.0, 'recall_on_three_excluding_fours': 0.5, 'accuracy_90_confidence': 0.33832976445396146, 'accuracy_80_confidence': 0.33832976445396146, 'accuracy_70_confidence': 0.33832976445396146, 'accuracy_60_confidence': 0.33832976445396146, 'percentage_90_confidence': 0.9903640256959315, 'percentage_80_confidence': 0.9903640256959315, 'percentage_70_confidence': 0.9903640256959315, 'percentage_60_confidence': 0.9903640256959315}}\n",
      "Numerical Rating\n",
      "1    3071\n",
      "3     619\n",
      "Name: count, dtype: int64\n",
      "Numerical Rating\n",
      "1    810\n",
      "3    124\n",
      "Name: count, dtype: int64\n",
      "Fitting 2 folds for each of 1 candidates, totalling 2 fits\n",
      "cluster  predict  veracity\n",
      "-1       False     1.0        1625\n",
      "                   3.0         278\n",
      "         True     -1.0         254\n",
      " 0       False     1.0           7\n",
      "         True     -1.0           1\n",
      "                              ... \n",
      " 70      True     -1.0           7\n",
      " 71      False     1.0           5\n",
      " 72      False     1.0          55\n",
      "         True     -1.0           6\n",
      " 73      False     1.0           7\n",
      "Name: count, Length: 157, dtype: int64\n",
      "breaking further...\n",
      "73\n",
      "73\n",
      "73\n",
      "73\n",
      "73\n",
      "73\n",
      "73\n",
      "cluster  predict  veracity\n",
      "-1       False     1.0        1664\n",
      "                   3.0         309\n",
      "         True     -1.0         266\n",
      " 0       False     1.0           7\n",
      "         True     -1.0           1\n",
      "                              ... \n",
      " 70      True     -1.0           7\n",
      " 71      False     1.0           5\n",
      " 72      False     1.0          55\n",
      "         True     -1.0           6\n",
      " 73      False     1.0           7\n",
      "Name: count, Length: 138, dtype: int64\n",
      "breaking further...\n",
      "cluster  predict  veracity\n",
      "-1       False     1.0        1664\n",
      "                   3.0         309\n",
      "         True     -1.0         266\n",
      " 0       False     1.0           7\n",
      "         True     -1.0           1\n",
      "                              ... \n",
      " 70      True     -1.0           7\n",
      " 71      False     1.0           5\n",
      " 72      False     1.0          55\n",
      "         True     -1.0           6\n",
      " 73      False     1.0           7\n",
      "Name: count, Length: 138, dtype: int64\n",
      "Number of clusters: 68\n",
      "cluster  predict  veracity\n",
      "-1       False     1.0        1506\n",
      "                   3.0         236\n",
      "         True     -1.0         237\n",
      " 0       False     1.0           2\n",
      "                   3.0           1\n",
      "                              ... \n",
      " 66      True     -1.0           1\n",
      " 67      False     1.0          46\n",
      "         True     -1.0          12\n",
      " 68      False     1.0           5\n",
      "         True     -1.0           1\n",
      "Name: count, Length: 152, dtype: int64\n",
      "breaking further...\n",
      "68\n",
      "72\n",
      "72\n",
      "72\n",
      "72\n",
      "72\n",
      "72\n",
      "72\n",
      "72\n",
      "72\n",
      "72\n",
      "cluster  predict  veracity\n",
      "-1       False     1.0        1609\n",
      "                   3.0         296\n",
      "         True     -1.0         250\n",
      " 3       False     1.0           9\n",
      "         True     -1.0           2\n",
      "                              ... \n",
      " 70      True     -1.0           3\n",
      " 71      False     1.0           5\n",
      "         True     -1.0           4\n",
      " 72      False     1.0           9\n",
      "         True     -1.0           2\n",
      "Name: count, Length: 133, dtype: int64\n",
      "breaking further...\n",
      "72\n",
      "cluster  predict  veracity\n",
      "-1       False     1.0        1620\n",
      "                   3.0         303\n",
      "         True     -1.0         251\n",
      " 3       False     1.0           9\n",
      "         True     -1.0           2\n",
      "                              ... \n",
      " 73      False     3.0           7\n",
      "                   1.0           5\n",
      "         True     -1.0           2\n",
      " 74      False     3.0          17\n",
      "                   1.0           2\n",
      "Name: count, Length: 135, dtype: int64\n",
      "breaking further...\n",
      "74\n",
      "cluster  predict  veracity\n",
      "-1       False     1.0        1625\n",
      "                   3.0         310\n",
      "         True     -1.0         253\n",
      " 3       False     1.0           9\n",
      "         True     -1.0           2\n",
      "                              ... \n",
      " 71      True     -1.0           4\n",
      " 72      False     1.0           9\n",
      "         True     -1.0           2\n",
      " 74      False     3.0          17\n",
      "                   1.0           2\n",
      "Name: count, Length: 132, dtype: int64\n",
      "breaking further...\n",
      "cluster  predict  veracity\n",
      "-1       False     1.0        1625\n",
      "                   3.0         310\n",
      "         True     -1.0         253\n",
      " 3       False     1.0           9\n",
      "         True     -1.0           2\n",
      "                              ... \n",
      " 71      True     -1.0           4\n",
      " 72      False     1.0           9\n",
      "         True     -1.0           2\n",
      " 74      False     3.0          17\n",
      "                   1.0           2\n",
      "Name: count, Length: 132, dtype: int64\n",
      "Number of clusters: 63\n",
      "cluster  predict  veracity\n",
      "-1       False     1.0        1417\n",
      "                   3.0         250\n",
      "         True     -1.0         489\n",
      " 0       False     1.0           4\n",
      "         True     -1.0           6\n",
      "                              ... \n",
      " 75      False     1.0          41\n",
      "                   3.0           1\n",
      "         True     -1.0          20\n",
      " 76      False     1.0           4\n",
      "         True     -1.0           2\n",
      "Name: count, Length: 177, dtype: int64\n",
      "breaking further...\n",
      "76\n",
      "78\n",
      "78\n",
      "78\n",
      "78\n",
      "78\n",
      "78\n",
      "78\n",
      "78\n",
      "cluster  predict  veracity\n",
      "-1       False     1.0        1457\n",
      "                   3.0         289\n",
      "         True     -1.0         518\n",
      " 0       False     1.0           4\n",
      "         True     -1.0           6\n",
      "                              ... \n",
      " 77      False     3.0          10\n",
      "                   1.0           7\n",
      "         True     -1.0           5\n",
      " 78      False     3.0           4\n",
      "         True     -1.0           3\n",
      "Name: count, Length: 156, dtype: int64\n",
      "breaking further...\n",
      "78\n",
      "cluster  predict  veracity\n",
      "-1       False     1.0        1464\n",
      "                   3.0         299\n",
      "         True     -1.0         523\n",
      " 0       False     1.0           4\n",
      "         True     -1.0           6\n",
      "                              ... \n",
      " 75      True     -1.0          20\n",
      " 76      False     1.0           4\n",
      "         True     -1.0           2\n",
      " 78      False     3.0           4\n",
      "         True     -1.0           3\n",
      "Name: count, Length: 153, dtype: int64\n",
      "breaking further...\n",
      "cluster  predict  veracity\n",
      "-1       False     1.0        1464\n",
      "                   3.0         299\n",
      "         True     -1.0         523\n",
      " 0       False     1.0           4\n",
      "         True     -1.0           6\n",
      "                              ... \n",
      " 75      True     -1.0          20\n",
      " 76      False     1.0           4\n",
      "         True     -1.0           2\n",
      " 78      False     3.0           4\n",
      "         True     -1.0           3\n",
      "Name: count, Length: 153, dtype: int64\n",
      "Number of clusters: 70\n",
      "{'accuracy': 0.42505353319057815, 'accuracy_not_including_fours': 0.9659367396593674, 'percentage_of_fours': 0.5599571734475375, 'percentage_of_no_clusters_in_ground_truth': 0.0, 'precision_on_three': 0.9142857142857143, 'recall_on_three': 0.25806451612903225, 'average_confidence_for_3': 0, 'precision_on_three_excluding_fours': 0.9142857142857143, 'recall_on_three_excluding_fours': 0.7441860465116279, 'accuracy_90_confidence': 0.3147751605995717, 'accuracy_80_confidence': 0.35224839400428265, 'accuracy_70_confidence': 0.35224839400428265, 'accuracy_60_confidence': 0.35224839400428265, 'percentage_90_confidence': 0.9550321199143469, 'percentage_80_confidence': 1.0, 'percentage_70_confidence': 1.0, 'percentage_60_confidence': 1.0}\n",
      "{'percentage': 0.5, 'best_params': {'break_further': True, 'claim_column_name': 'Text', 'k': 15000, 'min_cluster_size': 5, 'min_dist': 0, 'min_samples': 5, 'n_neighbors': 3688, 'no_umap': False, 'num_components': 100, 'parametric_umap': False, 'random_seed': True, 'seeds': 23, 'supervised_label_column_name': 'Numerical Rating', 'supervised_umap': False, 'threshold': 0.8, 'use_hdbscan': True, 'use_weightage': True, 'veracity_column_name': 'Numerical Rating'}, 'best_score': 0.8694652098907418, 'accuracy': 0.42505353319057815, 'was_supervised_umap_used': False, 'metrics': {'accuracy': 0.42505353319057815, 'accuracy_not_including_fours': 0.9659367396593674, 'percentage_of_fours': 0.5599571734475375, 'percentage_of_no_clusters_in_ground_truth': 0.0, 'precision_on_three': 0.9142857142857143, 'recall_on_three': 0.25806451612903225, 'average_confidence_for_3': 0, 'precision_on_three_excluding_fours': 0.9142857142857143, 'recall_on_three_excluding_fours': 0.7441860465116279, 'accuracy_90_confidence': 0.3147751605995717, 'accuracy_80_confidence': 0.35224839400428265, 'accuracy_70_confidence': 0.35224839400428265, 'accuracy_60_confidence': 0.35224839400428265, 'percentage_90_confidence': 0.9550321199143469, 'percentage_80_confidence': 1.0, 'percentage_70_confidence': 1.0, 'percentage_60_confidence': 1.0}}\n",
      "Numerical Rating\n",
      "1    3071\n",
      "3     619\n",
      "Name: count, dtype: int64\n",
      "Numerical Rating\n",
      "1    810\n",
      "3    124\n",
      "Name: count, dtype: int64\n",
      "Fitting 2 folds for each of 1 candidates, totalling 2 fits\n",
      "cluster  predict  veracity\n",
      "-1       False     1.0        1732\n",
      "                   3.0           1\n",
      "         True     -1.0         261\n",
      " 0       True     -1.0           7\n",
      " 1       False     3.0         494\n",
      "                              ... \n",
      " 45      True     -1.0           6\n",
      " 46      False     1.0          56\n",
      "         True     -1.0           5\n",
      " 47      False     1.0           4\n",
      "         True     -1.0           2\n",
      "Name: count, Length: 83, dtype: int64\n",
      "breaking further...\n",
      "cluster  predict  veracity\n",
      "-1       False     1.0        1732\n",
      "                   3.0           1\n",
      "         True     -1.0         261\n",
      " 0       True     -1.0           7\n",
      " 1       False     3.0         494\n",
      "                              ... \n",
      " 45      True     -1.0           6\n",
      " 46      False     1.0          56\n",
      "         True     -1.0           5\n",
      " 47      False     1.0           4\n",
      "         True     -1.0           2\n",
      "Name: count, Length: 83, dtype: int64\n",
      "Number of clusters: 48\n",
      "cluster  predict  veracity\n",
      "0        False     1.0        2685\n",
      "                   3.0           8\n",
      "         True     -1.0         463\n",
      "1        False     3.0         611\n",
      "         True     -1.0           4\n",
      "Name: count, dtype: int64\n",
      "breaking further...\n",
      "cluster  predict  veracity\n",
      "0        False     1.0        2685\n",
      "                   3.0           8\n",
      "         True     -1.0         463\n",
      "1        False     3.0         611\n",
      "         True     -1.0           4\n",
      "Name: count, dtype: int64\n",
      "Number of clusters: 2\n",
      "cluster  predict  veracity\n",
      "-1       False     1.0        1362\n",
      "                   3.0         251\n",
      "         True     -1.0         561\n",
      " 0       False     1.0           5\n",
      "         True     -1.0           2\n",
      "                              ... \n",
      " 54      True     -1.0           3\n",
      " 55      False     1.0          34\n",
      "         True     -1.0          16\n",
      " 56      False     1.0           4\n",
      "         True     -1.0           3\n",
      "Name: count, Length: 106, dtype: int64\n",
      "breaking further...\n",
      "cluster  predict  veracity\n",
      "-1       False     1.0        1362\n",
      "                   3.0         251\n",
      "         True     -1.0         561\n",
      " 0       False     1.0           5\n",
      "         True     -1.0           2\n",
      "                              ... \n",
      " 54      True     -1.0           3\n",
      " 55      False     1.0          34\n",
      "         True     -1.0          16\n",
      " 56      False     1.0           4\n",
      "         True     -1.0           3\n",
      "Name: count, Length: 106, dtype: int64\n",
      "Number of clusters: 57\n",
      "{'accuracy': 0.38008565310492504, 'accuracy_not_including_fours': 0.9752747252747253, 'percentage_of_fours': 0.6102783725910064, 'percentage_of_no_clusters_in_ground_truth': 0.0, 'precision_on_three': 1.0, 'recall_on_three': 0.07258064516129033, 'average_confidence_for_3': 0, 'precision_on_three_excluding_fours': 1.0, 'recall_on_three_excluding_fours': 0.5, 'accuracy_90_confidence': 0.33832976445396146, 'accuracy_80_confidence': 0.33832976445396146, 'accuracy_70_confidence': 0.33832976445396146, 'accuracy_60_confidence': 0.33832976445396146, 'percentage_90_confidence': 0.9903640256959315, 'percentage_80_confidence': 0.9903640256959315, 'percentage_70_confidence': 0.9903640256959315, 'percentage_60_confidence': 0.9903640256959315}\n",
      "{'percentage': 0.5, 'best_params': {'break_further': True, 'claim_column_name': 'Text', 'k': 15000, 'min_cluster_size': 5, 'min_dist': 0, 'min_samples': 5, 'n_neighbors': 3688, 'no_umap': False, 'num_components': 100, 'parametric_umap': False, 'random_seed': True, 'seeds': 23, 'supervised_label_column_name': 'Numerical Rating', 'supervised_umap': True, 'threshold': 0.9, 'use_hdbscan': True, 'use_weightage': True, 'veracity_column_name': 'Numerical Rating'}, 'best_score': 0.896255060728745, 'accuracy': 0.38008565310492504, 'was_supervised_umap_used': True, 'metrics': {'accuracy': 0.38008565310492504, 'accuracy_not_including_fours': 0.9752747252747253, 'percentage_of_fours': 0.6102783725910064, 'percentage_of_no_clusters_in_ground_truth': 0.0, 'precision_on_three': 1.0, 'recall_on_three': 0.07258064516129033, 'average_confidence_for_3': 0, 'precision_on_three_excluding_fours': 1.0, 'recall_on_three_excluding_fours': 0.5, 'accuracy_90_confidence': 0.33832976445396146, 'accuracy_80_confidence': 0.33832976445396146, 'accuracy_70_confidence': 0.33832976445396146, 'accuracy_60_confidence': 0.33832976445396146, 'percentage_90_confidence': 0.9903640256959315, 'percentage_80_confidence': 0.9903640256959315, 'percentage_70_confidence': 0.9903640256959315, 'percentage_60_confidence': 0.9903640256959315}}\n",
      "Numerical Rating\n",
      "1    3071\n",
      "3     619\n",
      "Name: count, dtype: int64\n",
      "Numerical Rating\n",
      "1    810\n",
      "3    124\n",
      "Name: count, dtype: int64\n",
      "Fitting 2 folds for each of 1 candidates, totalling 2 fits\n",
      "cluster  predict  veracity\n",
      "-1       False     1.0        1625\n",
      "                   3.0         278\n",
      "         True     -1.0         254\n",
      " 0       False     1.0           7\n",
      "         True     -1.0           1\n",
      "                              ... \n",
      " 70      True     -1.0           7\n",
      " 71      False     1.0           5\n",
      " 72      False     1.0          55\n",
      "         True     -1.0           6\n",
      " 73      False     1.0           7\n",
      "Name: count, Length: 157, dtype: int64\n",
      "breaking further...\n",
      "73\n",
      "73\n",
      "73\n",
      "73\n",
      "73\n",
      "73\n",
      "73\n",
      "cluster  predict  veracity\n",
      "-1       False     1.0        1664\n",
      "                   3.0         309\n",
      "         True     -1.0         266\n",
      " 0       False     1.0           7\n",
      "         True     -1.0           1\n",
      "                              ... \n",
      " 70      True     -1.0           7\n",
      " 71      False     1.0           5\n",
      " 72      False     1.0          55\n",
      "         True     -1.0           6\n",
      " 73      False     1.0           7\n",
      "Name: count, Length: 138, dtype: int64\n",
      "breaking further...\n",
      "cluster  predict  veracity\n",
      "-1       False     1.0        1664\n",
      "                   3.0         309\n",
      "         True     -1.0         266\n",
      " 0       False     1.0           7\n",
      "         True     -1.0           1\n",
      "                              ... \n",
      " 70      True     -1.0           7\n",
      " 71      False     1.0           5\n",
      " 72      False     1.0          55\n",
      "         True     -1.0           6\n",
      " 73      False     1.0           7\n",
      "Name: count, Length: 138, dtype: int64\n",
      "Number of clusters: 68\n",
      "cluster  predict  veracity\n",
      "-1       False     1.0        1506\n",
      "                   3.0         236\n",
      "         True     -1.0         237\n",
      " 0       False     1.0           2\n",
      "                   3.0           1\n",
      "                              ... \n",
      " 66      True     -1.0           1\n",
      " 67      False     1.0          46\n",
      "         True     -1.0          12\n",
      " 68      False     1.0           5\n",
      "         True     -1.0           1\n",
      "Name: count, Length: 152, dtype: int64\n",
      "breaking further...\n",
      "68\n",
      "72\n",
      "72\n",
      "72\n",
      "72\n",
      "72\n",
      "72\n",
      "72\n",
      "72\n",
      "72\n",
      "72\n",
      "cluster  predict  veracity\n",
      "-1       False     1.0        1609\n",
      "                   3.0         296\n",
      "         True     -1.0         250\n",
      " 3       False     1.0           9\n",
      "         True     -1.0           2\n",
      "                              ... \n",
      " 70      True     -1.0           3\n",
      " 71      False     1.0           5\n",
      "         True     -1.0           4\n",
      " 72      False     1.0           9\n",
      "         True     -1.0           2\n",
      "Name: count, Length: 133, dtype: int64\n",
      "breaking further...\n",
      "72\n",
      "cluster  predict  veracity\n",
      "-1       False     1.0        1620\n",
      "                   3.0         303\n",
      "         True     -1.0         251\n",
      " 3       False     1.0           9\n",
      "         True     -1.0           2\n",
      "                              ... \n",
      " 73      False     3.0           7\n",
      "                   1.0           5\n",
      "         True     -1.0           2\n",
      " 74      False     3.0          17\n",
      "                   1.0           2\n",
      "Name: count, Length: 135, dtype: int64\n",
      "breaking further...\n",
      "74\n",
      "cluster  predict  veracity\n",
      "-1       False     1.0        1625\n",
      "                   3.0         310\n",
      "         True     -1.0         253\n",
      " 3       False     1.0           9\n",
      "         True     -1.0           2\n",
      "                              ... \n",
      " 71      True     -1.0           4\n",
      " 72      False     1.0           9\n",
      "         True     -1.0           2\n",
      " 74      False     3.0          17\n",
      "                   1.0           2\n",
      "Name: count, Length: 132, dtype: int64\n",
      "breaking further...\n",
      "cluster  predict  veracity\n",
      "-1       False     1.0        1625\n",
      "                   3.0         310\n",
      "         True     -1.0         253\n",
      " 3       False     1.0           9\n",
      "         True     -1.0           2\n",
      "                              ... \n",
      " 71      True     -1.0           4\n",
      " 72      False     1.0           9\n",
      "         True     -1.0           2\n",
      " 74      False     3.0          17\n",
      "                   1.0           2\n",
      "Name: count, Length: 132, dtype: int64\n",
      "Number of clusters: 63\n",
      "cluster  predict  veracity\n",
      "-1       False     1.0        1417\n",
      "                   3.0         250\n",
      "         True     -1.0         489\n",
      " 0       False     1.0           4\n",
      "         True     -1.0           6\n",
      "                              ... \n",
      " 75      False     1.0          41\n",
      "                   3.0           1\n",
      "         True     -1.0          20\n",
      " 76      False     1.0           4\n",
      "         True     -1.0           2\n",
      "Name: count, Length: 177, dtype: int64\n",
      "breaking further...\n",
      "76\n",
      "78\n",
      "78\n",
      "78\n",
      "78\n",
      "78\n",
      "78\n",
      "78\n",
      "78\n",
      "cluster  predict  veracity\n",
      "-1       False     1.0        1457\n",
      "                   3.0         289\n",
      "         True     -1.0         518\n",
      " 0       False     1.0           4\n",
      "         True     -1.0           6\n",
      "                              ... \n",
      " 77      False     3.0          10\n",
      "                   1.0           7\n",
      "         True     -1.0           5\n",
      " 78      False     3.0           4\n",
      "         True     -1.0           3\n",
      "Name: count, Length: 156, dtype: int64\n",
      "breaking further...\n",
      "78\n",
      "cluster  predict  veracity\n",
      "-1       False     1.0        1464\n",
      "                   3.0         299\n",
      "         True     -1.0         523\n",
      " 0       False     1.0           4\n",
      "         True     -1.0           6\n",
      "                              ... \n",
      " 75      True     -1.0          20\n",
      " 76      False     1.0           4\n",
      "         True     -1.0           2\n",
      " 78      False     3.0           4\n",
      "         True     -1.0           3\n",
      "Name: count, Length: 153, dtype: int64\n",
      "breaking further...\n",
      "cluster  predict  veracity\n",
      "-1       False     1.0        1464\n",
      "                   3.0         299\n",
      "         True     -1.0         523\n",
      " 0       False     1.0           4\n",
      "         True     -1.0           6\n",
      "                              ... \n",
      " 75      True     -1.0          20\n",
      " 76      False     1.0           4\n",
      "         True     -1.0           2\n",
      " 78      False     3.0           4\n",
      "         True     -1.0           3\n",
      "Name: count, Length: 153, dtype: int64\n",
      "Number of clusters: 70\n",
      "{'accuracy': 0.42505353319057815, 'accuracy_not_including_fours': 0.9659367396593674, 'percentage_of_fours': 0.5599571734475375, 'percentage_of_no_clusters_in_ground_truth': 0.0, 'precision_on_three': 0.9142857142857143, 'recall_on_three': 0.25806451612903225, 'average_confidence_for_3': 0, 'precision_on_three_excluding_fours': 0.9142857142857143, 'recall_on_three_excluding_fours': 0.7441860465116279, 'accuracy_90_confidence': 0.3147751605995717, 'accuracy_80_confidence': 0.35224839400428265, 'accuracy_70_confidence': 0.35224839400428265, 'accuracy_60_confidence': 0.35224839400428265, 'percentage_90_confidence': 0.9550321199143469, 'percentage_80_confidence': 1.0, 'percentage_70_confidence': 1.0, 'percentage_60_confidence': 1.0}\n",
      "{'percentage': 0.5, 'best_params': {'break_further': True, 'claim_column_name': 'Text', 'k': 15000, 'min_cluster_size': 5, 'min_dist': 0, 'min_samples': 5, 'n_neighbors': 3688, 'no_umap': False, 'num_components': 100, 'parametric_umap': False, 'random_seed': True, 'seeds': 23, 'supervised_label_column_name': 'Numerical Rating', 'supervised_umap': False, 'threshold': 0.9, 'use_hdbscan': True, 'use_weightage': True, 'veracity_column_name': 'Numerical Rating'}, 'best_score': 0.8694652098907418, 'accuracy': 0.42505353319057815, 'was_supervised_umap_used': False, 'metrics': {'accuracy': 0.42505353319057815, 'accuracy_not_including_fours': 0.9659367396593674, 'percentage_of_fours': 0.5599571734475375, 'percentage_of_no_clusters_in_ground_truth': 0.0, 'precision_on_three': 0.9142857142857143, 'recall_on_three': 0.25806451612903225, 'average_confidence_for_3': 0, 'precision_on_three_excluding_fours': 0.9142857142857143, 'recall_on_three_excluding_fours': 0.7441860465116279, 'accuracy_90_confidence': 0.3147751605995717, 'accuracy_80_confidence': 0.35224839400428265, 'accuracy_70_confidence': 0.35224839400428265, 'accuracy_60_confidence': 0.35224839400428265, 'percentage_90_confidence': 0.9550321199143469, 'percentage_80_confidence': 1.0, 'percentage_70_confidence': 1.0, 'percentage_60_confidence': 1.0}}\n"
     ]
    }
   ],
   "source": [
    "seeds = [23]\n",
    "thresholds = [0.8, 0.9]\n",
    "break_furthers = [True]\n",
    "num_components = [100]\n",
    "min_samples = [5]\n",
    "min_cluster_size = [5]\n",
    "use_hdbscan = [True]\n",
    "no_umap = [False]\n",
    "supervised_umaps = [True, False]\n",
    "\n",
    "# seeds = [1]\n",
    "# thresholds = [0.8]\n",
    "# break_furthers = [True]\n",
    "results = []\n",
    "for seed in seeds:\n",
    "    for threshold in thresholds:\n",
    "        for break_further in break_furthers:\n",
    "            for num_component in num_components:\n",
    "                for min_sample in min_samples:\n",
    "                    for use_hdbscan_l in use_hdbscan:\n",
    "                        for no_umap_l in no_umap:\n",
    "                            for supervised_umap in supervised_umaps:\n",
    "                                data_loader = DataLoader(0.5)\n",
    "                                train_df, test_df = data_loader.create_train_test_df(True, True, True)\n",
    "                                # train_df, test_df = data_loader.create_large_train_test_df(remove_synthetic_data=True)\n",
    "                                # train_df, test_df = data_loader.create_matched_large_df(False)\n",
    "                                # Sample 0.05 of the data\n",
    "                                # train_df = train_df.sample(frac=0.05)\n",
    "                                # test_df = test_df.sample(frac=0.05)\n",
    "                                cluster_predict_object = ClusterAndPredict(train_df=train_df)\n",
    "                                # Parallelism with jobs doesnt work\n",
    "                                parameters['n_neighbors'] = [int(train_df.shape[0] - 2)]\n",
    "                                parameters['seeds'] = [seed]\n",
    "                                parameters['threshold'] = [threshold]\n",
    "                                parameters['break_further'] = [break_further]\n",
    "                                parameters['num_components'] = [num_component]\n",
    "                                parameters['min_samples'] = [min_sample]\n",
    "                                parameters['use_hdbscan'] = [use_hdbscan_l]\n",
    "                                parameters['no_umap'] = [no_umap_l]\n",
    "                                parameters['supervised_umap'] = [supervised_umap]\n",
    "                                clf = GridSearchCV(cluster_predict_object, parameters, verbose=1, cv=2, refit=True)\n",
    "                                clf.fit(test_df['Text'].tolist(), test_df['Numerical Rating'].tolist())\n",
    "                                # Print best parameters\n",
    "                                best_estimator: ClusterAndPredict = clf.best_estimator_\n",
    "                                best_estimator.score([], [])\n",
    "                                print(best_estimator.get_all_performance_metrics())\n",
    "                                output = {\n",
    "                                    'percentage': 0.5,\n",
    "                                    'best_params': clf.best_params_,\n",
    "                                    'best_score': clf.best_score_,\n",
    "                                    'accuracy': best_estimator.get_accuracy(),\n",
    "                                    'was_supervised_umap_used': best_estimator.get_was_supervised(),\n",
    "                                    'metrics': best_estimator.get_all_performance_metrics(),\n",
    "                                }\n",
    "                                print(output)\n",
    "                                results.append(output)"
   ],
   "metadata": {
    "collapsed": false,
    "ExecuteTime": {
     "end_time": "2024-06-05T00:09:24.617636Z",
     "start_time": "2024-06-04T23:38:42.539685Z"
    }
   },
   "id": "724a5cb50eba0305"
  },
  {
   "cell_type": "code",
   "execution_count": 57,
   "outputs": [
    {
     "data": {
      "text/plain": "[{'percentage': 0.5,\n  'best_params': {'break_further': True,\n   'claim_column_name': 'Text',\n   'k': 15000,\n   'min_cluster_size': 5,\n   'min_dist': 0,\n   'min_samples': 5,\n   'n_neighbors': 3688,\n   'no_umap': False,\n   'num_components': 100,\n   'parametric_umap': False,\n   'random_seed': True,\n   'seeds': 23,\n   'supervised_label_column_name': 'Numerical Rating',\n   'supervised_umap': True,\n   'threshold': 0.8,\n   'use_hdbscan': True,\n   'use_weightage': True,\n   'veracity_column_name': 'Numerical Rating'},\n  'best_score': 0.896255060728745,\n  'accuracy': 0.38008565310492504,\n  'was_supervised_umap_used': True,\n  'metrics': {'accuracy': 0.38008565310492504,\n   'accuracy_not_including_fours': 0.9752747252747253,\n   'percentage_of_fours': 0.6102783725910064,\n   'percentage_of_no_clusters_in_ground_truth': 0.0,\n   'precision_on_three': 1.0,\n   'recall_on_three': 0.07258064516129033,\n   'average_confidence_for_3': 0,\n   'precision_on_three_excluding_fours': 1.0,\n   'recall_on_three_excluding_fours': 0.5,\n   'accuracy_90_confidence': 0.33832976445396146,\n   'accuracy_80_confidence': 0.33832976445396146,\n   'accuracy_70_confidence': 0.33832976445396146,\n   'accuracy_60_confidence': 0.33832976445396146,\n   'percentage_90_confidence': 0.9903640256959315,\n   'percentage_80_confidence': 0.9903640256959315,\n   'percentage_70_confidence': 0.9903640256959315,\n   'percentage_60_confidence': 0.9903640256959315}},\n {'percentage': 0.5,\n  'best_params': {'break_further': True,\n   'claim_column_name': 'Text',\n   'k': 15000,\n   'min_cluster_size': 5,\n   'min_dist': 0,\n   'min_samples': 5,\n   'n_neighbors': 3688,\n   'no_umap': False,\n   'num_components': 100,\n   'parametric_umap': False,\n   'random_seed': True,\n   'seeds': 23,\n   'supervised_label_column_name': 'Numerical Rating',\n   'supervised_umap': False,\n   'threshold': 0.8,\n   'use_hdbscan': True,\n   'use_weightage': True,\n   'veracity_column_name': 'Numerical Rating'},\n  'best_score': 0.8694652098907418,\n  'accuracy': 0.42505353319057815,\n  'was_supervised_umap_used': False,\n  'metrics': {'accuracy': 0.42505353319057815,\n   'accuracy_not_including_fours': 0.9659367396593674,\n   'percentage_of_fours': 0.5599571734475375,\n   'percentage_of_no_clusters_in_ground_truth': 0.0,\n   'precision_on_three': 0.9142857142857143,\n   'recall_on_three': 0.25806451612903225,\n   'average_confidence_for_3': 0,\n   'precision_on_three_excluding_fours': 0.9142857142857143,\n   'recall_on_three_excluding_fours': 0.7441860465116279,\n   'accuracy_90_confidence': 0.3147751605995717,\n   'accuracy_80_confidence': 0.35224839400428265,\n   'accuracy_70_confidence': 0.35224839400428265,\n   'accuracy_60_confidence': 0.35224839400428265,\n   'percentage_90_confidence': 0.9550321199143469,\n   'percentage_80_confidence': 1.0,\n   'percentage_70_confidence': 1.0,\n   'percentage_60_confidence': 1.0}},\n {'percentage': 0.5,\n  'best_params': {'break_further': True,\n   'claim_column_name': 'Text',\n   'k': 15000,\n   'min_cluster_size': 5,\n   'min_dist': 0,\n   'min_samples': 5,\n   'n_neighbors': 3688,\n   'no_umap': False,\n   'num_components': 100,\n   'parametric_umap': False,\n   'random_seed': True,\n   'seeds': 23,\n   'supervised_label_column_name': 'Numerical Rating',\n   'supervised_umap': True,\n   'threshold': 0.9,\n   'use_hdbscan': True,\n   'use_weightage': True,\n   'veracity_column_name': 'Numerical Rating'},\n  'best_score': 0.896255060728745,\n  'accuracy': 0.38008565310492504,\n  'was_supervised_umap_used': True,\n  'metrics': {'accuracy': 0.38008565310492504,\n   'accuracy_not_including_fours': 0.9752747252747253,\n   'percentage_of_fours': 0.6102783725910064,\n   'percentage_of_no_clusters_in_ground_truth': 0.0,\n   'precision_on_three': 1.0,\n   'recall_on_three': 0.07258064516129033,\n   'average_confidence_for_3': 0,\n   'precision_on_three_excluding_fours': 1.0,\n   'recall_on_three_excluding_fours': 0.5,\n   'accuracy_90_confidence': 0.33832976445396146,\n   'accuracy_80_confidence': 0.33832976445396146,\n   'accuracy_70_confidence': 0.33832976445396146,\n   'accuracy_60_confidence': 0.33832976445396146,\n   'percentage_90_confidence': 0.9903640256959315,\n   'percentage_80_confidence': 0.9903640256959315,\n   'percentage_70_confidence': 0.9903640256959315,\n   'percentage_60_confidence': 0.9903640256959315}},\n {'percentage': 0.5,\n  'best_params': {'break_further': True,\n   'claim_column_name': 'Text',\n   'k': 15000,\n   'min_cluster_size': 5,\n   'min_dist': 0,\n   'min_samples': 5,\n   'n_neighbors': 3688,\n   'no_umap': False,\n   'num_components': 100,\n   'parametric_umap': False,\n   'random_seed': True,\n   'seeds': 23,\n   'supervised_label_column_name': 'Numerical Rating',\n   'supervised_umap': False,\n   'threshold': 0.9,\n   'use_hdbscan': True,\n   'use_weightage': True,\n   'veracity_column_name': 'Numerical Rating'},\n  'best_score': 0.8694652098907418,\n  'accuracy': 0.42505353319057815,\n  'was_supervised_umap_used': False,\n  'metrics': {'accuracy': 0.42505353319057815,\n   'accuracy_not_including_fours': 0.9659367396593674,\n   'percentage_of_fours': 0.5599571734475375,\n   'percentage_of_no_clusters_in_ground_truth': 0.0,\n   'precision_on_three': 0.9142857142857143,\n   'recall_on_three': 0.25806451612903225,\n   'average_confidence_for_3': 0,\n   'precision_on_three_excluding_fours': 0.9142857142857143,\n   'recall_on_three_excluding_fours': 0.7441860465116279,\n   'accuracy_90_confidence': 0.3147751605995717,\n   'accuracy_80_confidence': 0.35224839400428265,\n   'accuracy_70_confidence': 0.35224839400428265,\n   'accuracy_60_confidence': 0.35224839400428265,\n   'percentage_90_confidence': 0.9550321199143469,\n   'percentage_80_confidence': 1.0,\n   'percentage_70_confidence': 1.0,\n   'percentage_60_confidence': 1.0}}]"
     },
     "execution_count": 57,
     "metadata": {},
     "output_type": "execute_result"
    }
   ],
   "source": [
    "results"
   ],
   "metadata": {
    "collapsed": false,
    "ExecuteTime": {
     "end_time": "2024-06-05T00:09:24.892238Z",
     "start_time": "2024-06-05T00:09:24.480306Z"
    }
   },
   "id": "60ab88b0291dbbab"
  },
  {
   "cell_type": "code",
   "execution_count": 58,
   "outputs": [
    {
     "data": {
      "text/plain": "   percentage  best_score  accuracy  was_supervised_umap_used  \\\n0         0.5    0.896255  0.380086                      True   \n1         0.5    0.869465  0.425054                     False   \n2         0.5    0.896255  0.380086                      True   \n3         0.5    0.869465  0.425054                     False   \n\n   best_params.break_further best_params.claim_column_name  best_params.k  \\\n0                       True                          Text          15000   \n1                       True                          Text          15000   \n2                       True                          Text          15000   \n3                       True                          Text          15000   \n\n   best_params.min_cluster_size  best_params.min_dist  \\\n0                             5                     0   \n1                             5                     0   \n2                             5                     0   \n3                             5                     0   \n\n   best_params.min_samples  ...  metrics.precision_on_three_excluding_fours  \\\n0                        5  ...                                    1.000000   \n1                        5  ...                                    0.914286   \n2                        5  ...                                    1.000000   \n3                        5  ...                                    0.914286   \n\n   metrics.recall_on_three_excluding_fours  metrics.accuracy_90_confidence  \\\n0                                 0.500000                        0.338330   \n1                                 0.744186                        0.314775   \n2                                 0.500000                        0.338330   \n3                                 0.744186                        0.314775   \n\n   metrics.accuracy_80_confidence  metrics.accuracy_70_confidence  \\\n0                        0.338330                        0.338330   \n1                        0.352248                        0.352248   \n2                        0.338330                        0.338330   \n3                        0.352248                        0.352248   \n\n   metrics.accuracy_60_confidence metrics.percentage_90_confidence  \\\n0                        0.338330                         0.990364   \n1                        0.352248                         0.955032   \n2                        0.338330                         0.990364   \n3                        0.352248                         0.955032   \n\n   metrics.percentage_80_confidence  metrics.percentage_70_confidence  \\\n0                          0.990364                          0.990364   \n1                          1.000000                          1.000000   \n2                          0.990364                          0.990364   \n3                          1.000000                          1.000000   \n\n   metrics.percentage_60_confidence  \n0                          0.990364  \n1                          1.000000  \n2                          0.990364  \n3                          1.000000  \n\n[4 rows x 39 columns]",
      "text/html": "<div>\n<style scoped>\n    .dataframe tbody tr th:only-of-type {\n        vertical-align: middle;\n    }\n\n    .dataframe tbody tr th {\n        vertical-align: top;\n    }\n\n    .dataframe thead th {\n        text-align: right;\n    }\n</style>\n<table border=\"1\" class=\"dataframe\">\n  <thead>\n    <tr style=\"text-align: right;\">\n      <th></th>\n      <th>percentage</th>\n      <th>best_score</th>\n      <th>accuracy</th>\n      <th>was_supervised_umap_used</th>\n      <th>best_params.break_further</th>\n      <th>best_params.claim_column_name</th>\n      <th>best_params.k</th>\n      <th>best_params.min_cluster_size</th>\n      <th>best_params.min_dist</th>\n      <th>best_params.min_samples</th>\n      <th>...</th>\n      <th>metrics.precision_on_three_excluding_fours</th>\n      <th>metrics.recall_on_three_excluding_fours</th>\n      <th>metrics.accuracy_90_confidence</th>\n      <th>metrics.accuracy_80_confidence</th>\n      <th>metrics.accuracy_70_confidence</th>\n      <th>metrics.accuracy_60_confidence</th>\n      <th>metrics.percentage_90_confidence</th>\n      <th>metrics.percentage_80_confidence</th>\n      <th>metrics.percentage_70_confidence</th>\n      <th>metrics.percentage_60_confidence</th>\n    </tr>\n  </thead>\n  <tbody>\n    <tr>\n      <th>0</th>\n      <td>0.5</td>\n      <td>0.896255</td>\n      <td>0.380086</td>\n      <td>True</td>\n      <td>True</td>\n      <td>Text</td>\n      <td>15000</td>\n      <td>5</td>\n      <td>0</td>\n      <td>5</td>\n      <td>...</td>\n      <td>1.000000</td>\n      <td>0.500000</td>\n      <td>0.338330</td>\n      <td>0.338330</td>\n      <td>0.338330</td>\n      <td>0.338330</td>\n      <td>0.990364</td>\n      <td>0.990364</td>\n      <td>0.990364</td>\n      <td>0.990364</td>\n    </tr>\n    <tr>\n      <th>1</th>\n      <td>0.5</td>\n      <td>0.869465</td>\n      <td>0.425054</td>\n      <td>False</td>\n      <td>True</td>\n      <td>Text</td>\n      <td>15000</td>\n      <td>5</td>\n      <td>0</td>\n      <td>5</td>\n      <td>...</td>\n      <td>0.914286</td>\n      <td>0.744186</td>\n      <td>0.314775</td>\n      <td>0.352248</td>\n      <td>0.352248</td>\n      <td>0.352248</td>\n      <td>0.955032</td>\n      <td>1.000000</td>\n      <td>1.000000</td>\n      <td>1.000000</td>\n    </tr>\n    <tr>\n      <th>2</th>\n      <td>0.5</td>\n      <td>0.896255</td>\n      <td>0.380086</td>\n      <td>True</td>\n      <td>True</td>\n      <td>Text</td>\n      <td>15000</td>\n      <td>5</td>\n      <td>0</td>\n      <td>5</td>\n      <td>...</td>\n      <td>1.000000</td>\n      <td>0.500000</td>\n      <td>0.338330</td>\n      <td>0.338330</td>\n      <td>0.338330</td>\n      <td>0.338330</td>\n      <td>0.990364</td>\n      <td>0.990364</td>\n      <td>0.990364</td>\n      <td>0.990364</td>\n    </tr>\n    <tr>\n      <th>3</th>\n      <td>0.5</td>\n      <td>0.869465</td>\n      <td>0.425054</td>\n      <td>False</td>\n      <td>True</td>\n      <td>Text</td>\n      <td>15000</td>\n      <td>5</td>\n      <td>0</td>\n      <td>5</td>\n      <td>...</td>\n      <td>0.914286</td>\n      <td>0.744186</td>\n      <td>0.314775</td>\n      <td>0.352248</td>\n      <td>0.352248</td>\n      <td>0.352248</td>\n      <td>0.955032</td>\n      <td>1.000000</td>\n      <td>1.000000</td>\n      <td>1.000000</td>\n    </tr>\n  </tbody>\n</table>\n<p>4 rows × 39 columns</p>\n</div>"
     },
     "execution_count": 58,
     "metadata": {},
     "output_type": "execute_result"
    }
   ],
   "source": [
    "results_df = pd.DataFrame(results)\n",
    "results_df = pd.json_normalize(results)\n",
    "results_df"
   ],
   "metadata": {
    "collapsed": false,
    "ExecuteTime": {
     "end_time": "2024-06-05T00:09:24.937484Z",
     "start_time": "2024-06-05T00:09:24.488097Z"
    }
   },
   "id": "5e78bf69142c96ab"
  },
  {
   "cell_type": "code",
   "execution_count": 17,
   "outputs": [
    {
     "name": "stdout",
     "output_type": "stream",
     "text": [
      "0\n",
      "9 55 64\n",
      "0.140625 1.0 0.140625\n"
     ]
    },
    {
     "data": {
      "text/plain": "{'accuracy': 0.36728060671722645,\n 'accuracy_not_including_fours': 0.9643652561247216,\n 'percentage_of_fours': 0.5135427952329361,\n 'percentage_of_no_clusters_in_ground_truth': 0.5496267625103677,\n 'precision_on_three': 0.140625,\n 'recall_on_three': 0.07258064516129033,\n 'average_confidence_for_3': 0.9071800682964969,\n 'precision_on_three_excluding_fours': 0.140625,\n 'recall_on_three_excluding_fours': 0.140625,\n 'accuracy_90_confidence': 0.3174431202600217,\n 'accuracy_80_confidence': 0.35102925243770317,\n 'accuracy_70_confidence': 0.35752979414951247,\n 'accuracy_60_confidence': 0.3629469122426869,\n 'percentage_90_confidence': 0.9295774647887324,\n 'percentage_80_confidence': 0.9696641386782232,\n 'percentage_70_confidence': 0.9772481040086674,\n 'percentage_60_confidence': 0.9945828819068255,\n 'cluster_df':                                                    text  veracity  predict  \\\n 0     Yet, the White House keeps pushing the Green-e...       1.0     True   \n 1     In April, EPA finalized a rulemaking under the...       3.0     True   \n 2     Damage to coral reefs due to climate change is...       3.0     True   \n 3     The latest NOAA CFS model is showing exactly t...       1.0     True   \n 4     It is instructive to note that over the past c...       1.0     True   \n ...                                                 ...       ...      ...   \n 3790  “We are proud to join HUD and EPA to call for ...       3.0    False   \n 3791  “With nearly $1 billion in investment already ...       3.0    False   \n 3792  “… 600 million Africans lack access to electri...       3.0    False   \n 3793        “… with 93% of that power being renewable.”       1.0    False   \n 3794  ”Global warming started to run out of steam ov...       1.0    False   \n \n       predicted_veracity                                         embeddings  \\\n 0                    4.0  [29.242650985717773, 12.672236442565918, -1.04...   \n 1                    3.0  [29.288766860961914, 12.631510734558105, -1.20...   \n 2                    3.0  [29.78821563720703, 12.83484935760498, -0.8474...   \n 3                    1.0  [29.869421005249023, 13.158324241638184, -0.71...   \n 4                    1.0  [29.978166580200195, 13.277459144592285, -0.78...   \n ...                  ...                                                ...   \n 3790                 3.0  [29.3698787689209, 12.605443954467773, -1.2006...   \n 3791                 3.0  [29.368019104003906, 12.7279052734375, -1.2808...   \n 3792                 3.0  [29.522491455078125, 12.716552734375, -0.89415...   \n 3793                 1.0  [29.226356506347656, 12.523391723632812, -0.99...   \n 3794                 1.0  [29.778722763061523, 13.041099548339844, -0.55...   \n \n       cluster  num_correct_in_cluster  total_in_cluster  cluster_accuracy  \n 0          -1                    1611              2085          0.772662  \n 1          70                      17                17          1.000000  \n 2          13                       5                 5          1.000000  \n 3          59                      76                76          1.000000  \n 4          41                     153               153          1.000000  \n ...       ...                     ...               ...               ...  \n 3790       -1                    1611              2085          0.772662  \n 3791       69                      53                53          1.000000  \n 3792        3                       5                 5          1.000000  \n 3793       -1                    1611              2085          0.772662  \n 3794       76                      71                72          0.986111  \n \n [3795 rows x 9 columns]}"
     },
     "execution_count": 17,
     "metadata": {},
     "output_type": "execute_result"
    }
   ],
   "source": [
    "`object_output = best_estimator.get_all_performance_metrics()\n",
    "cluster_df = object_output['cluster_df']\n",
    "# Print unique count of 'cluster'\n",
    "cluster_df['cluster'].nunique()\n",
    "object_output"
   ],
   "metadata": {
    "collapsed": false,
    "ExecuteTime": {
     "end_time": "2024-05-19T14:54:27.178225Z",
     "start_time": "2024-05-19T14:54:25.532337Z"
    }
   },
   "id": "2dd02d7938148d81"
  },
  {
   "cell_type": "code",
   "execution_count": 77,
   "outputs": [
    {
     "name": "stdout",
     "output_type": "stream",
     "text": [
      "Numerical Rating\n",
      "1    2102\n",
      "3     319\n",
      "Name: count, dtype: int64\n",
      "Numerical Rating\n",
      "1    2117\n",
      "3     300\n",
      "Name: count, dtype: int64\n"
     ]
    }
   ],
   "source": [
    "# Rename 'text' column in cluster_df to 'Text'\n",
    "cluster_df = cluster_df.rename(columns={'text': 'Text'})\n",
    "train_df, test_df = data_loader.create_large_train_test_df(False)\n",
    "# Join the 'Synthetic' column in train_df and test_df on cluster_df using the 'text' column\n",
    "# Concatenate train_df and test_df\n",
    "combined_df = pd.concat([train_df, test_df])\n",
    "\n",
    "# Ensure that 'Text' column is of the same data type in both dataframes\n",
    "combined_df['Text'] = combined_df['Text'].astype(str)\n",
    "cluster_df['Text'] = cluster_df['Text'].astype(str)\n",
    "\n",
    "# Merge 'Synthetic' column from combined_df to cluster_df\n",
    "cluster_df = cluster_df.merge(combined_df[['Text', 'Synthetic']], on='Text', how='left')"
   ],
   "metadata": {
    "collapsed": false,
    "ExecuteTime": {
     "end_time": "2024-05-17T16:49:45.943604Z",
     "start_time": "2024-05-17T16:49:45.766871Z"
    }
   },
   "id": "15b7aeebd80e657e"
  },
  {
   "cell_type": "code",
   "execution_count": 69,
   "outputs": [
    {
     "data": {
      "text/plain": "cluster  predict  predicted_veracity\n-1       False    1.0                   1655\n                  3.0                    311\n         True     4.0                    593\n 0       False    3.0                     11\n         True     3.0                      2\n                                        ... \n 91      False    3.0                      1\n         True     1.0                      3\n 92      False    1.0                      4\n                  3.0                      2\n         True     1.0                      2\nName: count, Length: 197, dtype: int64"
     },
     "execution_count": 69,
     "metadata": {},
     "output_type": "execute_result"
    }
   ],
   "source": [
    "# Print value counts for predicted_veracity for across each cluster in cluster_df\n",
    "value_counts = cluster_df.groupby(['cluster', 'predict'])['predicted_veracity'].value_counts()\n",
    "value_counts"
   ],
   "metadata": {
    "collapsed": false,
    "ExecuteTime": {
     "end_time": "2024-05-17T16:33:38.264439Z",
     "start_time": "2024-05-17T16:33:38.217296Z"
    }
   },
   "id": "d398547c7800eb0f"
  },
  {
   "cell_type": "code",
   "execution_count": 18,
   "outputs": [
    {
     "data": {
      "text/plain": "                                                   text  veracity  predict  \\\n0     Yet, the White House keeps pushing the Green-e...       1.0     True   \n1     In April, EPA finalized a rulemaking under the...       3.0     True   \n2     Damage to coral reefs due to climate change is...       3.0     True   \n3     The latest NOAA CFS model is showing exactly t...       1.0     True   \n4     It is instructive to note that over the past c...       1.0     True   \n...                                                 ...       ...      ...   \n3790  “We are proud to join HUD and EPA to call for ...       3.0    False   \n3791  “With nearly $1 billion in investment already ...       3.0    False   \n3792  “… 600 million Africans lack access to electri...       3.0    False   \n3793        “… with 93% of that power being renewable.”       1.0    False   \n3794  ”Global warming started to run out of steam ov...       1.0    False   \n\n      predicted_veracity                                         embeddings  \\\n0                    4.0  [29.242650985717773, 12.672236442565918, -1.04...   \n1                    3.0  [29.288766860961914, 12.631510734558105, -1.20...   \n2                    3.0  [29.78821563720703, 12.83484935760498, -0.8474...   \n3                    1.0  [29.869421005249023, 13.158324241638184, -0.71...   \n4                    1.0  [29.978166580200195, 13.277459144592285, -0.78...   \n...                  ...                                                ...   \n3790                 3.0  [29.3698787689209, 12.605443954467773, -1.2006...   \n3791                 3.0  [29.368019104003906, 12.7279052734375, -1.2808...   \n3792                 3.0  [29.522491455078125, 12.716552734375, -0.89415...   \n3793                 1.0  [29.226356506347656, 12.523391723632812, -0.99...   \n3794                 1.0  [29.778722763061523, 13.041099548339844, -0.55...   \n\n      cluster  num_correct_in_cluster  total_in_cluster  cluster_accuracy  \n0          -1                    1611              2085          0.772662  \n1          70                      17                17          1.000000  \n2          13                       5                 5          1.000000  \n3          59                      76                76          1.000000  \n4          41                     153               153          1.000000  \n...       ...                     ...               ...               ...  \n3790       -1                    1611              2085          0.772662  \n3791       69                      53                53          1.000000  \n3792        3                       5                 5          1.000000  \n3793       -1                    1611              2085          0.772662  \n3794       76                      71                72          0.986111  \n\n[3795 rows x 9 columns]",
      "text/html": "<div>\n<style scoped>\n    .dataframe tbody tr th:only-of-type {\n        vertical-align: middle;\n    }\n\n    .dataframe tbody tr th {\n        vertical-align: top;\n    }\n\n    .dataframe thead th {\n        text-align: right;\n    }\n</style>\n<table border=\"1\" class=\"dataframe\">\n  <thead>\n    <tr style=\"text-align: right;\">\n      <th></th>\n      <th>text</th>\n      <th>veracity</th>\n      <th>predict</th>\n      <th>predicted_veracity</th>\n      <th>embeddings</th>\n      <th>cluster</th>\n      <th>num_correct_in_cluster</th>\n      <th>total_in_cluster</th>\n      <th>cluster_accuracy</th>\n    </tr>\n  </thead>\n  <tbody>\n    <tr>\n      <th>0</th>\n      <td>Yet, the White House keeps pushing the Green-e...</td>\n      <td>1.0</td>\n      <td>True</td>\n      <td>4.0</td>\n      <td>[29.242650985717773, 12.672236442565918, -1.04...</td>\n      <td>-1</td>\n      <td>1611</td>\n      <td>2085</td>\n      <td>0.772662</td>\n    </tr>\n    <tr>\n      <th>1</th>\n      <td>In April, EPA finalized a rulemaking under the...</td>\n      <td>3.0</td>\n      <td>True</td>\n      <td>3.0</td>\n      <td>[29.288766860961914, 12.631510734558105, -1.20...</td>\n      <td>70</td>\n      <td>17</td>\n      <td>17</td>\n      <td>1.000000</td>\n    </tr>\n    <tr>\n      <th>2</th>\n      <td>Damage to coral reefs due to climate change is...</td>\n      <td>3.0</td>\n      <td>True</td>\n      <td>3.0</td>\n      <td>[29.78821563720703, 12.83484935760498, -0.8474...</td>\n      <td>13</td>\n      <td>5</td>\n      <td>5</td>\n      <td>1.000000</td>\n    </tr>\n    <tr>\n      <th>3</th>\n      <td>The latest NOAA CFS model is showing exactly t...</td>\n      <td>1.0</td>\n      <td>True</td>\n      <td>1.0</td>\n      <td>[29.869421005249023, 13.158324241638184, -0.71...</td>\n      <td>59</td>\n      <td>76</td>\n      <td>76</td>\n      <td>1.000000</td>\n    </tr>\n    <tr>\n      <th>4</th>\n      <td>It is instructive to note that over the past c...</td>\n      <td>1.0</td>\n      <td>True</td>\n      <td>1.0</td>\n      <td>[29.978166580200195, 13.277459144592285, -0.78...</td>\n      <td>41</td>\n      <td>153</td>\n      <td>153</td>\n      <td>1.000000</td>\n    </tr>\n    <tr>\n      <th>...</th>\n      <td>...</td>\n      <td>...</td>\n      <td>...</td>\n      <td>...</td>\n      <td>...</td>\n      <td>...</td>\n      <td>...</td>\n      <td>...</td>\n      <td>...</td>\n    </tr>\n    <tr>\n      <th>3790</th>\n      <td>“We are proud to join HUD and EPA to call for ...</td>\n      <td>3.0</td>\n      <td>False</td>\n      <td>3.0</td>\n      <td>[29.3698787689209, 12.605443954467773, -1.2006...</td>\n      <td>-1</td>\n      <td>1611</td>\n      <td>2085</td>\n      <td>0.772662</td>\n    </tr>\n    <tr>\n      <th>3791</th>\n      <td>“With nearly $1 billion in investment already ...</td>\n      <td>3.0</td>\n      <td>False</td>\n      <td>3.0</td>\n      <td>[29.368019104003906, 12.7279052734375, -1.2808...</td>\n      <td>69</td>\n      <td>53</td>\n      <td>53</td>\n      <td>1.000000</td>\n    </tr>\n    <tr>\n      <th>3792</th>\n      <td>“… 600 million Africans lack access to electri...</td>\n      <td>3.0</td>\n      <td>False</td>\n      <td>3.0</td>\n      <td>[29.522491455078125, 12.716552734375, -0.89415...</td>\n      <td>3</td>\n      <td>5</td>\n      <td>5</td>\n      <td>1.000000</td>\n    </tr>\n    <tr>\n      <th>3793</th>\n      <td>“… with 93% of that power being renewable.”</td>\n      <td>1.0</td>\n      <td>False</td>\n      <td>1.0</td>\n      <td>[29.226356506347656, 12.523391723632812, -0.99...</td>\n      <td>-1</td>\n      <td>1611</td>\n      <td>2085</td>\n      <td>0.772662</td>\n    </tr>\n    <tr>\n      <th>3794</th>\n      <td>”Global warming started to run out of steam ov...</td>\n      <td>1.0</td>\n      <td>False</td>\n      <td>1.0</td>\n      <td>[29.778722763061523, 13.041099548339844, -0.55...</td>\n      <td>76</td>\n      <td>71</td>\n      <td>72</td>\n      <td>0.986111</td>\n    </tr>\n  </tbody>\n</table>\n<p>3795 rows × 9 columns</p>\n</div>"
     },
     "execution_count": 18,
     "metadata": {},
     "output_type": "execute_result"
    }
   ],
   "source": [
    "# Show cluster_df with cluster != -1 \n",
    "cluster_df"
   ],
   "metadata": {
    "collapsed": false,
    "ExecuteTime": {
     "end_time": "2024-05-19T14:54:34.164267Z",
     "start_time": "2024-05-19T14:54:34.115596Z"
    }
   },
   "id": "fba8be1fa3bda21"
  },
  {
   "cell_type": "code",
   "execution_count": 10,
   "outputs": [
    {
     "data": {
      "text/plain": "                                                    Text  veracity  predict  \\\n54     Even climate scientists who believe that man i...       1.0     True   \n239    in a time when CO2 emissions were rising stron...       1.0     True   \n248    We know this because observations over the las...       1.0     True   \n271    The climate alarmists, says Carlin, have now b...       1.0     True   \n286    However, proof of global warming is not proof ...       1.0     True   \n...                                                  ...       ...      ...   \n17429  The WHO conservatively projects 250 000 additi...       3.0    False   \n18408  The public does not seem to be buying it eithe...       1.0    False   \n19026  These illnesses do not cost the U.S. health ca...       1.0    False   \n19238  This build-up of forest carbon stocks, in the ...       3.0    False   \n20225  You cant write a novel about a global disaster...       1.0    False   \n\n                                              embeddings  cluster  \\\n54     [16.75649642944336, 7.302152633666992, 8.66819...       78   \n239    [16.768678665161133, 7.143996238708496, 8.9121...       15   \n248    [16.84231948852539, 7.284847259521484, 8.87673...      153   \n271    [16.71180534362793, 7.290363788604736, 8.84081...       15   \n286    [16.63208770751953, 7.000495910644531, 9.13333...      142   \n...                                                  ...      ...   \n17429  [15.916265487670898, 7.806142330169678, 9.0867...      109   \n18408  [16.686992645263672, 7.437294960021973, 8.3894...      199   \n19026  [15.955400466918945, 7.791223526000977, 9.0949...      109   \n19238  [14.952432632446289, 7.287282466888428, 10.111...       35   \n20225  [15.948162078857422, 7.723169803619385, 9.0304...      104   \n\n       predicted_veracity  num_correct_in_cluster  total_in_cluster  \\\n54                    3.0                      12                28   \n239                   3.0                      12                29   \n248                   3.0                      12                21   \n271                   3.0                      12                29   \n286                   3.0                      11                19   \n...                   ...                     ...               ...   \n17429                 3.0                      10                18   \n18408                 1.0                      19                36   \n19026                 1.0                      10                18   \n19238                 3.0                       9                18   \n20225                 1.0                      10                18   \n\n       cluster_accuracy Synthetic  \n54             0.428571     False  \n239            0.413793     False  \n248            0.571429     False  \n271            0.413793     False  \n286            0.578947     False  \n...                 ...       ...  \n17429          0.555556     False  \n18408          0.527778     False  \n19026          0.555556      True  \n19238          0.500000      True  \n20225          0.555556     False  \n\n[284 rows x 10 columns]",
      "text/html": "<div>\n<style scoped>\n    .dataframe tbody tr th:only-of-type {\n        vertical-align: middle;\n    }\n\n    .dataframe tbody tr th {\n        vertical-align: top;\n    }\n\n    .dataframe thead th {\n        text-align: right;\n    }\n</style>\n<table border=\"1\" class=\"dataframe\">\n  <thead>\n    <tr style=\"text-align: right;\">\n      <th></th>\n      <th>Text</th>\n      <th>veracity</th>\n      <th>predict</th>\n      <th>embeddings</th>\n      <th>cluster</th>\n      <th>predicted_veracity</th>\n      <th>num_correct_in_cluster</th>\n      <th>total_in_cluster</th>\n      <th>cluster_accuracy</th>\n      <th>Synthetic</th>\n    </tr>\n  </thead>\n  <tbody>\n    <tr>\n      <th>54</th>\n      <td>Even climate scientists who believe that man i...</td>\n      <td>1.0</td>\n      <td>True</td>\n      <td>[16.75649642944336, 7.302152633666992, 8.66819...</td>\n      <td>78</td>\n      <td>3.0</td>\n      <td>12</td>\n      <td>28</td>\n      <td>0.428571</td>\n      <td>False</td>\n    </tr>\n    <tr>\n      <th>239</th>\n      <td>in a time when CO2 emissions were rising stron...</td>\n      <td>1.0</td>\n      <td>True</td>\n      <td>[16.768678665161133, 7.143996238708496, 8.9121...</td>\n      <td>15</td>\n      <td>3.0</td>\n      <td>12</td>\n      <td>29</td>\n      <td>0.413793</td>\n      <td>False</td>\n    </tr>\n    <tr>\n      <th>248</th>\n      <td>We know this because observations over the las...</td>\n      <td>1.0</td>\n      <td>True</td>\n      <td>[16.84231948852539, 7.284847259521484, 8.87673...</td>\n      <td>153</td>\n      <td>3.0</td>\n      <td>12</td>\n      <td>21</td>\n      <td>0.571429</td>\n      <td>False</td>\n    </tr>\n    <tr>\n      <th>271</th>\n      <td>The climate alarmists, says Carlin, have now b...</td>\n      <td>1.0</td>\n      <td>True</td>\n      <td>[16.71180534362793, 7.290363788604736, 8.84081...</td>\n      <td>15</td>\n      <td>3.0</td>\n      <td>12</td>\n      <td>29</td>\n      <td>0.413793</td>\n      <td>False</td>\n    </tr>\n    <tr>\n      <th>286</th>\n      <td>However, proof of global warming is not proof ...</td>\n      <td>1.0</td>\n      <td>True</td>\n      <td>[16.63208770751953, 7.000495910644531, 9.13333...</td>\n      <td>142</td>\n      <td>3.0</td>\n      <td>11</td>\n      <td>19</td>\n      <td>0.578947</td>\n      <td>False</td>\n    </tr>\n    <tr>\n      <th>...</th>\n      <td>...</td>\n      <td>...</td>\n      <td>...</td>\n      <td>...</td>\n      <td>...</td>\n      <td>...</td>\n      <td>...</td>\n      <td>...</td>\n      <td>...</td>\n      <td>...</td>\n    </tr>\n    <tr>\n      <th>17429</th>\n      <td>The WHO conservatively projects 250 000 additi...</td>\n      <td>3.0</td>\n      <td>False</td>\n      <td>[15.916265487670898, 7.806142330169678, 9.0867...</td>\n      <td>109</td>\n      <td>3.0</td>\n      <td>10</td>\n      <td>18</td>\n      <td>0.555556</td>\n      <td>False</td>\n    </tr>\n    <tr>\n      <th>18408</th>\n      <td>The public does not seem to be buying it eithe...</td>\n      <td>1.0</td>\n      <td>False</td>\n      <td>[16.686992645263672, 7.437294960021973, 8.3894...</td>\n      <td>199</td>\n      <td>1.0</td>\n      <td>19</td>\n      <td>36</td>\n      <td>0.527778</td>\n      <td>False</td>\n    </tr>\n    <tr>\n      <th>19026</th>\n      <td>These illnesses do not cost the U.S. health ca...</td>\n      <td>1.0</td>\n      <td>False</td>\n      <td>[15.955400466918945, 7.791223526000977, 9.0949...</td>\n      <td>109</td>\n      <td>1.0</td>\n      <td>10</td>\n      <td>18</td>\n      <td>0.555556</td>\n      <td>True</td>\n    </tr>\n    <tr>\n      <th>19238</th>\n      <td>This build-up of forest carbon stocks, in the ...</td>\n      <td>3.0</td>\n      <td>False</td>\n      <td>[14.952432632446289, 7.287282466888428, 10.111...</td>\n      <td>35</td>\n      <td>3.0</td>\n      <td>9</td>\n      <td>18</td>\n      <td>0.500000</td>\n      <td>True</td>\n    </tr>\n    <tr>\n      <th>20225</th>\n      <td>You cant write a novel about a global disaster...</td>\n      <td>1.0</td>\n      <td>False</td>\n      <td>[15.948162078857422, 7.723169803619385, 9.0304...</td>\n      <td>104</td>\n      <td>1.0</td>\n      <td>10</td>\n      <td>18</td>\n      <td>0.555556</td>\n      <td>False</td>\n    </tr>\n  </tbody>\n</table>\n<p>284 rows × 10 columns</p>\n</div>"
     },
     "execution_count": 10,
     "metadata": {},
     "output_type": "execute_result"
    }
   ],
   "source": [
    "# Filter out 4 from cluster_df\n",
    "cluster_df = cluster_df[cluster_df['predicted_veracity'] != 4.0]\n",
    "cluster_df = cluster_df[cluster_df['predicted_veracity'] != 5.0]\n",
    "cluster_df = cluster_df[cluster_df['cluster'] != -1]\n",
    "# Filter cluster_df to be the first row per cluster\n",
    "clusters_unique = cluster_df.groupby('cluster').first().reset_index()\n",
    "# Calculate the cutoff for the top 50% of clusters by count\n",
    "cutoff = clusters_unique['total_in_cluster'].quantile(0.5)\n",
    "# Filter the clusters that are in the top 50%\n",
    "top_clusters = clusters_unique[clusters_unique['total_in_cluster'] > cutoff]\n",
    "# Get the top 10 lowest 'cluster_accuracy' clusters\n",
    "top_clusters = top_clusters.nsmallest(10, 'cluster_accuracy', keep='all')\n",
    "# Filter cluster_df to be the top clusters\n",
    "top_cluster_df = cluster_df[cluster_df['cluster'].isin(top_clusters['cluster'])]\n",
    "top_cluster_df"
   ],
   "metadata": {
    "collapsed": false,
    "ExecuteTime": {
     "end_time": "2024-05-07T14:37:46.567395Z",
     "start_time": "2024-05-07T14:37:46.475196Z"
    }
   },
   "id": "895c3aaedb312ec"
  },
  {
   "cell_type": "code",
   "execution_count": 11,
   "outputs": [
    {
     "data": {
      "text/plain": "17.0"
     },
     "execution_count": 11,
     "metadata": {},
     "output_type": "execute_result"
    }
   ],
   "source": [
    "cutoff"
   ],
   "metadata": {
    "collapsed": false,
    "ExecuteTime": {
     "end_time": "2024-05-07T14:37:46.612314Z",
     "start_time": "2024-05-07T14:37:46.550505Z"
    }
   },
   "id": "3ee364b6222c6ccb"
  },
  {
   "cell_type": "code",
   "execution_count": 42,
   "outputs": [
    {
     "data": {
      "text/plain": "10"
     },
     "execution_count": 42,
     "metadata": {},
     "output_type": "execute_result"
    }
   ],
   "source": [
    "# Count number of cluster in top_cluster_df\n",
    "top_cluster_df['cluster'].nunique()"
   ],
   "metadata": {
    "collapsed": false,
    "ExecuteTime": {
     "end_time": "2024-05-02T19:56:10.502602Z",
     "start_time": "2024-05-02T19:56:10.384950Z"
    }
   },
   "id": "f8bdbcbc6f5649aa"
  },
  {
   "cell_type": "code",
   "execution_count": 57,
   "outputs": [
    {
     "name": "stdout",
     "output_type": "stream",
     "text": [
      "Fitting 2 folds for each of 1 candidates, totalling 2 fits\n",
      "Number of clusters: 2\n",
      "Number of clusters: 2\n",
      "Number of clusters: 2\n"
     ]
    },
    {
     "data": {
      "text/plain": "GridSearchCV(cv=2,\n             estimator=<ClusterAndPredict.ClusterAndPredict.ClusterAndPredict object at 0x37b789350>,\n             param_grid={'claim_column_name': ['Text'], 'k': [15],\n                         'min_cluster_size': [2], 'min_dist': [0],\n                         'min_samples': [1], 'n_neighbors': [439],\n                         'no_umap': [False], 'num_components': [100],\n                         'random_seed': [True],\n                         'supervised_label_column_name': ['Numerical Rating'],\n                         'supervised_umap': [True], 'use_weightage': [True],\n                         'veracity_column_name': ['Numerical Rating']},\n             verbose=1)",
      "text/html": "<style>#sk-container-id-5 {\n  /* Definition of color scheme common for light and dark mode */\n  --sklearn-color-text: black;\n  --sklearn-color-line: gray;\n  /* Definition of color scheme for unfitted estimators */\n  --sklearn-color-unfitted-level-0: #fff5e6;\n  --sklearn-color-unfitted-level-1: #f6e4d2;\n  --sklearn-color-unfitted-level-2: #ffe0b3;\n  --sklearn-color-unfitted-level-3: chocolate;\n  /* Definition of color scheme for fitted estimators */\n  --sklearn-color-fitted-level-0: #f0f8ff;\n  --sklearn-color-fitted-level-1: #d4ebff;\n  --sklearn-color-fitted-level-2: #b3dbfd;\n  --sklearn-color-fitted-level-3: cornflowerblue;\n\n  /* Specific color for light theme */\n  --sklearn-color-text-on-default-background: var(--sg-text-color, var(--theme-code-foreground, var(--jp-content-font-color1, black)));\n  --sklearn-color-background: var(--sg-background-color, var(--theme-background, var(--jp-layout-color0, white)));\n  --sklearn-color-border-box: var(--sg-text-color, var(--theme-code-foreground, var(--jp-content-font-color1, black)));\n  --sklearn-color-icon: #696969;\n\n  @media (prefers-color-scheme: dark) {\n    /* Redefinition of color scheme for dark theme */\n    --sklearn-color-text-on-default-background: var(--sg-text-color, var(--theme-code-foreground, var(--jp-content-font-color1, white)));\n    --sklearn-color-background: var(--sg-background-color, var(--theme-background, var(--jp-layout-color0, #111)));\n    --sklearn-color-border-box: var(--sg-text-color, var(--theme-code-foreground, var(--jp-content-font-color1, white)));\n    --sklearn-color-icon: #878787;\n  }\n}\n\n#sk-container-id-5 {\n  color: var(--sklearn-color-text);\n}\n\n#sk-container-id-5 pre {\n  padding: 0;\n}\n\n#sk-container-id-5 input.sk-hidden--visually {\n  border: 0;\n  clip: rect(1px 1px 1px 1px);\n  clip: rect(1px, 1px, 1px, 1px);\n  height: 1px;\n  margin: -1px;\n  overflow: hidden;\n  padding: 0;\n  position: absolute;\n  width: 1px;\n}\n\n#sk-container-id-5 div.sk-dashed-wrapped {\n  border: 1px dashed var(--sklearn-color-line);\n  margin: 0 0.4em 0.5em 0.4em;\n  box-sizing: border-box;\n  padding-bottom: 0.4em;\n  background-color: var(--sklearn-color-background);\n}\n\n#sk-container-id-5 div.sk-container {\n  /* jupyter's `normalize.less` sets `[hidden] { display: none; }`\n     but bootstrap.min.css set `[hidden] { display: none !important; }`\n     so we also need the `!important` here to be able to override the\n     default hidden behavior on the sphinx rendered scikit-learn.org.\n     See: https://github.com/scikit-learn/scikit-learn/issues/21755 */\n  display: inline-block !important;\n  position: relative;\n}\n\n#sk-container-id-5 div.sk-text-repr-fallback {\n  display: none;\n}\n\ndiv.sk-parallel-item,\ndiv.sk-serial,\ndiv.sk-item {\n  /* draw centered vertical line to link estimators */\n  background-image: linear-gradient(var(--sklearn-color-text-on-default-background), var(--sklearn-color-text-on-default-background));\n  background-size: 2px 100%;\n  background-repeat: no-repeat;\n  background-position: center center;\n}\n\n/* Parallel-specific style estimator block */\n\n#sk-container-id-5 div.sk-parallel-item::after {\n  content: \"\";\n  width: 100%;\n  border-bottom: 2px solid var(--sklearn-color-text-on-default-background);\n  flex-grow: 1;\n}\n\n#sk-container-id-5 div.sk-parallel {\n  display: flex;\n  align-items: stretch;\n  justify-content: center;\n  background-color: var(--sklearn-color-background);\n  position: relative;\n}\n\n#sk-container-id-5 div.sk-parallel-item {\n  display: flex;\n  flex-direction: column;\n}\n\n#sk-container-id-5 div.sk-parallel-item:first-child::after {\n  align-self: flex-end;\n  width: 50%;\n}\n\n#sk-container-id-5 div.sk-parallel-item:last-child::after {\n  align-self: flex-start;\n  width: 50%;\n}\n\n#sk-container-id-5 div.sk-parallel-item:only-child::after {\n  width: 0;\n}\n\n/* Serial-specific style estimator block */\n\n#sk-container-id-5 div.sk-serial {\n  display: flex;\n  flex-direction: column;\n  align-items: center;\n  background-color: var(--sklearn-color-background);\n  padding-right: 1em;\n  padding-left: 1em;\n}\n\n\n/* Toggleable style: style used for estimator/Pipeline/ColumnTransformer box that is\nclickable and can be expanded/collapsed.\n- Pipeline and ColumnTransformer use this feature and define the default style\n- Estimators will overwrite some part of the style using the `sk-estimator` class\n*/\n\n/* Pipeline and ColumnTransformer style (default) */\n\n#sk-container-id-5 div.sk-toggleable {\n  /* Default theme specific background. It is overwritten whether we have a\n  specific estimator or a Pipeline/ColumnTransformer */\n  background-color: var(--sklearn-color-background);\n}\n\n/* Toggleable label */\n#sk-container-id-5 label.sk-toggleable__label {\n  cursor: pointer;\n  display: block;\n  width: 100%;\n  margin-bottom: 0;\n  padding: 0.5em;\n  box-sizing: border-box;\n  text-align: center;\n}\n\n#sk-container-id-5 label.sk-toggleable__label-arrow:before {\n  /* Arrow on the left of the label */\n  content: \"▸\";\n  float: left;\n  margin-right: 0.25em;\n  color: var(--sklearn-color-icon);\n}\n\n#sk-container-id-5 label.sk-toggleable__label-arrow:hover:before {\n  color: var(--sklearn-color-text);\n}\n\n/* Toggleable content - dropdown */\n\n#sk-container-id-5 div.sk-toggleable__content {\n  max-height: 0;\n  max-width: 0;\n  overflow: hidden;\n  text-align: left;\n  /* unfitted */\n  background-color: var(--sklearn-color-unfitted-level-0);\n}\n\n#sk-container-id-5 div.sk-toggleable__content.fitted {\n  /* fitted */\n  background-color: var(--sklearn-color-fitted-level-0);\n}\n\n#sk-container-id-5 div.sk-toggleable__content pre {\n  margin: 0.2em;\n  border-radius: 0.25em;\n  color: var(--sklearn-color-text);\n  /* unfitted */\n  background-color: var(--sklearn-color-unfitted-level-0);\n}\n\n#sk-container-id-5 div.sk-toggleable__content.fitted pre {\n  /* unfitted */\n  background-color: var(--sklearn-color-fitted-level-0);\n}\n\n#sk-container-id-5 input.sk-toggleable__control:checked~div.sk-toggleable__content {\n  /* Expand drop-down */\n  max-height: 200px;\n  max-width: 100%;\n  overflow: auto;\n}\n\n#sk-container-id-5 input.sk-toggleable__control:checked~label.sk-toggleable__label-arrow:before {\n  content: \"▾\";\n}\n\n/* Pipeline/ColumnTransformer-specific style */\n\n#sk-container-id-5 div.sk-label input.sk-toggleable__control:checked~label.sk-toggleable__label {\n  color: var(--sklearn-color-text);\n  background-color: var(--sklearn-color-unfitted-level-2);\n}\n\n#sk-container-id-5 div.sk-label.fitted input.sk-toggleable__control:checked~label.sk-toggleable__label {\n  background-color: var(--sklearn-color-fitted-level-2);\n}\n\n/* Estimator-specific style */\n\n/* Colorize estimator box */\n#sk-container-id-5 div.sk-estimator input.sk-toggleable__control:checked~label.sk-toggleable__label {\n  /* unfitted */\n  background-color: var(--sklearn-color-unfitted-level-2);\n}\n\n#sk-container-id-5 div.sk-estimator.fitted input.sk-toggleable__control:checked~label.sk-toggleable__label {\n  /* fitted */\n  background-color: var(--sklearn-color-fitted-level-2);\n}\n\n#sk-container-id-5 div.sk-label label.sk-toggleable__label,\n#sk-container-id-5 div.sk-label label {\n  /* The background is the default theme color */\n  color: var(--sklearn-color-text-on-default-background);\n}\n\n/* On hover, darken the color of the background */\n#sk-container-id-5 div.sk-label:hover label.sk-toggleable__label {\n  color: var(--sklearn-color-text);\n  background-color: var(--sklearn-color-unfitted-level-2);\n}\n\n/* Label box, darken color on hover, fitted */\n#sk-container-id-5 div.sk-label.fitted:hover label.sk-toggleable__label.fitted {\n  color: var(--sklearn-color-text);\n  background-color: var(--sklearn-color-fitted-level-2);\n}\n\n/* Estimator label */\n\n#sk-container-id-5 div.sk-label label {\n  font-family: monospace;\n  font-weight: bold;\n  display: inline-block;\n  line-height: 1.2em;\n}\n\n#sk-container-id-5 div.sk-label-container {\n  text-align: center;\n}\n\n/* Estimator-specific */\n#sk-container-id-5 div.sk-estimator {\n  font-family: monospace;\n  border: 1px dotted var(--sklearn-color-border-box);\n  border-radius: 0.25em;\n  box-sizing: border-box;\n  margin-bottom: 0.5em;\n  /* unfitted */\n  background-color: var(--sklearn-color-unfitted-level-0);\n}\n\n#sk-container-id-5 div.sk-estimator.fitted {\n  /* fitted */\n  background-color: var(--sklearn-color-fitted-level-0);\n}\n\n/* on hover */\n#sk-container-id-5 div.sk-estimator:hover {\n  /* unfitted */\n  background-color: var(--sklearn-color-unfitted-level-2);\n}\n\n#sk-container-id-5 div.sk-estimator.fitted:hover {\n  /* fitted */\n  background-color: var(--sklearn-color-fitted-level-2);\n}\n\n/* Specification for estimator info (e.g. \"i\" and \"?\") */\n\n/* Common style for \"i\" and \"?\" */\n\n.sk-estimator-doc-link,\na:link.sk-estimator-doc-link,\na:visited.sk-estimator-doc-link {\n  float: right;\n  font-size: smaller;\n  line-height: 1em;\n  font-family: monospace;\n  background-color: var(--sklearn-color-background);\n  border-radius: 1em;\n  height: 1em;\n  width: 1em;\n  text-decoration: none !important;\n  margin-left: 1ex;\n  /* unfitted */\n  border: var(--sklearn-color-unfitted-level-1) 1pt solid;\n  color: var(--sklearn-color-unfitted-level-1);\n}\n\n.sk-estimator-doc-link.fitted,\na:link.sk-estimator-doc-link.fitted,\na:visited.sk-estimator-doc-link.fitted {\n  /* fitted */\n  border: var(--sklearn-color-fitted-level-1) 1pt solid;\n  color: var(--sklearn-color-fitted-level-1);\n}\n\n/* On hover */\ndiv.sk-estimator:hover .sk-estimator-doc-link:hover,\n.sk-estimator-doc-link:hover,\ndiv.sk-label-container:hover .sk-estimator-doc-link:hover,\n.sk-estimator-doc-link:hover {\n  /* unfitted */\n  background-color: var(--sklearn-color-unfitted-level-3);\n  color: var(--sklearn-color-background);\n  text-decoration: none;\n}\n\ndiv.sk-estimator.fitted:hover .sk-estimator-doc-link.fitted:hover,\n.sk-estimator-doc-link.fitted:hover,\ndiv.sk-label-container:hover .sk-estimator-doc-link.fitted:hover,\n.sk-estimator-doc-link.fitted:hover {\n  /* fitted */\n  background-color: var(--sklearn-color-fitted-level-3);\n  color: var(--sklearn-color-background);\n  text-decoration: none;\n}\n\n/* Span, style for the box shown on hovering the info icon */\n.sk-estimator-doc-link span {\n  display: none;\n  z-index: 9999;\n  position: relative;\n  font-weight: normal;\n  right: .2ex;\n  padding: .5ex;\n  margin: .5ex;\n  width: min-content;\n  min-width: 20ex;\n  max-width: 50ex;\n  color: var(--sklearn-color-text);\n  box-shadow: 2pt 2pt 4pt #999;\n  /* unfitted */\n  background: var(--sklearn-color-unfitted-level-0);\n  border: .5pt solid var(--sklearn-color-unfitted-level-3);\n}\n\n.sk-estimator-doc-link.fitted span {\n  /* fitted */\n  background: var(--sklearn-color-fitted-level-0);\n  border: var(--sklearn-color-fitted-level-3);\n}\n\n.sk-estimator-doc-link:hover span {\n  display: block;\n}\n\n/* \"?\"-specific style due to the `<a>` HTML tag */\n\n#sk-container-id-5 a.estimator_doc_link {\n  float: right;\n  font-size: 1rem;\n  line-height: 1em;\n  font-family: monospace;\n  background-color: var(--sklearn-color-background);\n  border-radius: 1rem;\n  height: 1rem;\n  width: 1rem;\n  text-decoration: none;\n  /* unfitted */\n  color: var(--sklearn-color-unfitted-level-1);\n  border: var(--sklearn-color-unfitted-level-1) 1pt solid;\n}\n\n#sk-container-id-5 a.estimator_doc_link.fitted {\n  /* fitted */\n  border: var(--sklearn-color-fitted-level-1) 1pt solid;\n  color: var(--sklearn-color-fitted-level-1);\n}\n\n/* On hover */\n#sk-container-id-5 a.estimator_doc_link:hover {\n  /* unfitted */\n  background-color: var(--sklearn-color-unfitted-level-3);\n  color: var(--sklearn-color-background);\n  text-decoration: none;\n}\n\n#sk-container-id-5 a.estimator_doc_link.fitted:hover {\n  /* fitted */\n  background-color: var(--sklearn-color-fitted-level-3);\n}\n</style><div id=\"sk-container-id-5\" class=\"sk-top-container\"><div class=\"sk-text-repr-fallback\"><pre>GridSearchCV(cv=2,\n             estimator=&lt;ClusterAndPredict.ClusterAndPredict.ClusterAndPredict object at 0x37b789350&gt;,\n             param_grid={&#x27;claim_column_name&#x27;: [&#x27;Text&#x27;], &#x27;k&#x27;: [15],\n                         &#x27;min_cluster_size&#x27;: [2], &#x27;min_dist&#x27;: [0],\n                         &#x27;min_samples&#x27;: [1], &#x27;n_neighbors&#x27;: [439],\n                         &#x27;no_umap&#x27;: [False], &#x27;num_components&#x27;: [100],\n                         &#x27;random_seed&#x27;: [True],\n                         &#x27;supervised_label_column_name&#x27;: [&#x27;Numerical Rating&#x27;],\n                         &#x27;supervised_umap&#x27;: [True], &#x27;use_weightage&#x27;: [True],\n                         &#x27;veracity_column_name&#x27;: [&#x27;Numerical Rating&#x27;]},\n             verbose=1)</pre><b>In a Jupyter environment, please rerun this cell to show the HTML representation or trust the notebook. <br />On GitHub, the HTML representation is unable to render, please try loading this page with nbviewer.org.</b></div><div class=\"sk-container\" hidden><div class=\"sk-item sk-dashed-wrapped\"><div class=\"sk-label-container\"><div class=\"sk-label fitted sk-toggleable\"><input class=\"sk-toggleable__control sk-hidden--visually\" id=\"sk-estimator-id-13\" type=\"checkbox\" ><label for=\"sk-estimator-id-13\" class=\"sk-toggleable__label fitted sk-toggleable__label-arrow fitted\">&nbsp;&nbsp;GridSearchCV<a class=\"sk-estimator-doc-link fitted\" rel=\"noreferrer\" target=\"_blank\" href=\"https://scikit-learn.org/1.4/modules/generated/sklearn.model_selection.GridSearchCV.html\">?<span>Documentation for GridSearchCV</span></a><span class=\"sk-estimator-doc-link fitted\">i<span>Fitted</span></span></label><div class=\"sk-toggleable__content fitted\"><pre>GridSearchCV(cv=2,\n             estimator=&lt;ClusterAndPredict.ClusterAndPredict.ClusterAndPredict object at 0x37b789350&gt;,\n             param_grid={&#x27;claim_column_name&#x27;: [&#x27;Text&#x27;], &#x27;k&#x27;: [15],\n                         &#x27;min_cluster_size&#x27;: [2], &#x27;min_dist&#x27;: [0],\n                         &#x27;min_samples&#x27;: [1], &#x27;n_neighbors&#x27;: [439],\n                         &#x27;no_umap&#x27;: [False], &#x27;num_components&#x27;: [100],\n                         &#x27;random_seed&#x27;: [True],\n                         &#x27;supervised_label_column_name&#x27;: [&#x27;Numerical Rating&#x27;],\n                         &#x27;supervised_umap&#x27;: [True], &#x27;use_weightage&#x27;: [True],\n                         &#x27;veracity_column_name&#x27;: [&#x27;Numerical Rating&#x27;]},\n             verbose=1)</pre></div> </div></div><div class=\"sk-parallel\"><div class=\"sk-parallel-item\"><div class=\"sk-item\"><div class=\"sk-label-container\"><div class=\"sk-label fitted sk-toggleable\"><input class=\"sk-toggleable__control sk-hidden--visually\" id=\"sk-estimator-id-14\" type=\"checkbox\" ><label for=\"sk-estimator-id-14\" class=\"sk-toggleable__label fitted sk-toggleable__label-arrow fitted\">estimator: ClusterAndPredict</label><div class=\"sk-toggleable__content fitted\"><pre>&lt;ClusterAndPredict.ClusterAndPredict.ClusterAndPredict object at 0x37b789350&gt;</pre></div> </div></div><div class=\"sk-serial\"><div class=\"sk-item\"><div class=\"sk-estimator fitted sk-toggleable\"><input class=\"sk-toggleable__control sk-hidden--visually\" id=\"sk-estimator-id-15\" type=\"checkbox\" ><label for=\"sk-estimator-id-15\" class=\"sk-toggleable__label fitted sk-toggleable__label-arrow fitted\">ClusterAndPredict</label><div class=\"sk-toggleable__content fitted\"><pre>&lt;ClusterAndPredict.ClusterAndPredict.ClusterAndPredict object at 0x37b789350&gt;</pre></div> </div></div></div></div></div></div></div></div></div>"
     },
     "execution_count": 57,
     "metadata": {},
     "output_type": "execute_result"
    }
   ],
   "source": [
    "cluster_predict_object = ClusterAndPredict(train_df=train_df)\n",
    "# Parallelism with jobs doesnt work\n",
    "clf = GridSearchCV(cluster_predict_object, parameters, verbose=1, cv=2, refit=True)\n",
    "clf.fit(test_df['Text'].tolist(), test_df['Numerical Rating'].tolist())"
   ],
   "metadata": {
    "collapsed": false,
    "ExecuteTime": {
     "end_time": "2024-04-04T22:04:51.112508Z",
     "start_time": "2024-04-04T22:03:49.000076Z"
    }
   },
   "id": "bc16603aecb160cc"
  },
  {
   "cell_type": "code",
   "execution_count": 59,
   "outputs": [
    {
     "name": "stdout",
     "output_type": "stream",
     "text": [
      "{'claim_column_name': 'Text', 'k': 15, 'min_cluster_size': 2, 'min_dist': 0, 'min_samples': 1, 'n_neighbors': 439, 'no_umap': False, 'num_components': 100, 'random_seed': True, 'supervised_label_column_name': 'Numerical Rating', 'supervised_umap': True, 'use_weightage': True, 'veracity_column_name': 'Numerical Rating'}\n",
      "0.4943181818181818\n",
      "[1, 1, 1, 1, 1, 1, 1, 1, 1, 1, 1, 1, 1, 1, 1, 1, 1, 1, 1, 1, 1, 1, 1, 1, 1, 1, 1, 1, 1, 1, 1, 1, 1, 1, 1, 1, 1, 1, 1, 1, 1, 1, 1, 1, 3, 3, 3, 3, 3, 3, 3, 3, 3, 3, 3, 3, 3, 3, 3, 3, 3, 3, 3, 3, 3, 3, 3, 3, 3, 3, 3, 3, 3, 3, 3, 3, 3, 3, 3, 3, 3, 3, 3, 3, 3, 3, 3, 3]\n",
      "[1, 1, 1, 1, 1, 1, 1, 1, 1, 1, 1, 1, 1, 1, 1, 1, 1, 1, 1, 1, 1, 1, 1, 1, 1, 1, 1, 1, 1, 1, 1, 1, 1, 1, 1, 1, 1, 1, 1, 1, 1, 1, 1, 1, 3, 3, 3, 3, 3, 3, 3, 3, 3, 3, 3, 3, 3, 3, 3, 3, 3, 3, 3, 3, 3, 3, 3, 3, 3, 3, 3, 3, 3, 3, 4, 3, 3, 3, 3, 3, 3, 3, 3, 3, 3, 3, 3, 3]\n",
      "Accuracy: 0.9886363636363636\n",
      "Accuracy not including no clusters in test data: 1.0\n",
      "Percentage of no clusters in test data: 0.011363636363636364\n",
      "Percentage of no clusters in ground truth: 0.0\n",
      "Precision on veracity 3: 1.0\n",
      "Recall on veracity 3: 0.9772727272727273\n"
     ]
    }
   ],
   "source": [
    "# Print best parameters\n",
    "print(clf.best_params_)\n",
    "print(clf.best_score_)\n",
    "best_estimator: ClusterAndPredict = clf.best_estimator_\n",
    "best_estimator.score(test_df['Text'].tolist(), test_df['Numerical Rating'].tolist())\n",
    "best_estimator.print_all_performance_metrics()"
   ],
   "metadata": {
    "collapsed": false,
    "ExecuteTime": {
     "end_time": "2024-04-04T22:06:01.873273Z",
     "start_time": "2024-04-04T22:06:01.822662Z"
    }
   },
   "id": "33aebf6ce1d3c837"
  },
  {
   "cell_type": "code",
   "execution_count": 65,
   "outputs": [
    {
     "data": {
      "text/plain": "<Figure size 640x480 with 1 Axes>",
      "image/png": "[encoded data removed]"
     },
     "metadata": {},
     "output_type": "display_data"
    }
   ],
   "source": [
    "best_estimator.plot_confidence_histogram()"
   ],
   "metadata": {
    "collapsed": false,
    "ExecuteTime": {
     "end_time": "2024-03-29T17:32:08.692528Z",
     "start_time": "2024-03-29T17:32:07.378377Z"
    }
   },
   "id": "239200035203d4fd"
  },
  {
   "cell_type": "code",
   "execution_count": 35,
   "outputs": [],
   "source": [
    "results = clf.cv_results_"
   ],
   "metadata": {
    "collapsed": false,
    "ExecuteTime": {
     "end_time": "2024-03-16T03:26:36.272150Z",
     "start_time": "2024-03-16T03:26:36.046072Z"
    }
   },
   "id": "1a7068e5b96687f3"
  },
  {
   "cell_type": "code",
   "execution_count": 36,
   "outputs": [
    {
     "data": {
      "text/plain": "{'mean_fit_time': array([249.91539812, 219.16717911]),\n 'std_fit_time': array([28.91756701,  5.43024993]),\n 'mean_score_time': array([0.32185006, 0.16234255]),\n 'std_score_time': array([0.01697397, 0.10468745]),\n 'param_claim_column_name': masked_array(data=['Text', 'Text'],\n              mask=[False, False],\n        fill_value='?',\n             dtype=object),\n 'param_k': masked_array(data=[15, 15],\n              mask=[False, False],\n        fill_value='?',\n             dtype=object),\n 'param_min_cluster_size': masked_array(data=[5, 5],\n              mask=[False, False],\n        fill_value='?',\n             dtype=object),\n 'param_min_dist': masked_array(data=[0, 0],\n              mask=[False, False],\n        fill_value='?',\n             dtype=object),\n 'param_min_samples': masked_array(data=[1, 1],\n              mask=[False, False],\n        fill_value='?',\n             dtype=object),\n 'param_n_neighbors': masked_array(data=[348, 348],\n              mask=[False, False],\n        fill_value='?',\n             dtype=object),\n 'param_no_umap': masked_array(data=[False, False],\n              mask=[False, False],\n        fill_value='?',\n             dtype=object),\n 'param_num_components': masked_array(data=[100, 100],\n              mask=[False, False],\n        fill_value='?',\n             dtype=object),\n 'param_random_seed': masked_array(data=[False, False],\n              mask=[False, False],\n        fill_value='?',\n             dtype=object),\n 'param_supervised_label_column_name': masked_array(data=['Category', 'Category'],\n              mask=[False, False],\n        fill_value='?',\n             dtype=object),\n 'param_supervised_umap': masked_array(data=[True, False],\n              mask=[False, False],\n        fill_value='?',\n             dtype=object),\n 'param_veracity_column_name': masked_array(data=['Numerical Rating', 'Numerical Rating'],\n              mask=[False, False],\n        fill_value='?',\n             dtype=object),\n 'params': [{'claim_column_name': 'Text',\n   'k': 15,\n   'min_cluster_size': 5,\n   'min_dist': 0,\n   'min_samples': 1,\n   'n_neighbors': 348,\n   'no_umap': False,\n   'num_components': 100,\n   'random_seed': False,\n   'supervised_label_column_name': 'Category',\n   'supervised_umap': True,\n   'veracity_column_name': 'Numerical Rating'},\n  {'claim_column_name': 'Text',\n   'k': 15,\n   'min_cluster_size': 5,\n   'min_dist': 0,\n   'min_samples': 1,\n   'n_neighbors': 348,\n   'no_umap': False,\n   'num_components': 100,\n   'random_seed': False,\n   'supervised_label_column_name': 'Category',\n   'supervised_umap': False,\n   'veracity_column_name': 'Numerical Rating'}],\n 'split0_test_score': array([0.66666667, 0.66666667]),\n 'split1_test_score': array([0.875     , 0.86363636]),\n 'mean_test_score': array([0.77083333, 0.76515152]),\n 'std_test_score': array([0.10416667, 0.09848485]),\n 'rank_test_score': array([1, 2], dtype=int32)}"
     },
     "execution_count": 36,
     "metadata": {},
     "output_type": "execute_result"
    }
   ],
   "source": [
    "results"
   ],
   "metadata": {
    "collapsed": false,
    "ExecuteTime": {
     "end_time": "2024-03-16T03:26:36.328879Z",
     "start_time": "2024-03-16T03:26:36.276226Z"
    }
   },
   "id": "bfe931293ccc84"
  },
  {
   "cell_type": "markdown",
   "source": [],
   "metadata": {
    "collapsed": false
   },
   "id": "ad5e14ce4e170b79"
  },
  {
   "cell_type": "code",
   "execution_count": 29,
   "outputs": [
    {
     "name": "stderr",
     "output_type": "stream",
     "text": [
      "[nltk_data] Downloading package stopwords to\n",
      "[nltk_data]     /Users/vinayakkannan/nltk_data...\n",
      "[nltk_data]   Package stopwords is already up-to-date!\n"
     ]
    },
    {
     "name": "stdout",
     "output_type": "stream",
     "text": [
      "heat\n",
      "argument\n",
      "scientists\n",
      "grid\n",
      "corrupted\n",
      "daylight\n",
      "exaggerate\n",
      "meat\n",
      "agreement\n",
      "way\n",
      "passed\n",
      "called\n",
      "going\n",
      "threat\n",
      "acid\n",
      "denying\n",
      "hot\n",
      "denies\n",
      "arsonists\n",
      "took\n",
      "human\n",
      "hoax\n",
      "wildfires\n",
      "cycle\n",
      "reef\n",
      "biggest\n",
      "lockdowns\n",
      "activity\n",
      "faked\n",
      "warming\n",
      "manhattan\n",
      "arctic\n",
      "article\n",
      "happening\n",
      "lion\n",
      "socially\n",
      "epa\n",
      "greta\n",
      "lockdown\n",
      "field\n",
      "asymptomatic\n",
      "level\n",
      "shows\n",
      "sky\n",
      "video\n",
      "stress\n",
      "absorbed\n",
      "permafrost\n",
      "grow\n",
      "lyme\n",
      "workers\n",
      "geography\n",
      "impacts\n",
      "transportation\n",
      "fish\n",
      "strategies\n",
      "albert\n",
      "cnn\n",
      "map\n",
      "jets\n",
      "haarp\n",
      "animal\n",
      "aphelion\n",
      "april\n",
      "million\n",
      "period\n",
      "urban\n",
      "concentrations\n",
      "dec\n",
      "health\n",
      "biden\n",
      "gates\n",
      "goal\n",
      "households\n",
      "continue\n",
      "trudeau\n",
      "co\n",
      "co\n",
      "co\n",
      "kilt\n",
      "primary\n",
      "exposure\n",
      "chemtrails\n",
      "concedes\n",
      "created\n",
      "greta\n",
      "vowed\n",
      "scam\n",
      "increase\n",
      "hundreds\n",
      "affect\n",
      "moon\n",
      "influence\n",
      "yard\n",
      "coasts\n",
      "companies\n",
      "heat\n",
      "billion\n",
      "differences\n",
      "disha\n",
      "periods\n",
      "warmed\n",
      "solar\n",
      "warming\n",
      "flooding\n",
      "example\n",
      "water\n",
      "scientific\n",
      "severity\n",
      "deaths\n",
      "trump\n",
      "hurricane\n",
      "bus\n",
      "transportation\n",
      "band\n",
      "bridges\n",
      "land\n",
      "energy\n",
      "square\n",
      "tenths\n",
      "risen\n",
      "natural\n",
      "worth\n",
      "greta\n",
      "warms\n",
      "cash\n",
      "earlier\n",
      "dioxide\n",
      "cruz\n",
      "carolina\n",
      "economy\n",
      "southwest\n",
      "live\n",
      "income\n",
      "water\n",
      "risk\n",
      "assessment\n",
      "heat\n",
      "irrigation\n",
      "employs\n",
      "mask\n",
      "greenhouse\n",
      "reductions\n",
      "buildings\n",
      "ocean\n",
      "solar\n",
      "households\n",
      "republican\n",
      "occurs\n",
      "scam\n",
      "nasa\n",
      "government\n",
      "legislation\n",
      "addressing\n",
      "drought\n",
      "cooling\n",
      "glastonbury\n",
      "pope\n",
      "know\n",
      "died\n",
      "yields\n",
      "bark\n",
      "jet\n",
      "threats\n",
      "attitude\n",
      "carrying\n",
      "bought\n",
      "absurdity\n",
      "slaughter\n",
      "urine\n",
      "models\n",
      "believing\n",
      "level\n",
      "dead\n",
      "video\n",
      "video\n",
      "wef\n",
      "purchase\n",
      "came\n",
      "adjusting\n",
      "models\n",
      "january\n",
      "access\n"
     ]
    }
   ],
   "source": [
    "ground_truth_df, cluster_counts = best_estimator.report_ground_truth_data(True)"
   ],
   "metadata": {
    "collapsed": false,
    "ExecuteTime": {
     "end_time": "2024-03-22T14:51:45.925732Z",
     "start_time": "2024-03-22T14:49:02.253797Z"
    }
   },
   "id": "90c3b74e727dabd1"
  },
  {
   "cell_type": "code",
   "execution_count": 30,
   "outputs": [
    {
     "data": {
      "text/plain": "     cluster                                              claim  veracity  \\\n0         -1  \"...the earth moves closer to the sun every ye...       1.0   \n1         31  \"11 straight years of no major hurricanes stri...       1.0   \n2         86  \"30,000 scientists have come forward confirmin...       1.0   \n3         75  \"70 per cent of Australia's trade [is] now wit...       3.0   \n4          0       \"96 percent of US climate data is corrupted\"       1.0   \n..       ...                                                ...       ...   \n634       10  “The reality is more people are dying of bad c...       1.0   \n635      158  “We have been cooling down for the past 4000 y...       1.0   \n636       11  “… 600 million Africans lack access to electri...       3.0   \n637       75        “… with 93% of that power being renewable.”       1.0   \n638      161  ”Global warming started to run out of steam ov...       1.0   \n\n                                           tfidf_top_3  \\\n0                   heat, percent, epa, earth, infants   \n1            argument, bores, hole, straight, striking   \n2    scientists, signed, arguing, confirming, convi...   \n3            grid, electric, gigawatts, onto, operates   \n4                corrupted, data, percent, us, climate   \n..                                                 ...   \n634               died, dying, elizabeth, ii, policies   \n635                  biggest, years, since, drop, talk   \n636     access, africa, million, accommodate, advanced   \n637          grid, electric, gigawatts, onto, operates   \n638  january, adjustments, administrative, apparent...   \n\n                                         cluster_label  \n0    Climate change impacts on health, infants, and...  \n1    Impact of hurricane frequency on climate chang...  \n2    Claiming scientists argue man-made climate cha...  \n3    Electric grid transitions to renewable energy ...  \n4    \"High percentage of corrupted climate data in ...  \n..                                                 ...  \n634  Climate change impacts on death and Queen Eliz...  \n635  Earth cooling claims based on historical tempe...  \n636  Africa's challenges with access, millions of p...  \n637  Electric grid transitions to renewable energy ...  \n638  Administrative adjustments in temperature data...  \n\n[639 rows x 5 columns]",
      "text/html": "<div>\n<style scoped>\n    .dataframe tbody tr th:only-of-type {\n        vertical-align: middle;\n    }\n\n    .dataframe tbody tr th {\n        vertical-align: top;\n    }\n\n    .dataframe thead th {\n        text-align: right;\n    }\n</style>\n<table border=\"1\" class=\"dataframe\">\n  <thead>\n    <tr style=\"text-align: right;\">\n      <th></th>\n      <th>cluster</th>\n      <th>claim</th>\n      <th>veracity</th>\n      <th>tfidf_top_3</th>\n      <th>cluster_label</th>\n    </tr>\n  </thead>\n  <tbody>\n    <tr>\n      <th>0</th>\n      <td>-1</td>\n      <td>\"...the earth moves closer to the sun every ye...</td>\n      <td>1.0</td>\n      <td>heat, percent, epa, earth, infants</td>\n      <td>Climate change impacts on health, infants, and...</td>\n    </tr>\n    <tr>\n      <th>1</th>\n      <td>31</td>\n      <td>\"11 straight years of no major hurricanes stri...</td>\n      <td>1.0</td>\n      <td>argument, bores, hole, straight, striking</td>\n      <td>Impact of hurricane frequency on climate chang...</td>\n    </tr>\n    <tr>\n      <th>2</th>\n      <td>86</td>\n      <td>\"30,000 scientists have come forward confirmin...</td>\n      <td>1.0</td>\n      <td>scientists, signed, arguing, confirming, convi...</td>\n      <td>Claiming scientists argue man-made climate cha...</td>\n    </tr>\n    <tr>\n      <th>3</th>\n      <td>75</td>\n      <td>\"70 per cent of Australia's trade [is] now wit...</td>\n      <td>3.0</td>\n      <td>grid, electric, gigawatts, onto, operates</td>\n      <td>Electric grid transitions to renewable energy ...</td>\n    </tr>\n    <tr>\n      <th>4</th>\n      <td>0</td>\n      <td>\"96 percent of US climate data is corrupted\"</td>\n      <td>1.0</td>\n      <td>corrupted, data, percent, us, climate</td>\n      <td>\"High percentage of corrupted climate data in ...</td>\n    </tr>\n    <tr>\n      <th>...</th>\n      <td>...</td>\n      <td>...</td>\n      <td>...</td>\n      <td>...</td>\n      <td>...</td>\n    </tr>\n    <tr>\n      <th>634</th>\n      <td>10</td>\n      <td>“The reality is more people are dying of bad c...</td>\n      <td>1.0</td>\n      <td>died, dying, elizabeth, ii, policies</td>\n      <td>Climate change impacts on death and Queen Eliz...</td>\n    </tr>\n    <tr>\n      <th>635</th>\n      <td>158</td>\n      <td>“We have been cooling down for the past 4000 y...</td>\n      <td>1.0</td>\n      <td>biggest, years, since, drop, talk</td>\n      <td>Earth cooling claims based on historical tempe...</td>\n    </tr>\n    <tr>\n      <th>636</th>\n      <td>11</td>\n      <td>“… 600 million Africans lack access to electri...</td>\n      <td>3.0</td>\n      <td>access, africa, million, accommodate, advanced</td>\n      <td>Africa's challenges with access, millions of p...</td>\n    </tr>\n    <tr>\n      <th>637</th>\n      <td>75</td>\n      <td>“… with 93% of that power being renewable.”</td>\n      <td>1.0</td>\n      <td>grid, electric, gigawatts, onto, operates</td>\n      <td>Electric grid transitions to renewable energy ...</td>\n    </tr>\n    <tr>\n      <th>638</th>\n      <td>161</td>\n      <td>”Global warming started to run out of steam ov...</td>\n      <td>1.0</td>\n      <td>january, adjustments, administrative, apparent...</td>\n      <td>Administrative adjustments in temperature data...</td>\n    </tr>\n  </tbody>\n</table>\n<p>639 rows × 5 columns</p>\n</div>"
     },
     "execution_count": 30,
     "metadata": {},
     "output_type": "execute_result"
    }
   ],
   "source": [
    "ground_truth_df"
   ],
   "metadata": {
    "collapsed": false,
    "ExecuteTime": {
     "end_time": "2024-03-22T14:51:45.985303Z",
     "start_time": "2024-03-22T14:51:45.926642Z"
    }
   },
   "id": "d0ec00c0d369db1f"
  },
  {
   "cell_type": "code",
   "execution_count": 28,
   "outputs": [
    {
     "data": {
      "text/plain": "     cluster  count_false  count_true\n0         -1           41          46\n1         31            3           0\n2         86            3           0\n3         75            1           3\n4          0            3           0\n..       ...          ...         ...\n178       21            0           2\n179      105            2           0\n180      138            2           0\n181      161            2           0\n182       11            1           4\n\n[183 rows x 3 columns]",
      "text/html": "<div>\n<style scoped>\n    .dataframe tbody tr th:only-of-type {\n        vertical-align: middle;\n    }\n\n    .dataframe tbody tr th {\n        vertical-align: top;\n    }\n\n    .dataframe thead th {\n        text-align: right;\n    }\n</style>\n<table border=\"1\" class=\"dataframe\">\n  <thead>\n    <tr style=\"text-align: right;\">\n      <th></th>\n      <th>cluster</th>\n      <th>count_false</th>\n      <th>count_true</th>\n    </tr>\n  </thead>\n  <tbody>\n    <tr>\n      <th>0</th>\n      <td>-1</td>\n      <td>41</td>\n      <td>46</td>\n    </tr>\n    <tr>\n      <th>1</th>\n      <td>31</td>\n      <td>3</td>\n      <td>0</td>\n    </tr>\n    <tr>\n      <th>2</th>\n      <td>86</td>\n      <td>3</td>\n      <td>0</td>\n    </tr>\n    <tr>\n      <th>3</th>\n      <td>75</td>\n      <td>1</td>\n      <td>3</td>\n    </tr>\n    <tr>\n      <th>4</th>\n      <td>0</td>\n      <td>3</td>\n      <td>0</td>\n    </tr>\n    <tr>\n      <th>...</th>\n      <td>...</td>\n      <td>...</td>\n      <td>...</td>\n    </tr>\n    <tr>\n      <th>178</th>\n      <td>21</td>\n      <td>0</td>\n      <td>2</td>\n    </tr>\n    <tr>\n      <th>179</th>\n      <td>105</td>\n      <td>2</td>\n      <td>0</td>\n    </tr>\n    <tr>\n      <th>180</th>\n      <td>138</td>\n      <td>2</td>\n      <td>0</td>\n    </tr>\n    <tr>\n      <th>181</th>\n      <td>161</td>\n      <td>2</td>\n      <td>0</td>\n    </tr>\n    <tr>\n      <th>182</th>\n      <td>11</td>\n      <td>1</td>\n      <td>4</td>\n    </tr>\n  </tbody>\n</table>\n<p>183 rows × 3 columns</p>\n</div>"
     },
     "execution_count": 28,
     "metadata": {},
     "output_type": "execute_result"
    }
   ],
   "source": [
    "cluster_counts"
   ],
   "metadata": {
    "collapsed": false,
    "ExecuteTime": {
     "end_time": "2024-03-22T14:47:55.456011Z",
     "start_time": "2024-03-22T14:47:55.377825Z"
    }
   },
   "id": "198b60f38b4ed960"
  },
  {
   "cell_type": "code",
   "execution_count": 31,
   "outputs": [],
   "source": [
    "ground_truth_df\n",
    "ground_truth_df.to_csv(\"ground_truth_df.csv\")"
   ],
   "metadata": {
    "collapsed": false,
    "ExecuteTime": {
     "end_time": "2024-03-22T14:52:12.324498Z",
     "start_time": "2024-03-22T14:52:12.261537Z"
    }
   },
   "id": "f3e4f0b26516b3e"
  },
  {
   "cell_type": "code",
   "execution_count": 32,
   "outputs": [],
   "source": [
    "cluster_counts\n",
    "cluster_counts.to_csv(\"cluster_counts.csv\")"
   ],
   "metadata": {
    "collapsed": false,
    "ExecuteTime": {
     "end_time": "2024-03-22T14:52:12.703331Z",
     "start_time": "2024-03-22T14:52:12.673860Z"
    }
   },
   "id": "740eb553c80d1320"
  },
  {
   "cell_type": "code",
   "execution_count": 69,
   "outputs": [
    {
     "data": {
      "text/plain": "     cluster                                              claim  veracity  \\\n0          0  \"...the earth moves closer to the sun every ye...       1.0   \n1          0  \"30,000 scientists have come forward confirmin...       1.0   \n2          0       \"96 percent of US climate data is corrupted\"       1.0   \n3          0  \"Antarctica has had to update its flag\"due to ...       1.0   \n4          0  \"Biden's climate requirements\" will \"cut 90% o...       1.0   \n..       ...                                                ...       ...   \n506        0  “The amount of coral on the Great Barrier Reef...       1.0   \n507        5  “The clothing industry contributes up to 10% o...       3.0   \n508        0  “We have been cooling down for the past 4000 y...       1.0   \n509        5  “… 600 million Africans lack access to electri...       3.0   \n510        0  ”Global warming started to run out of steam ov...       1.0   \n\n                                    tfidf_top_3  \\\n0             co, change, global, said, climate   \n1             co, change, global, said, climate   \n2             co, change, global, said, climate   \n3             co, change, global, said, climate   \n4             co, change, global, said, climate   \n..                                          ...   \n506           co, change, global, said, climate   \n507  income, access, grid, households, electric   \n508           co, change, global, said, climate   \n509  income, access, grid, households, electric   \n510           co, change, global, said, climate   \n\n                                         cluster_label  \n0    Controversial claims on global climate change ...  \n1    Controversial claims on global climate change ...  \n2    Controversial claims on global climate change ...  \n3    Controversial claims on global climate change ...  \n4    Controversial claims on global climate change ...  \n..                                                 ...  \n506  Controversial claims on global climate change ...  \n507  Impact of income and access on household elect...  \n508  Controversial claims on global climate change ...  \n509  Impact of income and access on household elect...  \n510  Controversial claims on global climate change ...  \n\n[511 rows x 5 columns]",
      "text/html": "<div>\n<style scoped>\n    .dataframe tbody tr th:only-of-type {\n        vertical-align: middle;\n    }\n\n    .dataframe tbody tr th {\n        vertical-align: top;\n    }\n\n    .dataframe thead th {\n        text-align: right;\n    }\n</style>\n<table border=\"1\" class=\"dataframe\">\n  <thead>\n    <tr style=\"text-align: right;\">\n      <th></th>\n      <th>cluster</th>\n      <th>claim</th>\n      <th>veracity</th>\n      <th>tfidf_top_3</th>\n      <th>cluster_label</th>\n    </tr>\n  </thead>\n  <tbody>\n    <tr>\n      <th>0</th>\n      <td>0</td>\n      <td>\"...the earth moves closer to the sun every ye...</td>\n      <td>1.0</td>\n      <td>co, change, global, said, climate</td>\n      <td>Controversial claims on global climate change ...</td>\n    </tr>\n    <tr>\n      <th>1</th>\n      <td>0</td>\n      <td>\"30,000 scientists have come forward confirmin...</td>\n      <td>1.0</td>\n      <td>co, change, global, said, climate</td>\n      <td>Controversial claims on global climate change ...</td>\n    </tr>\n    <tr>\n      <th>2</th>\n      <td>0</td>\n      <td>\"96 percent of US climate data is corrupted\"</td>\n      <td>1.0</td>\n      <td>co, change, global, said, climate</td>\n      <td>Controversial claims on global climate change ...</td>\n    </tr>\n    <tr>\n      <th>3</th>\n      <td>0</td>\n      <td>\"Antarctica has had to update its flag\"due to ...</td>\n      <td>1.0</td>\n      <td>co, change, global, said, climate</td>\n      <td>Controversial claims on global climate change ...</td>\n    </tr>\n    <tr>\n      <th>4</th>\n      <td>0</td>\n      <td>\"Biden's climate requirements\" will \"cut 90% o...</td>\n      <td>1.0</td>\n      <td>co, change, global, said, climate</td>\n      <td>Controversial claims on global climate change ...</td>\n    </tr>\n    <tr>\n      <th>...</th>\n      <td>...</td>\n      <td>...</td>\n      <td>...</td>\n      <td>...</td>\n      <td>...</td>\n    </tr>\n    <tr>\n      <th>506</th>\n      <td>0</td>\n      <td>“The amount of coral on the Great Barrier Reef...</td>\n      <td>1.0</td>\n      <td>co, change, global, said, climate</td>\n      <td>Controversial claims on global climate change ...</td>\n    </tr>\n    <tr>\n      <th>507</th>\n      <td>5</td>\n      <td>“The clothing industry contributes up to 10% o...</td>\n      <td>3.0</td>\n      <td>income, access, grid, households, electric</td>\n      <td>Impact of income and access on household elect...</td>\n    </tr>\n    <tr>\n      <th>508</th>\n      <td>0</td>\n      <td>“We have been cooling down for the past 4000 y...</td>\n      <td>1.0</td>\n      <td>co, change, global, said, climate</td>\n      <td>Controversial claims on global climate change ...</td>\n    </tr>\n    <tr>\n      <th>509</th>\n      <td>5</td>\n      <td>“… 600 million Africans lack access to electri...</td>\n      <td>3.0</td>\n      <td>income, access, grid, households, electric</td>\n      <td>Impact of income and access on household elect...</td>\n    </tr>\n    <tr>\n      <th>510</th>\n      <td>0</td>\n      <td>”Global warming started to run out of steam ov...</td>\n      <td>1.0</td>\n      <td>co, change, global, said, climate</td>\n      <td>Controversial claims on global climate change ...</td>\n    </tr>\n  </tbody>\n</table>\n<p>511 rows × 5 columns</p>\n</div>"
     },
     "execution_count": 69,
     "metadata": {},
     "output_type": "execute_result"
    }
   ],
   "source": [
    "ground_truth_df"
   ],
   "metadata": {
    "collapsed": false,
    "ExecuteTime": {
     "end_time": "2024-03-12T01:48:48.626347Z",
     "start_time": "2024-03-12T01:48:48.591477Z"
    }
   },
   "id": "33c183a965c885a2"
  },
  {
   "cell_type": "code",
   "execution_count": null,
   "outputs": [],
   "source": [],
   "metadata": {
    "collapsed": false
   },
   "id": "b00303f1bef2024f"
  }
 ],
 "metadata": {
  "kernelspec": {
   "display_name": "Python 3",
   "language": "python",
   "name": "python3"
  },
  "language_info": {
   "codemirror_mode": {
    "name": "ipython",
    "version": 2
   },
   "file_extension": ".py",
   "mimetype": "text/x-python",
   "name": "python",
   "nbconvert_exporter": "python",
   "pygments_lexer": "ipython2",
   "version": "2.7.6"
  }
 },
 "nbformat": 4,
 "nbformat_minor": 5
}
