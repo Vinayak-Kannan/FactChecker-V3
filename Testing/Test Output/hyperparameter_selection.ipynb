{
 "cells": [
  {
   "cell_type": "code",
   "execution_count": 1,
   "outputs": [],
   "source": [
    "%load_ext autoreload\n",
    "%autoreload 2"
   ],
   "metadata": {
    "collapsed": false,
    "ExecuteTime": {
     "end_time": "2024-06-27T03:25:39.752076Z",
     "start_time": "2024-06-27T03:25:39.703158Z"
    }
   },
   "id": "e7540c59bbc4826c"
  },
  {
   "cell_type": "code",
   "execution_count": 2,
   "id": "initial_id",
   "metadata": {
    "collapsed": true,
    "ExecuteTime": {
     "end_time": "2024-06-27T03:25:52.438334Z",
     "start_time": "2024-06-27T03:25:39.719953Z"
    }
   },
   "outputs": [],
   "source": [
    "import pandas as pd\n",
    "from ClusterAndPredict.ClusterAndPredict import ClusterAndPredict\n",
    "from Testing.DataLoader import DataLoader\n",
    "from Testing.ParameterCreator import ParameterCreator\n",
    "from Clustering.Helpers.Visualizer import Visualizer"
   ]
  },
  {
   "cell_type": "code",
   "execution_count": 3,
   "outputs": [],
   "source": [
    "# DEPRECATED\n",
    "# chroma_client = chromadb.PersistentClient(path=\"./../../Clustering/Clustering/Chroma\")\n",
    "# # Count number of collections\n",
    "# print(chroma_client.count_collections())\n",
    "# \n",
    "# # Get all collection names\n",
    "# collection_names = chroma_client.list_collections()\n",
    "# \n",
    "# # Loop through each collection and drop it\n",
    "# for collection_name in collection_names:\n",
    "#     if collection_name.name != 'climate_claims_embeddings_unchanged':\n",
    "#         chroma_client.delete_collection(collection_name.name)"
   ],
   "metadata": {
    "collapsed": false,
    "ExecuteTime": {
     "end_time": "2024-06-27T03:25:52.484786Z",
     "start_time": "2024-06-27T03:25:52.436302Z"
    }
   },
   "id": "f591a1efe4bdf97e"
  },
  {
   "cell_type": "code",
   "execution_count": 6,
   "outputs": [
    {
     "name": "stdout",
     "output_type": "stream",
     "text": [
      "Number of experiments to run:  1\n",
      "Numerical Rating\n",
      "1    2990\n",
      "3     619\n",
      "Name: count, dtype: int64\n",
      "Numerical Rating\n",
      "1    778\n",
      "3    124\n",
      "Name: count, dtype: int64\n",
      "cluster  predict  veracity\n",
      "-1       False     1          1437\n",
      "                   3           200\n",
      "         True     -1           609\n",
      " 0       False     1             3\n",
      "         True     -1             2\n",
      "                              ... \n",
      " 66      True     -1             5\n",
      " 67      False     1             3\n",
      "         True     -1             5\n",
      " 68      False     1            13\n",
      "         True     -1            12\n",
      "Name: count, Length: 121, dtype: int64\n",
      "breaking further...\n",
      "cluster  predict  veracity\n",
      "-1       False     1          1437\n",
      "                   3           200\n",
      "         True     -1           609\n",
      " 0       False     1             3\n",
      "         True     -1             2\n",
      "                              ... \n",
      " 66      True     -1             5\n",
      " 67      False     1             3\n",
      "         True     -1             5\n",
      " 68      False     1            13\n",
      "         True     -1            12\n",
      "Name: count, Length: 121, dtype: int64\n",
      "Number of clusters: 69\n",
      "{'accuracy': 0.31167400881057267, 'accuracy_not_including_fours': 0.9826388888888888, 'percentage_of_fours': 0.6828193832599119, 'percentage_of_no_clusters_in_ground_truth': 0.0, 'precision_on_three': 1.0, 'recall_on_three': 0.08064516129032258, 'average_confidence_for_3': 0, 'precision_on_three_excluding_fours': 1.0, 'recall_on_three_excluding_fours': 0.6666666666666666, 'cluster_df':                                                    text  veracity  predict  \\\n",
      "0     Video shows geoengineering operation blocking ...         1     True   \n",
      "1     EU members states have spent about ?600 billio...         1     True   \n",
      "2     US billionaire George Soros attended the UN’s ...         1     True   \n",
      "3     DOCKET 3: Methane Emissions Reduction Program,...         3     True   \n",
      "4     The skepticism is up from an already high 48 p...         1     True   \n",
      "...                                                 ...       ...      ...   \n",
      "3796  All U.S. regions are experiencing the impacts ...         3    False   \n",
      "3797  This is roughly equivalent to the greenhouse g...         3    False   \n",
      "3798  Since 2000, PM2.5 concentrations in the outdoo...         3    False   \n",
      "3799  EPA is currently developing new content that p...         3    False   \n",
      "3800  Separately, studies show that children between...         3    False   \n",
      "\n",
      "      predicted_veracity                                         embeddings  \\\n",
      "0                      4  [5.639001369476318, -1.0828005075454712, -7.34...   \n",
      "1                      4  [5.900769233703613, -1.2067428827285767, -7.90...   \n",
      "2                      4  [5.6700615882873535, -1.0941205024719238, -7.4...   \n",
      "3                      4  [5.874303340911865, -1.1946101188659668, -7.76...   \n",
      "4                      1  [5.750396251678467, -1.1976326704025269, -7.39...   \n",
      "...                  ...                                                ...   \n",
      "3796                   3  [5.842842102050781, -1.124656319618225, -7.418...   \n",
      "3797                   3  [5.977087497711182, -1.2822843790054321, -7.64...   \n",
      "3798                   3  [5.939883232116699, -1.2525899410247803, -7.60...   \n",
      "3799                   3  [5.841381549835205, -1.130470633506775, -7.507...   \n",
      "3800                   3  [5.880508899688721, -1.1805615425109863, -7.43...   \n",
      "\n",
      "      cluster  num_correct_in_cluster  total_in_cluster  cluster_accuracy  \n",
      "0          -1                    1637              2246          0.728851  \n",
      "1          -1                    1637              2246          0.728851  \n",
      "2          -1                    1637              2246          0.728851  \n",
      "3          -1                    1637              2246          0.728851  \n",
      "4          58                      10                10          1.000000  \n",
      "...       ...                     ...               ...               ...  \n",
      "3796       14                     123               123          1.000000  \n",
      "3797       -1                    1637              2246          0.728851  \n",
      "3798       -1                    1637              2246          0.728851  \n",
      "3799       -1                    1637              2246          0.728851  \n",
      "3800       -1                    1637              2246          0.728851  \n",
      "\n",
      "[3801 rows x 9 columns]}\n",
      "{'percentage': 1, 'score': 1.6666666666666665, 'accuracy': 0.31167400881057267, 'was_supervised_umap_used': True, 'metrics': {'accuracy': 0.31167400881057267, 'accuracy_not_including_fours': 0.9826388888888888, 'percentage_of_fours': 0.6828193832599119, 'percentage_of_no_clusters_in_ground_truth': 0.0, 'precision_on_three': 1.0, 'recall_on_three': 0.08064516129032258, 'average_confidence_for_3': 0, 'precision_on_three_excluding_fours': 1.0, 'recall_on_three_excluding_fours': 0.6666666666666666, 'cluster_df':                                                    text  veracity  predict  \\\n",
      "0     Video shows geoengineering operation blocking ...         1     True   \n",
      "1     EU members states have spent about ?600 billio...         1     True   \n",
      "2     US billionaire George Soros attended the UN’s ...         1     True   \n",
      "3     DOCKET 3: Methane Emissions Reduction Program,...         3     True   \n",
      "4     The skepticism is up from an already high 48 p...         1     True   \n",
      "...                                                 ...       ...      ...   \n",
      "3796  All U.S. regions are experiencing the impacts ...         3    False   \n",
      "3797  This is roughly equivalent to the greenhouse g...         3    False   \n",
      "3798  Since 2000, PM2.5 concentrations in the outdoo...         3    False   \n",
      "3799  EPA is currently developing new content that p...         3    False   \n",
      "3800  Separately, studies show that children between...         3    False   \n",
      "\n",
      "      predicted_veracity                                         embeddings  \\\n",
      "0                      4  [5.639001369476318, -1.0828005075454712, -7.34...   \n",
      "1                      4  [5.900769233703613, -1.2067428827285767, -7.90...   \n",
      "2                      4  [5.6700615882873535, -1.0941205024719238, -7.4...   \n",
      "3                      4  [5.874303340911865, -1.1946101188659668, -7.76...   \n",
      "4                      1  [5.750396251678467, -1.1976326704025269, -7.39...   \n",
      "...                  ...                                                ...   \n",
      "3796                   3  [5.842842102050781, -1.124656319618225, -7.418...   \n",
      "3797                   3  [5.977087497711182, -1.2822843790054321, -7.64...   \n",
      "3798                   3  [5.939883232116699, -1.2525899410247803, -7.60...   \n",
      "3799                   3  [5.841381549835205, -1.130470633506775, -7.507...   \n",
      "3800                   3  [5.880508899688721, -1.1805615425109863, -7.43...   \n",
      "\n",
      "      cluster  num_correct_in_cluster  total_in_cluster  cluster_accuracy  \n",
      "0          -1                    1637              2246          0.728851  \n",
      "1          -1                    1637              2246          0.728851  \n",
      "2          -1                    1637              2246          0.728851  \n",
      "3          -1                    1637              2246          0.728851  \n",
      "4          58                      10                10          1.000000  \n",
      "...       ...                     ...               ...               ...  \n",
      "3796       14                     123               123          1.000000  \n",
      "3797       -1                    1637              2246          0.728851  \n",
      "3798       -1                    1637              2246          0.728851  \n",
      "3799       -1                    1637              2246          0.728851  \n",
      "3800       -1                    1637              2246          0.728851  \n",
      "\n",
      "[3801 rows x 9 columns]}}\n"
     ]
    }
   ],
   "source": [
    "params = ParameterCreator().get_parameters()\n",
    "results = []\n",
    "cluster_dfs = []\n",
    "print(\"Number of experiments to run: \", len(params))\n",
    "for param in params:\n",
    "    percentage = 1\n",
    "    data_loader = DataLoader(percentage, True, param['random_seed'])\n",
    "    train_df, test_df = data_loader.create_train_test_df(True, True, True)\n",
    "    clf = ClusterAndPredict(**param, train_df=train_df)\n",
    "    clf.fit(test_df['Text'].tolist(), test_df['Numerical Rating'].tolist())\n",
    "    # Print best parameters\n",
    "    best_estimator = clf\n",
    "    score = best_estimator.score([], [])\n",
    "    print(best_estimator.get_all_performance_metrics())\n",
    "    object_output = best_estimator.get_all_performance_metrics()\n",
    "    cluster_df = object_output['cluster_df']\n",
    "    cluster_dfs.append(cluster_df)\n",
    "    output = {\n",
    "        'percentage': percentage,\n",
    "        'score': score,\n",
    "        'accuracy': best_estimator.get_accuracy(),\n",
    "        'was_supervised_umap_used': best_estimator.get_was_supervised(),\n",
    "        'metrics': best_estimator.get_all_performance_metrics(),\n",
    "    }\n",
    "    print(output)\n",
    "    results.append(output)"
   ],
   "metadata": {
    "collapsed": false,
    "ExecuteTime": {
     "end_time": "2024-06-27T03:45:25.091786Z",
     "start_time": "2024-06-27T03:35:54.649182Z"
    }
   },
   "id": "724a5cb50eba0305"
  },
  {
   "cell_type": "code",
   "execution_count": 7,
   "outputs": [
    {
     "data": {
      "text/plain": "   percentage     score  accuracy  was_supervised_umap_used  metrics.accuracy  \\\n0           1  1.666667  0.311674                      True          0.311674   \n\n   metrics.accuracy_not_including_fours  metrics.percentage_of_fours  \\\n0                              0.982639                     0.682819   \n\n   metrics.percentage_of_no_clusters_in_ground_truth  \\\n0                                                0.0   \n\n   metrics.precision_on_three  metrics.recall_on_three  \\\n0                         1.0                 0.080645   \n\n   metrics.average_confidence_for_3  \\\n0                                 0   \n\n   metrics.precision_on_three_excluding_fours  \\\n0                                         1.0   \n\n   metrics.recall_on_three_excluding_fours  \\\n0                                 0.666667   \n\n                                  metrics.cluster_df  \n0                                                ...  ",
      "text/html": "<div>\n<style scoped>\n    .dataframe tbody tr th:only-of-type {\n        vertical-align: middle;\n    }\n\n    .dataframe tbody tr th {\n        vertical-align: top;\n    }\n\n    .dataframe thead th {\n        text-align: right;\n    }\n</style>\n<table border=\"1\" class=\"dataframe\">\n  <thead>\n    <tr style=\"text-align: right;\">\n      <th></th>\n      <th>percentage</th>\n      <th>score</th>\n      <th>accuracy</th>\n      <th>was_supervised_umap_used</th>\n      <th>metrics.accuracy</th>\n      <th>metrics.accuracy_not_including_fours</th>\n      <th>metrics.percentage_of_fours</th>\n      <th>metrics.percentage_of_no_clusters_in_ground_truth</th>\n      <th>metrics.precision_on_three</th>\n      <th>metrics.recall_on_three</th>\n      <th>metrics.average_confidence_for_3</th>\n      <th>metrics.precision_on_three_excluding_fours</th>\n      <th>metrics.recall_on_three_excluding_fours</th>\n      <th>metrics.cluster_df</th>\n    </tr>\n  </thead>\n  <tbody>\n    <tr>\n      <th>0</th>\n      <td>1</td>\n      <td>1.666667</td>\n      <td>0.311674</td>\n      <td>True</td>\n      <td>0.311674</td>\n      <td>0.982639</td>\n      <td>0.682819</td>\n      <td>0.0</td>\n      <td>1.0</td>\n      <td>0.080645</td>\n      <td>0</td>\n      <td>1.0</td>\n      <td>0.666667</td>\n      <td>...</td>\n    </tr>\n  </tbody>\n</table>\n</div>"
     },
     "execution_count": 7,
     "metadata": {},
     "output_type": "execute_result"
    }
   ],
   "source": [
    "results_df = pd.json_normalize(results)\n",
    "results_df"
   ],
   "metadata": {
    "collapsed": false,
    "ExecuteTime": {
     "end_time": "2024-06-27T03:45:25.427122Z",
     "start_time": "2024-06-27T03:45:25.367049Z"
    }
   },
   "id": "5e78bf69142c96ab"
  },
  {
   "cell_type": "code",
   "execution_count": 8,
   "outputs": [
    {
     "data": {
      "text/plain": "                                                   text  veracity  predict  \\\n0     Video shows geoengineering operation blocking ...         1     True   \n1     EU members states have spent about ?600 billio...         1     True   \n2     US billionaire George Soros attended the UN’s ...         1     True   \n3     DOCKET 3: Methane Emissions Reduction Program,...         3     True   \n4     The skepticism is up from an already high 48 p...         1     True   \n...                                                 ...       ...      ...   \n3796  All U.S. regions are experiencing the impacts ...         3    False   \n3797  This is roughly equivalent to the greenhouse g...         3    False   \n3798  Since 2000, PM2.5 concentrations in the outdoo...         3    False   \n3799  EPA is currently developing new content that p...         3    False   \n3800  Separately, studies show that children between...         3    False   \n\n      predicted_veracity                                         embeddings  \\\n0                      4  [5.639001369476318, -1.0828005075454712, -7.34...   \n1                      4  [5.900769233703613, -1.2067428827285767, -7.90...   \n2                      4  [5.6700615882873535, -1.0941205024719238, -7.4...   \n3                      4  [5.874303340911865, -1.1946101188659668, -7.76...   \n4                      1  [5.750396251678467, -1.1976326704025269, -7.39...   \n...                  ...                                                ...   \n3796                   3  [5.842842102050781, -1.124656319618225, -7.418...   \n3797                   3  [5.977087497711182, -1.2822843790054321, -7.64...   \n3798                   3  [5.939883232116699, -1.2525899410247803, -7.60...   \n3799                   3  [5.841381549835205, -1.130470633506775, -7.507...   \n3800                   3  [5.880508899688721, -1.1805615425109863, -7.43...   \n\n      cluster  num_correct_in_cluster  total_in_cluster  cluster_accuracy  \n0          -1                    1637              2246          0.728851  \n1          -1                    1637              2246          0.728851  \n2          -1                    1637              2246          0.728851  \n3          -1                    1637              2246          0.728851  \n4          58                      10                10          1.000000  \n...       ...                     ...               ...               ...  \n3796       14                     123               123          1.000000  \n3797       -1                    1637              2246          0.728851  \n3798       -1                    1637              2246          0.728851  \n3799       -1                    1637              2246          0.728851  \n3800       -1                    1637              2246          0.728851  \n\n[3801 rows x 9 columns]",
      "text/html": "<div>\n<style scoped>\n    .dataframe tbody tr th:only-of-type {\n        vertical-align: middle;\n    }\n\n    .dataframe tbody tr th {\n        vertical-align: top;\n    }\n\n    .dataframe thead th {\n        text-align: right;\n    }\n</style>\n<table border=\"1\" class=\"dataframe\">\n  <thead>\n    <tr style=\"text-align: right;\">\n      <th></th>\n      <th>text</th>\n      <th>veracity</th>\n      <th>predict</th>\n      <th>predicted_veracity</th>\n      <th>embeddings</th>\n      <th>cluster</th>\n      <th>num_correct_in_cluster</th>\n      <th>total_in_cluster</th>\n      <th>cluster_accuracy</th>\n    </tr>\n  </thead>\n  <tbody>\n    <tr>\n      <th>0</th>\n      <td>Video shows geoengineering operation blocking ...</td>\n      <td>1</td>\n      <td>True</td>\n      <td>4</td>\n      <td>[5.639001369476318, -1.0828005075454712, -7.34...</td>\n      <td>-1</td>\n      <td>1637</td>\n      <td>2246</td>\n      <td>0.728851</td>\n    </tr>\n    <tr>\n      <th>1</th>\n      <td>EU members states have spent about ?600 billio...</td>\n      <td>1</td>\n      <td>True</td>\n      <td>4</td>\n      <td>[5.900769233703613, -1.2067428827285767, -7.90...</td>\n      <td>-1</td>\n      <td>1637</td>\n      <td>2246</td>\n      <td>0.728851</td>\n    </tr>\n    <tr>\n      <th>2</th>\n      <td>US billionaire George Soros attended the UN’s ...</td>\n      <td>1</td>\n      <td>True</td>\n      <td>4</td>\n      <td>[5.6700615882873535, -1.0941205024719238, -7.4...</td>\n      <td>-1</td>\n      <td>1637</td>\n      <td>2246</td>\n      <td>0.728851</td>\n    </tr>\n    <tr>\n      <th>3</th>\n      <td>DOCKET 3: Methane Emissions Reduction Program,...</td>\n      <td>3</td>\n      <td>True</td>\n      <td>4</td>\n      <td>[5.874303340911865, -1.1946101188659668, -7.76...</td>\n      <td>-1</td>\n      <td>1637</td>\n      <td>2246</td>\n      <td>0.728851</td>\n    </tr>\n    <tr>\n      <th>4</th>\n      <td>The skepticism is up from an already high 48 p...</td>\n      <td>1</td>\n      <td>True</td>\n      <td>1</td>\n      <td>[5.750396251678467, -1.1976326704025269, -7.39...</td>\n      <td>58</td>\n      <td>10</td>\n      <td>10</td>\n      <td>1.000000</td>\n    </tr>\n    <tr>\n      <th>...</th>\n      <td>...</td>\n      <td>...</td>\n      <td>...</td>\n      <td>...</td>\n      <td>...</td>\n      <td>...</td>\n      <td>...</td>\n      <td>...</td>\n      <td>...</td>\n    </tr>\n    <tr>\n      <th>3796</th>\n      <td>All U.S. regions are experiencing the impacts ...</td>\n      <td>3</td>\n      <td>False</td>\n      <td>3</td>\n      <td>[5.842842102050781, -1.124656319618225, -7.418...</td>\n      <td>14</td>\n      <td>123</td>\n      <td>123</td>\n      <td>1.000000</td>\n    </tr>\n    <tr>\n      <th>3797</th>\n      <td>This is roughly equivalent to the greenhouse g...</td>\n      <td>3</td>\n      <td>False</td>\n      <td>3</td>\n      <td>[5.977087497711182, -1.2822843790054321, -7.64...</td>\n      <td>-1</td>\n      <td>1637</td>\n      <td>2246</td>\n      <td>0.728851</td>\n    </tr>\n    <tr>\n      <th>3798</th>\n      <td>Since 2000, PM2.5 concentrations in the outdoo...</td>\n      <td>3</td>\n      <td>False</td>\n      <td>3</td>\n      <td>[5.939883232116699, -1.2525899410247803, -7.60...</td>\n      <td>-1</td>\n      <td>1637</td>\n      <td>2246</td>\n      <td>0.728851</td>\n    </tr>\n    <tr>\n      <th>3799</th>\n      <td>EPA is currently developing new content that p...</td>\n      <td>3</td>\n      <td>False</td>\n      <td>3</td>\n      <td>[5.841381549835205, -1.130470633506775, -7.507...</td>\n      <td>-1</td>\n      <td>1637</td>\n      <td>2246</td>\n      <td>0.728851</td>\n    </tr>\n    <tr>\n      <th>3800</th>\n      <td>Separately, studies show that children between...</td>\n      <td>3</td>\n      <td>False</td>\n      <td>3</td>\n      <td>[5.880508899688721, -1.1805615425109863, -7.43...</td>\n      <td>-1</td>\n      <td>1637</td>\n      <td>2246</td>\n      <td>0.728851</td>\n    </tr>\n  </tbody>\n</table>\n<p>3801 rows × 9 columns</p>\n</div>"
     },
     "execution_count": 8,
     "metadata": {},
     "output_type": "execute_result"
    }
   ],
   "source": [
    "cluster_dfs[0]"
   ],
   "metadata": {
    "collapsed": false,
    "ExecuteTime": {
     "end_time": "2024-06-27T03:45:25.448624Z",
     "start_time": "2024-06-27T03:45:25.368403Z"
    }
   },
   "id": "419b40745722b374"
  },
  {
   "cell_type": "code",
   "execution_count": null,
   "outputs": [],
   "source": [
    "viz = Visualizer()\n",
    "df_with_two_dimens = viz.fit_transform(cluster_dfs[0], 'embeddings')\n",
    "df_with_two_dimens"
   ],
   "metadata": {
    "collapsed": false
   },
   "id": "669a6d9bb9ec79a"
  }
 ],
 "metadata": {
  "kernelspec": {
   "display_name": "Python 3",
   "language": "python",
   "name": "python3"
  },
  "language_info": {
   "codemirror_mode": {
    "name": "ipython",
    "version": 2
   },
   "file_extension": ".py",
   "mimetype": "text/x-python",
   "name": "python",
   "nbconvert_exporter": "python",
   "pygments_lexer": "ipython2",
   "version": "2.7.6"
  }
 },
 "nbformat": 4,
 "nbformat_minor": 5
}
