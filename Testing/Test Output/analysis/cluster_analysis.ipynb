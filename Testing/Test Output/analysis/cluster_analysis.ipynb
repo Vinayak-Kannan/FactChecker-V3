{
 "cells": [
  {
   "cell_type": "code",
   "execution_count": null,
   "id": "initial_id",
   "metadata": {
    "collapsed": true
   },
   "outputs": [],
   "source": [
    "import pandas as pd\n",
    "\n",
    "# 1. Load in the dataframe\n",
    "\n",
    "# 2. Run all claims through LLM and ask it to create topic cluster name\n",
    "\n",
    "# 3. For each subcluster, run TFIDF and then extract terms using gensim\n",
    "\n",
    "# 4. Run gensim terms of the subcluster through LLM and ask it to create topic cluster name\n",
    "\n"
   ]
  }
 ],
 "metadata": {
  "kernelspec": {
   "display_name": "Python 3",
   "language": "python",
   "name": "python3"
  },
  "language_info": {
   "codemirror_mode": {
    "name": "ipython",
    "version": 2
   },
   "file_extension": ".py",
   "mimetype": "text/x-python",
   "name": "python",
   "nbconvert_exporter": "python",
   "pygments_lexer": "ipython2",
   "version": "2.7.6"
  }
 },
 "nbformat": 4,
 "nbformat_minor": 5
}
