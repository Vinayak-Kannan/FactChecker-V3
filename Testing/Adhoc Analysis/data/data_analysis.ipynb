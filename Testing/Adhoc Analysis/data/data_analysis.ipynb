{
 "cells": [
  {
   "cell_type": "code",
   "execution_count": 1,
   "outputs": [],
   "source": [
    "%load_ext autoreload\n",
    "%autoreload 2"
   ],
   "metadata": {
    "collapsed": false,
    "ExecuteTime": {
     "end_time": "2024-03-26T23:59:57.153126Z",
     "start_time": "2024-03-26T23:59:57.145314Z"
    }
   },
   "id": "51edda1df581373d"
  },
  {
   "cell_type": "code",
   "execution_count": 4,
   "id": "initial_id",
   "metadata": {
    "collapsed": true,
    "ExecuteTime": {
     "end_time": "2024-03-27T00:07:56.429401Z",
     "start_time": "2024-03-27T00:00:37.742518Z"
    }
   },
   "outputs": [
    {
     "name": "stdout",
     "output_type": "stream",
     "text": [
      "51059\n"
     ]
    },
    {
     "name": "stderr",
     "output_type": "stream",
     "text": [
      "0it [00:00, ?it/s]"
     ]
    },
    {
     "name": "stdout",
     "output_type": "stream",
     "text": [
      "0\n"
     ]
    },
    {
     "name": "stderr",
     "output_type": "stream",
     "text": [
      "1it [00:00,  3.59it/s]"
     ]
    },
    {
     "name": "stdout",
     "output_type": "stream",
     "text": [
      "5000\n"
     ]
    },
    {
     "name": "stderr",
     "output_type": "stream",
     "text": [
      "5001it [00:40, 123.60it/s]"
     ]
    },
    {
     "name": "stdout",
     "output_type": "stream",
     "text": [
      "10000\n"
     ]
    },
    {
     "name": "stderr",
     "output_type": "stream",
     "text": [
      "10001it [01:23, 118.81it/s]"
     ]
    },
    {
     "name": "stdout",
     "output_type": "stream",
     "text": [
      "15000\n"
     ]
    },
    {
     "name": "stderr",
     "output_type": "stream",
     "text": [
      "15001it [02:07, 116.62it/s]"
     ]
    },
    {
     "name": "stdout",
     "output_type": "stream",
     "text": [
      "20000\n"
     ]
    },
    {
     "name": "stderr",
     "output_type": "stream",
     "text": [
      "20001it [02:51, 115.73it/s]"
     ]
    },
    {
     "name": "stdout",
     "output_type": "stream",
     "text": [
      "25000\n"
     ]
    },
    {
     "name": "stderr",
     "output_type": "stream",
     "text": [
      "25001it [03:35, 115.02it/s]"
     ]
    },
    {
     "name": "stdout",
     "output_type": "stream",
     "text": [
      "30000\n"
     ]
    },
    {
     "name": "stderr",
     "output_type": "stream",
     "text": [
      "30001it [04:19, 114.12it/s]"
     ]
    },
    {
     "name": "stdout",
     "output_type": "stream",
     "text": [
      "35000\n"
     ]
    },
    {
     "name": "stderr",
     "output_type": "stream",
     "text": [
      "35001it [05:03, 113.87it/s]"
     ]
    },
    {
     "name": "stdout",
     "output_type": "stream",
     "text": [
      "40000\n"
     ]
    },
    {
     "name": "stderr",
     "output_type": "stream",
     "text": [
      "40001it [05:49, 112.43it/s]"
     ]
    },
    {
     "name": "stdout",
     "output_type": "stream",
     "text": [
      "45000\n"
     ]
    },
    {
     "name": "stderr",
     "output_type": "stream",
     "text": [
      "45001it [06:33, 112.84it/s]"
     ]
    },
    {
     "name": "stdout",
     "output_type": "stream",
     "text": [
      "50000\n"
     ]
    },
    {
     "name": "stderr",
     "output_type": "stream",
     "text": [
      "51059it [07:17, 116.80it/s]\n"
     ]
    }
   ],
   "source": [
    "import pandas as pd\n",
    "from Scraping.Helpers.RedditScraper import RedditScraper\n",
    "\n",
    "card_data = pd.read_csv(\"./training/training.csv\")\n",
    "\n",
    "# Filter out any nan values in the text column\n",
    "card_data = card_data[card_data['text'].notna()]\n",
    "\n",
    "classifier = RedditScraper(1000000,1000000)\n",
    "output = classifier.get_claims(card_data, 'text')\n",
    "\n",
    "output.to_csv(\"./training/train_with_score.csv\", index=False)"
   ]
  },
  {
   "cell_type": "code",
   "execution_count": 5,
   "outputs": [
    {
     "data": {
      "text/plain": "                                                   text claim\n0     The discussion is far from over. The true mind...   5_1\n1     NASA's James Hansen claims extreme weather eve...   0_0\n2     Figure 1. Lake Baikal paleoclimate record from...   0_0\n3     Nuccitellis answer to this unexceptionable and...   2_1\n4     It makes you wonder what created all that CO2 ...   2_1\n...                                                 ...   ...\n2899  none of the Climategate panels mounted an inqu...   5_2\n2900  Emails Reveal AGs Colluding with Green Groups ...   5_2\n2901  Even before the Climategate Emails came to lig...   5_2\n2902  In the interest of full disclosure, I have bee...   5_2\n2903  As readers no doubt know, I have previously ob...   5_2\n\n[2904 rows x 2 columns]",
      "text/html": "<div>\n<style scoped>\n    .dataframe tbody tr th:only-of-type {\n        vertical-align: middle;\n    }\n\n    .dataframe tbody tr th {\n        vertical-align: top;\n    }\n\n    .dataframe thead th {\n        text-align: right;\n    }\n</style>\n<table border=\"1\" class=\"dataframe\">\n  <thead>\n    <tr style=\"text-align: right;\">\n      <th></th>\n      <th>text</th>\n      <th>claim</th>\n    </tr>\n  </thead>\n  <tbody>\n    <tr>\n      <th>0</th>\n      <td>The discussion is far from over. The true mind...</td>\n      <td>5_1</td>\n    </tr>\n    <tr>\n      <th>1</th>\n      <td>NASA's James Hansen claims extreme weather eve...</td>\n      <td>0_0</td>\n    </tr>\n    <tr>\n      <th>2</th>\n      <td>Figure 1. Lake Baikal paleoclimate record from...</td>\n      <td>0_0</td>\n    </tr>\n    <tr>\n      <th>3</th>\n      <td>Nuccitellis answer to this unexceptionable and...</td>\n      <td>2_1</td>\n    </tr>\n    <tr>\n      <th>4</th>\n      <td>It makes you wonder what created all that CO2 ...</td>\n      <td>2_1</td>\n    </tr>\n    <tr>\n      <th>...</th>\n      <td>...</td>\n      <td>...</td>\n    </tr>\n    <tr>\n      <th>2899</th>\n      <td>none of the Climategate panels mounted an inqu...</td>\n      <td>5_2</td>\n    </tr>\n    <tr>\n      <th>2900</th>\n      <td>Emails Reveal AGs Colluding with Green Groups ...</td>\n      <td>5_2</td>\n    </tr>\n    <tr>\n      <th>2901</th>\n      <td>Even before the Climategate Emails came to lig...</td>\n      <td>5_2</td>\n    </tr>\n    <tr>\n      <th>2902</th>\n      <td>In the interest of full disclosure, I have bee...</td>\n      <td>5_2</td>\n    </tr>\n    <tr>\n      <th>2903</th>\n      <td>As readers no doubt know, I have previously ob...</td>\n      <td>5_2</td>\n    </tr>\n  </tbody>\n</table>\n<p>2904 rows × 2 columns</p>\n</div>"
     },
     "execution_count": 5,
     "metadata": {},
     "output_type": "execute_result"
    }
   ],
   "source": [
    "card_data"
   ],
   "metadata": {
    "collapsed": false,
    "ExecuteTime": {
     "end_time": "2024-03-26T21:35:44.598624Z",
     "start_time": "2024-03-26T21:35:44.580319Z"
    }
   },
   "id": "f0b7503f6fd6b916"
  },
  {
   "cell_type": "code",
   "execution_count": 5,
   "outputs": [
    {
     "name": "stdout",
     "output_type": "stream",
     "text": [
      "10048\n"
     ]
    }
   ],
   "source": [
    "# Filter output to where score is greater than 0.7\n",
    "output_fil = output[output['score'] > 0.7]\n",
    "print(len(output_fil))"
   ],
   "metadata": {
    "collapsed": false,
    "ExecuteTime": {
     "end_time": "2024-03-27T00:11:33.697605Z",
     "start_time": "2024-03-27T00:11:33.117020Z"
    }
   },
   "id": "ee24ea9202165ab"
  },
  {
   "cell_type": "code",
   "execution_count": null,
   "outputs": [],
   "source": [],
   "metadata": {
    "collapsed": false
   },
   "id": "5f578e336f567f8f"
  }
 ],
 "metadata": {
  "kernelspec": {
   "display_name": "Python 3",
   "language": "python",
   "name": "python3"
  },
  "language_info": {
   "codemirror_mode": {
    "name": "ipython",
    "version": 2
   },
   "file_extension": ".py",
   "mimetype": "text/x-python",
   "name": "python",
   "nbconvert_exporter": "python",
   "pygments_lexer": "ipython2",
   "version": "2.7.6"
  }
 },
 "nbformat": 4,
 "nbformat_minor": 5
}
