{
 "cells": [
  {
   "cell_type": "code",
   "execution_count": 22,
   "id": "initial_id",
   "metadata": {
    "collapsed": true,
    "ExecuteTime": {
     "end_time": "2024-02-07T15:53:56.555601Z",
     "start_time": "2024-02-07T15:53:56.553849Z"
    }
   },
   "outputs": [],
   "source": [
    "import pandas as pd\n",
    "import numpy as np"
   ]
  },
  {
   "cell_type": "code",
   "execution_count": 23,
   "outputs": [],
   "source": [
    "# Read in the data\n",
    "df = pd.read_csv('../Clustering/Transformed Data/clustered_claims.csv')"
   ],
   "metadata": {
    "collapsed": false,
    "ExecuteTime": {
     "end_time": "2024-02-07T15:53:56.567757Z",
     "start_time": "2024-02-07T15:53:56.556524Z"
    }
   },
   "id": "2caa01cfb09ba879"
  },
  {
   "cell_type": "code",
   "execution_count": 24,
   "outputs": [],
   "source": [
    "# Get count of claims for each cluster\n",
    "counts = df['cluster'].value_counts()\n",
    "# Filter counts to clusters with more than 25 claims\n",
    "counts = counts[counts > 25]\n",
    "# Filter the df to have just the clusters with more than 25 claims\n",
    "df = df[df['cluster'].isin(counts.index)]\n",
    "# Drop all columns except the cluster column and the claim column\n",
    "df = df[['cluster', 'claim', 'label']]\n",
    "# Add a column for the count of claims in each cluster\n",
    "df['count'] = df['cluster'].map(counts)\n",
    "# Sort the df by cluster and claim\n",
    "df = df.sort_values(['cluster', 'claim'])\n",
    "# Filter the df not include cluster == -1\n",
    "df = df[df['cluster'] != -1]"
   ],
   "metadata": {
    "collapsed": false,
    "ExecuteTime": {
     "end_time": "2024-02-07T15:53:56.578504Z",
     "start_time": "2024-02-07T15:53:56.571659Z"
    }
   },
   "id": "edef0838cdc15873"
  },
  {
   "cell_type": "code",
   "execution_count": 25,
   "outputs": [
    {
     "data": {
      "text/plain": "     cluster                                              claim  \\\n124       12  \"The amount of carbon dioxide in the atmospher...   \n162       12  \"There appears to be no correlation between th...   \n596       12  A rise in atmospheric CO2 levels despite a dro...   \n13        12                Atmospheric CO2 level is negligible   \n75        12  CO2 does not cause climate change, it RESPONDS...   \n499       12      CO2 has nothing to do with any climate change   \n434       12  CO2 is 0.04% of the atmosphere and humans have...   \n322       12  Carbon dioxide is not \"a primary contributor t...   \n478       12  Differences in ocean and the atmospheric warmi...   \n460       12  Global temperatures haven’t risen despite rise...   \n222       12  Human activities have little effect on climate...   \n484       12  Human-generated CO2 is an insignificant contri...   \n119       12  Human-made carbon dioxide emissions do not dri...   \n106       12  Human-produced carbon might be one of the fact...   \n612       12  Humans are responsible for just three per cent...   \n80        12  I would not agree that [carbon dioxide is] a p...   \n83        12  Increases in atmospheric CO2 followed increase...   \n38        12  It’s not possible for a trace gas, carbon diox...   \n2         12  Land use, farming have no meaningful climate i...   \n486       12  Laws of thermodynamics say CO2 can’t contribut...   \n394       12  Man-made CO2 is an insignificant contributor t...   \n510       12  No sane and or honest person believes climate ...   \n595       12  Reduced aerosol pollution had greater effects ...   \n151       12  Says human activity, or carbon dioxide emissio...   \n459       12  Scientists discovered greenhouse gases may not...   \n609       12  Scientists have never proved that human emissi...   \n76        12  Sea-level rise does not seem to depend on ocea...   \n502       12  The past 260 billion tons of CO2 emissions hav...   \n599       12  The second law of thermodynamics shows man-mad...   \n615       12  There is no evidence carbon dioxide directly c...   \n\n                                                 label  count  \n124  Denial of human-induced climate change and the...     37  \n162  Denial of human-induced climate change and the...     37  \n596  Denial of human-induced climate change and the...     37  \n13   Denial of human-induced climate change and the...     37  \n75   Denial of human-induced climate change and the...     37  \n499  Denial of human-induced climate change and the...     37  \n434  Denial of human-induced climate change and the...     37  \n322  Denial of human-induced climate change and the...     37  \n478  Denial of human-induced climate change and the...     37  \n460  Denial of human-induced climate change and the...     37  \n222  Denial of human-induced climate change and the...     37  \n484  Denial of human-induced climate change and the...     37  \n119  Denial of human-induced climate change and the...     37  \n106  Denial of human-induced climate change and the...     37  \n612  Denial of human-induced climate change and the...     37  \n80   Denial of human-induced climate change and the...     37  \n83   Denial of human-induced climate change and the...     37  \n38   Denial of human-induced climate change and the...     37  \n2    Denial of human-induced climate change and the...     37  \n486  Denial of human-induced climate change and the...     37  \n394  Denial of human-induced climate change and the...     37  \n510  Denial of human-induced climate change and the...     37  \n595  Denial of human-induced climate change and the...     37  \n151  Denial of human-induced climate change and the...     37  \n459  Denial of human-induced climate change and the...     37  \n609  Denial of human-induced climate change and the...     37  \n76   Denial of human-induced climate change and the...     37  \n502  Denial of human-induced climate change and the...     37  \n599  Denial of human-induced climate change and the...     37  \n615  Denial of human-induced climate change and the...     37  ",
      "text/html": "<div>\n<style scoped>\n    .dataframe tbody tr th:only-of-type {\n        vertical-align: middle;\n    }\n\n    .dataframe tbody tr th {\n        vertical-align: top;\n    }\n\n    .dataframe thead th {\n        text-align: right;\n    }\n</style>\n<table border=\"1\" class=\"dataframe\">\n  <thead>\n    <tr style=\"text-align: right;\">\n      <th></th>\n      <th>cluster</th>\n      <th>claim</th>\n      <th>label</th>\n      <th>count</th>\n    </tr>\n  </thead>\n  <tbody>\n    <tr>\n      <th>124</th>\n      <td>12</td>\n      <td>\"The amount of carbon dioxide in the atmospher...</td>\n      <td>Denial of human-induced climate change and the...</td>\n      <td>37</td>\n    </tr>\n    <tr>\n      <th>162</th>\n      <td>12</td>\n      <td>\"There appears to be no correlation between th...</td>\n      <td>Denial of human-induced climate change and the...</td>\n      <td>37</td>\n    </tr>\n    <tr>\n      <th>596</th>\n      <td>12</td>\n      <td>A rise in atmospheric CO2 levels despite a dro...</td>\n      <td>Denial of human-induced climate change and the...</td>\n      <td>37</td>\n    </tr>\n    <tr>\n      <th>13</th>\n      <td>12</td>\n      <td>Atmospheric CO2 level is negligible</td>\n      <td>Denial of human-induced climate change and the...</td>\n      <td>37</td>\n    </tr>\n    <tr>\n      <th>75</th>\n      <td>12</td>\n      <td>CO2 does not cause climate change, it RESPONDS...</td>\n      <td>Denial of human-induced climate change and the...</td>\n      <td>37</td>\n    </tr>\n    <tr>\n      <th>499</th>\n      <td>12</td>\n      <td>CO2 has nothing to do with any climate change</td>\n      <td>Denial of human-induced climate change and the...</td>\n      <td>37</td>\n    </tr>\n    <tr>\n      <th>434</th>\n      <td>12</td>\n      <td>CO2 is 0.04% of the atmosphere and humans have...</td>\n      <td>Denial of human-induced climate change and the...</td>\n      <td>37</td>\n    </tr>\n    <tr>\n      <th>322</th>\n      <td>12</td>\n      <td>Carbon dioxide is not \"a primary contributor t...</td>\n      <td>Denial of human-induced climate change and the...</td>\n      <td>37</td>\n    </tr>\n    <tr>\n      <th>478</th>\n      <td>12</td>\n      <td>Differences in ocean and the atmospheric warmi...</td>\n      <td>Denial of human-induced climate change and the...</td>\n      <td>37</td>\n    </tr>\n    <tr>\n      <th>460</th>\n      <td>12</td>\n      <td>Global temperatures haven’t risen despite rise...</td>\n      <td>Denial of human-induced climate change and the...</td>\n      <td>37</td>\n    </tr>\n    <tr>\n      <th>222</th>\n      <td>12</td>\n      <td>Human activities have little effect on climate...</td>\n      <td>Denial of human-induced climate change and the...</td>\n      <td>37</td>\n    </tr>\n    <tr>\n      <th>484</th>\n      <td>12</td>\n      <td>Human-generated CO2 is an insignificant contri...</td>\n      <td>Denial of human-induced climate change and the...</td>\n      <td>37</td>\n    </tr>\n    <tr>\n      <th>119</th>\n      <td>12</td>\n      <td>Human-made carbon dioxide emissions do not dri...</td>\n      <td>Denial of human-induced climate change and the...</td>\n      <td>37</td>\n    </tr>\n    <tr>\n      <th>106</th>\n      <td>12</td>\n      <td>Human-produced carbon might be one of the fact...</td>\n      <td>Denial of human-induced climate change and the...</td>\n      <td>37</td>\n    </tr>\n    <tr>\n      <th>612</th>\n      <td>12</td>\n      <td>Humans are responsible for just three per cent...</td>\n      <td>Denial of human-induced climate change and the...</td>\n      <td>37</td>\n    </tr>\n    <tr>\n      <th>80</th>\n      <td>12</td>\n      <td>I would not agree that [carbon dioxide is] a p...</td>\n      <td>Denial of human-induced climate change and the...</td>\n      <td>37</td>\n    </tr>\n    <tr>\n      <th>83</th>\n      <td>12</td>\n      <td>Increases in atmospheric CO2 followed increase...</td>\n      <td>Denial of human-induced climate change and the...</td>\n      <td>37</td>\n    </tr>\n    <tr>\n      <th>38</th>\n      <td>12</td>\n      <td>It’s not possible for a trace gas, carbon diox...</td>\n      <td>Denial of human-induced climate change and the...</td>\n      <td>37</td>\n    </tr>\n    <tr>\n      <th>2</th>\n      <td>12</td>\n      <td>Land use, farming have no meaningful climate i...</td>\n      <td>Denial of human-induced climate change and the...</td>\n      <td>37</td>\n    </tr>\n    <tr>\n      <th>486</th>\n      <td>12</td>\n      <td>Laws of thermodynamics say CO2 can’t contribut...</td>\n      <td>Denial of human-induced climate change and the...</td>\n      <td>37</td>\n    </tr>\n    <tr>\n      <th>394</th>\n      <td>12</td>\n      <td>Man-made CO2 is an insignificant contributor t...</td>\n      <td>Denial of human-induced climate change and the...</td>\n      <td>37</td>\n    </tr>\n    <tr>\n      <th>510</th>\n      <td>12</td>\n      <td>No sane and or honest person believes climate ...</td>\n      <td>Denial of human-induced climate change and the...</td>\n      <td>37</td>\n    </tr>\n    <tr>\n      <th>595</th>\n      <td>12</td>\n      <td>Reduced aerosol pollution had greater effects ...</td>\n      <td>Denial of human-induced climate change and the...</td>\n      <td>37</td>\n    </tr>\n    <tr>\n      <th>151</th>\n      <td>12</td>\n      <td>Says human activity, or carbon dioxide emissio...</td>\n      <td>Denial of human-induced climate change and the...</td>\n      <td>37</td>\n    </tr>\n    <tr>\n      <th>459</th>\n      <td>12</td>\n      <td>Scientists discovered greenhouse gases may not...</td>\n      <td>Denial of human-induced climate change and the...</td>\n      <td>37</td>\n    </tr>\n    <tr>\n      <th>609</th>\n      <td>12</td>\n      <td>Scientists have never proved that human emissi...</td>\n      <td>Denial of human-induced climate change and the...</td>\n      <td>37</td>\n    </tr>\n    <tr>\n      <th>76</th>\n      <td>12</td>\n      <td>Sea-level rise does not seem to depend on ocea...</td>\n      <td>Denial of human-induced climate change and the...</td>\n      <td>37</td>\n    </tr>\n    <tr>\n      <th>502</th>\n      <td>12</td>\n      <td>The past 260 billion tons of CO2 emissions hav...</td>\n      <td>Denial of human-induced climate change and the...</td>\n      <td>37</td>\n    </tr>\n    <tr>\n      <th>599</th>\n      <td>12</td>\n      <td>The second law of thermodynamics shows man-mad...</td>\n      <td>Denial of human-induced climate change and the...</td>\n      <td>37</td>\n    </tr>\n    <tr>\n      <th>615</th>\n      <td>12</td>\n      <td>There is no evidence carbon dioxide directly c...</td>\n      <td>Denial of human-induced climate change and the...</td>\n      <td>37</td>\n    </tr>\n  </tbody>\n</table>\n</div>"
     },
     "execution_count": 25,
     "metadata": {},
     "output_type": "execute_result"
    }
   ],
   "source": [
    "df.head(30)"
   ],
   "metadata": {
    "collapsed": false,
    "ExecuteTime": {
     "end_time": "2024-02-07T15:53:56.585691Z",
     "start_time": "2024-02-07T15:53:56.582089Z"
    }
   },
   "id": "f1786bc4eff1a51c"
  },
  {
   "cell_type": "code",
   "execution_count": 26,
   "outputs": [],
   "source": [
    "# Write df to csv\n",
    "df.to_csv('../Clustering/Transformed Data/examples_of_claims_in_clusters_with_greater_than_25_claims.csv', index=False)"
   ],
   "metadata": {
    "collapsed": false,
    "ExecuteTime": {
     "end_time": "2024-02-07T15:53:56.591580Z",
     "start_time": "2024-02-07T15:53:56.589080Z"
    }
   },
   "id": "b06f2771948833d7"
  }
 ],
 "metadata": {
  "kernelspec": {
   "display_name": "Python 3",
   "language": "python",
   "name": "python3"
  },
  "language_info": {
   "codemirror_mode": {
    "name": "ipython",
    "version": 2
   },
   "file_extension": ".py",
   "mimetype": "text/x-python",
   "name": "python",
   "nbconvert_exporter": "python",
   "pygments_lexer": "ipython2",
   "version": "2.7.6"
  }
 },
 "nbformat": 4,
 "nbformat_minor": 5
}
