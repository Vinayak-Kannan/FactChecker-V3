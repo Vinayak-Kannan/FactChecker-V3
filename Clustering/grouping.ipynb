{
 "cells": [
  {
   "cell_type": "code",
   "execution_count": 1,
   "id": "initial_id",
   "metadata": {
    "collapsed": true,
    "ExecuteTime": {
     "end_time": "2024-05-12T18:12:30.112958Z",
     "start_time": "2024-05-12T18:11:18.190065Z"
    }
   },
   "outputs": [],
   "source": [
    "import pandas as pd\n",
    "import numpy as np\n",
    "import chromadb\n",
    "\n",
    "# Read in the data\n",
    "negated_card = pd.read_csv('/Users/vinayakkannan/Desktop/Projects/FactChecker/FactChecker/Clustering/Raw Data/Climate/Negated Claims/negated_card_data_score_over_0.7.csv')\n",
    "negated_card = negated_card.rename(columns={'text': 'Text', 'claim': 'Category'})\n",
    "\n",
    "negated_epa = pd.read_csv('/Users/vinayakkannan/Desktop/Projects/FactChecker/FactChecker/Clustering/Raw Data/Climate/Negated Claims/negated_epa_data.csv')\n",
    "negated_epa = negated_epa.rename(columns={'text': 'Text'})\n",
    "\n",
    "epa_who_data = pd.read_csv(\n",
    "            \"/Users/vinayakkannan/Desktop/Projects/FactChecker/FactChecker/Clustering/Raw Data/Climate/climate_change_epa_who.csv\")\n",
    "epa_who_data = epa_who_data.rename(columns={'text': 'Text'})\n",
    "\n",
    "card_data = pd.read_csv(\n",
    "            \"/Users/vinayakkannan/Desktop/Projects/FactChecker/FactChecker/Clustering/Raw Data/Climate/card_train_with_score.csv\")\n",
    "card_data = card_data.rename(columns={'text': 'Text'})\n",
    "\n",
    "\n",
    "\n",
    "chroma_client = chromadb.PersistentClient(\n",
    "path=\"/Users/vinayakkannan/Desktop/Projects/FactChecker/FactChecker/Clustering/Clustering/Chroma\")\n",
    "        \n",
    "embedding_collection = chroma_client.get_or_create_collection(\n",
    "    name=\"climate_claims_embeddings_unchanged\",\n",
    "    metadata={\"hnsw:space\": \"cosine\"}\n",
    ")\n",
    "\n",
    "\n",
    "def get_embedding(text):\n",
    "    query_original = embedding_collection.get(ids=[text], include=['embeddings', 'documents', 'metadatas'])\n",
    "    if query_original and len(query_original['embeddings']) > 0:\n",
    "        return np.array(query_original['embeddings'][0])\n",
    "    else:\n",
    "        return None\n",
    "\n",
    "# Filter out nan in all df where 'Text' is the column name\n",
    "negated_card = negated_card.dropna(subset=['Text'])\n",
    "negated_epa = negated_epa.dropna(subset=['Text'])\n",
    "epa_who_data = epa_who_data.dropna(subset=['Text'])\n",
    "card_data = card_data.dropna(subset=['Text'])\n",
    "\n",
    "negated_card['embedding'] = negated_card['Text'].apply(get_embedding)\n",
    "negated_epa['embedding'] = negated_epa['Text'].apply(get_embedding)\n",
    "epa_who_data['embedding'] = epa_who_data['Text'].apply(get_embedding)\n",
    "card_data['embedding'] = card_data['Text'].apply(get_embedding)\n",
    "\n",
    "# Drop rows where embedding is None\n",
    "negated_card = negated_card.dropna(subset=['embedding'])\n",
    "negated_epa = negated_epa.dropna(subset=['embedding'])\n",
    "epa_who_data = epa_who_data.dropna(subset=['embedding'])\n",
    "card_data = card_data.dropna(subset=['embedding'])"
   ]
  },
  {
   "cell_type": "code",
   "execution_count": 2,
   "outputs": [
    {
     "name": "stderr",
     "output_type": "stream",
     "text": [
      "2it [00:00,  4.10it/s]"
     ]
    },
    {
     "name": "stdout",
     "output_type": "stream",
     "text": [
      "0.7807372848507287\n",
      "0.841116358540976\n"
     ]
    },
    {
     "name": "stderr",
     "output_type": "stream",
     "text": [
      "4it [00:00,  5.23it/s]"
     ]
    },
    {
     "name": "stdout",
     "output_type": "stream",
     "text": [
      "0.8914375314200766\n",
      "0.6804415694380952\n"
     ]
    },
    {
     "name": "stderr",
     "output_type": "stream",
     "text": [
      "6it [00:01,  5.93it/s]"
     ]
    },
    {
     "name": "stdout",
     "output_type": "stream",
     "text": [
      "0.9675743316524946\n",
      "0.8457933471433128\n"
     ]
    },
    {
     "name": "stderr",
     "output_type": "stream",
     "text": [
      "8it [00:01,  5.85it/s]"
     ]
    },
    {
     "name": "stdout",
     "output_type": "stream",
     "text": [
      "0.9659253597833355\n",
      "0.8731602023411371\n"
     ]
    },
    {
     "name": "stderr",
     "output_type": "stream",
     "text": [
      "10it [00:01,  6.29it/s]"
     ]
    },
    {
     "name": "stdout",
     "output_type": "stream",
     "text": [
      "0.9064746116717378\n",
      "0.8340617817107217\n"
     ]
    },
    {
     "name": "stderr",
     "output_type": "stream",
     "text": [
      "12it [00:02,  6.23it/s]"
     ]
    },
    {
     "name": "stdout",
     "output_type": "stream",
     "text": [
      "0.8283401549930578\n",
      "0.5430208333686687\n"
     ]
    },
    {
     "name": "stderr",
     "output_type": "stream",
     "text": [
      "14it [00:02,  6.21it/s]"
     ]
    },
    {
     "name": "stdout",
     "output_type": "stream",
     "text": [
      "0.8993538028692967\n",
      "0.8432906719594493\n"
     ]
    },
    {
     "name": "stderr",
     "output_type": "stream",
     "text": [
      "16it [00:02,  6.21it/s]"
     ]
    },
    {
     "name": "stdout",
     "output_type": "stream",
     "text": [
      "0.9191470451799142\n",
      "0.9017544350044221\n"
     ]
    },
    {
     "name": "stderr",
     "output_type": "stream",
     "text": [
      "18it [00:03,  6.27it/s]"
     ]
    },
    {
     "name": "stdout",
     "output_type": "stream",
     "text": [
      "0.9113000558113522\n",
      "0.9617613804726456\n"
     ]
    },
    {
     "name": "stderr",
     "output_type": "stream",
     "text": [
      "19it [00:03,  5.64it/s]"
     ]
    },
    {
     "name": "stdout",
     "output_type": "stream",
     "text": [
      "0.9491899325605061\n"
     ]
    },
    {
     "name": "stderr",
     "output_type": "stream",
     "text": [
      "\n",
      "Exception ignored in: <bound method IPythonKernel._clean_thread_parent_frames of <ipykernel.ipkernel.IPythonKernel object at 0x10a851bd0>>\n",
      "Traceback (most recent call last):\n",
      "  File \"/Users/vinayakkannan/Desktop/Projects/FactChecker/FactChecker/venv2/lib/python3.11/site-packages/ipykernel/ipkernel.py\", line 770, in _clean_thread_parent_frames\n",
      "    def _clean_thread_parent_frames(\n",
      "\n",
      "KeyboardInterrupt: \n",
      "\n",
      "KeyboardInterrupt\n",
      "\n"
     ]
    }
   ],
   "source": [
    "from sklearn.metrics.pairwise import cosine_similarity\n",
    "from tqdm import tqdm\n",
    "\n",
    "def calculate_similarities_and_join_texts(df1, df2):\n",
    "    results = []\n",
    "    embeddings2 = np.stack(df2['embedding'].tolist())\n",
    "    for i, row in tqdm(df1.iterrows()):\n",
    "        similarities = cosine_similarity([row['embedding']], embeddings2)\n",
    "        max_sim_index = np.argmax(similarities)\n",
    "        print(similarities[0][max_sim_index])\n",
    "        joined_text = df2.iloc[max_sim_index]['Text']\n",
    "        results.append(joined_text)\n",
    "    return results\n",
    "\n",
    "negated_card['original_text'] = calculate_similarities_and_join_texts(negated_card, card_data)\n",
    "card_data['negated_text'] = calculate_similarities_and_join_texts(card_data, negated_card)\n",
    "negated_epa['original_text'] = calculate_similarities_and_join_texts(negated_epa, epa_who_data)\n",
    "epa_who_data['negated_text'] = calculate_similarities_and_join_texts(epa_who_data, negated_epa)"
   ],
   "metadata": {
    "collapsed": false,
    "ExecuteTime": {
     "end_time": "2024-05-12T18:12:38.283926Z",
     "start_time": "2024-05-12T18:12:30.110690Z"
    }
   },
   "id": "4ed822fb3c7ec074"
  },
  {
   "cell_type": "code",
   "execution_count": 23,
   "outputs": [
    {
     "name": "stdout",
     "output_type": "stream",
     "text": [
      "In fact, it is the arguably the very purpose for which the IPCC was established in the first place..\n",
      "In fact, it is not the arguably the very purpose for which the IPCC was established in the first place.\n"
     ]
    }
   ],
   "source": [
    "# Print first row negated_card orignal_text and text\n",
    "print(negated_card['original_text'][1])\n",
    "print(negated_card['Text'][1])"
   ],
   "metadata": {
    "collapsed": false,
    "ExecuteTime": {
     "end_time": "2024-05-03T21:21:10.369359Z",
     "start_time": "2024-05-03T21:21:10.365730Z"
    }
   },
   "id": "d4bffc797ed296ec"
  },
  {
   "cell_type": "code",
   "execution_count": 24,
   "outputs": [],
   "source": [
    "# Write dfs to disk\n",
    "negated_card.to_csv('/Users/vinayakkannan/Desktop/Projects/FactChecker/FactChecker/Clustering/Raw Data/Climate/Cleaned/negated_card', index=False)\n",
    "negated_epa.to_csv('/Users/vinayakkannan/Desktop/Projects/FactChecker/FactChecker/Clustering/Raw Data/Climate/Cleaned/negated_epa', index=False)\n",
    "epa_who_data.to_csv('/Users/vinayakkannan/Desktop/Projects/FactChecker/FactChecker/Clustering/Raw Data/Climate/Cleaned/epa', index=False)\n",
    "card_data.to_csv('/Users/vinayakkannan/Desktop/Projects/FactChecker/FactChecker/Clustering/Raw Data/Climate/Cleaned/card', index=False)"
   ],
   "metadata": {
    "collapsed": false,
    "ExecuteTime": {
     "end_time": "2024-05-03T21:34:17.711403Z",
     "start_time": "2024-05-03T21:34:12.788008Z"
    }
   },
   "id": "9c220a8b9c4d30ac"
  },
  {
   "cell_type": "code",
   "execution_count": null,
   "outputs": [],
   "source": [],
   "metadata": {
    "collapsed": false
   },
   "id": "ce15d40e142cb40a"
  }
 ],
 "metadata": {
  "kernelspec": {
   "display_name": "Python 3",
   "language": "python",
   "name": "python3"
  },
  "language_info": {
   "codemirror_mode": {
    "name": "ipython",
    "version": 2
   },
   "file_extension": ".py",
   "mimetype": "text/x-python",
   "name": "python",
   "nbconvert_exporter": "python",
   "pygments_lexer": "ipython2",
   "version": "2.7.6"
  }
 },
 "nbformat": 4,
 "nbformat_minor": 5
}
